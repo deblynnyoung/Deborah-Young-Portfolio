{
 "cells": [
  {
   "cell_type": "markdown",
   "id": "953cbd8c",
   "metadata": {},
   "source": [
    "# Final Project"
   ]
  },
  {
   "cell_type": "markdown",
   "id": "a219ff75",
   "metadata": {},
   "source": [
    "## Import libraries"
   ]
  },
  {
   "cell_type": "code",
   "execution_count": 1,
   "id": "05ffc699",
   "metadata": {},
   "outputs": [],
   "source": [
    "import pandas as pd\n",
    "import matplotlib.pyplot as plt\n",
    "import seaborn as sns\n",
    "import numpy as np"
   ]
  },
  {
   "cell_type": "code",
   "execution_count": 2,
   "id": "38478cd2",
   "metadata": {},
   "outputs": [],
   "source": [
    "# Standard libraries\n",
    "import numpy as np\n",
    "import pandas as pd\n",
    "import matplotlib.pyplot as plt\n",
    "import glob\n",
    "import plotly.express as px\n",
    "import os\n",
    "import warnings\n",
    "\n",
    "# Local server SQL database\n",
    "import sqlite3 as sq\n",
    "\n",
    "# Setting of Large numbers format\n",
    "pd.options.display.float_format = '{:,.2f}'.format\n",
    "\n",
    "# Set data frame display max 10 rows\n",
    "pd.set_option('display.max_rows', 10)\n",
    "\n",
    "# Warning is suppressed\n",
    "warnings.simplefilter(action='ignore', category=FutureWarning)"
   ]
  },
  {
   "cell_type": "markdown",
   "id": "98ce5d17",
   "metadata": {},
   "source": [
    "## Data Transformation (continued from milestones)"
   ]
  },
  {
   "cell_type": "markdown",
   "id": "92d8a0c5",
   "metadata": {},
   "source": [
    "In order to merge the tables in the way I'd like and to have them nicely formatted for SQL, I'm going to make a few changes to the dataframes first."
   ]
  },
  {
   "cell_type": "code",
   "execution_count": 3,
   "id": "36b94823",
   "metadata": {},
   "outputs": [],
   "source": [
    "# import data from CSV saved via flat file milestone\n",
    "flat_df = pd.read_csv('/Users/debane/Documents/MS Data Science/540 Data Preparation/Final Project/FlatFileDF.csv')#"
   ]
  },
  {
   "cell_type": "code",
   "execution_count": 4,
   "id": "3a6aeb57",
   "metadata": {
    "scrolled": false
   },
   "outputs": [
    {
     "data": {
      "text/plain": [
       "Index(['State', 'Year', 'Month', 'Indicator', 'Data Value', 'State Name',\n",
       "       'Date', 'Date_parsed'],\n",
       "      dtype='object')"
      ]
     },
     "execution_count": 4,
     "metadata": {},
     "output_type": "execute_result"
    }
   ],
   "source": [
    "#view columns\n",
    "flat_df.columns"
   ]
  },
  {
   "cell_type": "code",
   "execution_count": 5,
   "id": "7e53cc9a",
   "metadata": {},
   "outputs": [],
   "source": [
    "# add suffix to annotate which dataframe the values came from\n",
    "flat_df = flat_df.add_suffix('_flat')"
   ]
  },
  {
   "cell_type": "code",
   "execution_count": 6,
   "id": "fea3ccdf",
   "metadata": {},
   "outputs": [],
   "source": [
    "# renaming StateName to be the same for every dataframe for ease of joining tables  \n",
    "flat_df = flat_df.rename(columns={\"State Name_flat\": \"StateName\"})"
   ]
  },
  {
   "cell_type": "code",
   "execution_count": 7,
   "id": "e5ebd4f8",
   "metadata": {},
   "outputs": [],
   "source": [
    "#update Data Value to have no space for ease of calling variable\n",
    "flat_df = flat_df.rename(columns={\"Data Value_flat\": \"Data_Value_flat\"})"
   ]
  },
  {
   "cell_type": "code",
   "execution_count": 8,
   "id": "262b690c",
   "metadata": {
    "scrolled": true
   },
   "outputs": [
    {
     "name": "stdout",
     "output_type": "stream",
     "text": [
      "<class 'pandas.core.frame.DataFrame'>\n",
      "RangeIndex: 3975 entries, 0 to 3974\n",
      "Data columns (total 8 columns):\n",
      " #   Column            Non-Null Count  Dtype  \n",
      "---  ------            --------------  -----  \n",
      " 0   State_flat        3975 non-null   object \n",
      " 1   Year_flat         3975 non-null   int64  \n",
      " 2   Month_flat        3975 non-null   object \n",
      " 3   Indicator_flat    3975 non-null   object \n",
      " 4   Data_Value_flat   3975 non-null   float64\n",
      " 5   StateName         3975 non-null   object \n",
      " 6   Date_flat         3975 non-null   object \n",
      " 7   Date_parsed_flat  3975 non-null   object \n",
      "dtypes: float64(1), int64(1), object(6)\n",
      "memory usage: 248.6+ KB\n"
     ]
    }
   ],
   "source": [
    "# view df info\n",
    "flat_df.info()"
   ]
  },
  {
   "cell_type": "code",
   "execution_count": 9,
   "id": "f2d01dae",
   "metadata": {},
   "outputs": [],
   "source": [
    "# import data from CSV saved via HTML milestone\n",
    "html_df = pd.read_csv('/Users/debane/Documents/MS Data Science/540 Data Preparation/Final Project/HTMLdf.csv')"
   ]
  },
  {
   "cell_type": "code",
   "execution_count": 10,
   "id": "5aaa6ad4",
   "metadata": {
    "scrolled": true
   },
   "outputs": [
    {
     "data": {
      "text/plain": [
       "Index(['StateName', 'State', 'County FIPS Code',\n",
       "       'Opioid Dispensing Rate per 100'],\n",
       "      dtype='object')"
      ]
     },
     "execution_count": 10,
     "metadata": {},
     "output_type": "execute_result"
    }
   ],
   "source": [
    "# view columns\n",
    "html_df.columns"
   ]
  },
  {
   "cell_type": "code",
   "execution_count": 11,
   "id": "5d75a580",
   "metadata": {},
   "outputs": [],
   "source": [
    "# add suffix to annotate which dataframe the values came from\n",
    "html_df = html_df.add_suffix('_html')"
   ]
  },
  {
   "cell_type": "code",
   "execution_count": 12,
   "id": "8c9aa14e",
   "metadata": {},
   "outputs": [],
   "source": [
    "# renaming StateName to be the same for every dataframe for ease of joining tables  \n",
    "html_df = html_df.rename(columns={\"StateName_html\": \"StateName\"})"
   ]
  },
  {
   "cell_type": "code",
   "execution_count": 13,
   "id": "f68a7b4c",
   "metadata": {},
   "outputs": [],
   "source": [
    "#update to remove space for ease of calling variable\n",
    "html_df = html_df.rename(columns={\"County FIPS Code_html\":\"County_FIPS_Code_html\"})"
   ]
  },
  {
   "cell_type": "code",
   "execution_count": 14,
   "id": "d4034d2a",
   "metadata": {},
   "outputs": [],
   "source": [
    "#update to remove space for ease of calling variable\n",
    "html_df = html_df.rename(columns={\"Opioid Dispensing Rate per 100_html\" : \"Opioid_Dispensing_Rate_per_100_html\"})"
   ]
  },
  {
   "cell_type": "code",
   "execution_count": 15,
   "id": "72aab714",
   "metadata": {},
   "outputs": [
    {
     "name": "stdout",
     "output_type": "stream",
     "text": [
      "<class 'pandas.core.frame.DataFrame'>\n",
      "RangeIndex: 3081 entries, 0 to 3080\n",
      "Data columns (total 4 columns):\n",
      " #   Column                               Non-Null Count  Dtype  \n",
      "---  ------                               --------------  -----  \n",
      " 0   StateName                            3081 non-null   object \n",
      " 1   State_html                           3081 non-null   object \n",
      " 2   County_FIPS_Code_html                3081 non-null   int64  \n",
      " 3   Opioid_Dispensing_Rate_per_100_html  3081 non-null   float64\n",
      "dtypes: float64(1), int64(1), object(2)\n",
      "memory usage: 96.4+ KB\n"
     ]
    }
   ],
   "source": [
    "# view df info\n",
    "html_df.info()"
   ]
  },
  {
   "cell_type": "code",
   "execution_count": 16,
   "id": "0e38f60e",
   "metadata": {},
   "outputs": [],
   "source": [
    "# import data from CSV saved via API milestone\n",
    "api_df = pd.read_csv('/Users/debane/Documents/MS Data Science/540 Data Preparation/Final Project/APIdf.csv')"
   ]
  },
  {
   "cell_type": "code",
   "execution_count": 17,
   "id": "d53435d6",
   "metadata": {},
   "outputs": [
    {
     "data": {
      "text/plain": [
       "Index(['StateName', 'Population', 'Deaths_Total_2019', 'Death_Rate_Per_100k',\n",
       "       'GEO_ID', 'Housing_Unit_Estimate', 'state', 'Housing_Available'],\n",
       "      dtype='object')"
      ]
     },
     "execution_count": 17,
     "metadata": {},
     "output_type": "execute_result"
    }
   ],
   "source": [
    "api_df.columns"
   ]
  },
  {
   "cell_type": "code",
   "execution_count": 18,
   "id": "4898453c",
   "metadata": {},
   "outputs": [],
   "source": [
    "# add suffix to annotate which dataframe the values came from\n",
    "api_df = api_df.add_suffix('_api')"
   ]
  },
  {
   "cell_type": "code",
   "execution_count": 19,
   "id": "2305f1ea",
   "metadata": {},
   "outputs": [],
   "source": [
    "# renaming StateName to be the same for every dataframe for ease of joining tables  \n",
    "api_df = api_df.rename(columns={\"StateName_api\": \"StateName\"})"
   ]
  },
  {
   "cell_type": "code",
   "execution_count": 20,
   "id": "f81d624e",
   "metadata": {
    "scrolled": true
   },
   "outputs": [
    {
     "name": "stdout",
     "output_type": "stream",
     "text": [
      "<class 'pandas.core.frame.DataFrame'>\n",
      "RangeIndex: 51 entries, 0 to 50\n",
      "Data columns (total 8 columns):\n",
      " #   Column                     Non-Null Count  Dtype  \n",
      "---  ------                     --------------  -----  \n",
      " 0   StateName                  51 non-null     object \n",
      " 1   Population_api             51 non-null     int64  \n",
      " 2   Deaths_Total_2019_api      51 non-null     int64  \n",
      " 3   Death_Rate_Per_100k_api    51 non-null     float64\n",
      " 4   GEO_ID_api                 51 non-null     object \n",
      " 5   Housing_Unit_Estimate_api  51 non-null     int64  \n",
      " 6   state_api                  51 non-null     int64  \n",
      " 7   Housing_Available_api      51 non-null     float64\n",
      "dtypes: float64(2), int64(4), object(2)\n",
      "memory usage: 3.3+ KB\n"
     ]
    }
   ],
   "source": [
    "#view df information\n",
    "api_df.info()"
   ]
  },
  {
   "cell_type": "markdown",
   "id": "fc4ddff5",
   "metadata": {},
   "source": [
    "## Load each dataset into SQL Lite as an individual table and then join the datasets together"
   ]
  },
  {
   "cell_type": "code",
   "execution_count": 21,
   "id": "74434b7b",
   "metadata": {},
   "outputs": [],
   "source": [
    "import sqlite3"
   ]
  },
  {
   "cell_type": "markdown",
   "id": "f72be906",
   "metadata": {},
   "source": [
    "connection = sqlite3.connect('FinalProject.db')\n",
    " \n",
    "# create cursor object\n",
    "cursor = connection.cursor()"
   ]
  },
  {
   "cell_type": "markdown",
   "id": "4149e540",
   "metadata": {},
   "source": [
    "import pandas as pd\n",
    "import pyodbc\n",
    "\n",
    "# Connect to SQL Server\n",
    "conn = pyodbc.connect('Driver={SQL Server};'\n",
    "                      'Database=test_database;'\n",
    "                      'Trusted_Connection=yes;')\n",
    "cursor = conn.cursor()"
   ]
  },
  {
   "cell_type": "markdown",
   "id": "c8f52437",
   "metadata": {},
   "source": [
    "# Create Table\n",
    "cursor.execute('''\n",
    "            CREATE TABLE flat_df (\n",
    "            State_flat VARCHAR(255), \n",
    "            Year_flat int, \n",
    "            Month_flat VARCHAR(255), \n",
    "            Indicator_flat VARCHAR(255),\n",
    "            Data_Value_flat int, \n",
    "            StateName VARCHAR(255), \n",
    "            Date_flat int, \n",
    "            Date_parsed_flat VARCHAR(255))\n",
    "               ''')\n",
    "\n",
    "# Insert DataFrame to Table\n",
    "for row in flat_df.itertuples():\n",
    "    cursor.execute('''\n",
    "                INSERT INTO flat_df (State_flat, Year_flat, Month_flat, Indicator_flat,\n",
    "       Data Value_flat, StateName, Date_flat, Date_parsed_flat],\n",
    "      dtype='object')\n",
    "                VALUES (?,?,?,?,?,?,?,?)\n",
    "                ''',\n",
    "                row.State_flat,\n",
    "                row.Year_flat,\n",
    "                row.Month_flat,\n",
    "                row.Indicator_flat,\n",
    "                row.Data_Value_flat,\n",
    "                row.StateName, \n",
    "                row.Date_flat, \n",
    "                row.Date_parsed_flat\n",
    "                )\n",
    "conn.commit()"
   ]
  },
  {
   "cell_type": "markdown",
   "id": "970a4788",
   "metadata": {},
   "source": []
  },
  {
   "cell_type": "code",
   "execution_count": 22,
   "id": "f67f6cd5",
   "metadata": {},
   "outputs": [],
   "source": [
    "# define variable for Table Name\n",
    "table_name = 'FlatFile'\n",
    "# connect to database \n",
    "conn = sqlite3.connect('mydb.sqlite')\n",
    "# define query to create table\n",
    "query = f'Create table if not Exists {table_name} (State_flat VARCHAR(255), Year_flat int, Month_flat VARCHAR(255), Indicator_flat VARCHAR(255), Data_Value_flat float, StateName VARCHAR(255), Date_flat VARCHAR(255), Date_parsed_flat VARCHAR(255))'\n",
    "# execute query\n",
    "conn.execute(query)\n",
    "# design table to fill with the specified dataframe\n",
    "flat_df.to_sql(table_name,conn,if_exists='replace',index=False)\n",
    "# commit to database\n",
    "conn.commit()"
   ]
  },
  {
   "cell_type": "code",
   "execution_count": 23,
   "id": "f9273a71",
   "metadata": {
    "scrolled": true
   },
   "outputs": [
    {
     "name": "stdout",
     "output_type": "stream",
     "text": [
      "     State_flat  Year_flat Month_flat                  Indicator_flat   \n",
      "0            AK       2015      April  Number of Drug Overdose Deaths  \\\n",
      "1            AK       2015     August  Number of Drug Overdose Deaths   \n",
      "2            AK       2015   December  Number of Drug Overdose Deaths   \n",
      "3            AK       2015   February  Number of Drug Overdose Deaths   \n",
      "4            AK       2015    January  Number of Drug Overdose Deaths   \n",
      "...         ...        ...        ...                             ...   \n",
      "3970         YC       2020    October  Number of Drug Overdose Deaths   \n",
      "3971         YC       2020  September  Number of Drug Overdose Deaths   \n",
      "3972         YC       2021   February  Number of Drug Overdose Deaths   \n",
      "3973         YC       2021    January  Number of Drug Overdose Deaths   \n",
      "3974         YC       2021      March  Number of Drug Overdose Deaths   \n",
      "\n",
      "      Data_Value_flat      StateName       Date_flat Date_parsed_flat  \n",
      "0              126.00         Alaska      April 2015       2015-04-01  \n",
      "1              124.00         Alaska     August 2015       2015-08-01  \n",
      "2              121.00         Alaska   December 2015       2015-12-01  \n",
      "3              127.00         Alaska   February 2015       2015-02-01  \n",
      "4              126.00         Alaska    January 2015       2015-01-01  \n",
      "...               ...            ...             ...              ...  \n",
      "3970         2,039.00  New York City    October 2020       2020-10-01  \n",
      "3971         1,989.00  New York City  September 2020       2020-09-01  \n",
      "3972         2,210.00  New York City   February 2021       2021-02-01  \n",
      "3973         2,203.00  New York City    January 2021       2021-01-01  \n",
      "3974         2,243.00  New York City      March 2021       2021-03-01  \n",
      "\n",
      "[3975 rows x 8 columns]\n"
     ]
    }
   ],
   "source": [
    "#read table from SQL\n",
    "r_df = pd.read_sql(\"select * from FlatFile\",conn)\n",
    "print(r_df)"
   ]
  },
  {
   "cell_type": "code",
   "execution_count": 24,
   "id": "0e54a263",
   "metadata": {},
   "outputs": [],
   "source": [
    "# repeat steps from above with HTML dataframe\n",
    "table_name = 'HTMLfile'\n",
    "conn = sqlite3.connect('mydb.sqlite')\n",
    "query = f'Create table if not Exists {table_name} (StateName VARCHAR(255), State_html VARCHAR(255), County_FIPS_Code_html int, Opioid_Dispensing_Rate_per_100_html float)'\n",
    "conn.execute(query)\n",
    "html_df.to_sql(table_name,conn,if_exists='replace',index=False)\n",
    "conn.commit()"
   ]
  },
  {
   "cell_type": "code",
   "execution_count": 25,
   "id": "f6c156e3",
   "metadata": {
    "scrolled": false
   },
   "outputs": [
    {
     "name": "stdout",
     "output_type": "stream",
     "text": [
      "     StateName State_html  County_FIPS_Code_html   \n",
      "0      Alabama         AL                   1001  \\\n",
      "1      Alabama         AL                   1003   \n",
      "2      Alabama         AL                   1005   \n",
      "3      Alabama         AL                   1007   \n",
      "4      Alabama         AL                   1009   \n",
      "...        ...        ...                    ...   \n",
      "3076   Wyoming         WY                  56037   \n",
      "3077   Wyoming         WY                  56039   \n",
      "3078   Wyoming         WY                  56041   \n",
      "3079   Wyoming         WY                  56043   \n",
      "3080   Wyoming         WY                  56045   \n",
      "\n",
      "      Opioid_Dispensing_Rate_per_100_html  \n",
      "0                                   98.30  \n",
      "1                                   65.00  \n",
      "2                                   22.80  \n",
      "3                                   24.80  \n",
      "4                                   22.80  \n",
      "...                                   ...  \n",
      "3076                                70.00  \n",
      "3077                                50.60  \n",
      "3078                                60.00  \n",
      "3079                                40.20  \n",
      "3080                                 6.70  \n",
      "\n",
      "[3081 rows x 4 columns]\n"
     ]
    }
   ],
   "source": [
    "r_df = pd.read_sql(\"select * from HTMLfile\",conn)\n",
    "print(r_df)"
   ]
  },
  {
   "cell_type": "code",
   "execution_count": 26,
   "id": "54060926",
   "metadata": {},
   "outputs": [],
   "source": [
    "# repeat steps from above with API dataframe\n",
    "table_name = 'APIfile'\n",
    "conn = sqlite3.connect('mydb.sqlite')\n",
    "query = f'Create table if not Exists {table_name} (StateName VARCHAR(255), State_html VARCHAR(255), County_FIPS_Code_html int, Opioid_Dispensing_Rate_per_100_html int)'\n",
    "conn.execute(query)\n",
    "api_df.to_sql(table_name,conn,if_exists='replace',index=False)\n",
    "conn.commit()"
   ]
  },
  {
   "cell_type": "markdown",
   "id": "9be58032",
   "metadata": {
    "scrolled": false
   },
   "source": [
    "r_df = pd.read_sql(\"select * from APIfile\",conn)\n",
    "print(r_df)"
   ]
  },
  {
   "cell_type": "code",
   "execution_count": 27,
   "id": "91f3ef83",
   "metadata": {},
   "outputs": [],
   "source": [
    "# create cursor object\n",
    "cur = conn.cursor()"
   ]
  },
  {
   "cell_type": "code",
   "execution_count": 28,
   "id": "321a00de",
   "metadata": {},
   "outputs": [
    {
     "data": {
      "text/html": [
       "<div>\n",
       "<style scoped>\n",
       "    .dataframe tbody tr th:only-of-type {\n",
       "        vertical-align: middle;\n",
       "    }\n",
       "\n",
       "    .dataframe tbody tr th {\n",
       "        vertical-align: top;\n",
       "    }\n",
       "\n",
       "    .dataframe thead th {\n",
       "        text-align: right;\n",
       "    }\n",
       "</style>\n",
       "<table border=\"1\" class=\"dataframe\">\n",
       "  <thead>\n",
       "    <tr style=\"text-align: right;\">\n",
       "      <th></th>\n",
       "      <th>State_flat</th>\n",
       "      <th>Year_flat</th>\n",
       "      <th>Month_flat</th>\n",
       "      <th>Indicator_flat</th>\n",
       "      <th>Data_Value_flat</th>\n",
       "      <th>StateName</th>\n",
       "      <th>Date_flat</th>\n",
       "      <th>Date_parsed_flat</th>\n",
       "      <th>StateName</th>\n",
       "      <th>State_html</th>\n",
       "      <th>County_FIPS_Code_html</th>\n",
       "      <th>Opioid_Dispensing_Rate_per_100_html</th>\n",
       "      <th>StateName</th>\n",
       "      <th>Population_api</th>\n",
       "      <th>Deaths_Total_2019_api</th>\n",
       "      <th>Death_Rate_Per_100k_api</th>\n",
       "      <th>GEO_ID_api</th>\n",
       "      <th>Housing_Unit_Estimate_api</th>\n",
       "      <th>state_api</th>\n",
       "      <th>Housing_Available_api</th>\n",
       "    </tr>\n",
       "  </thead>\n",
       "  <tbody>\n",
       "    <tr>\n",
       "      <th>0</th>\n",
       "      <td>AK</td>\n",
       "      <td>2015</td>\n",
       "      <td>April</td>\n",
       "      <td>Number of Drug Overdose Deaths</td>\n",
       "      <td>126.00</td>\n",
       "      <td>Alaska</td>\n",
       "      <td>April 2015</td>\n",
       "      <td>2015-04-01</td>\n",
       "      <td>Alaska</td>\n",
       "      <td>AK</td>\n",
       "      <td>2013</td>\n",
       "      <td>9.60</td>\n",
       "      <td>Alaska</td>\n",
       "      <td>731545</td>\n",
       "      <td>4819</td>\n",
       "      <td>6.57</td>\n",
       "      <td>0400000US02</td>\n",
       "      <td>319854</td>\n",
       "      <td>2</td>\n",
       "      <td>2.29</td>\n",
       "    </tr>\n",
       "    <tr>\n",
       "      <th>1</th>\n",
       "      <td>AK</td>\n",
       "      <td>2015</td>\n",
       "      <td>April</td>\n",
       "      <td>Number of Drug Overdose Deaths</td>\n",
       "      <td>126.00</td>\n",
       "      <td>Alaska</td>\n",
       "      <td>April 2015</td>\n",
       "      <td>2015-04-01</td>\n",
       "      <td>Alaska</td>\n",
       "      <td>AK</td>\n",
       "      <td>2016</td>\n",
       "      <td>2.10</td>\n",
       "      <td>Alaska</td>\n",
       "      <td>731545</td>\n",
       "      <td>4819</td>\n",
       "      <td>6.57</td>\n",
       "      <td>0400000US02</td>\n",
       "      <td>319854</td>\n",
       "      <td>2</td>\n",
       "      <td>2.29</td>\n",
       "    </tr>\n",
       "    <tr>\n",
       "      <th>2</th>\n",
       "      <td>AK</td>\n",
       "      <td>2015</td>\n",
       "      <td>April</td>\n",
       "      <td>Number of Drug Overdose Deaths</td>\n",
       "      <td>126.00</td>\n",
       "      <td>Alaska</td>\n",
       "      <td>April 2015</td>\n",
       "      <td>2015-04-01</td>\n",
       "      <td>Alaska</td>\n",
       "      <td>AK</td>\n",
       "      <td>2020</td>\n",
       "      <td>47.20</td>\n",
       "      <td>Alaska</td>\n",
       "      <td>731545</td>\n",
       "      <td>4819</td>\n",
       "      <td>6.57</td>\n",
       "      <td>0400000US02</td>\n",
       "      <td>319854</td>\n",
       "      <td>2</td>\n",
       "      <td>2.29</td>\n",
       "    </tr>\n",
       "    <tr>\n",
       "      <th>3</th>\n",
       "      <td>AK</td>\n",
       "      <td>2015</td>\n",
       "      <td>April</td>\n",
       "      <td>Number of Drug Overdose Deaths</td>\n",
       "      <td>126.00</td>\n",
       "      <td>Alaska</td>\n",
       "      <td>April 2015</td>\n",
       "      <td>2015-04-01</td>\n",
       "      <td>Alaska</td>\n",
       "      <td>AK</td>\n",
       "      <td>2050</td>\n",
       "      <td>8.80</td>\n",
       "      <td>Alaska</td>\n",
       "      <td>731545</td>\n",
       "      <td>4819</td>\n",
       "      <td>6.57</td>\n",
       "      <td>0400000US02</td>\n",
       "      <td>319854</td>\n",
       "      <td>2</td>\n",
       "      <td>2.29</td>\n",
       "    </tr>\n",
       "    <tr>\n",
       "      <th>4</th>\n",
       "      <td>AK</td>\n",
       "      <td>2015</td>\n",
       "      <td>April</td>\n",
       "      <td>Number of Drug Overdose Deaths</td>\n",
       "      <td>126.00</td>\n",
       "      <td>Alaska</td>\n",
       "      <td>April 2015</td>\n",
       "      <td>2015-04-01</td>\n",
       "      <td>Alaska</td>\n",
       "      <td>AK</td>\n",
       "      <td>2060</td>\n",
       "      <td>6.40</td>\n",
       "      <td>Alaska</td>\n",
       "      <td>731545</td>\n",
       "      <td>4819</td>\n",
       "      <td>6.57</td>\n",
       "      <td>0400000US02</td>\n",
       "      <td>319854</td>\n",
       "      <td>2</td>\n",
       "      <td>2.29</td>\n",
       "    </tr>\n",
       "    <tr>\n",
       "      <th>...</th>\n",
       "      <td>...</td>\n",
       "      <td>...</td>\n",
       "      <td>...</td>\n",
       "      <td>...</td>\n",
       "      <td>...</td>\n",
       "      <td>...</td>\n",
       "      <td>...</td>\n",
       "      <td>...</td>\n",
       "      <td>...</td>\n",
       "      <td>...</td>\n",
       "      <td>...</td>\n",
       "      <td>...</td>\n",
       "      <td>...</td>\n",
       "      <td>...</td>\n",
       "      <td>...</td>\n",
       "      <td>...</td>\n",
       "      <td>...</td>\n",
       "      <td>...</td>\n",
       "      <td>...</td>\n",
       "      <td>...</td>\n",
       "    </tr>\n",
       "    <tr>\n",
       "      <th>231070</th>\n",
       "      <td>WY</td>\n",
       "      <td>2021</td>\n",
       "      <td>March</td>\n",
       "      <td>Number of Drug Overdose Deaths</td>\n",
       "      <td>93.00</td>\n",
       "      <td>Wyoming</td>\n",
       "      <td>March 2021</td>\n",
       "      <td>2021-03-01</td>\n",
       "      <td>Wyoming</td>\n",
       "      <td>WY</td>\n",
       "      <td>56037</td>\n",
       "      <td>70.00</td>\n",
       "      <td>Wyoming</td>\n",
       "      <td>578759</td>\n",
       "      <td>4971</td>\n",
       "      <td>8.60</td>\n",
       "      <td>0400000US56</td>\n",
       "      <td>280291</td>\n",
       "      <td>56</td>\n",
       "      <td>2.06</td>\n",
       "    </tr>\n",
       "    <tr>\n",
       "      <th>231071</th>\n",
       "      <td>WY</td>\n",
       "      <td>2021</td>\n",
       "      <td>March</td>\n",
       "      <td>Number of Drug Overdose Deaths</td>\n",
       "      <td>93.00</td>\n",
       "      <td>Wyoming</td>\n",
       "      <td>March 2021</td>\n",
       "      <td>2021-03-01</td>\n",
       "      <td>Wyoming</td>\n",
       "      <td>WY</td>\n",
       "      <td>56039</td>\n",
       "      <td>50.60</td>\n",
       "      <td>Wyoming</td>\n",
       "      <td>578759</td>\n",
       "      <td>4971</td>\n",
       "      <td>8.60</td>\n",
       "      <td>0400000US56</td>\n",
       "      <td>280291</td>\n",
       "      <td>56</td>\n",
       "      <td>2.06</td>\n",
       "    </tr>\n",
       "    <tr>\n",
       "      <th>231072</th>\n",
       "      <td>WY</td>\n",
       "      <td>2021</td>\n",
       "      <td>March</td>\n",
       "      <td>Number of Drug Overdose Deaths</td>\n",
       "      <td>93.00</td>\n",
       "      <td>Wyoming</td>\n",
       "      <td>March 2021</td>\n",
       "      <td>2021-03-01</td>\n",
       "      <td>Wyoming</td>\n",
       "      <td>WY</td>\n",
       "      <td>56041</td>\n",
       "      <td>60.00</td>\n",
       "      <td>Wyoming</td>\n",
       "      <td>578759</td>\n",
       "      <td>4971</td>\n",
       "      <td>8.60</td>\n",
       "      <td>0400000US56</td>\n",
       "      <td>280291</td>\n",
       "      <td>56</td>\n",
       "      <td>2.06</td>\n",
       "    </tr>\n",
       "    <tr>\n",
       "      <th>231073</th>\n",
       "      <td>WY</td>\n",
       "      <td>2021</td>\n",
       "      <td>March</td>\n",
       "      <td>Number of Drug Overdose Deaths</td>\n",
       "      <td>93.00</td>\n",
       "      <td>Wyoming</td>\n",
       "      <td>March 2021</td>\n",
       "      <td>2021-03-01</td>\n",
       "      <td>Wyoming</td>\n",
       "      <td>WY</td>\n",
       "      <td>56043</td>\n",
       "      <td>40.20</td>\n",
       "      <td>Wyoming</td>\n",
       "      <td>578759</td>\n",
       "      <td>4971</td>\n",
       "      <td>8.60</td>\n",
       "      <td>0400000US56</td>\n",
       "      <td>280291</td>\n",
       "      <td>56</td>\n",
       "      <td>2.06</td>\n",
       "    </tr>\n",
       "    <tr>\n",
       "      <th>231074</th>\n",
       "      <td>WY</td>\n",
       "      <td>2021</td>\n",
       "      <td>March</td>\n",
       "      <td>Number of Drug Overdose Deaths</td>\n",
       "      <td>93.00</td>\n",
       "      <td>Wyoming</td>\n",
       "      <td>March 2021</td>\n",
       "      <td>2021-03-01</td>\n",
       "      <td>Wyoming</td>\n",
       "      <td>WY</td>\n",
       "      <td>56045</td>\n",
       "      <td>6.70</td>\n",
       "      <td>Wyoming</td>\n",
       "      <td>578759</td>\n",
       "      <td>4971</td>\n",
       "      <td>8.60</td>\n",
       "      <td>0400000US56</td>\n",
       "      <td>280291</td>\n",
       "      <td>56</td>\n",
       "      <td>2.06</td>\n",
       "    </tr>\n",
       "  </tbody>\n",
       "</table>\n",
       "<p>231075 rows × 20 columns</p>\n",
       "</div>"
      ],
      "text/plain": [
       "       State_flat  Year_flat Month_flat                  Indicator_flat   \n",
       "0              AK       2015      April  Number of Drug Overdose Deaths  \\\n",
       "1              AK       2015      April  Number of Drug Overdose Deaths   \n",
       "2              AK       2015      April  Number of Drug Overdose Deaths   \n",
       "3              AK       2015      April  Number of Drug Overdose Deaths   \n",
       "4              AK       2015      April  Number of Drug Overdose Deaths   \n",
       "...           ...        ...        ...                             ...   \n",
       "231070         WY       2021      March  Number of Drug Overdose Deaths   \n",
       "231071         WY       2021      March  Number of Drug Overdose Deaths   \n",
       "231072         WY       2021      March  Number of Drug Overdose Deaths   \n",
       "231073         WY       2021      March  Number of Drug Overdose Deaths   \n",
       "231074         WY       2021      March  Number of Drug Overdose Deaths   \n",
       "\n",
       "        Data_Value_flat StateName   Date_flat Date_parsed_flat StateName   \n",
       "0                126.00    Alaska  April 2015       2015-04-01    Alaska  \\\n",
       "1                126.00    Alaska  April 2015       2015-04-01    Alaska   \n",
       "2                126.00    Alaska  April 2015       2015-04-01    Alaska   \n",
       "3                126.00    Alaska  April 2015       2015-04-01    Alaska   \n",
       "4                126.00    Alaska  April 2015       2015-04-01    Alaska   \n",
       "...                 ...       ...         ...              ...       ...   \n",
       "231070            93.00   Wyoming  March 2021       2021-03-01   Wyoming   \n",
       "231071            93.00   Wyoming  March 2021       2021-03-01   Wyoming   \n",
       "231072            93.00   Wyoming  March 2021       2021-03-01   Wyoming   \n",
       "231073            93.00   Wyoming  March 2021       2021-03-01   Wyoming   \n",
       "231074            93.00   Wyoming  March 2021       2021-03-01   Wyoming   \n",
       "\n",
       "       State_html  County_FIPS_Code_html  Opioid_Dispensing_Rate_per_100_html   \n",
       "0              AK                   2013                                 9.60  \\\n",
       "1              AK                   2016                                 2.10   \n",
       "2              AK                   2020                                47.20   \n",
       "3              AK                   2050                                 8.80   \n",
       "4              AK                   2060                                 6.40   \n",
       "...           ...                    ...                                  ...   \n",
       "231070         WY                  56037                                70.00   \n",
       "231071         WY                  56039                                50.60   \n",
       "231072         WY                  56041                                60.00   \n",
       "231073         WY                  56043                                40.20   \n",
       "231074         WY                  56045                                 6.70   \n",
       "\n",
       "       StateName  Population_api  Deaths_Total_2019_api   \n",
       "0         Alaska          731545                   4819  \\\n",
       "1         Alaska          731545                   4819   \n",
       "2         Alaska          731545                   4819   \n",
       "3         Alaska          731545                   4819   \n",
       "4         Alaska          731545                   4819   \n",
       "...          ...             ...                    ...   \n",
       "231070   Wyoming          578759                   4971   \n",
       "231071   Wyoming          578759                   4971   \n",
       "231072   Wyoming          578759                   4971   \n",
       "231073   Wyoming          578759                   4971   \n",
       "231074   Wyoming          578759                   4971   \n",
       "\n",
       "        Death_Rate_Per_100k_api   GEO_ID_api  Housing_Unit_Estimate_api   \n",
       "0                          6.57  0400000US02                     319854  \\\n",
       "1                          6.57  0400000US02                     319854   \n",
       "2                          6.57  0400000US02                     319854   \n",
       "3                          6.57  0400000US02                     319854   \n",
       "4                          6.57  0400000US02                     319854   \n",
       "...                         ...          ...                        ...   \n",
       "231070                     8.60  0400000US56                     280291   \n",
       "231071                     8.60  0400000US56                     280291   \n",
       "231072                     8.60  0400000US56                     280291   \n",
       "231073                     8.60  0400000US56                     280291   \n",
       "231074                     8.60  0400000US56                     280291   \n",
       "\n",
       "        state_api  Housing_Available_api  \n",
       "0               2                   2.29  \n",
       "1               2                   2.29  \n",
       "2               2                   2.29  \n",
       "3               2                   2.29  \n",
       "4               2                   2.29  \n",
       "...           ...                    ...  \n",
       "231070         56                   2.06  \n",
       "231071         56                   2.06  \n",
       "231072         56                   2.06  \n",
       "231073         56                   2.06  \n",
       "231074         56                   2.06  \n",
       "\n",
       "[231075 rows x 20 columns]"
      ]
     },
     "execution_count": 28,
     "metadata": {},
     "output_type": "execute_result"
    }
   ],
   "source": [
    "# use cursor function to combine tables on \"StateName\"\n",
    "cur.execute('''SELECT *\n",
    "  FROM FlatFile\n",
    "  INNER JOIN HTMLfile\n",
    "  ON FlatFile.StateName = HTMLfile.StateName\n",
    "  INNER JOIN APIfile\n",
    "  ON HTMLfile.StateName = APIfile.StateName''')\n",
    "\n",
    "# convert to dataframe and fetch all\n",
    "df = pd.DataFrame(cur.fetchall())\n",
    "# define column names\n",
    "df.columns = [x[0] for x in cur.description]\n",
    "df"
   ]
  },
  {
   "cell_type": "markdown",
   "id": "a3760a49",
   "metadata": {},
   "source": [
    "# Visualizations"
   ]
  },
  {
   "cell_type": "markdown",
   "id": "04f8dfd6",
   "metadata": {},
   "source": [
    "Line plot to visualize the increase in overdose deaths over time."
   ]
  },
  {
   "cell_type": "code",
   "execution_count": 34,
   "id": "340a16c3",
   "metadata": {},
   "outputs": [
    {
     "data": {
      "image/png": "[encoded data removed]",
      "text/plain": [
       "<Figure size 640x480 with 1 Axes>"
      ]
     },
     "metadata": {},
     "output_type": "display_data"
    }
   ],
   "source": [
    "sns.set_style('whitegrid')\n",
    "g = sns.lineplot(x='Date_flat',\n",
    "              y = 'Data_Value_flat',\n",
    "              data=df)\n",
    "#g = (g.set_axis_labels(x ='Date', y ='Overdose Death Count'), set(xlim=(0,20),ylim=(0,100)))\n",
    "#g = g.set(xticks=[1, 13, 25, 37, 49, 61, 73], xticklabels=[2015, 2016, 2017, 2018, 2019, 2020, 2021])\n",
    "g = g.set(xticks=[0, 12, 24, 36, 48, 60, 72], xticklabels=[2015, 2016, 2017, 2018, 2019, 2020, 2021])\n",
    "plt.title('Overdose Death Count by Year')\n",
    "plt.show(g)"
   ]
  },
  {
   "cell_type": "markdown",
   "id": "a1f51f03",
   "metadata": {},
   "source": [
    "Barplot to visualize states' death rates by overdose death rate per 100k people for the last 7 years."
   ]
  },
  {
   "cell_type": "code",
   "execution_count": 36,
   "id": "87e90987",
   "metadata": {
    "scrolled": false
   },
   "outputs": [
    {
     "data": {
      "text/plain": [
       "Text(0.5, 0, 'State')"
      ]
     },
     "execution_count": 36,
     "metadata": {},
     "output_type": "execute_result"
    },
    {
     "data": {
      "image/png": "[encoded data removed]",
      "text/plain": [
       "<Figure size 2400x1000 with 1 Axes>"
      ]
     },
     "metadata": {},
     "output_type": "display_data"
    }
   ],
   "source": [
    "# Set the width and height of the figure\n",
    "plt.figure(figsize=(24,10))\n",
    "\n",
    "# Add title\n",
    "plt.title(\"2019 Overdose Death Rate per 100,000 People\")\n",
    "\n",
    "# Bar chart code\n",
    "sns.barplot(x = df['State_html'], y=df['Death_Rate_Per_100k_api'])\n",
    "\n",
    "# Add label for axes\n",
    "plt.ylabel(\"Overdose death rate (per 100,000 people) by State\")\n",
    "plt.xlabel('State')"
   ]
  },
  {
   "cell_type": "markdown",
   "id": "340d6ea9",
   "metadata": {},
   "source": [
    "Create barplot to visualize states' death rates by overdose for the last 7 years in total."
   ]
  },
  {
   "cell_type": "code",
   "execution_count": 42,
   "id": "0b2ba2b0",
   "metadata": {
    "scrolled": true
   },
   "outputs": [
    {
     "data": {
      "text/plain": [
       "Text(0.5, 0, 'Total Deaths from Overdoses 2015-2021')"
      ]
     },
     "execution_count": 42,
     "metadata": {},
     "output_type": "execute_result"
    },
    {
     "data": {
      "image/png": "[encoded data removed]",
      "text/plain": [
       "<Figure size 2400x1000 with 1 Axes>"
      ]
     },
     "metadata": {},
     "output_type": "display_data"
    }
   ],
   "source": [
    "#set the width and height of the figure\n",
    "plt.figure(figsize=(24,10))\n",
    "\n",
    "#add title\n",
    "plt.title(\"Total Deaths from Overdoses 2015-2021 by State\")\n",
    "\n",
    "#bar chart code\n",
    "sns.barplot(x=df['State_html'], y=df['Data_Value_flat'])\n",
    "\n",
    "#add label for axes\n",
    "plt.ylabel(\"State\")\n",
    "plt.xlabel(\"Total Deaths from Overdoses 2015-2021\")"
   ]
  },
  {
   "cell_type": "markdown",
   "id": "108f6248",
   "metadata": {},
   "source": [
    "I tried to make a histogram to explore the ditribution of opioid dispensing rates but I'm not sure this has information that would be of value to me. I wanted to keep it included here though for future reference."
   ]
  },
  {
   "cell_type": "code",
   "execution_count": 46,
   "id": "62ecb92d",
   "metadata": {
    "scrolled": true
   },
   "outputs": [
    {
     "data": {
      "text/plain": [
       "(array([1.45425e+05, 6.86250e+04, 1.26750e+04, 3.15000e+03, 4.50000e+02,\n",
       "        3.00000e+02, 1.50000e+02, 7.50000e+01, 7.50000e+01, 1.50000e+02]),\n",
       " array([  0.  ,  40.67,  81.34, 122.01, 162.68, 203.35, 244.02, 284.69,\n",
       "        325.36, 366.03, 406.7 ]),\n",
       " <BarContainer object of 10 artists>)"
      ]
     },
     "execution_count": 46,
     "metadata": {},
     "output_type": "execute_result"
    },
    {
     "data": {
      "image/png": "[encoded data removed]",
      "text/plain": [
       "<Figure size 640x480 with 1 Axes>"
      ]
     },
     "metadata": {},
     "output_type": "display_data"
    }
   ],
   "source": [
    "plt.hist(df['Opioid_Dispensing_Rate_per_100_html'])"
   ]
  },
  {
   "cell_type": "markdown",
   "id": "1af7fe6d",
   "metadata": {},
   "source": [
    "The following cell holds attempts at plotting the rates of opioid overdoses to the rates of housing availability that I wasn't able to find a clean method for. I wanted to see if there was a correlation between lack of shelter and opioid overdose based on the data I had. This would be interesting to see in the future and hypotheses such as this could provide meaningful insight into how populations can better prevent opioid illness and overdose deaths. I am keeping it for future reference."
   ]
  },
  {
   "cell_type": "markdown",
   "id": "288f4b45",
   "metadata": {},
   "source": [
    "#Set the width and height of the figure\n",
    "plt.figure(figsize=(24,10))\n",
    "\n",
    "#Add title\n",
    "plt.title(\"Housing Availability\")\n",
    "\n",
    "#Bar chart code\n",
    "#sns.scatterplot(x=df['Housing_Available_api'], y=df['Data_Value_flat'])\n",
    "#sns.barplot(x='Housing_Available_api', y='Data_Value_flat', hue='State_flat', data=df)\n",
    "sns.relplot(data=df, x=(df['Housing_Available_api'] >= 2000), y='Data_Value_flat', hue='State_flat', sorted_by())\n",
    "#sns.factorplot(\"sex\", \"survival_rate\", col=\"class\", data=df, kind=\"bar\")\n",
    "\n",
    "#Add label for axes\n",
    "plt.ylabel(\"Housing Rate vs. Overdose Death Rate\")"
   ]
  },
  {
   "cell_type": "markdown",
   "id": "d6634e6d",
   "metadata": {},
   "source": [
    "## Project Summary"
   ]
  },
  {
   "cell_type": "markdown",
   "id": "d0e688c3",
   "metadata": {},
   "source": [
    "This was a fascinating exploration in data preparation. I struggled pretty intensely with the HTML and API retrievals, and am pretty shaky with SQL, but I really appreciated how the course was laid out to practice these skills in the assignments and then apply them in our projects. It has been a wild ride, but I feel like I gained many skils during this project. I am really grateful to have been able to merge my previous research focus (opioid use and care) with these new skills. I am quick to recognize how novice I am in this field and that my approaches are elementary, but hypothesizing about what discoveries could be made using machine learning in this field has been very stimulating for me. The government sourced data I used was very comprehensive in its population representation, but limited on specifics, so I realized that I was trying to draw correlations that were not exactly able to be sourced from the information I had, but the process of sourcing, cleaning, and transforming the data really enhanced my skills. <br>\n",
    "\n",
    "Because the original data was from the CDC, it was pretty clean, but there were several transformations I applied to make it specific to my project. The ethical implications of this process (like removing certain columns or selecting for a specific indicator) varied based on how I was intending to apply the information, like to use the different population metrics to compare to death/overdose/and prescription rates. Becuase the goal of this project was to able to clean and merge, I felt confident that selecting only the pieces of information I wanted to review would not be ethically. Luckily, the sources I chose already took into consideration the concern for privacy and confidentiality of the subjects, so there were no personal identifiers available to me. The data is all publicly available through government websites (CDC and Census Bureau), so I felt confident that there are no ownership issues. <br>\n",
    "\n",
    "Ideally, I wanted to use it to draw correlations between socioeconomic status of a population, prevalence of opioids via prescription in a region, and per capita mortality rate from opioid-related overdoses. In this ideal scenario, this would provide insight into locations for greater opioid care (care clinics, recovery options, community education). I really enjoyed the cleaning and transformation stages, and am happy that the exploration and preparation for modeling is becoming more enjoyable. I'm certainly gaining greater proficiency and am looking forward to honing my skills further. <br>\n",
    "\n",
    "In accordance with data availabilty and ownership, I want to be clear to cite my sources. This dataset has been collected by the [CDC](https://www.cdc.gov/nchs/nvss/vsrr/drug-overdose-data.htm). Their suggested citation is: <br>\n",
    "*Ahmad FB, Cisewski JA, Rossen LM, Sutton P. Provisional drug overdose death counts. National Center for Health Statistics. 2023.\n",
    "</br>\n",
    "Designed by LM Rossen, A Lipphardt, FB Ahmad, JM Keralis, and Y Chong: National Center for Health Statistics.* <br>\n",
    "\n",
    "Additionally, I breifly followed along to a Kaggle notebook by [Craig Chilvers](https://www.kaggle.com/code/craigchilvers/opioids-in-the-us-initial-data-cleaning/notebook). "
   ]
  }
 ],
 "metadata": {
  "kernelspec": {
   "display_name": "Python 3 (ipykernel)",
   "language": "python",
   "name": "python3"
  },
  "language_info": {
   "codemirror_mode": {
    "name": "ipython",
    "version": 3
   },
   "file_extension": ".py",
   "mimetype": "text/x-python",
   "name": "python",
   "nbconvert_exporter": "python",
   "pygments_lexer": "ipython3",
   "version": "3.11.3"
  }
 },
 "nbformat": 4,
 "nbformat_minor": 5
}
