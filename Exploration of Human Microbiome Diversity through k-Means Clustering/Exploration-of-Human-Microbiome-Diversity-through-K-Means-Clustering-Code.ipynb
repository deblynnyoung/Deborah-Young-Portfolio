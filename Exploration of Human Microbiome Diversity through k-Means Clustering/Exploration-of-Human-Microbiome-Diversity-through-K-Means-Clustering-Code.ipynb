{
 "cells": [
  {
   "cell_type": "markdown",
   "id": "cbfbbb0b",
   "metadata": {},
   "source": [
    "##### Introduction"
   ]
  },
  {
   "cell_type": "markdown",
   "id": "9b4b5c1c",
   "metadata": {},
   "source": [
    "Research around the human microbiome (the collection of bacteria and microbes that live in and on our bodies) has been growing as a science and field of interest more and more over the last decade (Ursell et al., 2012). Many people experience disruptions to their health that could be attributed to an imbalance of these little organisms that share life with each of us (Ursell et al., 2012). Gastrointestinal (GI/gut) health is of particular interest, and investigations around how to improve this ecosystem within us are expanding. One approach to achieve this is Fecal Microbiota Transplant (FMT). <br>\n",
    "\n",
    "FMT is a method of transferring a healthy population (high species quantity and diversity) of microbes from one person to another in hopes of restoring the bacterial colonies in the recipient and thus contributing to greater overall health (Orr, et al. 2018). FMT has been used as a therapy for a limited selection of illnesses (and is not approved for many uses in the USA), but it is gaining relevance as a therapeutic application for a wide variety of infections, gastrointestinal issues, and auto-immune disorders (Gupta et al., 2016). FMT could be an effective intervention for a variety of health issues caused by diet, environment, overuse of antibiotics, and other factors. <br>\n",
    "\n",
    "In order to successfully implement an intervention such as this, we need to understand the structure of human microbiota. Using data sourced from [NIH Human Microbiome Project](https://www.hmpdacc.org/hmp/catalog/grid.php?dataset=genomic), I will run an EDA to explore the species types and prevalence. For the EDA portion, I will be roughly following [this](https://www.kaggle.com/code/bbhatt001/eda-of-the-human-microbiome/input) Kaggle notebook. The dataset utilized for that project is older (as the project is in constant motion), so although it is a great framework, my approach will have to be adjusted. Moving beyond this step, I would like to build models to predict the presence of these microbes to potentially  I will likely reference [this](https://www.kaggle.com/code/jaytee691/microbes-99-5-accuracy-knn-rf-gb-mlp/input) or [this](https://www.kaggle.com/code/rohannemade/90-accuracy-microbes-classification) dataset. \n",
    "\n",
    "According to [AWS](https://registry.opendata.aws/human-microbiome-project/): \"The NIH-funded Human Microbiome Project (HMP) is a collaborative effort of over 300 scientists from more than 80 organizations to comprehensively characterize the microbial communities inhabiting the human body and elucidate their role in human health and disease. To accomplish this task, microbial community samples were isolated from a cohort of 300 healthy adult human subjects at 18 specific sites within five regions of the body (oral cavity, airways, urogenital track, skin, and gut). Targeted sequencing of the 16S bacterial marker gene and/or whole metagenome shotgun sequencing was performed for thousands of these samples. In addition, whole genome sequences were generated for isolate strains collected from human body sites to act as reference organisms for analysis. Finally, 16S marker and whole metagenome sequencing was also done on additional samples from people suffering from several disease conditions.\""
   ]
  },
  {
   "cell_type": "markdown",
   "id": "c384c1e0",
   "metadata": {},
   "source": [
    " - Gupta, S., Allen-Vercoe, E., & Petrof, E. O. (2016). Fecal microbiota transplantation: in perspective. Therapeutic Advances in Gastroenterology, 9(2), 229-239. https://doi.org/10.1177/1756283X15607414\n",
    "\n",
    " - Orr, M. R., Kocurek, K. M., & Young, D. L. **(that's me!)** (2018). Gut Microbiota and Human Health: Insights From Ecological Restoration. The Quarterly Review of Biology, 93(2), 73–90. https://doi.org/10.1086/698021  \n",
    " \n",
    " - Ursell, L. K., Metcalf, J. L., Parfrey, L. W., & Knight, R. (2012). Defining the Human Microbiome. Nutrition reviews, 70(Suppl 1), S38. https://doi.org/10.1111/j.1753-4887.2012.00493.\n"
   ]
  },
  {
   "cell_type": "markdown",
   "id": "97d5553b",
   "metadata": {},
   "source": [
    "### Import and Cleaning"
   ]
  },
  {
   "cell_type": "code",
   "execution_count": 1,
   "id": "e979744c",
   "metadata": {
    "ExecuteTime": {
     "end_time": "2024-02-29T17:28:34.562108Z",
     "start_time": "2024-02-29T17:28:34.535259Z"
    }
   },
   "outputs": [],
   "source": [
    "#import libraries and dataset\n",
    "import pandas as pd\n",
    "import matplotlib.pyplot as plt\n",
    "import numpy as np\n",
    "import seaborn as sns\n",
    "import warnings\n",
    "warnings.filterwarnings('ignore')\n",
    "\n",
    "#part 2\n",
    "from sklearn import metrics\n",
    "from sklearn.metrics import accuracy_score\n",
    "from sklearn.model_selection import train_test_split, GridSearchCV\n",
    "from sklearn.preprocessing import StandardScaler, MinMaxScaler\n",
    "from sklearn.neighbors import KNeighborsClassifier\n",
    "from sklearn.linear_model import LogisticRegression\n",
    "\n",
    "from sklearn.pipeline import Pipeline, FeatureUnion\n",
    "from sklearn.preprocessing import OneHotEncoder, StandardScaler\n",
    "from sklearn.cluster import KMeans\n",
    "from sklearn.pipeline import make_pipeline\n",
    "from sklearn.compose import ColumnTransformer\n",
    "import matplotlib.pyplot as plt\n",
    "from sklearn.decomposition import PCA\n",
    "\n",
    "microbes=pd.read_csv('/Users/debane/Documents/MS Data Science/550 Data Mining/project_catalog.csv')\n",
    "#####pd.set_option('display.max_rows', None, 'display.max_columns', None)\n"
   ]
  },
  {
   "cell_type": "code",
   "execution_count": 2,
   "id": "dc09fe66",
   "metadata": {
    "ExecuteTime": {
     "end_time": "2024-02-19T05:18:44.956718Z",
     "start_time": "2024-02-19T05:18:42.531184Z"
    },
    "scrolled": true
   },
   "outputs": [
    {
     "data": {
      "text/html": [
       "<div>\n",
       "<style scoped>\n",
       "    .dataframe tbody tr th:only-of-type {\n",
       "        vertical-align: middle;\n",
       "    }\n",
       "\n",
       "    .dataframe tbody tr th {\n",
       "        vertical-align: top;\n",
       "    }\n",
       "\n",
       "    .dataframe thead th {\n",
       "        text-align: right;\n",
       "    }\n",
       "</style>\n",
       "<table border=\"1\" class=\"dataframe\">\n",
       "  <thead>\n",
       "    <tr style=\"text-align: right;\">\n",
       "      <th></th>\n",
       "      <th>HMP ID</th>\n",
       "      <th>GOLD ID</th>\n",
       "      <th>Organism Name</th>\n",
       "      <th>Domain</th>\n",
       "      <th>NCBI Superkingdom</th>\n",
       "      <th>HMP Isolation Body Site</th>\n",
       "      <th>Project Status</th>\n",
       "      <th>Current Finishing Level</th>\n",
       "      <th>NCBI Submission Status</th>\n",
       "      <th>NCBI Project ID</th>\n",
       "      <th>Genbank ID</th>\n",
       "      <th>Gene Count</th>\n",
       "      <th>IMG/HMP ID</th>\n",
       "      <th>HOMD ID</th>\n",
       "      <th>Sequencing Center</th>\n",
       "      <th>Funding Source</th>\n",
       "      <th>Strain Repository ID</th>\n",
       "      <th>Unnamed: 17</th>\n",
       "      <th>Unnamed: 18</th>\n",
       "    </tr>\n",
       "  </thead>\n",
       "  <tbody>\n",
       "    <tr>\n",
       "      <th>0</th>\n",
       "      <td>1</td>\n",
       "      <td>Gi03551</td>\n",
       "      <td>Abiotrophia defectiva ATCC 49176</td>\n",
       "      <td>BACTERIAL</td>\n",
       "      <td>Bacteria</td>\n",
       "      <td>oral</td>\n",
       "      <td>Complete</td>\n",
       "      <td>Level 3: Improved-High-Quality Draft</td>\n",
       "      <td>6. annotation (and sequence) public on NCBI site</td>\n",
       "      <td>33011</td>\n",
       "      <td>ACIN00000000</td>\n",
       "      <td>1950</td>\n",
       "      <td>643886181</td>\n",
       "      <td>HOMD: tax_389</td>\n",
       "      <td>Washington University Genome Sequencing Center</td>\n",
       "      <td>NIH-HMP Jumpstart Supplement</td>\n",
       "      <td>ATCC 49176, CIP 103242</td>\n",
       "      <td>NaN</td>\n",
       "      <td>NaN</td>\n",
       "    </tr>\n",
       "    <tr>\n",
       "      <th>1</th>\n",
       "      <td>4</td>\n",
       "      <td>Gi03555</td>\n",
       "      <td>Achromobacter piechaudii ATCC 43553</td>\n",
       "      <td>BACTERIAL</td>\n",
       "      <td>Bacteria</td>\n",
       "      <td>airways</td>\n",
       "      <td>Complete</td>\n",
       "      <td>Level 2: High-Quality Draft</td>\n",
       "      <td>6. annotation (and sequence) public on NCBI site</td>\n",
       "      <td>46343</td>\n",
       "      <td>ADMS00000000</td>\n",
       "      <td>5755</td>\n",
       "      <td>647000200</td>\n",
       "      <td>NaN</td>\n",
       "      <td>Baylor College of Medicine</td>\n",
       "      <td>NIH-HMP Jumpstart Supplement</td>\n",
       "      <td>ATCC 43553, CIP 55774, LMG 6100</td>\n",
       "      <td>NaN</td>\n",
       "      <td>NaN</td>\n",
       "    </tr>\n",
       "    <tr>\n",
       "      <th>2</th>\n",
       "      <td>5</td>\n",
       "      <td>Gi03554</td>\n",
       "      <td>Achromobacter xylosoxidans C54</td>\n",
       "      <td>BACTERIAL</td>\n",
       "      <td>Bacteria</td>\n",
       "      <td>airways</td>\n",
       "      <td>Complete</td>\n",
       "      <td>Level 5: Non-contiguous Finished</td>\n",
       "      <td>6. annotation (and sequence) public on NCBI site</td>\n",
       "      <td>38739</td>\n",
       "      <td>ACRC00000000</td>\n",
       "      <td>6010</td>\n",
       "      <td>0</td>\n",
       "      <td>HOMD: tax_343</td>\n",
       "      <td>Broad Institute</td>\n",
       "      <td>NIH-HMP Jumpstart Supplement</td>\n",
       "      <td>BEI HM-235</td>\n",
       "      <td>NaN</td>\n",
       "      <td>NaN</td>\n",
       "    </tr>\n",
       "    <tr>\n",
       "      <th>3</th>\n",
       "      <td>10</td>\n",
       "      <td>Gi03422</td>\n",
       "      <td>Acinetobacter baumannii ATCC 19606</td>\n",
       "      <td>BACTERIAL</td>\n",
       "      <td>Bacteria</td>\n",
       "      <td>urogenital_tract</td>\n",
       "      <td>Complete</td>\n",
       "      <td>Level 2: High-Quality Draft</td>\n",
       "      <td>6. annotation (and sequence) public on NCBI site</td>\n",
       "      <td>38509</td>\n",
       "      <td>ACQB00000000</td>\n",
       "      <td>3832</td>\n",
       "      <td>647533101</td>\n",
       "      <td>HOMD: tax_554</td>\n",
       "      <td>Broad Institute</td>\n",
       "      <td>NIH-HMP Jumpstart Supplement</td>\n",
       "      <td>ATCC 19606, DSM 6974</td>\n",
       "      <td>NaN</td>\n",
       "      <td>NaN</td>\n",
       "    </tr>\n",
       "    <tr>\n",
       "      <th>4</th>\n",
       "      <td>12</td>\n",
       "      <td>Gi03421</td>\n",
       "      <td>Acinetobacter calcoaceticus RUH2202</td>\n",
       "      <td>BACTERIAL</td>\n",
       "      <td>Bacteria</td>\n",
       "      <td>skin</td>\n",
       "      <td>Complete</td>\n",
       "      <td>Level 2: High-Quality Draft</td>\n",
       "      <td>6. annotation (and sequence) public on NCBI site</td>\n",
       "      <td>38337</td>\n",
       "      <td>ACPK00000000</td>\n",
       "      <td>3632</td>\n",
       "      <td>646206267</td>\n",
       "      <td>NaN</td>\n",
       "      <td>Broad Institute</td>\n",
       "      <td>NIH-HMP Jumpstart Supplement</td>\n",
       "      <td>LMG 10517</td>\n",
       "      <td>NaN</td>\n",
       "      <td>NaN</td>\n",
       "    </tr>\n",
       "  </tbody>\n",
       "</table>\n",
       "</div>"
      ],
      "text/plain": [
       "   HMP ID  GOLD ID                        Organism Name     Domain  \\\n",
       "0       1  Gi03551     Abiotrophia defectiva ATCC 49176  BACTERIAL   \n",
       "1       4  Gi03555  Achromobacter piechaudii ATCC 43553  BACTERIAL   \n",
       "2       5  Gi03554       Achromobacter xylosoxidans C54  BACTERIAL   \n",
       "3      10  Gi03422   Acinetobacter baumannii ATCC 19606  BACTERIAL   \n",
       "4      12  Gi03421  Acinetobacter calcoaceticus RUH2202  BACTERIAL   \n",
       "\n",
       "  NCBI Superkingdom HMP Isolation Body Site Project Status  \\\n",
       "0          Bacteria                    oral       Complete   \n",
       "1          Bacteria                 airways       Complete   \n",
       "2          Bacteria                 airways       Complete   \n",
       "3          Bacteria        urogenital_tract       Complete   \n",
       "4          Bacteria                    skin       Complete   \n",
       "\n",
       "                Current Finishing Level  \\\n",
       "0  Level 3: Improved-High-Quality Draft   \n",
       "1           Level 2: High-Quality Draft   \n",
       "2      Level 5: Non-contiguous Finished   \n",
       "3           Level 2: High-Quality Draft   \n",
       "4           Level 2: High-Quality Draft   \n",
       "\n",
       "                             NCBI Submission Status  NCBI Project ID  \\\n",
       "0  6. annotation (and sequence) public on NCBI site            33011   \n",
       "1  6. annotation (and sequence) public on NCBI site            46343   \n",
       "2  6. annotation (and sequence) public on NCBI site            38739   \n",
       "3  6. annotation (and sequence) public on NCBI site            38509   \n",
       "4  6. annotation (and sequence) public on NCBI site            38337   \n",
       "\n",
       "     Genbank ID  Gene Count  IMG/HMP ID        HOMD ID  \\\n",
       "0  ACIN00000000        1950   643886181  HOMD: tax_389   \n",
       "1  ADMS00000000        5755   647000200            NaN   \n",
       "2  ACRC00000000        6010           0  HOMD: tax_343   \n",
       "3  ACQB00000000        3832   647533101  HOMD: tax_554   \n",
       "4  ACPK00000000        3632   646206267            NaN   \n",
       "\n",
       "                                Sequencing Center  \\\n",
       "0  Washington University Genome Sequencing Center   \n",
       "1                      Baylor College of Medicine   \n",
       "2                                 Broad Institute   \n",
       "3                                 Broad Institute   \n",
       "4                                 Broad Institute   \n",
       "\n",
       "                 Funding Source             Strain Repository ID  Unnamed: 17  \\\n",
       "0  NIH-HMP Jumpstart Supplement           ATCC 49176, CIP 103242          NaN   \n",
       "1  NIH-HMP Jumpstart Supplement  ATCC 43553, CIP 55774, LMG 6100          NaN   \n",
       "2  NIH-HMP Jumpstart Supplement                       BEI HM-235          NaN   \n",
       "3  NIH-HMP Jumpstart Supplement             ATCC 19606, DSM 6974          NaN   \n",
       "4  NIH-HMP Jumpstart Supplement                        LMG 10517          NaN   \n",
       "\n",
       "   Unnamed: 18  \n",
       "0          NaN  \n",
       "1          NaN  \n",
       "2          NaN  \n",
       "3          NaN  \n",
       "4          NaN  "
      ]
     },
     "execution_count": 2,
     "metadata": {},
     "output_type": "execute_result"
    }
   ],
   "source": [
    "#View sample of data\n",
    "# microbes.head() #commented out for brevity"
   ]
  },
  {
   "cell_type": "code",
   "execution_count": 3,
   "id": "9c0473e2",
   "metadata": {
    "ExecuteTime": {
     "end_time": "2024-02-19T05:18:44.993075Z",
     "start_time": "2024-02-19T05:18:42.558651Z"
    }
   },
   "outputs": [
    {
     "data": {
      "text/plain": [
       "(2915, 19)"
      ]
     },
     "execution_count": 3,
     "metadata": {},
     "output_type": "execute_result"
    }
   ],
   "source": [
    "#Check shape\n",
    "microbes.shape"
   ]
  },
  {
   "cell_type": "code",
   "execution_count": 4,
   "id": "7d7be366",
   "metadata": {
    "ExecuteTime": {
     "end_time": "2024-02-19T05:18:44.994503Z",
     "start_time": "2024-02-19T05:18:42.566803Z"
    }
   },
   "outputs": [
    {
     "data": {
      "text/plain": [
       "Index(['HMP ID', 'GOLD ID', 'Organism Name', 'Domain', 'NCBI Superkingdom',\n",
       "       'HMP Isolation Body Site', 'Project Status', 'Current Finishing Level',\n",
       "       'NCBI Submission Status', 'NCBI Project ID', 'Genbank ID', 'Gene Count',\n",
       "       'IMG/HMP ID', 'HOMD ID', 'Sequencing Center', 'Funding Source',\n",
       "       'Strain Repository ID', 'Unnamed: 17', 'Unnamed: 18'],\n",
       "      dtype='object')"
      ]
     },
     "execution_count": 4,
     "metadata": {},
     "output_type": "execute_result"
    }
   ],
   "source": [
    "#See column names in dataset\n",
    "microbes.columns "
   ]
  },
  {
   "cell_type": "code",
   "execution_count": 5,
   "id": "86f2f64c",
   "metadata": {
    "ExecuteTime": {
     "end_time": "2024-02-19T05:18:45.045693Z",
     "start_time": "2024-02-19T05:18:42.589325Z"
    },
    "scrolled": false
   },
   "outputs": [
    {
     "name": "stdout",
     "output_type": "stream",
     "text": [
      "<class 'pandas.core.frame.DataFrame'>\n",
      "RangeIndex: 2915 entries, 0 to 2914\n",
      "Data columns (total 19 columns):\n",
      " #   Column                   Non-Null Count  Dtype  \n",
      "---  ------                   --------------  -----  \n",
      " 0   HMP ID                   2915 non-null   int64  \n",
      " 1   GOLD ID                  1783 non-null   object \n",
      " 2   Organism Name            2915 non-null   object \n",
      " 3   Domain                   2712 non-null   object \n",
      " 4   NCBI Superkingdom        2751 non-null   object \n",
      " 5   HMP Isolation Body Site  2915 non-null   object \n",
      " 6   Project Status           2915 non-null   object \n",
      " 7   Current Finishing Level  1579 non-null   object \n",
      " 8   NCBI Submission Status   2915 non-null   object \n",
      " 9   NCBI Project ID          2915 non-null   int64  \n",
      " 10  Genbank ID               1579 non-null   object \n",
      " 11  Gene Count               2915 non-null   int64  \n",
      " 12  IMG/HMP ID               2915 non-null   int64  \n",
      " 13  HOMD ID                  397 non-null    object \n",
      " 14  Sequencing Center        2911 non-null   object \n",
      " 15  Funding Source           2915 non-null   object \n",
      " 16  Strain Repository ID     1377 non-null   object \n",
      " 17  Unnamed: 17              0 non-null      float64\n",
      " 18  Unnamed: 18              0 non-null      float64\n",
      "dtypes: float64(2), int64(4), object(13)\n",
      "memory usage: 432.8+ KB\n"
     ]
    }
   ],
   "source": [
    "#View descriptions of data \n",
    "microbes.info()"
   ]
  },
  {
   "cell_type": "markdown",
   "id": "c9a394dc",
   "metadata": {},
   "source": [
    "There is a broad range of information here, some of which may be beneficial to study regardless of project status, but for efficacy of this project, I'd like to check how many of the entires are complete."
   ]
  },
  {
   "cell_type": "code",
   "execution_count": 6,
   "id": "6f9297e8",
   "metadata": {
    "ExecuteTime": {
     "end_time": "2024-02-19T05:18:45.046384Z",
     "start_time": "2024-02-19T05:18:42.594403Z"
    }
   },
   "outputs": [
    {
     "data": {
      "text/plain": [
       "Project Status\n",
       "Complete       1579\n",
       "In Progress    1336\n",
       "Name: count, dtype: int64"
      ]
     },
     "execution_count": 6,
     "metadata": {},
     "output_type": "execute_result"
    }
   ],
   "source": [
    "microbes['Project Status'].value_counts()"
   ]
  },
  {
   "cell_type": "markdown",
   "id": "e4427d6e",
   "metadata": {},
   "source": [
    "I'm going to remove any entries that are \"in progress\" from the main dataframe and place them in a new dataframe so I have it for running later if I want."
   ]
  },
  {
   "cell_type": "code",
   "execution_count": 7,
   "id": "20c12b90",
   "metadata": {
    "ExecuteTime": {
     "end_time": "2024-02-19T05:18:45.047294Z",
     "start_time": "2024-02-19T05:18:42.598105Z"
    }
   },
   "outputs": [
    {
     "data": {
      "text/plain": [
       "(1336, 19)"
      ]
     },
     "execution_count": 7,
     "metadata": {},
     "output_type": "execute_result"
    }
   ],
   "source": [
    "# Split Dataframe using groupby() &\n",
    "# grouping by particular dataframe column\n",
    "grouped = microbes.groupby(['Project Status'])\n",
    "microbes_in_progress = grouped.get_group(\"In Progress\")\n",
    "microbes_in_progress.shape"
   ]
  },
  {
   "cell_type": "code",
   "execution_count": 8,
   "id": "b8ae75b8",
   "metadata": {
    "ExecuteTime": {
     "end_time": "2024-02-19T05:18:45.081047Z",
     "start_time": "2024-02-19T05:18:42.604205Z"
    }
   },
   "outputs": [
    {
     "data": {
      "text/plain": [
       "(1579, 19)"
      ]
     },
     "execution_count": 8,
     "metadata": {},
     "output_type": "execute_result"
    }
   ],
   "source": [
    "# Split Dataframe using groupby() &\n",
    "# grouping by particular dataframe column\n",
    "grouped = microbes.groupby(['Project Status'])\n",
    "microbes_complete = grouped.get_group(\"Complete\")\n",
    "microbes_complete.shape"
   ]
  },
  {
   "cell_type": "code",
   "execution_count": 9,
   "id": "164a7eb3",
   "metadata": {
    "ExecuteTime": {
     "end_time": "2024-02-19T05:18:45.109530Z",
     "start_time": "2024-02-19T05:18:42.622880Z"
    }
   },
   "outputs": [
    {
     "data": {
      "text/plain": [
       "(1579, 19)"
      ]
     },
     "execution_count": 9,
     "metadata": {},
     "output_type": "execute_result"
    }
   ],
   "source": [
    "#rename group of \"complete\" for ease \n",
    "micro = microbes_complete\n",
    "micro.shape"
   ]
  },
  {
   "cell_type": "code",
   "execution_count": 10,
   "id": "7e00bbe6",
   "metadata": {
    "ExecuteTime": {
     "end_time": "2024-02-19T05:18:45.109897Z",
     "start_time": "2024-02-19T05:18:42.632065Z"
    }
   },
   "outputs": [
    {
     "name": "stdout",
     "output_type": "stream",
     "text": [
      "<class 'pandas.core.frame.DataFrame'>\n",
      "Index: 1579 entries, 0 to 2914\n",
      "Data columns (total 19 columns):\n",
      " #   Column                   Non-Null Count  Dtype  \n",
      "---  ------                   --------------  -----  \n",
      " 0   HMP ID                   1579 non-null   int64  \n",
      " 1   GOLD ID                  1493 non-null   object \n",
      " 2   Organism Name            1579 non-null   object \n",
      " 3   Domain                   1552 non-null   object \n",
      " 4   NCBI Superkingdom        1462 non-null   object \n",
      " 5   HMP Isolation Body Site  1579 non-null   object \n",
      " 6   Project Status           1579 non-null   object \n",
      " 7   Current Finishing Level  1579 non-null   object \n",
      " 8   NCBI Submission Status   1579 non-null   object \n",
      " 9   NCBI Project ID          1579 non-null   int64  \n",
      " 10  Genbank ID               1579 non-null   object \n",
      " 11  Gene Count               1579 non-null   int64  \n",
      " 12  IMG/HMP ID               1579 non-null   int64  \n",
      " 13  HOMD ID                  386 non-null    object \n",
      " 14  Sequencing Center        1579 non-null   object \n",
      " 15  Funding Source           1579 non-null   object \n",
      " 16  Strain Repository ID     1272 non-null   object \n",
      " 17  Unnamed: 17              0 non-null      float64\n",
      " 18  Unnamed: 18              0 non-null      float64\n",
      "dtypes: float64(2), int64(4), object(13)\n",
      "memory usage: 246.7+ KB\n"
     ]
    }
   ],
   "source": [
    "micro.info()"
   ]
  },
  {
   "cell_type": "markdown",
   "id": "f41029cc",
   "metadata": {},
   "source": [
    "I'm curious about some of the columns that have null values. The ones that are important to organism analysis are \"Domain\", and \"NCBI Superkingdom\"."
   ]
  },
  {
   "cell_type": "code",
   "execution_count": 11,
   "id": "0c8df6d1",
   "metadata": {
    "ExecuteTime": {
     "end_time": "2024-02-19T05:18:45.110096Z",
     "start_time": "2024-02-19T05:18:42.638735Z"
    },
    "scrolled": true
   },
   "outputs": [
    {
     "data": {
      "text/plain": [
       "Domain                27\n",
       "NCBI Superkingdom    117\n",
       "dtype: int64"
      ]
     },
     "execution_count": 11,
     "metadata": {},
     "output_type": "execute_result"
    }
   ],
   "source": [
    "micro[['Domain','NCBI Superkingdom']].isnull().sum()"
   ]
  },
  {
   "cell_type": "code",
   "execution_count": 12,
   "id": "41f16305",
   "metadata": {
    "ExecuteTime": {
     "end_time": "2024-02-19T05:18:45.301562Z",
     "start_time": "2024-02-19T05:18:42.646300Z"
    }
   },
   "outputs": [
    {
     "data": {
      "text/html": [
       "<div>\n",
       "<style scoped>\n",
       "    .dataframe tbody tr th:only-of-type {\n",
       "        vertical-align: middle;\n",
       "    }\n",
       "\n",
       "    .dataframe tbody tr th {\n",
       "        vertical-align: top;\n",
       "    }\n",
       "\n",
       "    .dataframe thead th {\n",
       "        text-align: right;\n",
       "    }\n",
       "</style>\n",
       "<table border=\"1\" class=\"dataframe\">\n",
       "  <thead>\n",
       "    <tr style=\"text-align: right;\">\n",
       "      <th></th>\n",
       "      <th>HMP ID</th>\n",
       "      <th>GOLD ID</th>\n",
       "      <th>Organism Name</th>\n",
       "      <th>NCBI Superkingdom</th>\n",
       "      <th>HMP Isolation Body Site</th>\n",
       "      <th>Project Status</th>\n",
       "      <th>Current Finishing Level</th>\n",
       "      <th>NCBI Submission Status</th>\n",
       "      <th>NCBI Project ID</th>\n",
       "      <th>Genbank ID</th>\n",
       "      <th>Gene Count</th>\n",
       "      <th>IMG/HMP ID</th>\n",
       "      <th>HOMD ID</th>\n",
       "      <th>Sequencing Center</th>\n",
       "      <th>Funding Source</th>\n",
       "      <th>Strain Repository ID</th>\n",
       "      <th>Unnamed: 17</th>\n",
       "      <th>Unnamed: 18</th>\n",
       "    </tr>\n",
       "    <tr>\n",
       "      <th>Domain</th>\n",
       "      <th></th>\n",
       "      <th></th>\n",
       "      <th></th>\n",
       "      <th></th>\n",
       "      <th></th>\n",
       "      <th></th>\n",
       "      <th></th>\n",
       "      <th></th>\n",
       "      <th></th>\n",
       "      <th></th>\n",
       "      <th></th>\n",
       "      <th></th>\n",
       "      <th></th>\n",
       "      <th></th>\n",
       "      <th></th>\n",
       "      <th></th>\n",
       "      <th></th>\n",
       "      <th></th>\n",
       "    </tr>\n",
       "  </thead>\n",
       "  <tbody>\n",
       "    <tr>\n",
       "      <th>ARCHAEAL</th>\n",
       "      <td>2</td>\n",
       "      <td>2</td>\n",
       "      <td>2</td>\n",
       "      <td>2</td>\n",
       "      <td>2</td>\n",
       "      <td>2</td>\n",
       "      <td>2</td>\n",
       "      <td>2</td>\n",
       "      <td>2</td>\n",
       "      <td>2</td>\n",
       "      <td>2</td>\n",
       "      <td>2</td>\n",
       "      <td>0</td>\n",
       "      <td>2</td>\n",
       "      <td>2</td>\n",
       "      <td>2</td>\n",
       "      <td>0</td>\n",
       "      <td>0</td>\n",
       "    </tr>\n",
       "    <tr>\n",
       "      <th>BACTERIAL</th>\n",
       "      <td>1541</td>\n",
       "      <td>1487</td>\n",
       "      <td>1541</td>\n",
       "      <td>1440</td>\n",
       "      <td>1541</td>\n",
       "      <td>1541</td>\n",
       "      <td>1541</td>\n",
       "      <td>1541</td>\n",
       "      <td>1541</td>\n",
       "      <td>1541</td>\n",
       "      <td>1541</td>\n",
       "      <td>1541</td>\n",
       "      <td>386</td>\n",
       "      <td>1541</td>\n",
       "      <td>1541</td>\n",
       "      <td>1247</td>\n",
       "      <td>0</td>\n",
       "      <td>0</td>\n",
       "    </tr>\n",
       "    <tr>\n",
       "      <th>EUKARYAL</th>\n",
       "      <td>4</td>\n",
       "      <td>4</td>\n",
       "      <td>4</td>\n",
       "      <td>4</td>\n",
       "      <td>4</td>\n",
       "      <td>4</td>\n",
       "      <td>4</td>\n",
       "      <td>4</td>\n",
       "      <td>4</td>\n",
       "      <td>4</td>\n",
       "      <td>4</td>\n",
       "      <td>4</td>\n",
       "      <td>0</td>\n",
       "      <td>4</td>\n",
       "      <td>4</td>\n",
       "      <td>2</td>\n",
       "      <td>0</td>\n",
       "      <td>0</td>\n",
       "    </tr>\n",
       "    <tr>\n",
       "      <th>VIRUS</th>\n",
       "      <td>5</td>\n",
       "      <td>0</td>\n",
       "      <td>5</td>\n",
       "      <td>5</td>\n",
       "      <td>5</td>\n",
       "      <td>5</td>\n",
       "      <td>5</td>\n",
       "      <td>5</td>\n",
       "      <td>5</td>\n",
       "      <td>5</td>\n",
       "      <td>5</td>\n",
       "      <td>5</td>\n",
       "      <td>0</td>\n",
       "      <td>5</td>\n",
       "      <td>5</td>\n",
       "      <td>5</td>\n",
       "      <td>0</td>\n",
       "      <td>0</td>\n",
       "    </tr>\n",
       "  </tbody>\n",
       "</table>\n",
       "</div>"
      ],
      "text/plain": [
       "           HMP ID  GOLD ID  Organism Name  NCBI Superkingdom  \\\n",
       "Domain                                                         \n",
       "ARCHAEAL        2        2              2                  2   \n",
       "BACTERIAL    1541     1487           1541               1440   \n",
       "EUKARYAL        4        4              4                  4   \n",
       "VIRUS           5        0              5                  5   \n",
       "\n",
       "           HMP Isolation Body Site  Project Status  Current Finishing Level  \\\n",
       "Domain                                                                        \n",
       "ARCHAEAL                         2               2                        2   \n",
       "BACTERIAL                     1541            1541                     1541   \n",
       "EUKARYAL                         4               4                        4   \n",
       "VIRUS                            5               5                        5   \n",
       "\n",
       "           NCBI Submission Status  NCBI Project ID  Genbank ID  Gene Count  \\\n",
       "Domain                                                                       \n",
       "ARCHAEAL                        2                2           2           2   \n",
       "BACTERIAL                    1541             1541        1541        1541   \n",
       "EUKARYAL                        4                4           4           4   \n",
       "VIRUS                           5                5           5           5   \n",
       "\n",
       "           IMG/HMP ID  HOMD ID  Sequencing Center  Funding Source  \\\n",
       "Domain                                                              \n",
       "ARCHAEAL            2        0                  2               2   \n",
       "BACTERIAL        1541      386               1541            1541   \n",
       "EUKARYAL            4        0                  4               4   \n",
       "VIRUS               5        0                  5               5   \n",
       "\n",
       "           Strain Repository ID  Unnamed: 17  Unnamed: 18  \n",
       "Domain                                                     \n",
       "ARCHAEAL                      2            0            0  \n",
       "BACTERIAL                  1247            0            0  \n",
       "EUKARYAL                      2            0            0  \n",
       "VIRUS                         5            0            0  "
      ]
     },
     "execution_count": 12,
     "metadata": {},
     "output_type": "execute_result"
    }
   ],
   "source": [
    "micro.groupby('Domain').count()"
   ]
  },
  {
   "cell_type": "code",
   "execution_count": 13,
   "id": "d965bce5",
   "metadata": {
    "ExecuteTime": {
     "end_time": "2024-02-19T05:18:45.563905Z",
     "start_time": "2024-02-19T05:18:42.664026Z"
    },
    "scrolled": false
   },
   "outputs": [
    {
     "data": {
      "text/html": [
       "<div>\n",
       "<style scoped>\n",
       "    .dataframe tbody tr th:only-of-type {\n",
       "        vertical-align: middle;\n",
       "    }\n",
       "\n",
       "    .dataframe tbody tr th {\n",
       "        vertical-align: top;\n",
       "    }\n",
       "\n",
       "    .dataframe thead th {\n",
       "        text-align: right;\n",
       "    }\n",
       "</style>\n",
       "<table border=\"1\" class=\"dataframe\">\n",
       "  <thead>\n",
       "    <tr style=\"text-align: right;\">\n",
       "      <th></th>\n",
       "      <th>HMP ID</th>\n",
       "      <th>GOLD ID</th>\n",
       "      <th>Organism Name</th>\n",
       "      <th>Domain</th>\n",
       "      <th>HMP Isolation Body Site</th>\n",
       "      <th>Project Status</th>\n",
       "      <th>Current Finishing Level</th>\n",
       "      <th>NCBI Submission Status</th>\n",
       "      <th>NCBI Project ID</th>\n",
       "      <th>Genbank ID</th>\n",
       "      <th>Gene Count</th>\n",
       "      <th>IMG/HMP ID</th>\n",
       "      <th>HOMD ID</th>\n",
       "      <th>Sequencing Center</th>\n",
       "      <th>Funding Source</th>\n",
       "      <th>Strain Repository ID</th>\n",
       "      <th>Unnamed: 17</th>\n",
       "      <th>Unnamed: 18</th>\n",
       "    </tr>\n",
       "    <tr>\n",
       "      <th>NCBI Superkingdom</th>\n",
       "      <th></th>\n",
       "      <th></th>\n",
       "      <th></th>\n",
       "      <th></th>\n",
       "      <th></th>\n",
       "      <th></th>\n",
       "      <th></th>\n",
       "      <th></th>\n",
       "      <th></th>\n",
       "      <th></th>\n",
       "      <th></th>\n",
       "      <th></th>\n",
       "      <th></th>\n",
       "      <th></th>\n",
       "      <th></th>\n",
       "      <th></th>\n",
       "      <th></th>\n",
       "      <th></th>\n",
       "    </tr>\n",
       "  </thead>\n",
       "  <tbody>\n",
       "    <tr>\n",
       "      <th>Archaea</th>\n",
       "      <td>2</td>\n",
       "      <td>2</td>\n",
       "      <td>2</td>\n",
       "      <td>2</td>\n",
       "      <td>2</td>\n",
       "      <td>2</td>\n",
       "      <td>2</td>\n",
       "      <td>2</td>\n",
       "      <td>2</td>\n",
       "      <td>2</td>\n",
       "      <td>2</td>\n",
       "      <td>2</td>\n",
       "      <td>0</td>\n",
       "      <td>2</td>\n",
       "      <td>2</td>\n",
       "      <td>2</td>\n",
       "      <td>0</td>\n",
       "      <td>0</td>\n",
       "    </tr>\n",
       "    <tr>\n",
       "      <th>Bacteria</th>\n",
       "      <td>1448</td>\n",
       "      <td>1384</td>\n",
       "      <td>1448</td>\n",
       "      <td>1437</td>\n",
       "      <td>1448</td>\n",
       "      <td>1448</td>\n",
       "      <td>1448</td>\n",
       "      <td>1448</td>\n",
       "      <td>1448</td>\n",
       "      <td>1448</td>\n",
       "      <td>1448</td>\n",
       "      <td>1448</td>\n",
       "      <td>374</td>\n",
       "      <td>1448</td>\n",
       "      <td>1448</td>\n",
       "      <td>1192</td>\n",
       "      <td>0</td>\n",
       "      <td>0</td>\n",
       "    </tr>\n",
       "    <tr>\n",
       "      <th>Error!!!</th>\n",
       "      <td>3</td>\n",
       "      <td>3</td>\n",
       "      <td>3</td>\n",
       "      <td>3</td>\n",
       "      <td>3</td>\n",
       "      <td>3</td>\n",
       "      <td>3</td>\n",
       "      <td>3</td>\n",
       "      <td>3</td>\n",
       "      <td>3</td>\n",
       "      <td>3</td>\n",
       "      <td>3</td>\n",
       "      <td>3</td>\n",
       "      <td>3</td>\n",
       "      <td>3</td>\n",
       "      <td>3</td>\n",
       "      <td>0</td>\n",
       "      <td>0</td>\n",
       "    </tr>\n",
       "    <tr>\n",
       "      <th>Eukaryota</th>\n",
       "      <td>4</td>\n",
       "      <td>4</td>\n",
       "      <td>4</td>\n",
       "      <td>4</td>\n",
       "      <td>4</td>\n",
       "      <td>4</td>\n",
       "      <td>4</td>\n",
       "      <td>4</td>\n",
       "      <td>4</td>\n",
       "      <td>4</td>\n",
       "      <td>4</td>\n",
       "      <td>4</td>\n",
       "      <td>0</td>\n",
       "      <td>4</td>\n",
       "      <td>4</td>\n",
       "      <td>2</td>\n",
       "      <td>0</td>\n",
       "      <td>0</td>\n",
       "    </tr>\n",
       "    <tr>\n",
       "      <th>Viruses</th>\n",
       "      <td>5</td>\n",
       "      <td>0</td>\n",
       "      <td>5</td>\n",
       "      <td>5</td>\n",
       "      <td>5</td>\n",
       "      <td>5</td>\n",
       "      <td>5</td>\n",
       "      <td>5</td>\n",
       "      <td>5</td>\n",
       "      <td>5</td>\n",
       "      <td>5</td>\n",
       "      <td>5</td>\n",
       "      <td>0</td>\n",
       "      <td>5</td>\n",
       "      <td>5</td>\n",
       "      <td>5</td>\n",
       "      <td>0</td>\n",
       "      <td>0</td>\n",
       "    </tr>\n",
       "  </tbody>\n",
       "</table>\n",
       "</div>"
      ],
      "text/plain": [
       "                   HMP ID  GOLD ID  Organism Name  Domain  \\\n",
       "NCBI Superkingdom                                           \n",
       "Archaea                 2        2              2       2   \n",
       "Bacteria             1448     1384           1448    1437   \n",
       "Error!!!                3        3              3       3   \n",
       "Eukaryota               4        4              4       4   \n",
       "Viruses                 5        0              5       5   \n",
       "\n",
       "                   HMP Isolation Body Site  Project Status  \\\n",
       "NCBI Superkingdom                                            \n",
       "Archaea                                  2               2   \n",
       "Bacteria                              1448            1448   \n",
       "Error!!!                                 3               3   \n",
       "Eukaryota                                4               4   \n",
       "Viruses                                  5               5   \n",
       "\n",
       "                   Current Finishing Level  NCBI Submission Status  \\\n",
       "NCBI Superkingdom                                                    \n",
       "Archaea                                  2                       2   \n",
       "Bacteria                              1448                    1448   \n",
       "Error!!!                                 3                       3   \n",
       "Eukaryota                                4                       4   \n",
       "Viruses                                  5                       5   \n",
       "\n",
       "                   NCBI Project ID  Genbank ID  Gene Count  IMG/HMP ID  \\\n",
       "NCBI Superkingdom                                                        \n",
       "Archaea                          2           2           2           2   \n",
       "Bacteria                      1448        1448        1448        1448   \n",
       "Error!!!                         3           3           3           3   \n",
       "Eukaryota                        4           4           4           4   \n",
       "Viruses                          5           5           5           5   \n",
       "\n",
       "                   HOMD ID  Sequencing Center  Funding Source  \\\n",
       "NCBI Superkingdom                                               \n",
       "Archaea                  0                  2               2   \n",
       "Bacteria               374               1448            1448   \n",
       "Error!!!                 3                  3               3   \n",
       "Eukaryota                0                  4               4   \n",
       "Viruses                  0                  5               5   \n",
       "\n",
       "                   Strain Repository ID  Unnamed: 17  Unnamed: 18  \n",
       "NCBI Superkingdom                                                  \n",
       "Archaea                               2            0            0  \n",
       "Bacteria                           1192            0            0  \n",
       "Error!!!                              3            0            0  \n",
       "Eukaryota                             2            0            0  \n",
       "Viruses                               5            0            0  "
      ]
     },
     "execution_count": 13,
     "metadata": {},
     "output_type": "execute_result"
    }
   ],
   "source": [
    "micro.groupby('NCBI Superkingdom').count()"
   ]
  },
  {
   "cell_type": "markdown",
   "id": "52aa2f50",
   "metadata": {},
   "source": [
    "There is an \"Error!!!\" value for Superkingdom, so that's nice to be able to see exactly what I should replace. I'll start by checking those values specfically."
   ]
  },
  {
   "cell_type": "code",
   "execution_count": 14,
   "id": "5c4d1b74",
   "metadata": {
    "ExecuteTime": {
     "end_time": "2024-02-19T05:18:45.613285Z",
     "start_time": "2024-02-19T05:18:42.677624Z"
    },
    "scrolled": false
   },
   "outputs": [
    {
     "data": {
      "text/html": [
       "<div>\n",
       "<style scoped>\n",
       "    .dataframe tbody tr th:only-of-type {\n",
       "        vertical-align: middle;\n",
       "    }\n",
       "\n",
       "    .dataframe tbody tr th {\n",
       "        vertical-align: top;\n",
       "    }\n",
       "\n",
       "    .dataframe thead th {\n",
       "        text-align: right;\n",
       "    }\n",
       "</style>\n",
       "<table border=\"1\" class=\"dataframe\">\n",
       "  <thead>\n",
       "    <tr style=\"text-align: right;\">\n",
       "      <th></th>\n",
       "      <th>HMP ID</th>\n",
       "      <th>GOLD ID</th>\n",
       "      <th>Organism Name</th>\n",
       "      <th>Domain</th>\n",
       "      <th>NCBI Superkingdom</th>\n",
       "      <th>HMP Isolation Body Site</th>\n",
       "      <th>Project Status</th>\n",
       "      <th>Current Finishing Level</th>\n",
       "      <th>NCBI Submission Status</th>\n",
       "      <th>NCBI Project ID</th>\n",
       "      <th>Genbank ID</th>\n",
       "      <th>Gene Count</th>\n",
       "      <th>IMG/HMP ID</th>\n",
       "      <th>HOMD ID</th>\n",
       "      <th>Sequencing Center</th>\n",
       "      <th>Funding Source</th>\n",
       "      <th>Strain Repository ID</th>\n",
       "      <th>Unnamed: 17</th>\n",
       "      <th>Unnamed: 18</th>\n",
       "    </tr>\n",
       "  </thead>\n",
       "  <tbody>\n",
       "    <tr>\n",
       "      <th>2478</th>\n",
       "      <td>9176</td>\n",
       "      <td>Gi05045</td>\n",
       "      <td>Streptococcus downei F0415</td>\n",
       "      <td>BACTERIAL</td>\n",
       "      <td>Error!!!</td>\n",
       "      <td>oral</td>\n",
       "      <td>Complete</td>\n",
       "      <td>Level 2: High-Quality Draft</td>\n",
       "      <td>6. annotation (and sequence) public on NCBI site</td>\n",
       "      <td>53567</td>\n",
       "      <td>AEKN00000000</td>\n",
       "      <td>2204</td>\n",
       "      <td>649990005</td>\n",
       "      <td>HOMD: tax_594</td>\n",
       "      <td>J. Craig Venter Institute</td>\n",
       "      <td>NIH-HMP Jumpstart Supplement</td>\n",
       "      <td>BEI HM-475</td>\n",
       "      <td>NaN</td>\n",
       "      <td>NaN</td>\n",
       "    </tr>\n",
       "    <tr>\n",
       "      <th>2481</th>\n",
       "      <td>9180</td>\n",
       "      <td>Gi05049</td>\n",
       "      <td>Streptococcus peroris ATCC 700780</td>\n",
       "      <td>BACTERIAL</td>\n",
       "      <td>Error!!!</td>\n",
       "      <td>oral</td>\n",
       "      <td>Complete</td>\n",
       "      <td>Level 2: High-Quality Draft</td>\n",
       "      <td>6. annotation (and sequence) public on NCBI site</td>\n",
       "      <td>53059</td>\n",
       "      <td>AEVF00000000</td>\n",
       "      <td>1638</td>\n",
       "      <td>649990011</td>\n",
       "      <td>HOMD: tax_728</td>\n",
       "      <td>Baylor College of Medicine</td>\n",
       "      <td>NIH-HMP</td>\n",
       "      <td>ATCC 700780</td>\n",
       "      <td>NaN</td>\n",
       "      <td>NaN</td>\n",
       "    </tr>\n",
       "    <tr>\n",
       "      <th>2487</th>\n",
       "      <td>9192</td>\n",
       "      <td>Gi05061</td>\n",
       "      <td>Streptococcus vestibularis F0396</td>\n",
       "      <td>BACTERIAL</td>\n",
       "      <td>Error!!!</td>\n",
       "      <td>oral</td>\n",
       "      <td>Complete</td>\n",
       "      <td>Level 2: High-Quality Draft</td>\n",
       "      <td>6. annotation (and sequence) public on NCBI site</td>\n",
       "      <td>53573</td>\n",
       "      <td>AEKO00000000</td>\n",
       "      <td>1979</td>\n",
       "      <td>649990017</td>\n",
       "      <td>HOMD: tax_21</td>\n",
       "      <td>J. Craig Venter Institute</td>\n",
       "      <td>NIH-NIAID</td>\n",
       "      <td>BEI HM-561</td>\n",
       "      <td>NaN</td>\n",
       "      <td>NaN</td>\n",
       "    </tr>\n",
       "  </tbody>\n",
       "</table>\n",
       "</div>"
      ],
      "text/plain": [
       "      HMP ID  GOLD ID                      Organism Name     Domain  \\\n",
       "2478    9176  Gi05045         Streptococcus downei F0415  BACTERIAL   \n",
       "2481    9180  Gi05049  Streptococcus peroris ATCC 700780  BACTERIAL   \n",
       "2487    9192  Gi05061   Streptococcus vestibularis F0396  BACTERIAL   \n",
       "\n",
       "     NCBI Superkingdom HMP Isolation Body Site Project Status  \\\n",
       "2478          Error!!!                    oral       Complete   \n",
       "2481          Error!!!                    oral       Complete   \n",
       "2487          Error!!!                    oral       Complete   \n",
       "\n",
       "          Current Finishing Level  \\\n",
       "2478  Level 2: High-Quality Draft   \n",
       "2481  Level 2: High-Quality Draft   \n",
       "2487  Level 2: High-Quality Draft   \n",
       "\n",
       "                                NCBI Submission Status  NCBI Project ID  \\\n",
       "2478  6. annotation (and sequence) public on NCBI site            53567   \n",
       "2481  6. annotation (and sequence) public on NCBI site            53059   \n",
       "2487  6. annotation (and sequence) public on NCBI site            53573   \n",
       "\n",
       "        Genbank ID  Gene Count  IMG/HMP ID        HOMD ID  \\\n",
       "2478  AEKN00000000        2204   649990005  HOMD: tax_594   \n",
       "2481  AEVF00000000        1638   649990011  HOMD: tax_728   \n",
       "2487  AEKO00000000        1979   649990017   HOMD: tax_21   \n",
       "\n",
       "               Sequencing Center                Funding Source  \\\n",
       "2478   J. Craig Venter Institute  NIH-HMP Jumpstart Supplement   \n",
       "2481  Baylor College of Medicine                       NIH-HMP   \n",
       "2487   J. Craig Venter Institute                     NIH-NIAID   \n",
       "\n",
       "     Strain Repository ID  Unnamed: 17  Unnamed: 18  \n",
       "2478           BEI HM-475          NaN          NaN  \n",
       "2481          ATCC 700780          NaN          NaN  \n",
       "2487           BEI HM-561          NaN          NaN  "
      ]
     },
     "execution_count": 14,
     "metadata": {},
     "output_type": "execute_result"
    }
   ],
   "source": [
    "micro[micro['NCBI Superkingdom']=='Error!!!']"
   ]
  },
  {
   "cell_type": "markdown",
   "id": "7b50ccdd",
   "metadata": {},
   "source": [
    "All three are in the Bacterial domain, so I can replace their values with \"Bacteria\""
   ]
  },
  {
   "cell_type": "code",
   "execution_count": 15,
   "id": "24151db2",
   "metadata": {
    "ExecuteTime": {
     "end_time": "2024-02-19T05:18:45.613657Z",
     "start_time": "2024-02-19T05:18:42.695185Z"
    }
   },
   "outputs": [],
   "source": [
    "micro['NCBI Superkingdom'].replace('Error!!!', 'Bacteria', inplace=True)"
   ]
  },
  {
   "cell_type": "markdown",
   "id": "da55e6c3",
   "metadata": {},
   "source": [
    "I can infer the Domain based on the Superkingdom and vice versa, but I can't use any values where both are missing, so I'll check those."
   ]
  },
  {
   "cell_type": "code",
   "execution_count": 16,
   "id": "08cfeefc",
   "metadata": {
    "ExecuteTime": {
     "end_time": "2024-02-19T05:18:45.613928Z",
     "start_time": "2024-02-19T05:18:42.705524Z"
    }
   },
   "outputs": [
    {
     "data": {
      "text/plain": [
       "16"
      ]
     },
     "execution_count": 16,
     "metadata": {},
     "output_type": "execute_result"
    }
   ],
   "source": [
    "len(micro.loc[micro['Domain'].isnull()& micro['NCBI Superkingdom'].isnull()])"
   ]
  },
  {
   "cell_type": "markdown",
   "id": "3573b849",
   "metadata": {},
   "source": [
    "There are 16 values that have both missing so I'm going to drop those."
   ]
  },
  {
   "cell_type": "code",
   "execution_count": 17,
   "id": "5ea9e955",
   "metadata": {
    "ExecuteTime": {
     "end_time": "2024-02-19T05:18:45.745919Z",
     "start_time": "2024-02-19T05:18:42.712630Z"
    },
    "scrolled": false
   },
   "outputs": [
    {
     "data": {
      "text/plain": [
       "(1563, 19)"
      ]
     },
     "execution_count": 17,
     "metadata": {},
     "output_type": "execute_result"
    }
   ],
   "source": [
    "micro=micro.drop(micro[(micro['Domain'].isnull()) & (micro['NCBI Superkingdom'].isnull())].index)\n",
    "micro.shape"
   ]
  },
  {
   "cell_type": "markdown",
   "id": "6ecebe5b",
   "metadata": {},
   "source": [
    "In order to replace the other values, I'm going to transform them to NaN first."
   ]
  },
  {
   "cell_type": "code",
   "execution_count": 18,
   "id": "5442251e",
   "metadata": {
    "ExecuteTime": {
     "end_time": "2024-02-19T05:18:45.746174Z",
     "start_time": "2024-02-19T05:18:42.718715Z"
    }
   },
   "outputs": [],
   "source": [
    "micro['NCBI Superkingdom'].fillna('NaN', inplace=True)"
   ]
  },
  {
   "cell_type": "code",
   "execution_count": 19,
   "id": "eda2628d",
   "metadata": {
    "ExecuteTime": {
     "end_time": "2024-02-19T05:18:45.746399Z",
     "start_time": "2024-02-19T05:18:42.723739Z"
    },
    "scrolled": true
   },
   "outputs": [
    {
     "data": {
      "text/plain": [
       "NCBI Superkingdom\n",
       "False    1462\n",
       "True      101\n",
       "Name: count, dtype: int64"
      ]
     },
     "execution_count": 19,
     "metadata": {},
     "output_type": "execute_result"
    }
   ],
   "source": [
    "(micro['NCBI Superkingdom'] == \"NaN\").value_counts()"
   ]
  },
  {
   "cell_type": "code",
   "execution_count": 20,
   "id": "6d09656e",
   "metadata": {
    "ExecuteTime": {
     "end_time": "2024-02-19T05:18:45.746482Z",
     "start_time": "2024-02-19T05:18:42.739614Z"
    }
   },
   "outputs": [],
   "source": [
    "micro['Domain'].fillna('NaN', inplace=True)"
   ]
  },
  {
   "cell_type": "code",
   "execution_count": 21,
   "id": "5824f423",
   "metadata": {
    "ExecuteTime": {
     "end_time": "2024-02-19T05:18:45.746651Z",
     "start_time": "2024-02-19T05:18:42.743887Z"
    },
    "scrolled": false
   },
   "outputs": [
    {
     "data": {
      "text/plain": [
       "Domain\n",
       "False    1552\n",
       "True       11\n",
       "Name: count, dtype: int64"
      ]
     },
     "execution_count": 21,
     "metadata": {},
     "output_type": "execute_result"
    }
   ],
   "source": [
    "#check value counts\n",
    "(micro['Domain'] == \"NaN\").value_counts()"
   ]
  },
  {
   "cell_type": "markdown",
   "id": "26686d01",
   "metadata": {},
   "source": [
    "I'm going to replace all of the Domain values with their relative Superkingdom name where applicable using pandas transform function."
   ]
  },
  {
   "cell_type": "code",
   "execution_count": 22,
   "id": "b34a022b",
   "metadata": {
    "ExecuteTime": {
     "end_time": "2024-02-19T05:18:45.746726Z",
     "start_time": "2024-02-19T05:18:42.749425Z"
    }
   },
   "outputs": [],
   "source": [
    "#make dataframe containing only rows with NaN in Domain or Superkingdom\n",
    "micro_null = micro[(micro['Domain'] == \"NaN\") | (micro['NCBI Superkingdom'] == \"NaN\")]"
   ]
  },
  {
   "cell_type": "code",
   "execution_count": 23,
   "id": "9293b63e",
   "metadata": {
    "ExecuteTime": {
     "end_time": "2024-02-19T05:18:45.795309Z",
     "start_time": "2024-02-19T05:18:42.757862Z"
    },
    "scrolled": true
   },
   "outputs": [
    {
     "data": {
      "text/html": [
       "<div>\n",
       "<style scoped>\n",
       "    .dataframe tbody tr th:only-of-type {\n",
       "        vertical-align: middle;\n",
       "    }\n",
       "\n",
       "    .dataframe tbody tr th {\n",
       "        vertical-align: top;\n",
       "    }\n",
       "\n",
       "    .dataframe thead th {\n",
       "        text-align: right;\n",
       "    }\n",
       "</style>\n",
       "<table border=\"1\" class=\"dataframe\">\n",
       "  <thead>\n",
       "    <tr style=\"text-align: right;\">\n",
       "      <th></th>\n",
       "      <th>HMP ID</th>\n",
       "      <th>GOLD ID</th>\n",
       "      <th>Organism Name</th>\n",
       "      <th>Domain</th>\n",
       "      <th>NCBI Superkingdom</th>\n",
       "      <th>HMP Isolation Body Site</th>\n",
       "      <th>Project Status</th>\n",
       "      <th>Current Finishing Level</th>\n",
       "      <th>NCBI Submission Status</th>\n",
       "      <th>NCBI Project ID</th>\n",
       "      <th>Genbank ID</th>\n",
       "      <th>Gene Count</th>\n",
       "      <th>IMG/HMP ID</th>\n",
       "      <th>HOMD ID</th>\n",
       "      <th>Sequencing Center</th>\n",
       "      <th>Funding Source</th>\n",
       "      <th>Strain Repository ID</th>\n",
       "      <th>Unnamed: 17</th>\n",
       "      <th>Unnamed: 18</th>\n",
       "    </tr>\n",
       "  </thead>\n",
       "  <tbody>\n",
       "    <tr>\n",
       "      <th>1314</th>\n",
       "      <td>1978</td>\n",
       "      <td>NaN</td>\n",
       "      <td>Actinomyces graevenitzii F0530</td>\n",
       "      <td>NaN</td>\n",
       "      <td>Bacteria</td>\n",
       "      <td>oral</td>\n",
       "      <td>Complete</td>\n",
       "      <td>Level 2: High-Quality Draft</td>\n",
       "      <td>6. annotation (and sequence) public on NCBI site</td>\n",
       "      <td>198881</td>\n",
       "      <td>AWSC01000000</td>\n",
       "      <td>1897</td>\n",
       "      <td>0</td>\n",
       "      <td>NaN</td>\n",
       "      <td>Washington University Genome Sequencing Center</td>\n",
       "      <td>NIH-HMP Sequencing Center</td>\n",
       "      <td>BEI HM-1132</td>\n",
       "      <td>NaN</td>\n",
       "      <td>NaN</td>\n",
       "    </tr>\n",
       "    <tr>\n",
       "      <th>1463</th>\n",
       "      <td>2128</td>\n",
       "      <td>NaN</td>\n",
       "      <td>Arthrobacter albus DNF00011</td>\n",
       "      <td>NaN</td>\n",
       "      <td>Bacteria</td>\n",
       "      <td>urogenital_tract</td>\n",
       "      <td>Complete</td>\n",
       "      <td>Level 2: High-Quality Draft</td>\n",
       "      <td>6. annotation (and sequence) public on NCBI site</td>\n",
       "      <td>219659</td>\n",
       "      <td>JRNH00000000</td>\n",
       "      <td>1596</td>\n",
       "      <td>0</td>\n",
       "      <td>NaN</td>\n",
       "      <td>J. Craig Venter Institute</td>\n",
       "      <td>NIH-HMP</td>\n",
       "      <td>BEI HM-1152</td>\n",
       "      <td>NaN</td>\n",
       "      <td>NaN</td>\n",
       "    </tr>\n",
       "    <tr>\n",
       "      <th>1464</th>\n",
       "      <td>2129</td>\n",
       "      <td>NaN</td>\n",
       "      <td>Corynebacterium tuscaniense DNF00037</td>\n",
       "      <td>NaN</td>\n",
       "      <td>Bacteria</td>\n",
       "      <td>urogenital_tract</td>\n",
       "      <td>Complete</td>\n",
       "      <td>Level 2: High-Quality Draft</td>\n",
       "      <td>6. annotation (and sequence) public on NCBI site</td>\n",
       "      <td>219660</td>\n",
       "      <td>JRNG00000000</td>\n",
       "      <td>1792</td>\n",
       "      <td>0</td>\n",
       "      <td>NaN</td>\n",
       "      <td>J. Craig Venter Institute</td>\n",
       "      <td>NIH-HMP</td>\n",
       "      <td>BEI HM-1153</td>\n",
       "      <td>NaN</td>\n",
       "      <td>NaN</td>\n",
       "    </tr>\n",
       "    <tr>\n",
       "      <th>1465</th>\n",
       "      <td>2130</td>\n",
       "      <td>NaN</td>\n",
       "      <td>Oligella urethralis DNF00040</td>\n",
       "      <td>NaN</td>\n",
       "      <td>Bacteria</td>\n",
       "      <td>urogenital_tract</td>\n",
       "      <td>Complete</td>\n",
       "      <td>Level 2: High-Quality Draft</td>\n",
       "      <td>6. annotation (and sequence) public on NCBI site</td>\n",
       "      <td>219661</td>\n",
       "      <td>JRNI00000000</td>\n",
       "      <td>2118</td>\n",
       "      <td>0</td>\n",
       "      <td>NaN</td>\n",
       "      <td>J. Craig Venter Institute</td>\n",
       "      <td>NIH-HMP</td>\n",
       "      <td>BEI HM-1154</td>\n",
       "      <td>NaN</td>\n",
       "      <td>NaN</td>\n",
       "    </tr>\n",
       "    <tr>\n",
       "      <th>1467</th>\n",
       "      <td>2132</td>\n",
       "      <td>NaN</td>\n",
       "      <td>Prevotella histicola JCM 15637 = DNF00424</td>\n",
       "      <td>NaN</td>\n",
       "      <td>Bacteria</td>\n",
       "      <td>urogenital_tract</td>\n",
       "      <td>Complete</td>\n",
       "      <td>Level 2: High-Quality Draft</td>\n",
       "      <td>6. annotation (and sequence) public on NCBI site</td>\n",
       "      <td>219666</td>\n",
       "      <td>JRNJ00000000</td>\n",
       "      <td>2358</td>\n",
       "      <td>0</td>\n",
       "      <td>NaN</td>\n",
       "      <td>J. Craig Venter Institute</td>\n",
       "      <td>NIH-HMP</td>\n",
       "      <td>BEI Processing</td>\n",
       "      <td>NaN</td>\n",
       "      <td>NaN</td>\n",
       "    </tr>\n",
       "    <tr>\n",
       "      <th>1469</th>\n",
       "      <td>2134</td>\n",
       "      <td>NaN</td>\n",
       "      <td>Peptoniphilus lacrimalis DNF00528</td>\n",
       "      <td>NaN</td>\n",
       "      <td>Bacteria</td>\n",
       "      <td>urogenital_tract</td>\n",
       "      <td>Complete</td>\n",
       "      <td>Level 2: High-Quality Draft</td>\n",
       "      <td>6. annotation (and sequence) public on NCBI site</td>\n",
       "      <td>219668</td>\n",
       "      <td>JRNL00000000</td>\n",
       "      <td>3237</td>\n",
       "      <td>0</td>\n",
       "      <td>NaN</td>\n",
       "      <td>J. Craig Venter Institute</td>\n",
       "      <td>NIH-HMP</td>\n",
       "      <td>BEI HM-1161</td>\n",
       "      <td>NaN</td>\n",
       "      <td>NaN</td>\n",
       "    </tr>\n",
       "    <tr>\n",
       "      <th>1470</th>\n",
       "      <td>2135</td>\n",
       "      <td>NaN</td>\n",
       "      <td>Staphylococcus haemolyticus DNF00585</td>\n",
       "      <td>NaN</td>\n",
       "      <td>Bacteria</td>\n",
       "      <td>urogenital_tract</td>\n",
       "      <td>Complete</td>\n",
       "      <td>Level 2: High-Quality Draft</td>\n",
       "      <td>6. annotation (and sequence) public on NCBI site</td>\n",
       "      <td>219669</td>\n",
       "      <td>JRNK00000000</td>\n",
       "      <td>2173</td>\n",
       "      <td>0</td>\n",
       "      <td>NaN</td>\n",
       "      <td>J. Craig Venter Institute</td>\n",
       "      <td>NIH-HMP</td>\n",
       "      <td>BEI HM-1164</td>\n",
       "      <td>NaN</td>\n",
       "      <td>NaN</td>\n",
       "    </tr>\n",
       "    <tr>\n",
       "      <th>1471</th>\n",
       "      <td>2136</td>\n",
       "      <td>NaN</td>\n",
       "      <td>Prevotella bivia DNF00650</td>\n",
       "      <td>NaN</td>\n",
       "      <td>Bacteria</td>\n",
       "      <td>urogenital_tract</td>\n",
       "      <td>Complete</td>\n",
       "      <td>Level 2: High-Quality Draft</td>\n",
       "      <td>6. annotation (and sequence) public on NCBI site</td>\n",
       "      <td>219670</td>\n",
       "      <td>JRNM00000000</td>\n",
       "      <td>1973</td>\n",
       "      <td>0</td>\n",
       "      <td>NaN</td>\n",
       "      <td>J. Craig Venter Institute</td>\n",
       "      <td>NIH-HMP</td>\n",
       "      <td>BEI HM-1165</td>\n",
       "      <td>NaN</td>\n",
       "      <td>NaN</td>\n",
       "    </tr>\n",
       "    <tr>\n",
       "      <th>1472</th>\n",
       "      <td>2137</td>\n",
       "      <td>NaN</td>\n",
       "      <td>Prevotella buccalis DNF00853</td>\n",
       "      <td>NaN</td>\n",
       "      <td>Bacteria</td>\n",
       "      <td>urogenital_tract</td>\n",
       "      <td>Complete</td>\n",
       "      <td>Level 2: High-Quality Draft</td>\n",
       "      <td>6. annotation (and sequence) public on NCBI site</td>\n",
       "      <td>219672</td>\n",
       "      <td>JRNN00000000</td>\n",
       "      <td>2232</td>\n",
       "      <td>0</td>\n",
       "      <td>NaN</td>\n",
       "      <td>J. Craig Venter Institute</td>\n",
       "      <td>NIH-HMP</td>\n",
       "      <td>BEI HM-1169</td>\n",
       "      <td>NaN</td>\n",
       "      <td>NaN</td>\n",
       "    </tr>\n",
       "    <tr>\n",
       "      <th>1474</th>\n",
       "      <td>2139</td>\n",
       "      <td>NaN</td>\n",
       "      <td>Prevotella denticola DNF00960</td>\n",
       "      <td>NaN</td>\n",
       "      <td>Bacteria</td>\n",
       "      <td>urogenital_tract</td>\n",
       "      <td>Complete</td>\n",
       "      <td>Level 2: High-Quality Draft</td>\n",
       "      <td>6. annotation (and sequence) public on NCBI site</td>\n",
       "      <td>219676</td>\n",
       "      <td>JRNO00000000</td>\n",
       "      <td>2355</td>\n",
       "      <td>0</td>\n",
       "      <td>NaN</td>\n",
       "      <td>J. Craig Venter Institute</td>\n",
       "      <td>NIH-HMP</td>\n",
       "      <td>BEI HM-1173</td>\n",
       "      <td>NaN</td>\n",
       "      <td>NaN</td>\n",
       "    </tr>\n",
       "    <tr>\n",
       "      <th>1475</th>\n",
       "      <td>2140</td>\n",
       "      <td>NaN</td>\n",
       "      <td>Prevotella buccalis DNF00985</td>\n",
       "      <td>NaN</td>\n",
       "      <td>Bacteria</td>\n",
       "      <td>urogenital_tract</td>\n",
       "      <td>Complete</td>\n",
       "      <td>Level 2: High-Quality Draft</td>\n",
       "      <td>6. annotation (and sequence) public on NCBI site</td>\n",
       "      <td>219677</td>\n",
       "      <td>JRNP00000000</td>\n",
       "      <td>2062</td>\n",
       "      <td>0</td>\n",
       "      <td>NaN</td>\n",
       "      <td>J. Craig Venter Institute</td>\n",
       "      <td>NIH-HMP</td>\n",
       "      <td>BEI HM-1174</td>\n",
       "      <td>NaN</td>\n",
       "      <td>NaN</td>\n",
       "    </tr>\n",
       "  </tbody>\n",
       "</table>\n",
       "</div>"
      ],
      "text/plain": [
       "      HMP ID GOLD ID                              Organism Name Domain  \\\n",
       "1314    1978     NaN             Actinomyces graevenitzii F0530    NaN   \n",
       "1463    2128     NaN                Arthrobacter albus DNF00011    NaN   \n",
       "1464    2129     NaN       Corynebacterium tuscaniense DNF00037    NaN   \n",
       "1465    2130     NaN               Oligella urethralis DNF00040    NaN   \n",
       "1467    2132     NaN  Prevotella histicola JCM 15637 = DNF00424    NaN   \n",
       "1469    2134     NaN          Peptoniphilus lacrimalis DNF00528    NaN   \n",
       "1470    2135     NaN       Staphylococcus haemolyticus DNF00585    NaN   \n",
       "1471    2136     NaN                  Prevotella bivia DNF00650    NaN   \n",
       "1472    2137     NaN               Prevotella buccalis DNF00853    NaN   \n",
       "1474    2139     NaN              Prevotella denticola DNF00960    NaN   \n",
       "1475    2140     NaN               Prevotella buccalis DNF00985    NaN   \n",
       "\n",
       "     NCBI Superkingdom HMP Isolation Body Site Project Status  \\\n",
       "1314          Bacteria                    oral       Complete   \n",
       "1463          Bacteria        urogenital_tract       Complete   \n",
       "1464          Bacteria        urogenital_tract       Complete   \n",
       "1465          Bacteria        urogenital_tract       Complete   \n",
       "1467          Bacteria        urogenital_tract       Complete   \n",
       "1469          Bacteria        urogenital_tract       Complete   \n",
       "1470          Bacteria        urogenital_tract       Complete   \n",
       "1471          Bacteria        urogenital_tract       Complete   \n",
       "1472          Bacteria        urogenital_tract       Complete   \n",
       "1474          Bacteria        urogenital_tract       Complete   \n",
       "1475          Bacteria        urogenital_tract       Complete   \n",
       "\n",
       "          Current Finishing Level  \\\n",
       "1314  Level 2: High-Quality Draft   \n",
       "1463  Level 2: High-Quality Draft   \n",
       "1464  Level 2: High-Quality Draft   \n",
       "1465  Level 2: High-Quality Draft   \n",
       "1467  Level 2: High-Quality Draft   \n",
       "1469  Level 2: High-Quality Draft   \n",
       "1470  Level 2: High-Quality Draft   \n",
       "1471  Level 2: High-Quality Draft   \n",
       "1472  Level 2: High-Quality Draft   \n",
       "1474  Level 2: High-Quality Draft   \n",
       "1475  Level 2: High-Quality Draft   \n",
       "\n",
       "                                NCBI Submission Status  NCBI Project ID  \\\n",
       "1314  6. annotation (and sequence) public on NCBI site           198881   \n",
       "1463  6. annotation (and sequence) public on NCBI site           219659   \n",
       "1464  6. annotation (and sequence) public on NCBI site           219660   \n",
       "1465  6. annotation (and sequence) public on NCBI site           219661   \n",
       "1467  6. annotation (and sequence) public on NCBI site           219666   \n",
       "1469  6. annotation (and sequence) public on NCBI site           219668   \n",
       "1470  6. annotation (and sequence) public on NCBI site           219669   \n",
       "1471  6. annotation (and sequence) public on NCBI site           219670   \n",
       "1472  6. annotation (and sequence) public on NCBI site           219672   \n",
       "1474  6. annotation (and sequence) public on NCBI site           219676   \n",
       "1475  6. annotation (and sequence) public on NCBI site           219677   \n",
       "\n",
       "        Genbank ID  Gene Count  IMG/HMP ID HOMD ID  \\\n",
       "1314  AWSC01000000        1897           0     NaN   \n",
       "1463  JRNH00000000        1596           0     NaN   \n",
       "1464  JRNG00000000        1792           0     NaN   \n",
       "1465  JRNI00000000        2118           0     NaN   \n",
       "1467  JRNJ00000000        2358           0     NaN   \n",
       "1469  JRNL00000000        3237           0     NaN   \n",
       "1470  JRNK00000000        2173           0     NaN   \n",
       "1471  JRNM00000000        1973           0     NaN   \n",
       "1472  JRNN00000000        2232           0     NaN   \n",
       "1474  JRNO00000000        2355           0     NaN   \n",
       "1475  JRNP00000000        2062           0     NaN   \n",
       "\n",
       "                                   Sequencing Center  \\\n",
       "1314  Washington University Genome Sequencing Center   \n",
       "1463                       J. Craig Venter Institute   \n",
       "1464                       J. Craig Venter Institute   \n",
       "1465                       J. Craig Venter Institute   \n",
       "1467                       J. Craig Venter Institute   \n",
       "1469                       J. Craig Venter Institute   \n",
       "1470                       J. Craig Venter Institute   \n",
       "1471                       J. Craig Venter Institute   \n",
       "1472                       J. Craig Venter Institute   \n",
       "1474                       J. Craig Venter Institute   \n",
       "1475                       J. Craig Venter Institute   \n",
       "\n",
       "                 Funding Source Strain Repository ID  Unnamed: 17  Unnamed: 18  \n",
       "1314  NIH-HMP Sequencing Center          BEI HM-1132          NaN          NaN  \n",
       "1463                    NIH-HMP          BEI HM-1152          NaN          NaN  \n",
       "1464                    NIH-HMP          BEI HM-1153          NaN          NaN  \n",
       "1465                    NIH-HMP          BEI HM-1154          NaN          NaN  \n",
       "1467                    NIH-HMP       BEI Processing          NaN          NaN  \n",
       "1469                    NIH-HMP          BEI HM-1161          NaN          NaN  \n",
       "1470                    NIH-HMP          BEI HM-1164          NaN          NaN  \n",
       "1471                    NIH-HMP          BEI HM-1165          NaN          NaN  \n",
       "1472                    NIH-HMP          BEI HM-1169          NaN          NaN  \n",
       "1474                    NIH-HMP          BEI HM-1173          NaN          NaN  \n",
       "1475                    NIH-HMP          BEI HM-1174          NaN          NaN  "
      ]
     },
     "execution_count": 23,
     "metadata": {},
     "output_type": "execute_result"
    }
   ],
   "source": [
    "#See which rows have NaN to compare with their Superkingdom value\n",
    "micro_null.loc[micro_null['Domain'] == \"NaN\"]"
   ]
  },
  {
   "cell_type": "code",
   "execution_count": 24,
   "id": "b6bad749",
   "metadata": {
    "ExecuteTime": {
     "end_time": "2024-02-19T05:18:45.795614Z",
     "start_time": "2024-02-19T05:18:42.763464Z"
    },
    "scrolled": false
   },
   "outputs": [
    {
     "data": {
      "text/plain": [
       "11"
      ]
     },
     "execution_count": 24,
     "metadata": {},
     "output_type": "execute_result"
    }
   ],
   "source": [
    "#count nulls to compare\n",
    "(micro['Domain'] == \"NaN\").sum()"
   ]
  },
  {
   "cell_type": "code",
   "execution_count": 25,
   "id": "41810439",
   "metadata": {
    "ExecuteTime": {
     "end_time": "2024-02-19T05:18:45.796087Z",
     "start_time": "2024-02-19T05:18:42.766825Z"
    },
    "scrolled": true
   },
   "outputs": [
    {
     "data": {
      "text/html": [
       "<div>\n",
       "<style scoped>\n",
       "    .dataframe tbody tr th:only-of-type {\n",
       "        vertical-align: middle;\n",
       "    }\n",
       "\n",
       "    .dataframe tbody tr th {\n",
       "        vertical-align: top;\n",
       "    }\n",
       "\n",
       "    .dataframe thead th {\n",
       "        text-align: right;\n",
       "    }\n",
       "</style>\n",
       "<table border=\"1\" class=\"dataframe\">\n",
       "  <thead>\n",
       "    <tr style=\"text-align: right;\">\n",
       "      <th></th>\n",
       "      <th>HMP ID</th>\n",
       "      <th>GOLD ID</th>\n",
       "      <th>Organism Name</th>\n",
       "      <th>Domain</th>\n",
       "      <th>NCBI Superkingdom</th>\n",
       "      <th>HMP Isolation Body Site</th>\n",
       "      <th>Project Status</th>\n",
       "      <th>Current Finishing Level</th>\n",
       "      <th>NCBI Submission Status</th>\n",
       "      <th>NCBI Project ID</th>\n",
       "      <th>Genbank ID</th>\n",
       "      <th>Gene Count</th>\n",
       "      <th>IMG/HMP ID</th>\n",
       "      <th>HOMD ID</th>\n",
       "      <th>Sequencing Center</th>\n",
       "      <th>Funding Source</th>\n",
       "      <th>Strain Repository ID</th>\n",
       "      <th>Unnamed: 17</th>\n",
       "      <th>Unnamed: 18</th>\n",
       "    </tr>\n",
       "  </thead>\n",
       "  <tbody>\n",
       "    <tr>\n",
       "      <th>0</th>\n",
       "      <td>1</td>\n",
       "      <td>Gi03551</td>\n",
       "      <td>Abiotrophia defectiva ATCC 49176</td>\n",
       "      <td>BACTERIAL</td>\n",
       "      <td>Bacteria</td>\n",
       "      <td>oral</td>\n",
       "      <td>Complete</td>\n",
       "      <td>Level 3: Improved-High-Quality Draft</td>\n",
       "      <td>6. annotation (and sequence) public on NCBI site</td>\n",
       "      <td>33011</td>\n",
       "      <td>ACIN00000000</td>\n",
       "      <td>1950</td>\n",
       "      <td>643886181</td>\n",
       "      <td>HOMD: tax_389</td>\n",
       "      <td>Washington University Genome Sequencing Center</td>\n",
       "      <td>NIH-HMP Jumpstart Supplement</td>\n",
       "      <td>ATCC 49176, CIP 103242</td>\n",
       "      <td>NaN</td>\n",
       "      <td>NaN</td>\n",
       "    </tr>\n",
       "    <tr>\n",
       "      <th>1</th>\n",
       "      <td>4</td>\n",
       "      <td>Gi03555</td>\n",
       "      <td>Achromobacter piechaudii ATCC 43553</td>\n",
       "      <td>BACTERIAL</td>\n",
       "      <td>Bacteria</td>\n",
       "      <td>airways</td>\n",
       "      <td>Complete</td>\n",
       "      <td>Level 2: High-Quality Draft</td>\n",
       "      <td>6. annotation (and sequence) public on NCBI site</td>\n",
       "      <td>46343</td>\n",
       "      <td>ADMS00000000</td>\n",
       "      <td>5755</td>\n",
       "      <td>647000200</td>\n",
       "      <td>NaN</td>\n",
       "      <td>Baylor College of Medicine</td>\n",
       "      <td>NIH-HMP Jumpstart Supplement</td>\n",
       "      <td>ATCC 43553, CIP 55774, LMG 6100</td>\n",
       "      <td>NaN</td>\n",
       "      <td>NaN</td>\n",
       "    </tr>\n",
       "    <tr>\n",
       "      <th>2</th>\n",
       "      <td>5</td>\n",
       "      <td>Gi03554</td>\n",
       "      <td>Achromobacter xylosoxidans C54</td>\n",
       "      <td>BACTERIAL</td>\n",
       "      <td>Bacteria</td>\n",
       "      <td>airways</td>\n",
       "      <td>Complete</td>\n",
       "      <td>Level 5: Non-contiguous Finished</td>\n",
       "      <td>6. annotation (and sequence) public on NCBI site</td>\n",
       "      <td>38739</td>\n",
       "      <td>ACRC00000000</td>\n",
       "      <td>6010</td>\n",
       "      <td>0</td>\n",
       "      <td>HOMD: tax_343</td>\n",
       "      <td>Broad Institute</td>\n",
       "      <td>NIH-HMP Jumpstart Supplement</td>\n",
       "      <td>BEI HM-235</td>\n",
       "      <td>NaN</td>\n",
       "      <td>NaN</td>\n",
       "    </tr>\n",
       "    <tr>\n",
       "      <th>3</th>\n",
       "      <td>10</td>\n",
       "      <td>Gi03422</td>\n",
       "      <td>Acinetobacter baumannii ATCC 19606</td>\n",
       "      <td>BACTERIAL</td>\n",
       "      <td>Bacteria</td>\n",
       "      <td>urogenital_tract</td>\n",
       "      <td>Complete</td>\n",
       "      <td>Level 2: High-Quality Draft</td>\n",
       "      <td>6. annotation (and sequence) public on NCBI site</td>\n",
       "      <td>38509</td>\n",
       "      <td>ACQB00000000</td>\n",
       "      <td>3832</td>\n",
       "      <td>647533101</td>\n",
       "      <td>HOMD: tax_554</td>\n",
       "      <td>Broad Institute</td>\n",
       "      <td>NIH-HMP Jumpstart Supplement</td>\n",
       "      <td>ATCC 19606, DSM 6974</td>\n",
       "      <td>NaN</td>\n",
       "      <td>NaN</td>\n",
       "    </tr>\n",
       "    <tr>\n",
       "      <th>4</th>\n",
       "      <td>12</td>\n",
       "      <td>Gi03421</td>\n",
       "      <td>Acinetobacter calcoaceticus RUH2202</td>\n",
       "      <td>BACTERIAL</td>\n",
       "      <td>Bacteria</td>\n",
       "      <td>skin</td>\n",
       "      <td>Complete</td>\n",
       "      <td>Level 2: High-Quality Draft</td>\n",
       "      <td>6. annotation (and sequence) public on NCBI site</td>\n",
       "      <td>38337</td>\n",
       "      <td>ACPK00000000</td>\n",
       "      <td>3632</td>\n",
       "      <td>646206267</td>\n",
       "      <td>NaN</td>\n",
       "      <td>Broad Institute</td>\n",
       "      <td>NIH-HMP Jumpstart Supplement</td>\n",
       "      <td>LMG 10517</td>\n",
       "      <td>NaN</td>\n",
       "      <td>NaN</td>\n",
       "    </tr>\n",
       "    <tr>\n",
       "      <th>...</th>\n",
       "      <td>...</td>\n",
       "      <td>...</td>\n",
       "      <td>...</td>\n",
       "      <td>...</td>\n",
       "      <td>...</td>\n",
       "      <td>...</td>\n",
       "      <td>...</td>\n",
       "      <td>...</td>\n",
       "      <td>...</td>\n",
       "      <td>...</td>\n",
       "      <td>...</td>\n",
       "      <td>...</td>\n",
       "      <td>...</td>\n",
       "      <td>...</td>\n",
       "      <td>...</td>\n",
       "      <td>...</td>\n",
       "      <td>...</td>\n",
       "      <td>...</td>\n",
       "      <td>...</td>\n",
       "    </tr>\n",
       "    <tr>\n",
       "      <th>2910</th>\n",
       "      <td>9995</td>\n",
       "      <td>Gi08654</td>\n",
       "      <td>Staphylococcus epidermidis NIHLM095</td>\n",
       "      <td>BACTERIAL</td>\n",
       "      <td>Bacteria</td>\n",
       "      <td>unknown</td>\n",
       "      <td>Complete</td>\n",
       "      <td>Level 2: High-Quality Draft</td>\n",
       "      <td>6. annotation (and sequence) public on NCBI site</td>\n",
       "      <td>62345</td>\n",
       "      <td>AKGI00000000</td>\n",
       "      <td>2300</td>\n",
       "      <td>0</td>\n",
       "      <td>NaN</td>\n",
       "      <td>NIH Intramural Sequencing Center (NISC)</td>\n",
       "      <td>NIH-HMP Demo Projects</td>\n",
       "      <td>BEI HM-909</td>\n",
       "      <td>NaN</td>\n",
       "      <td>NaN</td>\n",
       "    </tr>\n",
       "    <tr>\n",
       "      <th>2911</th>\n",
       "      <td>9996</td>\n",
       "      <td>Gi09593</td>\n",
       "      <td>Aggregatibacter actinomycetemcomitans Y4</td>\n",
       "      <td>BACTERIAL</td>\n",
       "      <td>Bacteria</td>\n",
       "      <td>oral</td>\n",
       "      <td>Complete</td>\n",
       "      <td>Level 2: High-Quality Draft</td>\n",
       "      <td>6. annotation (and sequence) public on NCBI site</td>\n",
       "      <td>67199</td>\n",
       "      <td>AMEN00000000</td>\n",
       "      <td>2343</td>\n",
       "      <td>0</td>\n",
       "      <td>NaN</td>\n",
       "      <td>Washington University Genome Sequencing Center</td>\n",
       "      <td>NIH-HMP Sequencing Center</td>\n",
       "      <td>ATCC 43718</td>\n",
       "      <td>NaN</td>\n",
       "      <td>NaN</td>\n",
       "    </tr>\n",
       "    <tr>\n",
       "      <th>2912</th>\n",
       "      <td>9997</td>\n",
       "      <td>Gi09594</td>\n",
       "      <td>Corynebacterium durum F0235</td>\n",
       "      <td>BACTERIAL</td>\n",
       "      <td>Bacteria</td>\n",
       "      <td>oral</td>\n",
       "      <td>Complete</td>\n",
       "      <td>Level 2: High-Quality Draft</td>\n",
       "      <td>6. annotation (and sequence) public on NCBI site</td>\n",
       "      <td>67201</td>\n",
       "      <td>AMEM00000000</td>\n",
       "      <td>2823</td>\n",
       "      <td>0</td>\n",
       "      <td>NaN</td>\n",
       "      <td>Washington University Genome Sequencing Center</td>\n",
       "      <td>NIH-HMP Sequencing Center</td>\n",
       "      <td>BEI HM-755</td>\n",
       "      <td>NaN</td>\n",
       "      <td>NaN</td>\n",
       "    </tr>\n",
       "    <tr>\n",
       "      <th>2913</th>\n",
       "      <td>9998</td>\n",
       "      <td>Gi09595</td>\n",
       "      <td>Peptostreptococcus anaerobius VPI 4330</td>\n",
       "      <td>BACTERIAL</td>\n",
       "      <td>Bacteria</td>\n",
       "      <td>oral</td>\n",
       "      <td>Complete</td>\n",
       "      <td>Level 2: High-Quality Draft</td>\n",
       "      <td>6. annotation (and sequence) public on NCBI site</td>\n",
       "      <td>67203</td>\n",
       "      <td>AMEL00000000</td>\n",
       "      <td>1933</td>\n",
       "      <td>0</td>\n",
       "      <td>NaN</td>\n",
       "      <td>Washington University Genome Sequencing Center</td>\n",
       "      <td>NIH-HMP Sequencing Center</td>\n",
       "      <td>ATCC 27337</td>\n",
       "      <td>NaN</td>\n",
       "      <td>NaN</td>\n",
       "    </tr>\n",
       "    <tr>\n",
       "      <th>2914</th>\n",
       "      <td>9999</td>\n",
       "      <td>Gi09596</td>\n",
       "      <td>Prevotella sp. oral taxon 473 str. F0040</td>\n",
       "      <td>BACTERIAL</td>\n",
       "      <td>Bacteria</td>\n",
       "      <td>oral</td>\n",
       "      <td>Complete</td>\n",
       "      <td>Level 2: High-Quality Draft</td>\n",
       "      <td>6. annotation (and sequence) public on NCBI site</td>\n",
       "      <td>67205</td>\n",
       "      <td>AMEK00000000</td>\n",
       "      <td>2317</td>\n",
       "      <td>0</td>\n",
       "      <td>NaN</td>\n",
       "      <td>Washington University Genome Sequencing Center</td>\n",
       "      <td>NIH-HMP Sequencing Center</td>\n",
       "      <td>BEI HM-756</td>\n",
       "      <td>NaN</td>\n",
       "      <td>NaN</td>\n",
       "    </tr>\n",
       "  </tbody>\n",
       "</table>\n",
       "<p>1563 rows × 19 columns</p>\n",
       "</div>"
      ],
      "text/plain": [
       "      HMP ID  GOLD ID                             Organism Name     Domain  \\\n",
       "0          1  Gi03551          Abiotrophia defectiva ATCC 49176  BACTERIAL   \n",
       "1          4  Gi03555       Achromobacter piechaudii ATCC 43553  BACTERIAL   \n",
       "2          5  Gi03554            Achromobacter xylosoxidans C54  BACTERIAL   \n",
       "3         10  Gi03422        Acinetobacter baumannii ATCC 19606  BACTERIAL   \n",
       "4         12  Gi03421       Acinetobacter calcoaceticus RUH2202  BACTERIAL   \n",
       "...      ...      ...                                       ...        ...   \n",
       "2910    9995  Gi08654       Staphylococcus epidermidis NIHLM095  BACTERIAL   \n",
       "2911    9996  Gi09593  Aggregatibacter actinomycetemcomitans Y4  BACTERIAL   \n",
       "2912    9997  Gi09594               Corynebacterium durum F0235  BACTERIAL   \n",
       "2913    9998  Gi09595    Peptostreptococcus anaerobius VPI 4330  BACTERIAL   \n",
       "2914    9999  Gi09596  Prevotella sp. oral taxon 473 str. F0040  BACTERIAL   \n",
       "\n",
       "     NCBI Superkingdom HMP Isolation Body Site Project Status  \\\n",
       "0             Bacteria                    oral       Complete   \n",
       "1             Bacteria                 airways       Complete   \n",
       "2             Bacteria                 airways       Complete   \n",
       "3             Bacteria        urogenital_tract       Complete   \n",
       "4             Bacteria                    skin       Complete   \n",
       "...                ...                     ...            ...   \n",
       "2910          Bacteria                 unknown       Complete   \n",
       "2911          Bacteria                    oral       Complete   \n",
       "2912          Bacteria                    oral       Complete   \n",
       "2913          Bacteria                    oral       Complete   \n",
       "2914          Bacteria                    oral       Complete   \n",
       "\n",
       "                   Current Finishing Level  \\\n",
       "0     Level 3: Improved-High-Quality Draft   \n",
       "1              Level 2: High-Quality Draft   \n",
       "2         Level 5: Non-contiguous Finished   \n",
       "3              Level 2: High-Quality Draft   \n",
       "4              Level 2: High-Quality Draft   \n",
       "...                                    ...   \n",
       "2910           Level 2: High-Quality Draft   \n",
       "2911           Level 2: High-Quality Draft   \n",
       "2912           Level 2: High-Quality Draft   \n",
       "2913           Level 2: High-Quality Draft   \n",
       "2914           Level 2: High-Quality Draft   \n",
       "\n",
       "                                NCBI Submission Status  NCBI Project ID  \\\n",
       "0     6. annotation (and sequence) public on NCBI site            33011   \n",
       "1     6. annotation (and sequence) public on NCBI site            46343   \n",
       "2     6. annotation (and sequence) public on NCBI site            38739   \n",
       "3     6. annotation (and sequence) public on NCBI site            38509   \n",
       "4     6. annotation (and sequence) public on NCBI site            38337   \n",
       "...                                                ...              ...   \n",
       "2910  6. annotation (and sequence) public on NCBI site            62345   \n",
       "2911  6. annotation (and sequence) public on NCBI site            67199   \n",
       "2912  6. annotation (and sequence) public on NCBI site            67201   \n",
       "2913  6. annotation (and sequence) public on NCBI site            67203   \n",
       "2914  6. annotation (and sequence) public on NCBI site            67205   \n",
       "\n",
       "        Genbank ID  Gene Count  IMG/HMP ID        HOMD ID  \\\n",
       "0     ACIN00000000        1950   643886181  HOMD: tax_389   \n",
       "1     ADMS00000000        5755   647000200            NaN   \n",
       "2     ACRC00000000        6010           0  HOMD: tax_343   \n",
       "3     ACQB00000000        3832   647533101  HOMD: tax_554   \n",
       "4     ACPK00000000        3632   646206267            NaN   \n",
       "...            ...         ...         ...            ...   \n",
       "2910  AKGI00000000        2300           0            NaN   \n",
       "2911  AMEN00000000        2343           0            NaN   \n",
       "2912  AMEM00000000        2823           0            NaN   \n",
       "2913  AMEL00000000        1933           0            NaN   \n",
       "2914  AMEK00000000        2317           0            NaN   \n",
       "\n",
       "                                   Sequencing Center  \\\n",
       "0     Washington University Genome Sequencing Center   \n",
       "1                         Baylor College of Medicine   \n",
       "2                                    Broad Institute   \n",
       "3                                    Broad Institute   \n",
       "4                                    Broad Institute   \n",
       "...                                              ...   \n",
       "2910         NIH Intramural Sequencing Center (NISC)   \n",
       "2911  Washington University Genome Sequencing Center   \n",
       "2912  Washington University Genome Sequencing Center   \n",
       "2913  Washington University Genome Sequencing Center   \n",
       "2914  Washington University Genome Sequencing Center   \n",
       "\n",
       "                    Funding Source             Strain Repository ID  \\\n",
       "0     NIH-HMP Jumpstart Supplement           ATCC 49176, CIP 103242   \n",
       "1     NIH-HMP Jumpstart Supplement  ATCC 43553, CIP 55774, LMG 6100   \n",
       "2     NIH-HMP Jumpstart Supplement                       BEI HM-235   \n",
       "3     NIH-HMP Jumpstart Supplement             ATCC 19606, DSM 6974   \n",
       "4     NIH-HMP Jumpstart Supplement                        LMG 10517   \n",
       "...                            ...                              ...   \n",
       "2910         NIH-HMP Demo Projects                       BEI HM-909   \n",
       "2911     NIH-HMP Sequencing Center                       ATCC 43718   \n",
       "2912     NIH-HMP Sequencing Center                       BEI HM-755   \n",
       "2913     NIH-HMP Sequencing Center                       ATCC 27337   \n",
       "2914     NIH-HMP Sequencing Center                       BEI HM-756   \n",
       "\n",
       "      Unnamed: 17  Unnamed: 18  \n",
       "0             NaN          NaN  \n",
       "1             NaN          NaN  \n",
       "2             NaN          NaN  \n",
       "3             NaN          NaN  \n",
       "4             NaN          NaN  \n",
       "...           ...          ...  \n",
       "2910          NaN          NaN  \n",
       "2911          NaN          NaN  \n",
       "2912          NaN          NaN  \n",
       "2913          NaN          NaN  \n",
       "2914          NaN          NaN  \n",
       "\n",
       "[1563 rows x 19 columns]"
      ]
     },
     "execution_count": 25,
     "metadata": {},
     "output_type": "execute_result"
    }
   ],
   "source": [
    "#Replace NaN values with \"BACTERIAL\"\n",
    "micro[\"Domain\"] = micro['Domain'].replace([\"NaN\"], \"BACTERIAL\")\n",
    "micro"
   ]
  },
  {
   "cell_type": "code",
   "execution_count": 26,
   "id": "54c39332",
   "metadata": {
    "ExecuteTime": {
     "end_time": "2024-02-19T05:18:45.796294Z",
     "start_time": "2024-02-19T05:18:42.776135Z"
    }
   },
   "outputs": [
    {
     "data": {
      "text/plain": [
       "0"
      ]
     },
     "execution_count": 26,
     "metadata": {},
     "output_type": "execute_result"
    }
   ],
   "source": [
    "#Check that values replaced\n",
    "(micro['Domain'] == \"NaN\").sum()"
   ]
  },
  {
   "cell_type": "markdown",
   "id": "64a88f61",
   "metadata": {},
   "source": [
    "Then I'll replace all of the Superkingdom values with their Domain name where applicable using pandas transform function."
   ]
  },
  {
   "cell_type": "code",
   "execution_count": 27,
   "id": "97e7e48f",
   "metadata": {
    "ExecuteTime": {
     "end_time": "2024-02-19T05:18:45.844107Z",
     "start_time": "2024-02-19T05:18:42.788857Z"
    }
   },
   "outputs": [
    {
     "data": {
      "text/plain": [
       "Domain\n",
       "BACTERIAL    101\n",
       "Name: count, dtype: int64"
      ]
     },
     "execution_count": 27,
     "metadata": {},
     "output_type": "execute_result"
    }
   ],
   "source": [
    "#Check values for Domain in regard to Superkingdom NaNs\n",
    "kingdom = micro_null.loc[micro_null['NCBI Superkingdom'] == \"NaN\"]\n",
    "kingdom['Domain'].value_counts()"
   ]
  },
  {
   "cell_type": "markdown",
   "id": "99467df1",
   "metadata": {},
   "source": [
    "All of the missing Superkingdom values are in the Bacterial domain, so we can replace them with the relative value of \"Bacteria\"."
   ]
  },
  {
   "cell_type": "code",
   "execution_count": 28,
   "id": "eaad437d",
   "metadata": {
    "ExecuteTime": {
     "end_time": "2024-02-19T05:18:45.844496Z",
     "start_time": "2024-02-19T05:18:42.793660Z"
    },
    "scrolled": true
   },
   "outputs": [
    {
     "data": {
      "text/plain": [
       "101"
      ]
     },
     "execution_count": 28,
     "metadata": {},
     "output_type": "execute_result"
    }
   ],
   "source": [
    "#count nulls to compare\n",
    "(micro_null['NCBI Superkingdom'] == \"NaN\").sum()"
   ]
  },
  {
   "cell_type": "code",
   "execution_count": 29,
   "id": "a7069c03",
   "metadata": {
    "ExecuteTime": {
     "end_time": "2024-02-19T05:18:45.845161Z",
     "start_time": "2024-02-19T05:18:42.803236Z"
    }
   },
   "outputs": [
    {
     "data": {
      "text/html": [
       "<div>\n",
       "<style scoped>\n",
       "    .dataframe tbody tr th:only-of-type {\n",
       "        vertical-align: middle;\n",
       "    }\n",
       "\n",
       "    .dataframe tbody tr th {\n",
       "        vertical-align: top;\n",
       "    }\n",
       "\n",
       "    .dataframe thead th {\n",
       "        text-align: right;\n",
       "    }\n",
       "</style>\n",
       "<table border=\"1\" class=\"dataframe\">\n",
       "  <thead>\n",
       "    <tr style=\"text-align: right;\">\n",
       "      <th></th>\n",
       "      <th>HMP ID</th>\n",
       "      <th>GOLD ID</th>\n",
       "      <th>Organism Name</th>\n",
       "      <th>Domain</th>\n",
       "      <th>NCBI Superkingdom</th>\n",
       "      <th>HMP Isolation Body Site</th>\n",
       "      <th>Project Status</th>\n",
       "      <th>Current Finishing Level</th>\n",
       "      <th>NCBI Submission Status</th>\n",
       "      <th>NCBI Project ID</th>\n",
       "      <th>Genbank ID</th>\n",
       "      <th>Gene Count</th>\n",
       "      <th>IMG/HMP ID</th>\n",
       "      <th>HOMD ID</th>\n",
       "      <th>Sequencing Center</th>\n",
       "      <th>Funding Source</th>\n",
       "      <th>Strain Repository ID</th>\n",
       "      <th>Unnamed: 17</th>\n",
       "      <th>Unnamed: 18</th>\n",
       "    </tr>\n",
       "  </thead>\n",
       "  <tbody>\n",
       "    <tr>\n",
       "      <th>0</th>\n",
       "      <td>1</td>\n",
       "      <td>Gi03551</td>\n",
       "      <td>Abiotrophia defectiva ATCC 49176</td>\n",
       "      <td>BACTERIAL</td>\n",
       "      <td>Bacteria</td>\n",
       "      <td>oral</td>\n",
       "      <td>Complete</td>\n",
       "      <td>Level 3: Improved-High-Quality Draft</td>\n",
       "      <td>6. annotation (and sequence) public on NCBI site</td>\n",
       "      <td>33011</td>\n",
       "      <td>ACIN00000000</td>\n",
       "      <td>1950</td>\n",
       "      <td>643886181</td>\n",
       "      <td>HOMD: tax_389</td>\n",
       "      <td>Washington University Genome Sequencing Center</td>\n",
       "      <td>NIH-HMP Jumpstart Supplement</td>\n",
       "      <td>ATCC 49176, CIP 103242</td>\n",
       "      <td>NaN</td>\n",
       "      <td>NaN</td>\n",
       "    </tr>\n",
       "    <tr>\n",
       "      <th>1</th>\n",
       "      <td>4</td>\n",
       "      <td>Gi03555</td>\n",
       "      <td>Achromobacter piechaudii ATCC 43553</td>\n",
       "      <td>BACTERIAL</td>\n",
       "      <td>Bacteria</td>\n",
       "      <td>airways</td>\n",
       "      <td>Complete</td>\n",
       "      <td>Level 2: High-Quality Draft</td>\n",
       "      <td>6. annotation (and sequence) public on NCBI site</td>\n",
       "      <td>46343</td>\n",
       "      <td>ADMS00000000</td>\n",
       "      <td>5755</td>\n",
       "      <td>647000200</td>\n",
       "      <td>NaN</td>\n",
       "      <td>Baylor College of Medicine</td>\n",
       "      <td>NIH-HMP Jumpstart Supplement</td>\n",
       "      <td>ATCC 43553, CIP 55774, LMG 6100</td>\n",
       "      <td>NaN</td>\n",
       "      <td>NaN</td>\n",
       "    </tr>\n",
       "    <tr>\n",
       "      <th>2</th>\n",
       "      <td>5</td>\n",
       "      <td>Gi03554</td>\n",
       "      <td>Achromobacter xylosoxidans C54</td>\n",
       "      <td>BACTERIAL</td>\n",
       "      <td>Bacteria</td>\n",
       "      <td>airways</td>\n",
       "      <td>Complete</td>\n",
       "      <td>Level 5: Non-contiguous Finished</td>\n",
       "      <td>6. annotation (and sequence) public on NCBI site</td>\n",
       "      <td>38739</td>\n",
       "      <td>ACRC00000000</td>\n",
       "      <td>6010</td>\n",
       "      <td>0</td>\n",
       "      <td>HOMD: tax_343</td>\n",
       "      <td>Broad Institute</td>\n",
       "      <td>NIH-HMP Jumpstart Supplement</td>\n",
       "      <td>BEI HM-235</td>\n",
       "      <td>NaN</td>\n",
       "      <td>NaN</td>\n",
       "    </tr>\n",
       "    <tr>\n",
       "      <th>3</th>\n",
       "      <td>10</td>\n",
       "      <td>Gi03422</td>\n",
       "      <td>Acinetobacter baumannii ATCC 19606</td>\n",
       "      <td>BACTERIAL</td>\n",
       "      <td>Bacteria</td>\n",
       "      <td>urogenital_tract</td>\n",
       "      <td>Complete</td>\n",
       "      <td>Level 2: High-Quality Draft</td>\n",
       "      <td>6. annotation (and sequence) public on NCBI site</td>\n",
       "      <td>38509</td>\n",
       "      <td>ACQB00000000</td>\n",
       "      <td>3832</td>\n",
       "      <td>647533101</td>\n",
       "      <td>HOMD: tax_554</td>\n",
       "      <td>Broad Institute</td>\n",
       "      <td>NIH-HMP Jumpstart Supplement</td>\n",
       "      <td>ATCC 19606, DSM 6974</td>\n",
       "      <td>NaN</td>\n",
       "      <td>NaN</td>\n",
       "    </tr>\n",
       "    <tr>\n",
       "      <th>4</th>\n",
       "      <td>12</td>\n",
       "      <td>Gi03421</td>\n",
       "      <td>Acinetobacter calcoaceticus RUH2202</td>\n",
       "      <td>BACTERIAL</td>\n",
       "      <td>Bacteria</td>\n",
       "      <td>skin</td>\n",
       "      <td>Complete</td>\n",
       "      <td>Level 2: High-Quality Draft</td>\n",
       "      <td>6. annotation (and sequence) public on NCBI site</td>\n",
       "      <td>38337</td>\n",
       "      <td>ACPK00000000</td>\n",
       "      <td>3632</td>\n",
       "      <td>646206267</td>\n",
       "      <td>NaN</td>\n",
       "      <td>Broad Institute</td>\n",
       "      <td>NIH-HMP Jumpstart Supplement</td>\n",
       "      <td>LMG 10517</td>\n",
       "      <td>NaN</td>\n",
       "      <td>NaN</td>\n",
       "    </tr>\n",
       "    <tr>\n",
       "      <th>...</th>\n",
       "      <td>...</td>\n",
       "      <td>...</td>\n",
       "      <td>...</td>\n",
       "      <td>...</td>\n",
       "      <td>...</td>\n",
       "      <td>...</td>\n",
       "      <td>...</td>\n",
       "      <td>...</td>\n",
       "      <td>...</td>\n",
       "      <td>...</td>\n",
       "      <td>...</td>\n",
       "      <td>...</td>\n",
       "      <td>...</td>\n",
       "      <td>...</td>\n",
       "      <td>...</td>\n",
       "      <td>...</td>\n",
       "      <td>...</td>\n",
       "      <td>...</td>\n",
       "      <td>...</td>\n",
       "    </tr>\n",
       "    <tr>\n",
       "      <th>2910</th>\n",
       "      <td>9995</td>\n",
       "      <td>Gi08654</td>\n",
       "      <td>Staphylococcus epidermidis NIHLM095</td>\n",
       "      <td>BACTERIAL</td>\n",
       "      <td>Bacteria</td>\n",
       "      <td>unknown</td>\n",
       "      <td>Complete</td>\n",
       "      <td>Level 2: High-Quality Draft</td>\n",
       "      <td>6. annotation (and sequence) public on NCBI site</td>\n",
       "      <td>62345</td>\n",
       "      <td>AKGI00000000</td>\n",
       "      <td>2300</td>\n",
       "      <td>0</td>\n",
       "      <td>NaN</td>\n",
       "      <td>NIH Intramural Sequencing Center (NISC)</td>\n",
       "      <td>NIH-HMP Demo Projects</td>\n",
       "      <td>BEI HM-909</td>\n",
       "      <td>NaN</td>\n",
       "      <td>NaN</td>\n",
       "    </tr>\n",
       "    <tr>\n",
       "      <th>2911</th>\n",
       "      <td>9996</td>\n",
       "      <td>Gi09593</td>\n",
       "      <td>Aggregatibacter actinomycetemcomitans Y4</td>\n",
       "      <td>BACTERIAL</td>\n",
       "      <td>Bacteria</td>\n",
       "      <td>oral</td>\n",
       "      <td>Complete</td>\n",
       "      <td>Level 2: High-Quality Draft</td>\n",
       "      <td>6. annotation (and sequence) public on NCBI site</td>\n",
       "      <td>67199</td>\n",
       "      <td>AMEN00000000</td>\n",
       "      <td>2343</td>\n",
       "      <td>0</td>\n",
       "      <td>NaN</td>\n",
       "      <td>Washington University Genome Sequencing Center</td>\n",
       "      <td>NIH-HMP Sequencing Center</td>\n",
       "      <td>ATCC 43718</td>\n",
       "      <td>NaN</td>\n",
       "      <td>NaN</td>\n",
       "    </tr>\n",
       "    <tr>\n",
       "      <th>2912</th>\n",
       "      <td>9997</td>\n",
       "      <td>Gi09594</td>\n",
       "      <td>Corynebacterium durum F0235</td>\n",
       "      <td>BACTERIAL</td>\n",
       "      <td>Bacteria</td>\n",
       "      <td>oral</td>\n",
       "      <td>Complete</td>\n",
       "      <td>Level 2: High-Quality Draft</td>\n",
       "      <td>6. annotation (and sequence) public on NCBI site</td>\n",
       "      <td>67201</td>\n",
       "      <td>AMEM00000000</td>\n",
       "      <td>2823</td>\n",
       "      <td>0</td>\n",
       "      <td>NaN</td>\n",
       "      <td>Washington University Genome Sequencing Center</td>\n",
       "      <td>NIH-HMP Sequencing Center</td>\n",
       "      <td>BEI HM-755</td>\n",
       "      <td>NaN</td>\n",
       "      <td>NaN</td>\n",
       "    </tr>\n",
       "    <tr>\n",
       "      <th>2913</th>\n",
       "      <td>9998</td>\n",
       "      <td>Gi09595</td>\n",
       "      <td>Peptostreptococcus anaerobius VPI 4330</td>\n",
       "      <td>BACTERIAL</td>\n",
       "      <td>Bacteria</td>\n",
       "      <td>oral</td>\n",
       "      <td>Complete</td>\n",
       "      <td>Level 2: High-Quality Draft</td>\n",
       "      <td>6. annotation (and sequence) public on NCBI site</td>\n",
       "      <td>67203</td>\n",
       "      <td>AMEL00000000</td>\n",
       "      <td>1933</td>\n",
       "      <td>0</td>\n",
       "      <td>NaN</td>\n",
       "      <td>Washington University Genome Sequencing Center</td>\n",
       "      <td>NIH-HMP Sequencing Center</td>\n",
       "      <td>ATCC 27337</td>\n",
       "      <td>NaN</td>\n",
       "      <td>NaN</td>\n",
       "    </tr>\n",
       "    <tr>\n",
       "      <th>2914</th>\n",
       "      <td>9999</td>\n",
       "      <td>Gi09596</td>\n",
       "      <td>Prevotella sp. oral taxon 473 str. F0040</td>\n",
       "      <td>BACTERIAL</td>\n",
       "      <td>Bacteria</td>\n",
       "      <td>oral</td>\n",
       "      <td>Complete</td>\n",
       "      <td>Level 2: High-Quality Draft</td>\n",
       "      <td>6. annotation (and sequence) public on NCBI site</td>\n",
       "      <td>67205</td>\n",
       "      <td>AMEK00000000</td>\n",
       "      <td>2317</td>\n",
       "      <td>0</td>\n",
       "      <td>NaN</td>\n",
       "      <td>Washington University Genome Sequencing Center</td>\n",
       "      <td>NIH-HMP Sequencing Center</td>\n",
       "      <td>BEI HM-756</td>\n",
       "      <td>NaN</td>\n",
       "      <td>NaN</td>\n",
       "    </tr>\n",
       "  </tbody>\n",
       "</table>\n",
       "<p>1563 rows × 19 columns</p>\n",
       "</div>"
      ],
      "text/plain": [
       "      HMP ID  GOLD ID                             Organism Name     Domain  \\\n",
       "0          1  Gi03551          Abiotrophia defectiva ATCC 49176  BACTERIAL   \n",
       "1          4  Gi03555       Achromobacter piechaudii ATCC 43553  BACTERIAL   \n",
       "2          5  Gi03554            Achromobacter xylosoxidans C54  BACTERIAL   \n",
       "3         10  Gi03422        Acinetobacter baumannii ATCC 19606  BACTERIAL   \n",
       "4         12  Gi03421       Acinetobacter calcoaceticus RUH2202  BACTERIAL   \n",
       "...      ...      ...                                       ...        ...   \n",
       "2910    9995  Gi08654       Staphylococcus epidermidis NIHLM095  BACTERIAL   \n",
       "2911    9996  Gi09593  Aggregatibacter actinomycetemcomitans Y4  BACTERIAL   \n",
       "2912    9997  Gi09594               Corynebacterium durum F0235  BACTERIAL   \n",
       "2913    9998  Gi09595    Peptostreptococcus anaerobius VPI 4330  BACTERIAL   \n",
       "2914    9999  Gi09596  Prevotella sp. oral taxon 473 str. F0040  BACTERIAL   \n",
       "\n",
       "     NCBI Superkingdom HMP Isolation Body Site Project Status  \\\n",
       "0             Bacteria                    oral       Complete   \n",
       "1             Bacteria                 airways       Complete   \n",
       "2             Bacteria                 airways       Complete   \n",
       "3             Bacteria        urogenital_tract       Complete   \n",
       "4             Bacteria                    skin       Complete   \n",
       "...                ...                     ...            ...   \n",
       "2910          Bacteria                 unknown       Complete   \n",
       "2911          Bacteria                    oral       Complete   \n",
       "2912          Bacteria                    oral       Complete   \n",
       "2913          Bacteria                    oral       Complete   \n",
       "2914          Bacteria                    oral       Complete   \n",
       "\n",
       "                   Current Finishing Level  \\\n",
       "0     Level 3: Improved-High-Quality Draft   \n",
       "1              Level 2: High-Quality Draft   \n",
       "2         Level 5: Non-contiguous Finished   \n",
       "3              Level 2: High-Quality Draft   \n",
       "4              Level 2: High-Quality Draft   \n",
       "...                                    ...   \n",
       "2910           Level 2: High-Quality Draft   \n",
       "2911           Level 2: High-Quality Draft   \n",
       "2912           Level 2: High-Quality Draft   \n",
       "2913           Level 2: High-Quality Draft   \n",
       "2914           Level 2: High-Quality Draft   \n",
       "\n",
       "                                NCBI Submission Status  NCBI Project ID  \\\n",
       "0     6. annotation (and sequence) public on NCBI site            33011   \n",
       "1     6. annotation (and sequence) public on NCBI site            46343   \n",
       "2     6. annotation (and sequence) public on NCBI site            38739   \n",
       "3     6. annotation (and sequence) public on NCBI site            38509   \n",
       "4     6. annotation (and sequence) public on NCBI site            38337   \n",
       "...                                                ...              ...   \n",
       "2910  6. annotation (and sequence) public on NCBI site            62345   \n",
       "2911  6. annotation (and sequence) public on NCBI site            67199   \n",
       "2912  6. annotation (and sequence) public on NCBI site            67201   \n",
       "2913  6. annotation (and sequence) public on NCBI site            67203   \n",
       "2914  6. annotation (and sequence) public on NCBI site            67205   \n",
       "\n",
       "        Genbank ID  Gene Count  IMG/HMP ID        HOMD ID  \\\n",
       "0     ACIN00000000        1950   643886181  HOMD: tax_389   \n",
       "1     ADMS00000000        5755   647000200            NaN   \n",
       "2     ACRC00000000        6010           0  HOMD: tax_343   \n",
       "3     ACQB00000000        3832   647533101  HOMD: tax_554   \n",
       "4     ACPK00000000        3632   646206267            NaN   \n",
       "...            ...         ...         ...            ...   \n",
       "2910  AKGI00000000        2300           0            NaN   \n",
       "2911  AMEN00000000        2343           0            NaN   \n",
       "2912  AMEM00000000        2823           0            NaN   \n",
       "2913  AMEL00000000        1933           0            NaN   \n",
       "2914  AMEK00000000        2317           0            NaN   \n",
       "\n",
       "                                   Sequencing Center  \\\n",
       "0     Washington University Genome Sequencing Center   \n",
       "1                         Baylor College of Medicine   \n",
       "2                                    Broad Institute   \n",
       "3                                    Broad Institute   \n",
       "4                                    Broad Institute   \n",
       "...                                              ...   \n",
       "2910         NIH Intramural Sequencing Center (NISC)   \n",
       "2911  Washington University Genome Sequencing Center   \n",
       "2912  Washington University Genome Sequencing Center   \n",
       "2913  Washington University Genome Sequencing Center   \n",
       "2914  Washington University Genome Sequencing Center   \n",
       "\n",
       "                    Funding Source             Strain Repository ID  \\\n",
       "0     NIH-HMP Jumpstart Supplement           ATCC 49176, CIP 103242   \n",
       "1     NIH-HMP Jumpstart Supplement  ATCC 43553, CIP 55774, LMG 6100   \n",
       "2     NIH-HMP Jumpstart Supplement                       BEI HM-235   \n",
       "3     NIH-HMP Jumpstart Supplement             ATCC 19606, DSM 6974   \n",
       "4     NIH-HMP Jumpstart Supplement                        LMG 10517   \n",
       "...                            ...                              ...   \n",
       "2910         NIH-HMP Demo Projects                       BEI HM-909   \n",
       "2911     NIH-HMP Sequencing Center                       ATCC 43718   \n",
       "2912     NIH-HMP Sequencing Center                       BEI HM-755   \n",
       "2913     NIH-HMP Sequencing Center                       ATCC 27337   \n",
       "2914     NIH-HMP Sequencing Center                       BEI HM-756   \n",
       "\n",
       "      Unnamed: 17  Unnamed: 18  \n",
       "0             NaN          NaN  \n",
       "1             NaN          NaN  \n",
       "2             NaN          NaN  \n",
       "3             NaN          NaN  \n",
       "4             NaN          NaN  \n",
       "...           ...          ...  \n",
       "2910          NaN          NaN  \n",
       "2911          NaN          NaN  \n",
       "2912          NaN          NaN  \n",
       "2913          NaN          NaN  \n",
       "2914          NaN          NaN  \n",
       "\n",
       "[1563 rows x 19 columns]"
      ]
     },
     "execution_count": 29,
     "metadata": {},
     "output_type": "execute_result"
    }
   ],
   "source": [
    "#Replace NaN values with \"BACTERIAL\"\n",
    "micro[\"NCBI Superkingdom\"] = micro['NCBI Superkingdom'].replace(['NaN'], 'Bacteria')\n",
    "micro"
   ]
  },
  {
   "cell_type": "code",
   "execution_count": 30,
   "id": "23c1ecee",
   "metadata": {
    "ExecuteTime": {
     "end_time": "2024-02-19T05:18:45.845355Z",
     "start_time": "2024-02-19T05:18:42.808047Z"
    },
    "scrolled": true
   },
   "outputs": [
    {
     "data": {
      "text/plain": [
       "0"
      ]
     },
     "execution_count": 30,
     "metadata": {},
     "output_type": "execute_result"
    }
   ],
   "source": [
    "#Check that values replaced\n",
    "(micro['NCBI Superkingdom'] == \"NaN\").sum()"
   ]
  },
  {
   "cell_type": "markdown",
   "id": "aec09612",
   "metadata": {},
   "source": [
    "### Exploration"
   ]
  },
  {
   "cell_type": "markdown",
   "id": "ef084bf8",
   "metadata": {},
   "source": [
    "Now that those are cleaned up, I'm going to review the full dataset based on Gene Count to start."
   ]
  },
  {
   "cell_type": "code",
   "execution_count": 31,
   "id": "0c75d5b9",
   "metadata": {
    "ExecuteTime": {
     "end_time": "2024-02-19T05:18:45.845533Z",
     "start_time": "2024-02-19T05:18:42.816979Z"
    },
    "scrolled": true
   },
   "outputs": [
    {
     "data": {
      "text/plain": [
       "count    1563.000000\n",
       "mean     2729.550864\n",
       "std      1288.903478\n",
       "min         0.000000\n",
       "25%      1956.000000\n",
       "50%      2411.000000\n",
       "75%      3176.000000\n",
       "max      8490.000000\n",
       "Name: Gene Count, dtype: float64"
      ]
     },
     "execution_count": 31,
     "metadata": {},
     "output_type": "execute_result"
    }
   ],
   "source": [
    "micro['Gene Count'].describe()"
   ]
  },
  {
   "cell_type": "markdown",
   "id": "47a5945e",
   "metadata": {},
   "source": [
    "There are no null values for \"Gene Count\", but some are counted as 0."
   ]
  },
  {
   "cell_type": "code",
   "execution_count": 32,
   "id": "8449fa18",
   "metadata": {
    "ExecuteTime": {
     "end_time": "2024-02-19T05:18:45.949947Z",
     "start_time": "2024-02-19T05:18:42.824589Z"
    }
   },
   "outputs": [
    {
     "data": {
      "text/plain": [
       "NCBI Superkingdom\n",
       "Bacteria     47\n",
       "Viruses       5\n",
       "Eukaryota     4\n",
       "Name: count, dtype: int64"
      ]
     },
     "execution_count": 32,
     "metadata": {},
     "output_type": "execute_result"
    }
   ],
   "source": [
    "micro_gene_count=micro[micro['Gene Count']==0]\n",
    "micro_gene_count['NCBI Superkingdom'].value_counts()"
   ]
  },
  {
   "cell_type": "markdown",
   "id": "60af07d5",
   "metadata": {},
   "source": [
    "There are 47 bacteria, 5 viruses, and 4 eukaryota absent from the count. Because these may be based on a reporting error, I may want to drop these later to improve the model, but I'll keep them for now."
   ]
  },
  {
   "cell_type": "markdown",
   "id": "753b69a1",
   "metadata": {},
   "source": [
    "There are many species listed in this project, so I want to look at their distribution of gene count frequency."
   ]
  },
  {
   "cell_type": "code",
   "execution_count": 33,
   "id": "8691bcc8",
   "metadata": {
    "ExecuteTime": {
     "end_time": "2024-02-19T05:18:46.242684Z",
     "start_time": "2024-02-19T05:18:42.829067Z"
    },
    "scrolled": false
   },
   "outputs": [
    {
     "data": {
      "text/plain": [
       "<Axes: ylabel='Frequency'>"
      ]
     },
     "execution_count": 33,
     "metadata": {},
     "output_type": "execute_result"
    },
    {
     "data": {
      "image/png": "[encoded data removed]",
      "text/plain": [
       "<Figure size 640x480 with 1 Axes>"
      ]
     },
     "metadata": {},
     "output_type": "display_data"
    }
   ],
   "source": [
    "micro[\"Gene Count\"].plot(kind='hist')"
   ]
  },
  {
   "cell_type": "code",
   "execution_count": 152,
   "id": "89ff23ea",
   "metadata": {
    "ExecuteTime": {
     "end_time": "2024-02-19T05:18:47.174577Z",
     "start_time": "2024-02-19T05:18:43.084553Z"
    }
   },
   "outputs": [
    {
     "data": {
      "text/plain": [
       "Text(0.5, 1.0, 'Distribution of Gene Counts')"
      ]
     },
     "execution_count": 152,
     "metadata": {},
     "output_type": "execute_result"
    },
    {
     "data": {
      "image/png": "[encoded data removed]",
      "text/plain": [
       "<Figure size 640x480 with 1 Axes>"
      ]
     },
     "metadata": {},
     "output_type": "display_data"
    }
   ],
   "source": [
    "sns.histplot(data=micro, x=\"Gene Count\")\n",
    "plt.title('Distribution of Gene Counts')"
   ]
  },
  {
   "cell_type": "markdown",
   "id": "71104af9",
   "metadata": {},
   "source": [
    "Interestingly, there is an almost normal distribution, skewed right, but we can see that the species with gene counts in the middle range have the highest freqency. "
   ]
  },
  {
   "cell_type": "markdown",
   "id": "3394bda5",
   "metadata": {},
   "source": [
    "I'm curious about the microbe with the highest gene count (max value from the descriptive statistics), with a value of 8490."
   ]
  },
  {
   "cell_type": "code",
   "execution_count": 35,
   "id": "6049aa49",
   "metadata": {
    "ExecuteTime": {
     "end_time": "2024-02-19T05:18:47.189503Z",
     "start_time": "2024-02-19T05:18:43.223210Z"
    },
    "scrolled": true
   },
   "outputs": [
    {
     "data": {
      "text/html": [
       "<div>\n",
       "<style scoped>\n",
       "    .dataframe tbody tr th:only-of-type {\n",
       "        vertical-align: middle;\n",
       "    }\n",
       "\n",
       "    .dataframe tbody tr th {\n",
       "        vertical-align: top;\n",
       "    }\n",
       "\n",
       "    .dataframe thead th {\n",
       "        text-align: right;\n",
       "    }\n",
       "</style>\n",
       "<table border=\"1\" class=\"dataframe\">\n",
       "  <thead>\n",
       "    <tr style=\"text-align: right;\">\n",
       "      <th></th>\n",
       "      <th>HMP ID</th>\n",
       "      <th>GOLD ID</th>\n",
       "      <th>Organism Name</th>\n",
       "      <th>Domain</th>\n",
       "      <th>NCBI Superkingdom</th>\n",
       "      <th>HMP Isolation Body Site</th>\n",
       "      <th>Project Status</th>\n",
       "      <th>Current Finishing Level</th>\n",
       "      <th>NCBI Submission Status</th>\n",
       "      <th>NCBI Project ID</th>\n",
       "      <th>Genbank ID</th>\n",
       "      <th>Gene Count</th>\n",
       "      <th>IMG/HMP ID</th>\n",
       "      <th>HOMD ID</th>\n",
       "      <th>Sequencing Center</th>\n",
       "      <th>Funding Source</th>\n",
       "      <th>Strain Repository ID</th>\n",
       "      <th>Unnamed: 17</th>\n",
       "      <th>Unnamed: 18</th>\n",
       "    </tr>\n",
       "  </thead>\n",
       "  <tbody>\n",
       "    <tr>\n",
       "      <th>679</th>\n",
       "      <td>1211</td>\n",
       "      <td>Gi10716</td>\n",
       "      <td>Streptomyces sp. HGB0020</td>\n",
       "      <td>BACTERIAL</td>\n",
       "      <td>Bacteria</td>\n",
       "      <td>gastrointestinal_tract</td>\n",
       "      <td>Complete</td>\n",
       "      <td>Level 2: High-Quality Draft</td>\n",
       "      <td>6. annotation (and sequence) public on NCBI site</td>\n",
       "      <td>72491</td>\n",
       "      <td>AGER00000000</td>\n",
       "      <td>8490</td>\n",
       "      <td>0</td>\n",
       "      <td>NaN</td>\n",
       "      <td>Broad Institute</td>\n",
       "      <td>NIH-HMP Sequencing Center</td>\n",
       "      <td>BEI HM-789</td>\n",
       "      <td>NaN</td>\n",
       "      <td>NaN</td>\n",
       "    </tr>\n",
       "  </tbody>\n",
       "</table>\n",
       "</div>"
      ],
      "text/plain": [
       "     HMP ID  GOLD ID             Organism Name     Domain NCBI Superkingdom  \\\n",
       "679    1211  Gi10716  Streptomyces sp. HGB0020  BACTERIAL          Bacteria   \n",
       "\n",
       "    HMP Isolation Body Site Project Status      Current Finishing Level  \\\n",
       "679  gastrointestinal_tract       Complete  Level 2: High-Quality Draft   \n",
       "\n",
       "                               NCBI Submission Status  NCBI Project ID  \\\n",
       "679  6. annotation (and sequence) public on NCBI site            72491   \n",
       "\n",
       "       Genbank ID  Gene Count  IMG/HMP ID HOMD ID Sequencing Center  \\\n",
       "679  AGER00000000        8490           0     NaN   Broad Institute   \n",
       "\n",
       "                Funding Source Strain Repository ID  Unnamed: 17  Unnamed: 18  \n",
       "679  NIH-HMP Sequencing Center           BEI HM-789          NaN          NaN  "
      ]
     },
     "execution_count": 35,
     "metadata": {},
     "output_type": "execute_result"
    }
   ],
   "source": [
    "micro[micro['Gene Count']==8490]"
   ]
  },
  {
   "cell_type": "markdown",
   "id": "3f13b3ba",
   "metadata": {},
   "source": [
    "I want to check to see if there is another Streptomyces species with high prevalence."
   ]
  },
  {
   "cell_type": "code",
   "execution_count": 36,
   "id": "d96c1feb",
   "metadata": {
    "ExecuteTime": {
     "end_time": "2024-02-19T05:18:47.284836Z",
     "start_time": "2024-02-19T05:18:43.230387Z"
    },
    "scrolled": true
   },
   "outputs": [
    {
     "data": {
      "text/html": [
       "<div>\n",
       "<style scoped>\n",
       "    .dataframe tbody tr th:only-of-type {\n",
       "        vertical-align: middle;\n",
       "    }\n",
       "\n",
       "    .dataframe tbody tr th {\n",
       "        vertical-align: top;\n",
       "    }\n",
       "\n",
       "    .dataframe thead th {\n",
       "        text-align: right;\n",
       "    }\n",
       "</style>\n",
       "<table border=\"1\" class=\"dataframe\">\n",
       "  <thead>\n",
       "    <tr style=\"text-align: right;\">\n",
       "      <th></th>\n",
       "      <th>HMP ID</th>\n",
       "      <th>GOLD ID</th>\n",
       "      <th>Organism Name</th>\n",
       "      <th>Domain</th>\n",
       "      <th>NCBI Superkingdom</th>\n",
       "      <th>HMP Isolation Body Site</th>\n",
       "      <th>Project Status</th>\n",
       "      <th>Current Finishing Level</th>\n",
       "      <th>NCBI Submission Status</th>\n",
       "      <th>NCBI Project ID</th>\n",
       "      <th>Genbank ID</th>\n",
       "      <th>Gene Count</th>\n",
       "      <th>IMG/HMP ID</th>\n",
       "      <th>HOMD ID</th>\n",
       "      <th>Sequencing Center</th>\n",
       "      <th>Funding Source</th>\n",
       "      <th>Strain Repository ID</th>\n",
       "      <th>Unnamed: 17</th>\n",
       "      <th>Unnamed: 18</th>\n",
       "    </tr>\n",
       "  </thead>\n",
       "  <tbody>\n",
       "    <tr>\n",
       "      <th>679</th>\n",
       "      <td>1211</td>\n",
       "      <td>Gi10716</td>\n",
       "      <td>Streptomyces sp. HGB0020</td>\n",
       "      <td>BACTERIAL</td>\n",
       "      <td>Bacteria</td>\n",
       "      <td>gastrointestinal_tract</td>\n",
       "      <td>Complete</td>\n",
       "      <td>Level 2: High-Quality Draft</td>\n",
       "      <td>6. annotation (and sequence) public on NCBI site</td>\n",
       "      <td>72491</td>\n",
       "      <td>AGER00000000</td>\n",
       "      <td>8490</td>\n",
       "      <td>0</td>\n",
       "      <td>NaN</td>\n",
       "      <td>Broad Institute</td>\n",
       "      <td>NIH-HMP Sequencing Center</td>\n",
       "      <td>BEI HM-789</td>\n",
       "      <td>NaN</td>\n",
       "      <td>NaN</td>\n",
       "    </tr>\n",
       "    <tr>\n",
       "      <th>934</th>\n",
       "      <td>1486</td>\n",
       "      <td>Gi16997</td>\n",
       "      <td>Streptomyces sp. HPH0547</td>\n",
       "      <td>BACTERIAL</td>\n",
       "      <td>Bacteria</td>\n",
       "      <td>gastrointestinal_tract</td>\n",
       "      <td>Complete</td>\n",
       "      <td>Level 2: High-Quality Draft</td>\n",
       "      <td>6. annotation (and sequence) public on NCBI site</td>\n",
       "      <td>169487</td>\n",
       "      <td>ATCE00000000</td>\n",
       "      <td>6635</td>\n",
       "      <td>0</td>\n",
       "      <td>NaN</td>\n",
       "      <td>Broad Institute</td>\n",
       "      <td>NIH-HMP Sequencing Center</td>\n",
       "      <td>BEI HM-859</td>\n",
       "      <td>NaN</td>\n",
       "      <td>NaN</td>\n",
       "    </tr>\n",
       "  </tbody>\n",
       "</table>\n",
       "</div>"
      ],
      "text/plain": [
       "     HMP ID  GOLD ID             Organism Name     Domain NCBI Superkingdom  \\\n",
       "679    1211  Gi10716  Streptomyces sp. HGB0020  BACTERIAL          Bacteria   \n",
       "934    1486  Gi16997  Streptomyces sp. HPH0547  BACTERIAL          Bacteria   \n",
       "\n",
       "    HMP Isolation Body Site Project Status      Current Finishing Level  \\\n",
       "679  gastrointestinal_tract       Complete  Level 2: High-Quality Draft   \n",
       "934  gastrointestinal_tract       Complete  Level 2: High-Quality Draft   \n",
       "\n",
       "                               NCBI Submission Status  NCBI Project ID  \\\n",
       "679  6. annotation (and sequence) public on NCBI site            72491   \n",
       "934  6. annotation (and sequence) public on NCBI site           169487   \n",
       "\n",
       "       Genbank ID  Gene Count  IMG/HMP ID HOMD ID Sequencing Center  \\\n",
       "679  AGER00000000        8490           0     NaN   Broad Institute   \n",
       "934  ATCE00000000        6635           0     NaN   Broad Institute   \n",
       "\n",
       "                Funding Source Strain Repository ID  Unnamed: 17  Unnamed: 18  \n",
       "679  NIH-HMP Sequencing Center           BEI HM-789          NaN          NaN  \n",
       "934  NIH-HMP Sequencing Center           BEI HM-859          NaN          NaN  "
      ]
     },
     "execution_count": 36,
     "metadata": {},
     "output_type": "execute_result"
    }
   ],
   "source": [
    "micro[micro['Organism Name'].str.contains(\"Streptomyces\")]"
   ]
  },
  {
   "cell_type": "markdown",
   "id": "ac663765",
   "metadata": {},
   "source": [
    "The presences of another Streoptomyces with a high gene count makes me think that it may be beneficial to sort organisms on their genus. I'm going make a new dataframe and attempt to add a column for genus by extracting the first word of the Organism Name."
   ]
  },
  {
   "cell_type": "code",
   "execution_count": 37,
   "id": "46644439",
   "metadata": {
    "ExecuteTime": {
     "end_time": "2024-02-19T05:18:47.285243Z",
     "start_time": "2024-02-19T05:18:43.243956Z"
    },
    "scrolled": true
   },
   "outputs": [
    {
     "data": {
      "text/plain": [
       "185"
      ]
     },
     "execution_count": 37,
     "metadata": {},
     "output_type": "execute_result"
    }
   ],
   "source": [
    "df = micro\n",
    "df['Genus'] = df['Organism Name'].str.split(' ').str[0]\n",
    "df['Genus'].nunique()"
   ]
  },
  {
   "cell_type": "code",
   "execution_count": 38,
   "id": "f9c68901",
   "metadata": {
    "ExecuteTime": {
     "end_time": "2024-02-19T05:18:47.875366Z",
     "start_time": "2024-02-19T05:18:43.339113Z"
    }
   },
   "outputs": [
    {
     "data": {
      "text/plain": [
       "<Axes: ylabel='Frequency'>"
      ]
     },
     "execution_count": 38,
     "metadata": {},
     "output_type": "execute_result"
    },
    {
     "data": {
      "image/png": "[encoded data removed]",
      "text/plain": [
       "<Figure size 640x480 with 1 Axes>"
      ]
     },
     "metadata": {},
     "output_type": "display_data"
    }
   ],
   "source": [
    "df[\"Genus\"].value_counts().plot(kind='hist')"
   ]
  },
  {
   "cell_type": "code",
   "execution_count": 39,
   "id": "305c4072",
   "metadata": {
    "ExecuteTime": {
     "end_time": "2024-02-19T05:18:47.875699Z",
     "start_time": "2024-02-19T05:18:43.435541Z"
    }
   },
   "outputs": [],
   "source": [
    "#Seaborn plot - not as beneficial this time so I'm not using it\n",
    "#plot frequency of genus for all entires\n",
    "#x = df[\"Genus\"].value_counts()\n",
    "#sns.histplot(data=df, x=x)"
   ]
  },
  {
   "cell_type": "markdown",
   "id": "0527d441",
   "metadata": {},
   "source": [
    "Since there are so many distributed around 0-15, I'm going to exclude those and print the value counts of the higher ones."
   ]
  },
  {
   "cell_type": "code",
   "execution_count": 40,
   "id": "3528681d",
   "metadata": {
    "ExecuteTime": {
     "end_time": "2024-02-19T05:18:47.875995Z",
     "start_time": "2024-02-19T05:18:43.441094Z"
    }
   },
   "outputs": [
    {
     "data": {
      "text/plain": [
       "Genus\n",
       "Streptococcus        161\n",
       "Enterococcus         110\n",
       "Propionibacterium     92\n",
       "Lactobacillus         73\n",
       "Helicobacter          70\n",
       "Prevotella            65\n",
       "Staphylococcus        64\n",
       "Bacteroides           63\n",
       "Escherichia           61\n",
       "Clostridium           58\n",
       "Corynebacterium       38\n",
       "Fusobacterium         36\n",
       "Actinomyces           34\n",
       "Bifidobacterium       31\n",
       "Treponema             25\n",
       "Gardnerella           22\n",
       "Klebsiella            21\n",
       "Eubacterium           21\n",
       "Neisseria             19\n",
       "Porphyromonas         17\n",
       "Capnocytophaga        17\n",
       "Veillonella           16\n",
       "Name: count, dtype: int64"
      ]
     },
     "execution_count": 40,
     "metadata": {},
     "output_type": "execute_result"
    }
   ],
   "source": [
    "count = df[df.Genus.isin(df[\"Genus\"].value_counts(dropna=False).loc[lambda x : x>=16].index)].copy()\n",
    "count[\"Genus\"].value_counts()"
   ]
  },
  {
   "cell_type": "markdown",
   "id": "7196d2ce",
   "metadata": {},
   "source": [
    "Since the list is limited, I probably could have just guessed the index number until I got to the value I wanted. "
   ]
  },
  {
   "cell_type": "code",
   "execution_count": 41,
   "id": "2c6a2a78",
   "metadata": {
    "ExecuteTime": {
     "end_time": "2024-02-19T05:18:48.522785Z",
     "start_time": "2024-02-19T05:18:43.447909Z"
    },
    "scrolled": false
   },
   "outputs": [
    {
     "data": {
      "text/plain": [
       "Genus\n",
       "Streptococcus        161\n",
       "Enterococcus         110\n",
       "Propionibacterium     92\n",
       "Lactobacillus         73\n",
       "Helicobacter          70\n",
       "Prevotella            65\n",
       "Staphylococcus        64\n",
       "Bacteroides           63\n",
       "Escherichia           61\n",
       "Clostridium           58\n",
       "Corynebacterium       38\n",
       "Fusobacterium         36\n",
       "Actinomyces           34\n",
       "Bifidobacterium       31\n",
       "Treponema             25\n",
       "Gardnerella           22\n",
       "Klebsiella            21\n",
       "Eubacterium           21\n",
       "Neisseria             19\n",
       "Capnocytophaga        17\n",
       "Porphyromonas         17\n",
       "Veillonella           16\n",
       "Name: count, dtype: int64"
      ]
     },
     "execution_count": 41,
     "metadata": {},
     "output_type": "execute_result"
    }
   ],
   "source": [
    "df['Genus'].value_counts(ascending=False)[:22]"
   ]
  },
  {
   "cell_type": "markdown",
   "id": "3e86053b",
   "metadata": {},
   "source": [
    "Let's see if this changes based on a subset of the most prevalent organisms."
   ]
  },
  {
   "cell_type": "code",
   "execution_count": 42,
   "id": "9fa65be1",
   "metadata": {
    "ExecuteTime": {
     "end_time": "2024-02-19T05:18:48.523303Z",
     "start_time": "2024-02-19T05:18:43.458423Z"
    },
    "scrolled": false
   },
   "outputs": [],
   "source": [
    "top_organisms=micro.sort_values(by='Gene Count', ascending = False)[:1000]"
   ]
  },
  {
   "cell_type": "code",
   "execution_count": 43,
   "id": "802deb09",
   "metadata": {
    "ExecuteTime": {
     "end_time": "2024-02-19T05:18:48.989850Z",
     "start_time": "2024-02-19T05:18:43.464658Z"
    }
   },
   "outputs": [
    {
     "data": {
      "text/plain": [
       "<Axes: xlabel='Gene Count', ylabel='Count'>"
      ]
     },
     "execution_count": 43,
     "metadata": {},
     "output_type": "execute_result"
    },
    {
     "data": {
      "image/png": "[encoded data removed]",
      "text/plain": [
       "<Figure size 640x480 with 1 Axes>"
      ]
     },
     "metadata": {},
     "output_type": "display_data"
    }
   ],
   "source": [
    "sns.histplot(data=top_organisms, x=\"Gene Count\")"
   ]
  },
  {
   "cell_type": "code",
   "execution_count": 44,
   "id": "fc267134",
   "metadata": {
    "ExecuteTime": {
     "end_time": "2024-02-19T05:18:48.990031Z",
     "start_time": "2024-02-19T05:18:43.570506Z"
    }
   },
   "outputs": [],
   "source": [
    "# add genus column to the top_organisms\n",
    "top = top_organisms\n",
    "top['Genus'] = top['Organism Name'].str.split(' ').str[0]"
   ]
  },
  {
   "cell_type": "code",
   "execution_count": 45,
   "id": "99a6557c",
   "metadata": {
    "ExecuteTime": {
     "end_time": "2024-02-19T05:18:48.990285Z",
     "start_time": "2024-02-19T05:18:43.578546Z"
    },
    "scrolled": true
   },
   "outputs": [
    {
     "data": {
      "text/plain": [
       "Genus\n",
       "Enterococcus         109\n",
       "Propionibacterium     91\n",
       "Staphylococcus        62\n",
       "Bacteroides           62\n",
       "Escherichia           60\n",
       "Clostridium           57\n",
       "Streptococcus         53\n",
       "Prevotella            51\n",
       "Corynebacterium       32\n",
       "Treponema             24\n",
       "Lactobacillus         22\n",
       "Klebsiella            21\n",
       "Fusobacterium         20\n",
       "Actinomyces           17\n",
       "Neisseria             17\n",
       "Capnocytophaga        16\n",
       "Parabacteroides       15\n",
       "Acinetobacter         14\n",
       "Bifidobacterium       12\n",
       "Providencia           11\n",
       "Eubacterium            9\n",
       "Selenomonas            8\n",
       "Name: count, dtype: int64"
      ]
     },
     "execution_count": 45,
     "metadata": {},
     "output_type": "execute_result"
    }
   ],
   "source": [
    "top['Genus'].value_counts()[:22]"
   ]
  },
  {
   "cell_type": "markdown",
   "id": "c4c25996",
   "metadata": {},
   "source": [
    "In the original histogram, we saw that the highest frequency of species was between 1800-2400 gene count, so I am going to make a dataframe around that."
   ]
  },
  {
   "cell_type": "code",
   "execution_count": 46,
   "id": "478665a6",
   "metadata": {
    "ExecuteTime": {
     "end_time": "2024-02-19T05:18:48.990363Z",
     "start_time": "2024-02-19T05:18:43.583662Z"
    }
   },
   "outputs": [],
   "source": [
    "mid_microbe = micro[(micro['Gene Count'].values >= 1800) & (micro['Gene Count'].values <= 2400)]"
   ]
  },
  {
   "cell_type": "code",
   "execution_count": 47,
   "id": "63490f6c",
   "metadata": {
    "ExecuteTime": {
     "end_time": "2024-02-19T05:18:48.991514Z",
     "start_time": "2024-02-19T05:18:43.588182Z"
    }
   },
   "outputs": [],
   "source": [
    "mid_microbe['Genus'] = mid_microbe['Organism Name'].str.split(' ').str[0]"
   ]
  },
  {
   "cell_type": "code",
   "execution_count": 48,
   "id": "8acb858e",
   "metadata": {
    "ExecuteTime": {
     "end_time": "2024-02-19T05:18:48.991796Z",
     "start_time": "2024-02-19T05:18:43.593351Z"
    },
    "scrolled": true
   },
   "outputs": [
    {
     "data": {
      "text/plain": [
       "Genus\n",
       "Streptococcus            142\n",
       "Lactobacillus             30\n",
       "Staphylococcus            27\n",
       "Prevotella                25\n",
       "Corynebacterium           23\n",
       "Bifidobacterium           21\n",
       "Propionibacterium         20\n",
       "Fusobacterium             19\n",
       "Actinomyces               14\n",
       "Veillonella               13\n",
       "Porphyromonas             10\n",
       "Selenomonas               10\n",
       "Haemophilus               10\n",
       "Mobiluncus                 8\n",
       "Capnocytophaga             5\n",
       "Anaerococcus               5\n",
       "Neisseria                  4\n",
       "Peptostreptococcaceae      4\n",
       "Helicobacter               4\n",
       "Oribacterium               4\n",
       "Leptotrichia               4\n",
       "Peptoniphilus              4\n",
       "Name: count, dtype: int64"
      ]
     },
     "execution_count": 48,
     "metadata": {},
     "output_type": "execute_result"
    }
   ],
   "source": [
    "mid_microbe[\"Genus\"].value_counts().sort_values(ascending=False)[:22]"
   ]
  },
  {
   "cell_type": "markdown",
   "id": "2c070917",
   "metadata": {},
   "source": [
    "Now that I'm comfortable with having added \"Genus\" to my dataframes, I'm going to replace the main dataframe with the amended one."
   ]
  },
  {
   "cell_type": "code",
   "execution_count": 49,
   "id": "d7964b0a",
   "metadata": {
    "ExecuteTime": {
     "end_time": "2024-02-19T05:18:48.991868Z",
     "start_time": "2024-02-19T05:18:43.596274Z"
    }
   },
   "outputs": [],
   "source": [
    "df = micro"
   ]
  },
  {
   "cell_type": "markdown",
   "id": "f43bb710",
   "metadata": {},
   "source": [
    "I want to know how many unique sites on the human body were researched."
   ]
  },
  {
   "cell_type": "code",
   "execution_count": 50,
   "id": "2cc172cb",
   "metadata": {
    "ExecuteTime": {
     "end_time": "2024-02-19T05:18:48.992027Z",
     "start_time": "2024-02-19T05:18:43.600338Z"
    }
   },
   "outputs": [
    {
     "data": {
      "text/plain": [
       "12"
      ]
     },
     "execution_count": 50,
     "metadata": {},
     "output_type": "execute_result"
    }
   ],
   "source": [
    "micro['HMP Isolation Body Site'].nunique()"
   ]
  },
  {
   "cell_type": "code",
   "execution_count": 51,
   "id": "85a0c6d8",
   "metadata": {
    "ExecuteTime": {
     "end_time": "2024-02-19T05:18:48.992709Z",
     "start_time": "2024-02-19T05:18:43.605102Z"
    },
    "scrolled": true
   },
   "outputs": [
    {
     "data": {
      "text/plain": [
       "HMP Isolation Body Site\n",
       "gastrointestinal_tract    437\n",
       "unknown                   324\n",
       "oral                      317\n",
       "urogenital_tract          249\n",
       "skin                      127\n",
       "airways                    53\n",
       "blood                      49\n",
       "nose                        2\n",
       "heart                       2\n",
       "liver                       1\n",
       "wound                       1\n",
       "lymph_nodes                 1\n",
       "Name: count, dtype: int64"
      ]
     },
     "execution_count": 51,
     "metadata": {},
     "output_type": "execute_result"
    }
   ],
   "source": [
    "micro['HMP Isolation Body Site'].value_counts()"
   ]
  },
  {
   "cell_type": "markdown",
   "id": "cf50711e",
   "metadata": {},
   "source": [
    "Here is a chart of the species diversity at the different sites."
   ]
  },
  {
   "cell_type": "code",
   "execution_count": 52,
   "id": "5ce12575",
   "metadata": {
    "ExecuteTime": {
     "end_time": "2024-02-19T05:18:48.993269Z",
     "start_time": "2024-02-19T05:18:43.608053Z"
    }
   },
   "outputs": [
    {
     "data": {
      "text/plain": [
       "Text(0.5, 0, 'Name of body site')"
      ]
     },
     "execution_count": 52,
     "metadata": {},
     "output_type": "execute_result"
    },
    {
     "data": {
      "image/png": "[encoded data removed]",
      "text/plain": [
       "<Figure size 640x480 with 1 Axes>"
      ]
     },
     "metadata": {},
     "output_type": "display_data"
    }
   ],
   "source": [
    "micro['HMP Isolation Body Site'].value_counts().plot(kind='bar')\n",
    "plt.title('Presence of Microbes at Specified Body Sites')\n",
    "plt.ylabel('Number of microbial species found')\n",
    "plt.xlabel('Name of body site')"
   ]
  },
  {
   "cell_type": "markdown",
   "id": "6f2240f5",
   "metadata": {},
   "source": [
    "To find out more about the kingdom variance throughout the body, I'll look into those values."
   ]
  },
  {
   "cell_type": "code",
   "execution_count": 53,
   "id": "0b4a7034",
   "metadata": {
    "ExecuteTime": {
     "end_time": "2024-02-19T05:18:48.993772Z",
     "start_time": "2024-02-19T05:18:43.745637Z"
    },
    "scrolled": true
   },
   "outputs": [
    {
     "data": {
      "text/plain": [
       "NCBI Superkingdom\n",
       "Bacteria     11\n",
       "Eukaryota     3\n",
       "Archaea       1\n",
       "Viruses       1\n",
       "Name: HMP Isolation Body Site, dtype: int64"
      ]
     },
     "execution_count": 53,
     "metadata": {},
     "output_type": "execute_result"
    }
   ],
   "source": [
    "micro.groupby('NCBI Superkingdom')['HMP Isolation Body Site'].nunique().sort_values(ascending=False)"
   ]
  },
  {
   "cell_type": "markdown",
   "id": "323ac4fd",
   "metadata": {},
   "source": [
    "The Bacteria Kingdom is most prevelent throughout the body, so I'm going to look more closely that their locations by making a dataframe with the values from the \"bacterial\" domain."
   ]
  },
  {
   "cell_type": "code",
   "execution_count": 54,
   "id": "29a3df03",
   "metadata": {
    "ExecuteTime": {
     "end_time": "2024-02-19T05:18:48.993962Z",
     "start_time": "2024-02-19T05:18:43.753649Z"
    },
    "scrolled": true
   },
   "outputs": [
    {
     "data": {
      "text/plain": [
       "array(['oral', 'airways', 'urogenital_tract', 'skin',\n",
       "       'gastrointestinal_tract', 'blood', 'unknown', 'liver', 'nose',\n",
       "       'heart', 'lymph_nodes'], dtype=object)"
      ]
     },
     "execution_count": 54,
     "metadata": {},
     "output_type": "execute_result"
    }
   ],
   "source": [
    "#Select Bacterial domain and check body sites\n",
    "bac=micro.loc[micro['Domain']=='BACTERIAL']\n",
    "bac['HMP Isolation Body Site'].unique()"
   ]
  },
  {
   "cell_type": "code",
   "execution_count": 55,
   "id": "3a6ef83f",
   "metadata": {
    "ExecuteTime": {
     "end_time": "2024-02-19T05:18:48.994411Z",
     "start_time": "2024-02-19T05:18:43.765093Z"
    },
    "scrolled": false
   },
   "outputs": [
    {
     "data": {
      "text/plain": [
       "Text(0.5, 1.0, 'Presence of bacteria at different body sites')"
      ]
     },
     "execution_count": 55,
     "metadata": {},
     "output_type": "execute_result"
    },
    {
     "data": {
      "image/png": "[encoded data removed]",
      "text/plain": [
       "<Figure size 640x480 with 1 Axes>"
      ]
     },
     "metadata": {},
     "output_type": "display_data"
    }
   ],
   "source": [
    "#Plot\n",
    "bac['HMP Isolation Body Site'].value_counts(ascending=False).plot(kind='bar')\n",
    "plt.ylabel('Number of bacteria found')\n",
    "plt.xlabel('Name of body sites')\n",
    "plt.title('Presence of bacteria at different body sites')"
   ]
  },
  {
   "cell_type": "markdown",
   "id": "f6bd9a51",
   "metadata": {},
   "source": [
    "The greatest amount of bacteria are found in the gastrointestinal tract. Let's look at the other kingdoms."
   ]
  },
  {
   "cell_type": "code",
   "execution_count": 56,
   "id": "5e0f0549",
   "metadata": {
    "ExecuteTime": {
     "end_time": "2024-02-19T05:18:48.994630Z",
     "start_time": "2024-02-19T05:18:43.892203Z"
    }
   },
   "outputs": [
    {
     "data": {
      "text/plain": [
       "array(['unknown', 'skin', 'wound'], dtype=object)"
      ]
     },
     "execution_count": 56,
     "metadata": {},
     "output_type": "execute_result"
    }
   ],
   "source": [
    "#Select Eukaryal domain and check body sites\n",
    "euk=micro.loc[micro['Domain']=='EUKARYAL']\n",
    "euk['HMP Isolation Body Site'].unique()"
   ]
  },
  {
   "cell_type": "code",
   "execution_count": 57,
   "id": "274761e8",
   "metadata": {
    "ExecuteTime": {
     "end_time": "2024-02-19T05:18:48.995450Z",
     "start_time": "2024-02-19T05:18:43.903318Z"
    }
   },
   "outputs": [
    {
     "data": {
      "text/plain": [
       "Text(0.5, 1.0, 'Diversity of eukaryotes at different body sites')"
      ]
     },
     "execution_count": 57,
     "metadata": {},
     "output_type": "execute_result"
    },
    {
     "data": {
      "image/png": "[encoded data removed]",
      "text/plain": [
       "<Figure size 640x480 with 1 Axes>"
      ]
     },
     "metadata": {},
     "output_type": "display_data"
    }
   ],
   "source": [
    "#plot\n",
    "euk['HMP Isolation Body Site'].value_counts(ascending=False).plot(kind='bar')\n",
    "plt.ylabel('Number of different eukaryotes')\n",
    "plt.xlabel('Human body sites')\n",
    "plt.title('Diversity of eukaryotes at different body sites')"
   ]
  },
  {
   "cell_type": "markdown",
   "id": "78fd1b59",
   "metadata": {},
   "source": [
    "The greatest amount of eukaryotes are found on the skin. "
   ]
  },
  {
   "cell_type": "code",
   "execution_count": 58,
   "id": "ddb01076",
   "metadata": {
    "ExecuteTime": {
     "end_time": "2024-02-19T05:18:48.995712Z",
     "start_time": "2024-02-19T05:18:43.994356Z"
    }
   },
   "outputs": [
    {
     "data": {
      "text/plain": [
       "array(['unknown'], dtype=object)"
      ]
     },
     "execution_count": 58,
     "metadata": {},
     "output_type": "execute_result"
    }
   ],
   "source": [
    "vir=micro.loc[micro['Domain']=='VIRUS']\n",
    "vir['HMP Isolation Body Site'].unique()"
   ]
  },
  {
   "cell_type": "markdown",
   "id": "eec14682",
   "metadata": {},
   "source": [
    "From the data that we have, we are unable to determine where the greatest number of viruses are located. I'm guessing this is because viruses infect and replicate in cells, sometimes mainly infecting neighboring cells, but often spreading throughout the body. "
   ]
  },
  {
   "cell_type": "code",
   "execution_count": 59,
   "id": "bbea86e1",
   "metadata": {
    "ExecuteTime": {
     "end_time": "2024-02-19T05:18:48.995895Z",
     "start_time": "2024-02-19T05:18:43.998841Z"
    }
   },
   "outputs": [
    {
     "data": {
      "text/plain": [
       "array(['gastrointestinal_tract'], dtype=object)"
      ]
     },
     "execution_count": 59,
     "metadata": {},
     "output_type": "execute_result"
    }
   ],
   "source": [
    "arc=micro.loc[micro['Domain']=='ARCHAEAL']\n",
    "arc['HMP Isolation Body Site'].unique()"
   ]
  },
  {
   "cell_type": "markdown",
   "id": "ef0b12df",
   "metadata": {},
   "source": [
    "Based on this project, archaea are found solely in the Gastrointestinal Tract."
   ]
  },
  {
   "cell_type": "markdown",
   "id": "37e7e3d7",
   "metadata": {},
   "source": [
    "Streptococcus are the most prevalent throughout the body. Let's look further into this."
   ]
  },
  {
   "cell_type": "code",
   "execution_count": 60,
   "id": "b7441215",
   "metadata": {
    "ExecuteTime": {
     "end_time": "2024-02-19T05:18:48.996450Z",
     "start_time": "2024-02-19T05:18:44.004060Z"
    }
   },
   "outputs": [
    {
     "data": {
      "text/plain": [
       "Text(0.5, 1.0, 'Location and Prevalence of Streptococcal Bacteria')"
      ]
     },
     "execution_count": 60,
     "metadata": {},
     "output_type": "execute_result"
    },
    {
     "data": {
      "image/png": "[encoded data removed]",
      "text/plain": [
       "<Figure size 640x480 with 1 Axes>"
      ]
     },
     "metadata": {},
     "output_type": "display_data"
    }
   ],
   "source": [
    "strep=micro.loc[micro['Genus']=='Streptococcus']\n",
    "strep['HMP Isolation Body Site'].value_counts().plot(kind='bar')\n",
    "plt.title(\"Location and Prevalence of Streptococcal Bacteria\")"
   ]
  },
  {
   "cell_type": "markdown",
   "id": "d34e2f8e",
   "metadata": {},
   "source": [
    "Let's see how other top genuses compare."
   ]
  },
  {
   "cell_type": "code",
   "execution_count": 61,
   "id": "aba2beeb",
   "metadata": {
    "ExecuteTime": {
     "end_time": "2024-02-19T05:18:49.004985Z",
     "start_time": "2024-02-19T05:18:44.113271Z"
    },
    "scrolled": false
   },
   "outputs": [
    {
     "name": "stdout",
     "output_type": "stream",
     "text": [
      "                   HMP Isolation Body Site\n",
      "Genus                                     \n",
      "Streptococcus                            8\n",
      "Staphylococcus                           7\n",
      "Enterococcus                             6\n",
      "Prevotella                               6\n",
      "Corynebacterium                          6\n",
      "Haemophilus                              5\n",
      "Klebsiella                               5\n",
      "Propionibacterium                        5\n",
      "Bifidobacterium                          5\n",
      "Neisseria                                5\n",
      "Fusobacterium                            5\n",
      "Actinomyces                              5\n"
     ]
    },
    {
     "data": {
      "text/plain": [
       "Text(0.5, 1.0, 'Number of organism genuses for different microorganisms')"
      ]
     },
     "execution_count": 61,
     "metadata": {},
     "output_type": "execute_result"
    },
    {
     "data": {
      "image/png": "[encoded data removed]",
      "text/plain": [
       "<Figure size 640x480 with 1 Axes>"
      ]
     },
     "metadata": {},
     "output_type": "display_data"
    }
   ],
   "source": [
    "genus_site=micro.groupby('Genus')['HMP Isolation Body Site'].nunique().sort_values(ascending=False)\n",
    "genus_df=pd.DataFrame(genus_site)\n",
    "top_genus=genus_df[genus_df['HMP Isolation Body Site']>4]\n",
    "print(top_genus)\n",
    "top_genus.plot(kind='bar')\n",
    "plt.ylabel('Number of different body sites')\n",
    "plt.title('Number of organism genuses for different microorganisms')"
   ]
  },
  {
   "cell_type": "markdown",
   "id": "2dc9ca4d",
   "metadata": {},
   "source": [
    "Because viruses are limited, we can print all of their names. "
   ]
  },
  {
   "cell_type": "code",
   "execution_count": 62,
   "id": "ebcb57cc",
   "metadata": {
    "ExecuteTime": {
     "end_time": "2024-02-19T05:18:49.005467Z",
     "start_time": "2024-02-19T05:18:44.261479Z"
    },
    "scrolled": true
   },
   "outputs": [
    {
     "data": {
      "text/plain": [
       "2852    Pseudomonas phage F_HA0480sp/Pa1651\n",
       "2853                Pseudomonas phage JBD18\n",
       "2854                Pseudomonas phage JBD25\n",
       "2855                Pseudomonas phage JBD26\n",
       "2856                Pseudomonas phage JBD67\n",
       "Name: Organism Name, dtype: object"
      ]
     },
     "execution_count": 62,
     "metadata": {},
     "output_type": "execute_result"
    }
   ],
   "source": [
    "viruses= micro[micro['NCBI Superkingdom'] =='Viruses']\n",
    "viruses['Organism Name']"
   ]
  },
  {
   "cell_type": "markdown",
   "id": "a59c7342",
   "metadata": {},
   "source": [
    "Because eukaryotes are limited, we can print all of their names. "
   ]
  },
  {
   "cell_type": "code",
   "execution_count": 63,
   "id": "db31a8f1",
   "metadata": {
    "ExecuteTime": {
     "end_time": "2024-02-19T05:18:49.005671Z",
     "start_time": "2024-02-19T05:18:44.263650Z"
    },
    "scrolled": true
   },
   "outputs": [
    {
     "data": {
      "text/plain": [
       "601                  Exophiala dermatitidis NIH/UT8656\n",
       "983                    Phialophora europaea CBS 101466\n",
       "985     Mucor circinelloides f. circinelloides 1006PhL\n",
       "1065                   Sporothrix schenckii ATCC 58251\n",
       "Name: Organism Name, dtype: object"
      ]
     },
     "execution_count": 63,
     "metadata": {},
     "output_type": "execute_result"
    }
   ],
   "source": [
    "eukaryotes= micro[micro['NCBI Superkingdom']=='Eukaryota']\n",
    "eukaryotes['Organism Name']"
   ]
  },
  {
   "cell_type": "markdown",
   "id": "08c11676",
   "metadata": {},
   "source": [
    "Because archaea are limited, we can print all of their names. "
   ]
  },
  {
   "cell_type": "code",
   "execution_count": 64,
   "id": "0b457354",
   "metadata": {
    "ExecuteTime": {
     "end_time": "2024-02-19T05:18:49.005852Z",
     "start_time": "2024-02-19T05:18:44.268530Z"
    }
   },
   "outputs": [
    {
     "data": {
      "text/plain": [
       "302    Methanobrevibacter smithii DSM 2374\n",
       "303    Methanobrevibacter smithii DSM 2375\n",
       "Name: Organism Name, dtype: object"
      ]
     },
     "execution_count": 64,
     "metadata": {},
     "output_type": "execute_result"
    }
   ],
   "source": [
    "archaea= micro[micro['NCBI Superkingdom']=='Archaea']\n",
    "archaea['Organism Name']"
   ]
  },
  {
   "cell_type": "code",
   "execution_count": 65,
   "id": "983c4885",
   "metadata": {
    "ExecuteTime": {
     "end_time": "2024-02-19T05:18:49.006078Z",
     "start_time": "2024-02-19T05:18:44.272835Z"
    }
   },
   "outputs": [
    {
     "data": {
      "text/plain": [
       "NCBI Superkingdom\n",
       "Bacteria     1552\n",
       "Viruses         5\n",
       "Eukaryota       4\n",
       "Archaea         2\n",
       "Name: count, dtype: int64"
      ]
     },
     "execution_count": 65,
     "metadata": {},
     "output_type": "execute_result"
    }
   ],
   "source": [
    "micro['NCBI Superkingdom'].value_counts()"
   ]
  },
  {
   "cell_type": "markdown",
   "id": "ce9f4f8c",
   "metadata": {},
   "source": [
    "Observations from this EDA:\n",
    " - Gastrointestinal system shows most diversity of microbes\n",
    " - Streptomyces sp. HGB0020 shows the maximum gene count in human\n",
    " - Streptococcus is most common genus"
   ]
  },
  {
   "cell_type": "code",
   "execution_count": 66,
   "id": "774c2e28",
   "metadata": {
    "ExecuteTime": {
     "end_time": "2024-02-19T05:18:49.006170Z",
     "start_time": "2024-02-19T05:18:44.276255Z"
    }
   },
   "outputs": [],
   "source": [
    "# change df name for transformations\n",
    "df = micro "
   ]
  },
  {
   "cell_type": "code",
   "execution_count": 67,
   "id": "d6406a2b",
   "metadata": {
    "ExecuteTime": {
     "end_time": "2024-02-19T05:18:49.006971Z",
     "start_time": "2024-02-19T05:18:44.283505Z"
    }
   },
   "outputs": [
    {
     "data": {
      "text/html": [
       "<div>\n",
       "<style scoped>\n",
       "    .dataframe tbody tr th:only-of-type {\n",
       "        vertical-align: middle;\n",
       "    }\n",
       "\n",
       "    .dataframe tbody tr th {\n",
       "        vertical-align: top;\n",
       "    }\n",
       "\n",
       "    .dataframe thead th {\n",
       "        text-align: right;\n",
       "    }\n",
       "</style>\n",
       "<table border=\"1\" class=\"dataframe\">\n",
       "  <thead>\n",
       "    <tr style=\"text-align: right;\">\n",
       "      <th></th>\n",
       "      <th>HMP ID</th>\n",
       "      <th>GOLD ID</th>\n",
       "      <th>Organism Name</th>\n",
       "      <th>Domain</th>\n",
       "      <th>NCBI Superkingdom</th>\n",
       "      <th>HMP Isolation Body Site</th>\n",
       "      <th>Project Status</th>\n",
       "      <th>Current Finishing Level</th>\n",
       "      <th>NCBI Submission Status</th>\n",
       "      <th>NCBI Project ID</th>\n",
       "      <th>Genbank ID</th>\n",
       "      <th>Gene Count</th>\n",
       "      <th>IMG/HMP ID</th>\n",
       "      <th>HOMD ID</th>\n",
       "      <th>Sequencing Center</th>\n",
       "      <th>Funding Source</th>\n",
       "      <th>Strain Repository ID</th>\n",
       "      <th>Unnamed: 17</th>\n",
       "      <th>Unnamed: 18</th>\n",
       "      <th>Genus</th>\n",
       "    </tr>\n",
       "  </thead>\n",
       "  <tbody>\n",
       "    <tr>\n",
       "      <th>0</th>\n",
       "      <td>1</td>\n",
       "      <td>Gi03551</td>\n",
       "      <td>Abiotrophia defectiva ATCC 49176</td>\n",
       "      <td>BACTERIAL</td>\n",
       "      <td>Bacteria</td>\n",
       "      <td>oral</td>\n",
       "      <td>Complete</td>\n",
       "      <td>Level 3: Improved-High-Quality Draft</td>\n",
       "      <td>6. annotation (and sequence) public on NCBI site</td>\n",
       "      <td>33011</td>\n",
       "      <td>ACIN00000000</td>\n",
       "      <td>1950</td>\n",
       "      <td>643886181</td>\n",
       "      <td>HOMD: tax_389</td>\n",
       "      <td>Washington University Genome Sequencing Center</td>\n",
       "      <td>NIH-HMP Jumpstart Supplement</td>\n",
       "      <td>ATCC 49176, CIP 103242</td>\n",
       "      <td>NaN</td>\n",
       "      <td>NaN</td>\n",
       "      <td>Abiotrophia</td>\n",
       "    </tr>\n",
       "    <tr>\n",
       "      <th>1</th>\n",
       "      <td>4</td>\n",
       "      <td>Gi03555</td>\n",
       "      <td>Achromobacter piechaudii ATCC 43553</td>\n",
       "      <td>BACTERIAL</td>\n",
       "      <td>Bacteria</td>\n",
       "      <td>airways</td>\n",
       "      <td>Complete</td>\n",
       "      <td>Level 2: High-Quality Draft</td>\n",
       "      <td>6. annotation (and sequence) public on NCBI site</td>\n",
       "      <td>46343</td>\n",
       "      <td>ADMS00000000</td>\n",
       "      <td>5755</td>\n",
       "      <td>647000200</td>\n",
       "      <td>NaN</td>\n",
       "      <td>Baylor College of Medicine</td>\n",
       "      <td>NIH-HMP Jumpstart Supplement</td>\n",
       "      <td>ATCC 43553, CIP 55774, LMG 6100</td>\n",
       "      <td>NaN</td>\n",
       "      <td>NaN</td>\n",
       "      <td>Achromobacter</td>\n",
       "    </tr>\n",
       "    <tr>\n",
       "      <th>2</th>\n",
       "      <td>5</td>\n",
       "      <td>Gi03554</td>\n",
       "      <td>Achromobacter xylosoxidans C54</td>\n",
       "      <td>BACTERIAL</td>\n",
       "      <td>Bacteria</td>\n",
       "      <td>airways</td>\n",
       "      <td>Complete</td>\n",
       "      <td>Level 5: Non-contiguous Finished</td>\n",
       "      <td>6. annotation (and sequence) public on NCBI site</td>\n",
       "      <td>38739</td>\n",
       "      <td>ACRC00000000</td>\n",
       "      <td>6010</td>\n",
       "      <td>0</td>\n",
       "      <td>HOMD: tax_343</td>\n",
       "      <td>Broad Institute</td>\n",
       "      <td>NIH-HMP Jumpstart Supplement</td>\n",
       "      <td>BEI HM-235</td>\n",
       "      <td>NaN</td>\n",
       "      <td>NaN</td>\n",
       "      <td>Achromobacter</td>\n",
       "    </tr>\n",
       "    <tr>\n",
       "      <th>3</th>\n",
       "      <td>10</td>\n",
       "      <td>Gi03422</td>\n",
       "      <td>Acinetobacter baumannii ATCC 19606</td>\n",
       "      <td>BACTERIAL</td>\n",
       "      <td>Bacteria</td>\n",
       "      <td>urogenital_tract</td>\n",
       "      <td>Complete</td>\n",
       "      <td>Level 2: High-Quality Draft</td>\n",
       "      <td>6. annotation (and sequence) public on NCBI site</td>\n",
       "      <td>38509</td>\n",
       "      <td>ACQB00000000</td>\n",
       "      <td>3832</td>\n",
       "      <td>647533101</td>\n",
       "      <td>HOMD: tax_554</td>\n",
       "      <td>Broad Institute</td>\n",
       "      <td>NIH-HMP Jumpstart Supplement</td>\n",
       "      <td>ATCC 19606, DSM 6974</td>\n",
       "      <td>NaN</td>\n",
       "      <td>NaN</td>\n",
       "      <td>Acinetobacter</td>\n",
       "    </tr>\n",
       "    <tr>\n",
       "      <th>4</th>\n",
       "      <td>12</td>\n",
       "      <td>Gi03421</td>\n",
       "      <td>Acinetobacter calcoaceticus RUH2202</td>\n",
       "      <td>BACTERIAL</td>\n",
       "      <td>Bacteria</td>\n",
       "      <td>skin</td>\n",
       "      <td>Complete</td>\n",
       "      <td>Level 2: High-Quality Draft</td>\n",
       "      <td>6. annotation (and sequence) public on NCBI site</td>\n",
       "      <td>38337</td>\n",
       "      <td>ACPK00000000</td>\n",
       "      <td>3632</td>\n",
       "      <td>646206267</td>\n",
       "      <td>NaN</td>\n",
       "      <td>Broad Institute</td>\n",
       "      <td>NIH-HMP Jumpstart Supplement</td>\n",
       "      <td>LMG 10517</td>\n",
       "      <td>NaN</td>\n",
       "      <td>NaN</td>\n",
       "      <td>Acinetobacter</td>\n",
       "    </tr>\n",
       "  </tbody>\n",
       "</table>\n",
       "</div>"
      ],
      "text/plain": [
       "   HMP ID  GOLD ID                        Organism Name     Domain  \\\n",
       "0       1  Gi03551     Abiotrophia defectiva ATCC 49176  BACTERIAL   \n",
       "1       4  Gi03555  Achromobacter piechaudii ATCC 43553  BACTERIAL   \n",
       "2       5  Gi03554       Achromobacter xylosoxidans C54  BACTERIAL   \n",
       "3      10  Gi03422   Acinetobacter baumannii ATCC 19606  BACTERIAL   \n",
       "4      12  Gi03421  Acinetobacter calcoaceticus RUH2202  BACTERIAL   \n",
       "\n",
       "  NCBI Superkingdom HMP Isolation Body Site Project Status  \\\n",
       "0          Bacteria                    oral       Complete   \n",
       "1          Bacteria                 airways       Complete   \n",
       "2          Bacteria                 airways       Complete   \n",
       "3          Bacteria        urogenital_tract       Complete   \n",
       "4          Bacteria                    skin       Complete   \n",
       "\n",
       "                Current Finishing Level  \\\n",
       "0  Level 3: Improved-High-Quality Draft   \n",
       "1           Level 2: High-Quality Draft   \n",
       "2      Level 5: Non-contiguous Finished   \n",
       "3           Level 2: High-Quality Draft   \n",
       "4           Level 2: High-Quality Draft   \n",
       "\n",
       "                             NCBI Submission Status  NCBI Project ID  \\\n",
       "0  6. annotation (and sequence) public on NCBI site            33011   \n",
       "1  6. annotation (and sequence) public on NCBI site            46343   \n",
       "2  6. annotation (and sequence) public on NCBI site            38739   \n",
       "3  6. annotation (and sequence) public on NCBI site            38509   \n",
       "4  6. annotation (and sequence) public on NCBI site            38337   \n",
       "\n",
       "     Genbank ID  Gene Count  IMG/HMP ID        HOMD ID  \\\n",
       "0  ACIN00000000        1950   643886181  HOMD: tax_389   \n",
       "1  ADMS00000000        5755   647000200            NaN   \n",
       "2  ACRC00000000        6010           0  HOMD: tax_343   \n",
       "3  ACQB00000000        3832   647533101  HOMD: tax_554   \n",
       "4  ACPK00000000        3632   646206267            NaN   \n",
       "\n",
       "                                Sequencing Center  \\\n",
       "0  Washington University Genome Sequencing Center   \n",
       "1                      Baylor College of Medicine   \n",
       "2                                 Broad Institute   \n",
       "3                                 Broad Institute   \n",
       "4                                 Broad Institute   \n",
       "\n",
       "                 Funding Source             Strain Repository ID  Unnamed: 17  \\\n",
       "0  NIH-HMP Jumpstart Supplement           ATCC 49176, CIP 103242          NaN   \n",
       "1  NIH-HMP Jumpstart Supplement  ATCC 43553, CIP 55774, LMG 6100          NaN   \n",
       "2  NIH-HMP Jumpstart Supplement                       BEI HM-235          NaN   \n",
       "3  NIH-HMP Jumpstart Supplement             ATCC 19606, DSM 6974          NaN   \n",
       "4  NIH-HMP Jumpstart Supplement                        LMG 10517          NaN   \n",
       "\n",
       "   Unnamed: 18          Genus  \n",
       "0          NaN    Abiotrophia  \n",
       "1          NaN  Achromobacter  \n",
       "2          NaN  Achromobacter  \n",
       "3          NaN  Acinetobacter  \n",
       "4          NaN  Acinetobacter  "
      ]
     },
     "execution_count": 67,
     "metadata": {},
     "output_type": "execute_result"
    }
   ],
   "source": [
    "# df.head() #commented out for brevity"
   ]
  },
  {
   "cell_type": "code",
   "execution_count": 68,
   "id": "f9c22cb0",
   "metadata": {
    "ExecuteTime": {
     "end_time": "2024-02-19T05:18:49.007266Z",
     "start_time": "2024-02-19T05:18:44.288391Z"
    }
   },
   "outputs": [
    {
     "data": {
      "text/plain": [
       "HMP ID                        0\n",
       "GOLD ID                      70\n",
       "Organism Name                 0\n",
       "Domain                        0\n",
       "NCBI Superkingdom             0\n",
       "HMP Isolation Body Site       0\n",
       "Project Status                0\n",
       "Current Finishing Level       0\n",
       "NCBI Submission Status        0\n",
       "NCBI Project ID               0\n",
       "Genbank ID                    0\n",
       "Gene Count                    0\n",
       "IMG/HMP ID                    0\n",
       "HOMD ID                    1177\n",
       "Sequencing Center             0\n",
       "Funding Source                0\n",
       "Strain Repository ID        296\n",
       "Unnamed: 17                1563\n",
       "Unnamed: 18                1563\n",
       "Genus                         0\n",
       "dtype: int64"
      ]
     },
     "execution_count": 68,
     "metadata": {},
     "output_type": "execute_result"
    }
   ],
   "source": [
    "#find na values\n",
    "df.isna().sum()"
   ]
  },
  {
   "cell_type": "code",
   "execution_count": 69,
   "id": "5b2456f6",
   "metadata": {
    "ExecuteTime": {
     "end_time": "2024-02-19T05:18:49.007489Z",
     "start_time": "2024-02-19T05:18:44.294554Z"
    },
    "scrolled": true
   },
   "outputs": [
    {
     "data": {
      "text/plain": [
       "Unnamed: 18                100.00\n",
       "Unnamed: 17                100.00\n",
       "HOMD ID                     75.30\n",
       "Strain Repository ID        18.94\n",
       "GOLD ID                      4.48\n",
       "HMP ID                       0.00\n",
       "Funding Source               0.00\n",
       "Sequencing Center            0.00\n",
       "IMG/HMP ID                   0.00\n",
       "Gene Count                   0.00\n",
       "Genbank ID                   0.00\n",
       "NCBI Project ID              0.00\n",
       "NCBI Submission Status       0.00\n",
       "Current Finishing Level      0.00\n",
       "Project Status               0.00\n",
       "HMP Isolation Body Site      0.00\n",
       "NCBI Superkingdom            0.00\n",
       "Domain                       0.00\n",
       "Organism Name                0.00\n",
       "Genus                        0.00\n",
       "dtype: float64"
      ]
     },
     "execution_count": 69,
     "metadata": {},
     "output_type": "execute_result"
    }
   ],
   "source": [
    "#check percentage missing values\n",
    "round((df.isnull().sum() * 100/ len(df)),2).sort_values(ascending=False)"
   ]
  },
  {
   "cell_type": "code",
   "execution_count": 70,
   "id": "b689264e",
   "metadata": {
    "ExecuteTime": {
     "end_time": "2024-02-19T05:18:49.007663Z",
     "start_time": "2024-02-19T05:18:44.299296Z"
    }
   },
   "outputs": [
    {
     "data": {
      "text/plain": [
       "0       HOMD: tax_389\n",
       "1                 NaN\n",
       "2       HOMD: tax_343\n",
       "3       HOMD: tax_554\n",
       "4                 NaN\n",
       "            ...      \n",
       "2910              NaN\n",
       "2911              NaN\n",
       "2912              NaN\n",
       "2913              NaN\n",
       "2914              NaN\n",
       "Name: HOMD ID, Length: 1563, dtype: object"
      ]
     },
     "execution_count": 70,
     "metadata": {},
     "output_type": "execute_result"
    }
   ],
   "source": [
    "# HOMD ID has 75% missing values so I'm checking it\n",
    "df['HOMD ID']"
   ]
  },
  {
   "cell_type": "markdown",
   "id": "8db10bbf",
   "metadata": {},
   "source": [
    "The unnamed columns provide no information so they can be removed. HOMD ID isn't necessary for analysis so it can be removed as well."
   ]
  },
  {
   "cell_type": "code",
   "execution_count": 71,
   "id": "8a025712",
   "metadata": {
    "ExecuteTime": {
     "end_time": "2024-02-19T05:18:49.007733Z",
     "start_time": "2024-02-19T05:18:44.302751Z"
    }
   },
   "outputs": [],
   "source": [
    "df2 = df.drop(['Unnamed: 18', 'Unnamed: 17', 'HOMD ID'], axis=1)"
   ]
  },
  {
   "cell_type": "code",
   "execution_count": 72,
   "id": "2f8de3af",
   "metadata": {
    "ExecuteTime": {
     "end_time": "2024-02-19T05:18:49.007908Z",
     "start_time": "2024-02-19T05:18:44.308040Z"
    }
   },
   "outputs": [
    {
     "data": {
      "text/plain": [
       "Strain Repository ID       18.94\n",
       "GOLD ID                     4.48\n",
       "HMP ID                      0.00\n",
       "NCBI Project ID             0.00\n",
       "Funding Source              0.00\n",
       "Sequencing Center           0.00\n",
       "IMG/HMP ID                  0.00\n",
       "Gene Count                  0.00\n",
       "Genbank ID                  0.00\n",
       "NCBI Submission Status      0.00\n",
       "Current Finishing Level     0.00\n",
       "Project Status              0.00\n",
       "HMP Isolation Body Site     0.00\n",
       "NCBI Superkingdom           0.00\n",
       "Domain                      0.00\n",
       "Organism Name               0.00\n",
       "Genus                       0.00\n",
       "dtype: float64"
      ]
     },
     "execution_count": 72,
     "metadata": {},
     "output_type": "execute_result"
    }
   ],
   "source": [
    "#check percentage missing values\n",
    "round((df2.isnull().sum() * 100/ len(df2)),2).sort_values(ascending=False)"
   ]
  },
  {
   "cell_type": "code",
   "execution_count": 73,
   "id": "8f5ee0d2",
   "metadata": {
    "ExecuteTime": {
     "end_time": "2024-02-19T05:18:49.008088Z",
     "start_time": "2024-02-19T05:18:44.311291Z"
    }
   },
   "outputs": [
    {
     "data": {
      "text/plain": [
       "0                ATCC 49176, CIP 103242\n",
       "1       ATCC 43553, CIP 55774, LMG 6100\n",
       "2                            BEI HM-235\n",
       "3                  ATCC 19606, DSM 6974\n",
       "4                             LMG 10517\n",
       "                     ...               \n",
       "2910                         BEI HM-909\n",
       "2911                         ATCC 43718\n",
       "2912                         BEI HM-755\n",
       "2913                         ATCC 27337\n",
       "2914                         BEI HM-756\n",
       "Name: Strain Repository ID, Length: 1563, dtype: object"
      ]
     },
     "execution_count": 73,
     "metadata": {},
     "output_type": "execute_result"
    }
   ],
   "source": [
    "df['Strain Repository ID']"
   ]
  },
  {
   "cell_type": "code",
   "execution_count": 74,
   "id": "26837863",
   "metadata": {
    "ExecuteTime": {
     "end_time": "2024-02-19T05:18:49.008265Z",
     "start_time": "2024-02-19T05:18:44.315426Z"
    }
   },
   "outputs": [
    {
     "data": {
      "text/plain": [
       "0       Gi03551\n",
       "1       Gi03555\n",
       "2       Gi03554\n",
       "3       Gi03422\n",
       "4       Gi03421\n",
       "         ...   \n",
       "2910    Gi08654\n",
       "2911    Gi09593\n",
       "2912    Gi09594\n",
       "2913    Gi09595\n",
       "2914    Gi09596\n",
       "Name: GOLD ID, Length: 1563, dtype: object"
      ]
     },
     "execution_count": 74,
     "metadata": {},
     "output_type": "execute_result"
    }
   ],
   "source": [
    "df[\"GOLD ID\"]"
   ]
  },
  {
   "cell_type": "code",
   "execution_count": 75,
   "id": "8f8b935a",
   "metadata": {
    "ExecuteTime": {
     "end_time": "2024-02-19T05:18:49.008347Z",
     "start_time": "2024-02-19T05:18:44.319037Z"
    }
   },
   "outputs": [],
   "source": [
    "#HOMD ID and Strain Repository ID are not necessary for analysis so they can be dropped\n",
    "df2 = df2.drop(['Strain Repository ID', 'GOLD ID'], axis=1)"
   ]
  },
  {
   "cell_type": "code",
   "execution_count": 76,
   "id": "265e5d2e",
   "metadata": {
    "ExecuteTime": {
     "end_time": "2024-02-19T05:18:49.008527Z",
     "start_time": "2024-02-19T05:18:44.323186Z"
    },
    "scrolled": true
   },
   "outputs": [
    {
     "data": {
      "text/plain": [
       "['HMP ID',\n",
       " 'Organism Name',\n",
       " 'Domain',\n",
       " 'NCBI Superkingdom',\n",
       " 'HMP Isolation Body Site',\n",
       " 'Project Status',\n",
       " 'Current Finishing Level',\n",
       " 'NCBI Submission Status',\n",
       " 'NCBI Project ID',\n",
       " 'Genbank ID',\n",
       " 'Gene Count',\n",
       " 'IMG/HMP ID',\n",
       " 'Sequencing Center',\n",
       " 'Funding Source',\n",
       " 'Genus']"
      ]
     },
     "execution_count": 76,
     "metadata": {},
     "output_type": "execute_result"
    }
   ],
   "source": [
    "df2.columns.tolist()"
   ]
  },
  {
   "cell_type": "code",
   "execution_count": 77,
   "id": "2098920f",
   "metadata": {
    "ExecuteTime": {
     "end_time": "2024-02-19T05:18:49.008606Z",
     "start_time": "2024-02-19T05:18:44.326757Z"
    }
   },
   "outputs": [],
   "source": [
    "#removing the rest of the ID columns\n",
    "df2 = df2.drop(['NCBI Project ID',\n",
    " 'Genbank ID', 'IMG/HMP ID'], axis=1)"
   ]
  },
  {
   "cell_type": "code",
   "execution_count": 78,
   "id": "9a545913",
   "metadata": {
    "ExecuteTime": {
     "end_time": "2024-02-19T05:18:49.008671Z",
     "start_time": "2024-02-19T05:18:44.328965Z"
    },
    "scrolled": true
   },
   "outputs": [],
   "source": [
    "#new df name to preserve previous\n",
    "df = df2"
   ]
  },
  {
   "cell_type": "code",
   "execution_count": 79,
   "id": "09caac0e",
   "metadata": {
    "ExecuteTime": {
     "end_time": "2024-02-19T05:18:49.008987Z",
     "start_time": "2024-02-19T05:18:44.331909Z"
    }
   },
   "outputs": [
    {
     "data": {
      "text/plain": [
       "['HMP ID',\n",
       " 'Organism Name',\n",
       " 'Domain',\n",
       " 'NCBI Superkingdom',\n",
       " 'HMP Isolation Body Site',\n",
       " 'Project Status',\n",
       " 'Current Finishing Level',\n",
       " 'NCBI Submission Status',\n",
       " 'Gene Count',\n",
       " 'Sequencing Center',\n",
       " 'Funding Source',\n",
       " 'Genus']"
      ]
     },
     "execution_count": 79,
     "metadata": {},
     "output_type": "execute_result"
    }
   ],
   "source": [
    "df.columns.tolist()"
   ]
  },
  {
   "cell_type": "code",
   "execution_count": 80,
   "id": "dc40c5d6",
   "metadata": {
    "ExecuteTime": {
     "end_time": "2024-02-19T05:18:49.009109Z",
     "start_time": "2024-02-19T05:18:44.336781Z"
    }
   },
   "outputs": [],
   "source": [
    "# subset of df\n",
    "test_df = df[['HMP ID',\n",
    " 'Organism Name',\n",
    " 'Domain',\n",
    " 'NCBI Superkingdom',\n",
    " 'HMP Isolation Body Site',\n",
    " 'Gene Count',\n",
    " 'Genus']]"
   ]
  },
  {
   "cell_type": "code",
   "execution_count": 81,
   "id": "c068bdbf",
   "metadata": {
    "ExecuteTime": {
     "end_time": "2024-02-19T05:18:49.009316Z",
     "start_time": "2024-02-19T05:18:44.339516Z"
    },
    "scrolled": true
   },
   "outputs": [
    {
     "data": {
      "text/plain": [
       "(1563, 7)"
      ]
     },
     "execution_count": 81,
     "metadata": {},
     "output_type": "execute_result"
    }
   ],
   "source": [
    "test_df.shape"
   ]
  },
  {
   "cell_type": "code",
   "execution_count": 82,
   "id": "c20be965",
   "metadata": {
    "ExecuteTime": {
     "end_time": "2024-02-19T05:18:49.009509Z",
     "start_time": "2024-02-19T05:18:44.344046Z"
    }
   },
   "outputs": [
    {
     "data": {
      "text/plain": [
       "Genus\n",
       "Streptococcus        161\n",
       "Enterococcus         110\n",
       "Propionibacterium     92\n",
       "Lactobacillus         73\n",
       "Helicobacter          70\n",
       "                    ... \n",
       "Pediococcus            1\n",
       "Mycobacterium          1\n",
       "Micrococcus            1\n",
       "Leuconostoc            1\n",
       "Acetobacteraceae       1\n",
       "Name: count, Length: 185, dtype: int64"
      ]
     },
     "execution_count": 82,
     "metadata": {},
     "output_type": "execute_result"
    }
   ],
   "source": [
    "#checking size and unique values of columns\n",
    "df['Genus'].value_counts()"
   ]
  },
  {
   "cell_type": "code",
   "execution_count": 83,
   "id": "82a2adb9",
   "metadata": {
    "ExecuteTime": {
     "end_time": "2024-02-19T05:18:49.009587Z",
     "start_time": "2024-02-19T05:18:44.347811Z"
    }
   },
   "outputs": [],
   "source": [
    "# rename for to preserve previous\n",
    "new_df = test_df"
   ]
  },
  {
   "cell_type": "code",
   "execution_count": 84,
   "id": "edeb00d2",
   "metadata": {
    "ExecuteTime": {
     "end_time": "2024-02-19T05:18:49.009985Z",
     "start_time": "2024-02-19T05:18:44.352213Z"
    }
   },
   "outputs": [
    {
     "data": {
      "text/html": [
       "<div>\n",
       "<style scoped>\n",
       "    .dataframe tbody tr th:only-of-type {\n",
       "        vertical-align: middle;\n",
       "    }\n",
       "\n",
       "    .dataframe tbody tr th {\n",
       "        vertical-align: top;\n",
       "    }\n",
       "\n",
       "    .dataframe thead th {\n",
       "        text-align: right;\n",
       "    }\n",
       "</style>\n",
       "<table border=\"1\" class=\"dataframe\">\n",
       "  <thead>\n",
       "    <tr style=\"text-align: right;\">\n",
       "      <th></th>\n",
       "      <th>HMP ID</th>\n",
       "      <th>Organism Name</th>\n",
       "      <th>Domain</th>\n",
       "      <th>NCBI Superkingdom</th>\n",
       "      <th>HMP Isolation Body Site</th>\n",
       "      <th>Gene Count</th>\n",
       "      <th>Genus</th>\n",
       "    </tr>\n",
       "  </thead>\n",
       "  <tbody>\n",
       "    <tr>\n",
       "      <th>0</th>\n",
       "      <td>1</td>\n",
       "      <td>Abiotrophia defectiva ATCC 49176</td>\n",
       "      <td>BACTERIAL</td>\n",
       "      <td>Bacteria</td>\n",
       "      <td>oral</td>\n",
       "      <td>1950</td>\n",
       "      <td>Abiotrophia</td>\n",
       "    </tr>\n",
       "    <tr>\n",
       "      <th>1</th>\n",
       "      <td>4</td>\n",
       "      <td>Achromobacter piechaudii ATCC 43553</td>\n",
       "      <td>BACTERIAL</td>\n",
       "      <td>Bacteria</td>\n",
       "      <td>airways</td>\n",
       "      <td>5755</td>\n",
       "      <td>Achromobacter</td>\n",
       "    </tr>\n",
       "    <tr>\n",
       "      <th>2</th>\n",
       "      <td>5</td>\n",
       "      <td>Achromobacter xylosoxidans C54</td>\n",
       "      <td>BACTERIAL</td>\n",
       "      <td>Bacteria</td>\n",
       "      <td>airways</td>\n",
       "      <td>6010</td>\n",
       "      <td>Achromobacter</td>\n",
       "    </tr>\n",
       "    <tr>\n",
       "      <th>3</th>\n",
       "      <td>10</td>\n",
       "      <td>Acinetobacter baumannii ATCC 19606</td>\n",
       "      <td>BACTERIAL</td>\n",
       "      <td>Bacteria</td>\n",
       "      <td>urogenital_tract</td>\n",
       "      <td>3832</td>\n",
       "      <td>Acinetobacter</td>\n",
       "    </tr>\n",
       "    <tr>\n",
       "      <th>4</th>\n",
       "      <td>12</td>\n",
       "      <td>Acinetobacter calcoaceticus RUH2202</td>\n",
       "      <td>BACTERIAL</td>\n",
       "      <td>Bacteria</td>\n",
       "      <td>skin</td>\n",
       "      <td>3632</td>\n",
       "      <td>Acinetobacter</td>\n",
       "    </tr>\n",
       "    <tr>\n",
       "      <th>...</th>\n",
       "      <td>...</td>\n",
       "      <td>...</td>\n",
       "      <td>...</td>\n",
       "      <td>...</td>\n",
       "      <td>...</td>\n",
       "      <td>...</td>\n",
       "      <td>...</td>\n",
       "    </tr>\n",
       "    <tr>\n",
       "      <th>2910</th>\n",
       "      <td>9995</td>\n",
       "      <td>Staphylococcus epidermidis NIHLM095</td>\n",
       "      <td>BACTERIAL</td>\n",
       "      <td>Bacteria</td>\n",
       "      <td>unknown</td>\n",
       "      <td>2300</td>\n",
       "      <td>Staphylococcus</td>\n",
       "    </tr>\n",
       "    <tr>\n",
       "      <th>2911</th>\n",
       "      <td>9996</td>\n",
       "      <td>Aggregatibacter actinomycetemcomitans Y4</td>\n",
       "      <td>BACTERIAL</td>\n",
       "      <td>Bacteria</td>\n",
       "      <td>oral</td>\n",
       "      <td>2343</td>\n",
       "      <td>Aggregatibacter</td>\n",
       "    </tr>\n",
       "    <tr>\n",
       "      <th>2912</th>\n",
       "      <td>9997</td>\n",
       "      <td>Corynebacterium durum F0235</td>\n",
       "      <td>BACTERIAL</td>\n",
       "      <td>Bacteria</td>\n",
       "      <td>oral</td>\n",
       "      <td>2823</td>\n",
       "      <td>Corynebacterium</td>\n",
       "    </tr>\n",
       "    <tr>\n",
       "      <th>2913</th>\n",
       "      <td>9998</td>\n",
       "      <td>Peptostreptococcus anaerobius VPI 4330</td>\n",
       "      <td>BACTERIAL</td>\n",
       "      <td>Bacteria</td>\n",
       "      <td>oral</td>\n",
       "      <td>1933</td>\n",
       "      <td>Peptostreptococcus</td>\n",
       "    </tr>\n",
       "    <tr>\n",
       "      <th>2914</th>\n",
       "      <td>9999</td>\n",
       "      <td>Prevotella sp. oral taxon 473 str. F0040</td>\n",
       "      <td>BACTERIAL</td>\n",
       "      <td>Bacteria</td>\n",
       "      <td>oral</td>\n",
       "      <td>2317</td>\n",
       "      <td>Prevotella</td>\n",
       "    </tr>\n",
       "  </tbody>\n",
       "</table>\n",
       "<p>1563 rows × 7 columns</p>\n",
       "</div>"
      ],
      "text/plain": [
       "      HMP ID                             Organism Name     Domain  \\\n",
       "0          1          Abiotrophia defectiva ATCC 49176  BACTERIAL   \n",
       "1          4       Achromobacter piechaudii ATCC 43553  BACTERIAL   \n",
       "2          5            Achromobacter xylosoxidans C54  BACTERIAL   \n",
       "3         10        Acinetobacter baumannii ATCC 19606  BACTERIAL   \n",
       "4         12       Acinetobacter calcoaceticus RUH2202  BACTERIAL   \n",
       "...      ...                                       ...        ...   \n",
       "2910    9995       Staphylococcus epidermidis NIHLM095  BACTERIAL   \n",
       "2911    9996  Aggregatibacter actinomycetemcomitans Y4  BACTERIAL   \n",
       "2912    9997               Corynebacterium durum F0235  BACTERIAL   \n",
       "2913    9998    Peptostreptococcus anaerobius VPI 4330  BACTERIAL   \n",
       "2914    9999  Prevotella sp. oral taxon 473 str. F0040  BACTERIAL   \n",
       "\n",
       "     NCBI Superkingdom HMP Isolation Body Site  Gene Count               Genus  \n",
       "0             Bacteria                    oral        1950         Abiotrophia  \n",
       "1             Bacteria                 airways        5755       Achromobacter  \n",
       "2             Bacteria                 airways        6010       Achromobacter  \n",
       "3             Bacteria        urogenital_tract        3832       Acinetobacter  \n",
       "4             Bacteria                    skin        3632       Acinetobacter  \n",
       "...                ...                     ...         ...                 ...  \n",
       "2910          Bacteria                 unknown        2300      Staphylococcus  \n",
       "2911          Bacteria                    oral        2343     Aggregatibacter  \n",
       "2912          Bacteria                    oral        2823     Corynebacterium  \n",
       "2913          Bacteria                    oral        1933  Peptostreptococcus  \n",
       "2914          Bacteria                    oral        2317          Prevotella  \n",
       "\n",
       "[1563 rows x 7 columns]"
      ]
     },
     "execution_count": 84,
     "metadata": {},
     "output_type": "execute_result"
    }
   ],
   "source": [
    "new_df"
   ]
  },
  {
   "cell_type": "markdown",
   "id": "9d7e286a",
   "metadata": {},
   "source": [
    "I want to remove Domain or Superkingdom because they seem to have the same information, but first I need to check that. I'm going to convert the strings to lowercase so I may make a clean comparison. Then I'll search for the root words in the other column and see if any are not the same (check if they are all duplicated)."
   ]
  },
  {
   "cell_type": "code",
   "execution_count": 85,
   "id": "173e1c73",
   "metadata": {
    "ExecuteTime": {
     "end_time": "2024-02-19T05:18:49.010257Z",
     "start_time": "2024-02-19T05:18:44.356017Z"
    },
    "scrolled": true
   },
   "outputs": [
    {
     "data": {
      "text/plain": [
       "0       bacterial\n",
       "1       bacterial\n",
       "2       bacterial\n",
       "3       bacterial\n",
       "4       bacterial\n",
       "          ...    \n",
       "2910    bacterial\n",
       "2911    bacterial\n",
       "2912    bacterial\n",
       "2913    bacterial\n",
       "2914    bacterial\n",
       "Name: Domain, Length: 1563, dtype: object"
      ]
     },
     "execution_count": 85,
     "metadata": {},
     "output_type": "execute_result"
    }
   ],
   "source": [
    "# Convert to lowercase for sorting\n",
    "new_df['Domain'] = new_df['Domain'].str.lower()\n",
    "new_df['Domain']"
   ]
  },
  {
   "cell_type": "code",
   "execution_count": 86,
   "id": "013ae7fa",
   "metadata": {
    "ExecuteTime": {
     "end_time": "2024-02-19T05:18:49.010548Z",
     "start_time": "2024-02-19T05:18:44.361323Z"
    },
    "scrolled": true
   },
   "outputs": [
    {
     "data": {
      "text/plain": [
       "0       bacteria\n",
       "1       bacteria\n",
       "2       bacteria\n",
       "3       bacteria\n",
       "4       bacteria\n",
       "          ...   \n",
       "2910    bacteria\n",
       "2911    bacteria\n",
       "2912    bacteria\n",
       "2913    bacteria\n",
       "2914    bacteria\n",
       "Name: NCBI Superkingdom, Length: 1563, dtype: object"
      ]
     },
     "execution_count": 86,
     "metadata": {},
     "output_type": "execute_result"
    }
   ],
   "source": [
    "# Convert to lowercase for sorting\n",
    "\n",
    "new_df['NCBI Superkingdom'] = new_df['NCBI Superkingdom'].str.lower()\n",
    "new_df['NCBI Superkingdom'] "
   ]
  },
  {
   "cell_type": "code",
   "execution_count": 87,
   "id": "b4428ef1",
   "metadata": {
    "ExecuteTime": {
     "end_time": "2024-02-19T05:18:49.010736Z",
     "start_time": "2024-02-19T05:18:44.364006Z"
    }
   },
   "outputs": [],
   "source": [
    "# use apply to find if the \"superkingdom\" string is in \"domain\", if it is not, return NaN. \n",
    "new_df['New'] = new_df.apply(lambda x: x['NCBI Superkingdom'] if x['NCBI Superkingdom'] in\n",
    "                     x['Domain'] else np.nan, axis=1)"
   ]
  },
  {
   "cell_type": "code",
   "execution_count": 88,
   "id": "d32c99f1",
   "metadata": {
    "ExecuteTime": {
     "end_time": "2024-02-19T05:18:49.010914Z",
     "start_time": "2024-02-19T05:18:44.375740Z"
    }
   },
   "outputs": [
    {
     "data": {
      "text/plain": [
       "9"
      ]
     },
     "execution_count": 88,
     "metadata": {},
     "output_type": "execute_result"
    }
   ],
   "source": [
    "#check NA value total\n",
    "new_df['New'].isna().sum()"
   ]
  },
  {
   "cell_type": "code",
   "execution_count": 89,
   "id": "1bb06392",
   "metadata": {
    "ExecuteTime": {
     "end_time": "2024-02-19T05:18:49.011315Z",
     "start_time": "2024-02-19T05:18:44.381940Z"
    },
    "scrolled": true
   },
   "outputs": [
    {
     "data": {
      "text/html": [
       "<div>\n",
       "<style scoped>\n",
       "    .dataframe tbody tr th:only-of-type {\n",
       "        vertical-align: middle;\n",
       "    }\n",
       "\n",
       "    .dataframe tbody tr th {\n",
       "        vertical-align: top;\n",
       "    }\n",
       "\n",
       "    .dataframe thead th {\n",
       "        text-align: right;\n",
       "    }\n",
       "</style>\n",
       "<table border=\"1\" class=\"dataframe\">\n",
       "  <thead>\n",
       "    <tr style=\"text-align: right;\">\n",
       "      <th></th>\n",
       "      <th>HMP ID</th>\n",
       "      <th>Organism Name</th>\n",
       "      <th>Domain</th>\n",
       "      <th>NCBI Superkingdom</th>\n",
       "      <th>HMP Isolation Body Site</th>\n",
       "      <th>Gene Count</th>\n",
       "      <th>Genus</th>\n",
       "      <th>New</th>\n",
       "    </tr>\n",
       "  </thead>\n",
       "  <tbody>\n",
       "    <tr>\n",
       "      <th>601</th>\n",
       "      <td>1120</td>\n",
       "      <td>Exophiala dermatitidis NIH/UT8656</td>\n",
       "      <td>eukaryal</td>\n",
       "      <td>eukaryota</td>\n",
       "      <td>unknown</td>\n",
       "      <td>0</td>\n",
       "      <td>Exophiala</td>\n",
       "      <td>NaN</td>\n",
       "    </tr>\n",
       "    <tr>\n",
       "      <th>983</th>\n",
       "      <td>1541</td>\n",
       "      <td>Phialophora europaea CBS 101466</td>\n",
       "      <td>eukaryal</td>\n",
       "      <td>eukaryota</td>\n",
       "      <td>skin</td>\n",
       "      <td>0</td>\n",
       "      <td>Phialophora</td>\n",
       "      <td>NaN</td>\n",
       "    </tr>\n",
       "    <tr>\n",
       "      <th>985</th>\n",
       "      <td>1544</td>\n",
       "      <td>Mucor circinelloides f. circinelloides 1006PhL</td>\n",
       "      <td>eukaryal</td>\n",
       "      <td>eukaryota</td>\n",
       "      <td>skin</td>\n",
       "      <td>0</td>\n",
       "      <td>Mucor</td>\n",
       "      <td>NaN</td>\n",
       "    </tr>\n",
       "    <tr>\n",
       "      <th>1065</th>\n",
       "      <td>1624</td>\n",
       "      <td>Sporothrix schenckii ATCC 58251</td>\n",
       "      <td>eukaryal</td>\n",
       "      <td>eukaryota</td>\n",
       "      <td>wound</td>\n",
       "      <td>0</td>\n",
       "      <td>Sporothrix</td>\n",
       "      <td>NaN</td>\n",
       "    </tr>\n",
       "    <tr>\n",
       "      <th>2852</th>\n",
       "      <td>9774</td>\n",
       "      <td>Pseudomonas phage F_HA0480sp/Pa1651</td>\n",
       "      <td>virus</td>\n",
       "      <td>viruses</td>\n",
       "      <td>unknown</td>\n",
       "      <td>0</td>\n",
       "      <td>Pseudomonas</td>\n",
       "      <td>NaN</td>\n",
       "    </tr>\n",
       "    <tr>\n",
       "      <th>2853</th>\n",
       "      <td>9843</td>\n",
       "      <td>Pseudomonas phage JBD18</td>\n",
       "      <td>virus</td>\n",
       "      <td>viruses</td>\n",
       "      <td>unknown</td>\n",
       "      <td>0</td>\n",
       "      <td>Pseudomonas</td>\n",
       "      <td>NaN</td>\n",
       "    </tr>\n",
       "    <tr>\n",
       "      <th>2854</th>\n",
       "      <td>9847</td>\n",
       "      <td>Pseudomonas phage JBD25</td>\n",
       "      <td>virus</td>\n",
       "      <td>viruses</td>\n",
       "      <td>unknown</td>\n",
       "      <td>0</td>\n",
       "      <td>Pseudomonas</td>\n",
       "      <td>NaN</td>\n",
       "    </tr>\n",
       "    <tr>\n",
       "      <th>2855</th>\n",
       "      <td>9848</td>\n",
       "      <td>Pseudomonas phage JBD26</td>\n",
       "      <td>virus</td>\n",
       "      <td>viruses</td>\n",
       "      <td>unknown</td>\n",
       "      <td>0</td>\n",
       "      <td>Pseudomonas</td>\n",
       "      <td>NaN</td>\n",
       "    </tr>\n",
       "    <tr>\n",
       "      <th>2856</th>\n",
       "      <td>9886</td>\n",
       "      <td>Pseudomonas phage JBD67</td>\n",
       "      <td>virus</td>\n",
       "      <td>viruses</td>\n",
       "      <td>unknown</td>\n",
       "      <td>0</td>\n",
       "      <td>Pseudomonas</td>\n",
       "      <td>NaN</td>\n",
       "    </tr>\n",
       "  </tbody>\n",
       "</table>\n",
       "</div>"
      ],
      "text/plain": [
       "      HMP ID                                   Organism Name    Domain  \\\n",
       "601     1120               Exophiala dermatitidis NIH/UT8656  eukaryal   \n",
       "983     1541                 Phialophora europaea CBS 101466  eukaryal   \n",
       "985     1544  Mucor circinelloides f. circinelloides 1006PhL  eukaryal   \n",
       "1065    1624                 Sporothrix schenckii ATCC 58251  eukaryal   \n",
       "2852    9774             Pseudomonas phage F_HA0480sp/Pa1651     virus   \n",
       "2853    9843                         Pseudomonas phage JBD18     virus   \n",
       "2854    9847                         Pseudomonas phage JBD25     virus   \n",
       "2855    9848                         Pseudomonas phage JBD26     virus   \n",
       "2856    9886                         Pseudomonas phage JBD67     virus   \n",
       "\n",
       "     NCBI Superkingdom HMP Isolation Body Site  Gene Count        Genus  New  \n",
       "601          eukaryota                 unknown           0    Exophiala  NaN  \n",
       "983          eukaryota                    skin           0  Phialophora  NaN  \n",
       "985          eukaryota                    skin           0        Mucor  NaN  \n",
       "1065         eukaryota                   wound           0   Sporothrix  NaN  \n",
       "2852           viruses                 unknown           0  Pseudomonas  NaN  \n",
       "2853           viruses                 unknown           0  Pseudomonas  NaN  \n",
       "2854           viruses                 unknown           0  Pseudomonas  NaN  \n",
       "2855           viruses                 unknown           0  Pseudomonas  NaN  \n",
       "2856           viruses                 unknown           0  Pseudomonas  NaN  "
      ]
     },
     "execution_count": 89,
     "metadata": {},
     "output_type": "execute_result"
    }
   ],
   "source": [
    "#There are 9 null values so we can see review the entries manually\n",
    "new_df[new_df['New'].isna()]"
   ]
  },
  {
   "cell_type": "markdown",
   "id": "e10631b9",
   "metadata": {},
   "source": [
    "I see that these are duplicates as well, so all of the values between \"NCBI Superkingdom\" and \"Domain\" are the same. I can remove one of them. I am choosing to drop \"NCBI Superkingdom\" as well as the \"new\" column I used for comparison purposes."
   ]
  },
  {
   "cell_type": "code",
   "execution_count": 90,
   "id": "97d99329",
   "metadata": {
    "ExecuteTime": {
     "end_time": "2024-02-19T05:18:49.011434Z",
     "start_time": "2024-02-19T05:18:44.386070Z"
    }
   },
   "outputs": [],
   "source": [
    "new_df = new_df.drop(['NCBI Superkingdom', 'New'], axis=1)"
   ]
  },
  {
   "cell_type": "code",
   "execution_count": 91,
   "id": "92464738",
   "metadata": {
    "ExecuteTime": {
     "end_time": "2024-02-19T05:18:49.011621Z",
     "start_time": "2024-02-19T05:18:44.388623Z"
    },
    "scrolled": false
   },
   "outputs": [
    {
     "data": {
      "text/plain": [
       "['HMP ID',\n",
       " 'Organism Name',\n",
       " 'Domain',\n",
       " 'HMP Isolation Body Site',\n",
       " 'Gene Count',\n",
       " 'Genus']"
      ]
     },
     "execution_count": 91,
     "metadata": {},
     "output_type": "execute_result"
    }
   ],
   "source": [
    "new_df.columns.to_list()"
   ]
  },
  {
   "cell_type": "code",
   "execution_count": 92,
   "id": "828d6b72",
   "metadata": {
    "ExecuteTime": {
     "end_time": "2024-02-19T05:18:49.011805Z",
     "start_time": "2024-02-19T05:18:44.391685Z"
    }
   },
   "outputs": [
    {
     "data": {
      "text/plain": [
       "(1563, 6)"
      ]
     },
     "execution_count": 92,
     "metadata": {},
     "output_type": "execute_result"
    }
   ],
   "source": [
    "new_df.shape"
   ]
  },
  {
   "cell_type": "code",
   "execution_count": 93,
   "id": "2ae7b353",
   "metadata": {
    "ExecuteTime": {
     "end_time": "2024-02-19T05:18:49.012025Z",
     "start_time": "2024-02-19T05:18:44.394663Z"
    }
   },
   "outputs": [
    {
     "data": {
      "text/plain": [
       "1557"
      ]
     },
     "execution_count": 93,
     "metadata": {},
     "output_type": "execute_result"
    }
   ],
   "source": [
    "new_df[\"Organism Name\"].nunique()"
   ]
  },
  {
   "cell_type": "code",
   "execution_count": 94,
   "id": "7b463057",
   "metadata": {
    "ExecuteTime": {
     "end_time": "2024-02-19T05:18:49.012217Z",
     "start_time": "2024-02-19T05:18:44.397702Z"
    }
   },
   "outputs": [
    {
     "data": {
      "text/plain": [
       "185"
      ]
     },
     "execution_count": 94,
     "metadata": {},
     "output_type": "execute_result"
    }
   ],
   "source": [
    "new_df[\"Genus\"].nunique()"
   ]
  },
  {
   "cell_type": "code",
   "execution_count": 95,
   "id": "1336652d",
   "metadata": {
    "ExecuteTime": {
     "end_time": "2024-02-19T05:18:49.013244Z",
     "start_time": "2024-02-19T05:18:44.403509Z"
    }
   },
   "outputs": [
    {
     "data": {
      "text/html": [
       "<div>\n",
       "<style scoped>\n",
       "    .dataframe tbody tr th:only-of-type {\n",
       "        vertical-align: middle;\n",
       "    }\n",
       "\n",
       "    .dataframe tbody tr th {\n",
       "        vertical-align: top;\n",
       "    }\n",
       "\n",
       "    .dataframe thead th {\n",
       "        text-align: right;\n",
       "    }\n",
       "</style>\n",
       "<table border=\"1\" class=\"dataframe\">\n",
       "  <thead>\n",
       "    <tr style=\"text-align: right;\">\n",
       "      <th></th>\n",
       "      <th>HMP ID</th>\n",
       "      <th>Organism Name</th>\n",
       "      <th>Domain</th>\n",
       "      <th>HMP Isolation Body Site</th>\n",
       "      <th>Gene Count</th>\n",
       "      <th>Genus</th>\n",
       "    </tr>\n",
       "  </thead>\n",
       "  <tbody>\n",
       "    <tr>\n",
       "      <th>0</th>\n",
       "      <td>1</td>\n",
       "      <td>Abiotrophia defectiva ATCC 49176</td>\n",
       "      <td>bacterial</td>\n",
       "      <td>oral</td>\n",
       "      <td>1950</td>\n",
       "      <td>Abiotrophia</td>\n",
       "    </tr>\n",
       "    <tr>\n",
       "      <th>1</th>\n",
       "      <td>4</td>\n",
       "      <td>Achromobacter piechaudii ATCC 43553</td>\n",
       "      <td>bacterial</td>\n",
       "      <td>airways</td>\n",
       "      <td>5755</td>\n",
       "      <td>Achromobacter</td>\n",
       "    </tr>\n",
       "    <tr>\n",
       "      <th>2</th>\n",
       "      <td>5</td>\n",
       "      <td>Achromobacter xylosoxidans C54</td>\n",
       "      <td>bacterial</td>\n",
       "      <td>airways</td>\n",
       "      <td>6010</td>\n",
       "      <td>Achromobacter</td>\n",
       "    </tr>\n",
       "    <tr>\n",
       "      <th>3</th>\n",
       "      <td>10</td>\n",
       "      <td>Acinetobacter baumannii ATCC 19606</td>\n",
       "      <td>bacterial</td>\n",
       "      <td>urogenital_tract</td>\n",
       "      <td>3832</td>\n",
       "      <td>Acinetobacter</td>\n",
       "    </tr>\n",
       "    <tr>\n",
       "      <th>4</th>\n",
       "      <td>12</td>\n",
       "      <td>Acinetobacter calcoaceticus RUH2202</td>\n",
       "      <td>bacterial</td>\n",
       "      <td>skin</td>\n",
       "      <td>3632</td>\n",
       "      <td>Acinetobacter</td>\n",
       "    </tr>\n",
       "  </tbody>\n",
       "</table>\n",
       "</div>"
      ],
      "text/plain": [
       "   HMP ID                        Organism Name     Domain  \\\n",
       "0       1     Abiotrophia defectiva ATCC 49176  bacterial   \n",
       "1       4  Achromobacter piechaudii ATCC 43553  bacterial   \n",
       "2       5       Achromobacter xylosoxidans C54  bacterial   \n",
       "3      10   Acinetobacter baumannii ATCC 19606  bacterial   \n",
       "4      12  Acinetobacter calcoaceticus RUH2202  bacterial   \n",
       "\n",
       "  HMP Isolation Body Site  Gene Count          Genus  \n",
       "0                    oral        1950    Abiotrophia  \n",
       "1                 airways        5755  Achromobacter  \n",
       "2                 airways        6010  Achromobacter  \n",
       "3        urogenital_tract        3832  Acinetobacter  \n",
       "4                    skin        3632  Acinetobacter  "
      ]
     },
     "execution_count": 95,
     "metadata": {},
     "output_type": "execute_result"
    }
   ],
   "source": [
    "new_df.columns\n",
    "# new_df.head() #commented out for brevity"
   ]
  },
  {
   "cell_type": "markdown",
   "id": "904d7cdb",
   "metadata": {},
   "source": [
    "Upcoming process:\n",
    "1. ColumnTransformer Creation:\n",
    "- A ColumnTransformer is instantiated, which applies different preprocessing to different subsets of features: StandardScaler for numerical features and OneHotEncoder for categorical features.\n",
    "\n",
    "2. Data Transformation:\n",
    "- The fit_transform method is called on the model_df DataFrame, standardizing the numerical features and encoding the categorical features into a format suitable for clustering.\n",
    "\n",
    "3. Elbow Method:\n",
    "- The elbow method is used to determine the optimal number of clusters (k) by plotting the within-cluster sum of squares (WCSS) against the number of clusters. The \"elbow\" point in the graph indicates the optimal k.\n",
    "\n",
    "4. K-Means Clustering:\n",
    "- K-Means clustering is applied to the processed data with the chosen number of clusters (in this case, 7).\n",
    "\n",
    "5. Cluster Analysis:\n",
    "- The resulting clusters are then added as a new column to the model_df, and the count of data points in each cluster is outputted to give an initial understanding of the cluster distribution.\n"
   ]
  },
  {
   "cell_type": "code",
   "execution_count": 96,
   "id": "987aa8ee4a21e381",
   "metadata": {
    "ExecuteTime": {
     "end_time": "2024-02-19T19:33:44.503527Z",
     "start_time": "2024-02-19T19:33:44.421606Z"
    }
   },
   "outputs": [
    {
     "data": {
      "text/html": [
       "<div>\n",
       "<style scoped>\n",
       "    .dataframe tbody tr th:only-of-type {\n",
       "        vertical-align: middle;\n",
       "    }\n",
       "\n",
       "    .dataframe tbody tr th {\n",
       "        vertical-align: top;\n",
       "    }\n",
       "\n",
       "    .dataframe thead th {\n",
       "        text-align: right;\n",
       "    }\n",
       "</style>\n",
       "<table border=\"1\" class=\"dataframe\">\n",
       "  <thead>\n",
       "    <tr style=\"text-align: right;\">\n",
       "      <th></th>\n",
       "      <th>HMP ID</th>\n",
       "      <th>Organism Name</th>\n",
       "    </tr>\n",
       "  </thead>\n",
       "  <tbody>\n",
       "    <tr>\n",
       "      <th>0</th>\n",
       "      <td>1</td>\n",
       "      <td>Abiotrophia defectiva ATCC 49176</td>\n",
       "    </tr>\n",
       "    <tr>\n",
       "      <th>1</th>\n",
       "      <td>4</td>\n",
       "      <td>Achromobacter piechaudii ATCC 43553</td>\n",
       "    </tr>\n",
       "    <tr>\n",
       "      <th>2</th>\n",
       "      <td>5</td>\n",
       "      <td>Achromobacter xylosoxidans C54</td>\n",
       "    </tr>\n",
       "    <tr>\n",
       "      <th>3</th>\n",
       "      <td>10</td>\n",
       "      <td>Acinetobacter baumannii ATCC 19606</td>\n",
       "    </tr>\n",
       "    <tr>\n",
       "      <th>4</th>\n",
       "      <td>12</td>\n",
       "      <td>Acinetobacter calcoaceticus RUH2202</td>\n",
       "    </tr>\n",
       "  </tbody>\n",
       "</table>\n",
       "</div>"
      ],
      "text/plain": [
       "   HMP ID                        Organism Name\n",
       "0       1     Abiotrophia defectiva ATCC 49176\n",
       "1       4  Achromobacter piechaudii ATCC 43553\n",
       "2       5       Achromobacter xylosoxidans C54\n",
       "3      10   Acinetobacter baumannii ATCC 19606\n",
       "4      12  Acinetobacter calcoaceticus RUH2202"
      ]
     },
     "execution_count": 96,
     "metadata": {},
     "output_type": "execute_result"
    }
   ],
   "source": [
    "# First, save the identifiers in their own dataframe \n",
    "identifiers_df = new_df[['HMP ID', 'Organism Name']]\n",
    "identifiers_df.head()"
   ]
  },
  {
   "cell_type": "code",
   "execution_count": 97,
   "id": "87a66a28cfa6a9e0",
   "metadata": {},
   "outputs": [
    {
     "data": {
      "text/html": [
       "<div>\n",
       "<style scoped>\n",
       "    .dataframe tbody tr th:only-of-type {\n",
       "        vertical-align: middle;\n",
       "    }\n",
       "\n",
       "    .dataframe tbody tr th {\n",
       "        vertical-align: top;\n",
       "    }\n",
       "\n",
       "    .dataframe thead th {\n",
       "        text-align: right;\n",
       "    }\n",
       "</style>\n",
       "<table border=\"1\" class=\"dataframe\">\n",
       "  <thead>\n",
       "    <tr style=\"text-align: right;\">\n",
       "      <th></th>\n",
       "      <th>Domain</th>\n",
       "      <th>HMP Isolation Body Site</th>\n",
       "      <th>Gene Count</th>\n",
       "      <th>Genus</th>\n",
       "    </tr>\n",
       "  </thead>\n",
       "  <tbody>\n",
       "    <tr>\n",
       "      <th>0</th>\n",
       "      <td>bacterial</td>\n",
       "      <td>oral</td>\n",
       "      <td>1950</td>\n",
       "      <td>Abiotrophia</td>\n",
       "    </tr>\n",
       "    <tr>\n",
       "      <th>1</th>\n",
       "      <td>bacterial</td>\n",
       "      <td>airways</td>\n",
       "      <td>5755</td>\n",
       "      <td>Achromobacter</td>\n",
       "    </tr>\n",
       "    <tr>\n",
       "      <th>2</th>\n",
       "      <td>bacterial</td>\n",
       "      <td>airways</td>\n",
       "      <td>6010</td>\n",
       "      <td>Achromobacter</td>\n",
       "    </tr>\n",
       "    <tr>\n",
       "      <th>3</th>\n",
       "      <td>bacterial</td>\n",
       "      <td>urogenital_tract</td>\n",
       "      <td>3832</td>\n",
       "      <td>Acinetobacter</td>\n",
       "    </tr>\n",
       "    <tr>\n",
       "      <th>4</th>\n",
       "      <td>bacterial</td>\n",
       "      <td>skin</td>\n",
       "      <td>3632</td>\n",
       "      <td>Acinetobacter</td>\n",
       "    </tr>\n",
       "  </tbody>\n",
       "</table>\n",
       "</div>"
      ],
      "text/plain": [
       "      Domain HMP Isolation Body Site  Gene Count          Genus\n",
       "0  bacterial                    oral        1950    Abiotrophia\n",
       "1  bacterial                 airways        5755  Achromobacter\n",
       "2  bacterial                 airways        6010  Achromobacter\n",
       "3  bacterial        urogenital_tract        3832  Acinetobacter\n",
       "4  bacterial                    skin        3632  Acinetobacter"
      ]
     },
     "execution_count": 97,
     "metadata": {},
     "output_type": "execute_result"
    }
   ],
   "source": [
    "# Removing the identifiers ('HMP ID' and 'Organism Name')\n",
    "model_df = new_df.drop(['HMP ID', 'Organism Name'], axis=1)\n",
    "model_df.head()"
   ]
  },
  {
   "cell_type": "code",
   "execution_count": 153,
   "id": "bef362367740972f",
   "metadata": {
    "ExecuteTime": {
     "end_time": "2024-02-21T19:37:37.717782Z",
     "start_time": "2024-02-21T19:37:37.654785Z"
    }
   },
   "outputs": [],
   "source": [
    "# Feature Encoding for cluster modeling includes specifying the numerical and categorical features. \n",
    "# Assign features for clustering\n",
    "features = ['HMP Isolation Body Site', 'Gene Count', 'Genus']\n",
    "\n",
    "# Separate features for encoding and scaling\n",
    "categorical_features = ['HMP Isolation Body Site', 'Genus']\n",
    "numerical_features = ['Gene Count']"
   ]
  },
  {
   "cell_type": "code",
   "execution_count": 154,
   "id": "f43a06af",
   "metadata": {
    "ExecuteTime": {
     "end_time": "2024-02-21T19:37:41.535733Z",
     "start_time": "2024-02-21T19:37:41.468248Z"
    }
   },
   "outputs": [],
   "source": [
    "# Create the ColumnTransformer\n",
    "preprocessor = ColumnTransformer(\n",
    "    transformers=[\n",
    "        ('num', StandardScaler(), numerical_features),\n",
    "        ('cat', OneHotEncoder(), categorical_features)])"
   ]
  },
  {
   "cell_type": "code",
   "execution_count": 155,
   "id": "c31bb2cc47966347",
   "metadata": {
    "ExecuteTime": {
     "end_time": "2024-02-21T19:37:42.948114Z",
     "start_time": "2024-02-21T19:37:42.816631Z"
    }
   },
   "outputs": [],
   "source": [
    "# Fit and transform the data\n",
    "X_processed = preprocessor.fit_transform(model_df)"
   ]
  },
  {
   "cell_type": "code",
   "execution_count": 156,
   "id": "3061e581",
   "metadata": {
    "ExecuteTime": {
     "end_time": "2024-02-21T19:37:44.332272Z",
     "start_time": "2024-02-21T19:37:44.037319Z"
    }
   },
   "outputs": [],
   "source": [
    "# Use the elbow method to choose the optimal number of clusters k\n",
    "distortions = []\n",
    "K = range(1, 100)\n",
    "for k in K:\n",
    "    kmeanModel = KMeans(n_clusters=k)\n",
    "    kmeanModel.fit(X_processed)\n",
    "    distortions.append(kmeanModel.inertia_)"
   ]
  },
  {
   "cell_type": "code",
   "execution_count": 157,
   "id": "8ccf1dad",
   "metadata": {
    "ExecuteTime": {
     "end_time": "2024-02-21T19:37:45.227965Z",
     "start_time": "2024-02-21T19:37:45.050508Z"
    }
   },
   "outputs": [
    {
     "data": {
      "image/png": "[encoded data removed]",
      "text/plain": [
       "<Figure size 1600x800 with 1 Axes>"
      ]
     },
     "metadata": {},
     "output_type": "display_data"
    }
   ],
   "source": [
    "# Plot the elbow graph\n",
    "plt.figure(figsize=(16,8))\n",
    "plt.plot(K, distortions, 'bx-')\n",
    "plt.xlabel('k')\n",
    "plt.ylabel('Distortion')\n",
    "plt.title('The Elbow Method showing the optimal k')\n",
    "plt.show()"
   ]
  },
  {
   "cell_type": "markdown",
   "id": "872a014f77387462",
   "metadata": {},
   "source": [
    "\"The elbow method is a graphical representation of finding the optimal ‘K’ in a K-means clustering. It works by finding WCSS (Within-Cluster Sum of Square) i.e. the sum of the square distance between points in a cluster and the cluster centroid.\"\n",
    " \"Now we will use Euclidean distance or Manhattan distance as the metric to calculate the distance of the points from the nearest centroid and assign the points to that nearest cluster centroid, thus creating K clusters.\" https://www.analyticsvidhya.com/blog/2021/01/in-depth-intuition-of-k-means-clustering-algorithm-in-machine-learning/"
   ]
  },
  {
   "cell_type": "code",
   "execution_count": 158,
   "id": "586f550d891251ce",
   "metadata": {
    "ExecuteTime": {
     "end_time": "2024-02-21T19:38:01.561334Z",
     "start_time": "2024-02-21T19:38:01.438992Z"
    }
   },
   "outputs": [],
   "source": [
    "# Apply k-means clustering with optimal k (based on elbow method)\n",
    "kmeans = KMeans(n_clusters=7)\n",
    "clusters = kmeans.fit_predict(X_processed)"
   ]
  },
  {
   "cell_type": "code",
   "execution_count": 159,
   "id": "36a1a382f37a7235",
   "metadata": {
    "ExecuteTime": {
     "end_time": "2024-02-21T19:38:02.120440Z",
     "start_time": "2024-02-21T19:38:02.020648Z"
    }
   },
   "outputs": [],
   "source": [
    "# Add cluster labels to DataFrame\n",
    "model_df['Cluster'] = clusters"
   ]
  },
  {
   "cell_type": "code",
   "execution_count": 160,
   "id": "5f8ae65256c1e460",
   "metadata": {
    "ExecuteTime": {
     "end_time": "2024-02-21T19:38:02.729550Z",
     "start_time": "2024-02-21T19:38:02.598091Z"
    },
    "scrolled": false
   },
   "outputs": [
    {
     "name": "stdout",
     "output_type": "stream",
     "text": [
      "Cluster\n",
      "6    551\n",
      "2    286\n",
      "3    229\n",
      "1    219\n",
      "5    127\n",
      "0     92\n",
      "4     59\n",
      "Name: count, dtype: int64\n"
     ]
    }
   ],
   "source": [
    "# Analyze the clusters\n",
    "# For example, you can see how many organisms fall into each cluster\n",
    "print(model_df['Cluster'].value_counts())"
   ]
  },
  {
   "cell_type": "code",
   "execution_count": 161,
   "id": "b7fdf8124fac57bf",
   "metadata": {
    "ExecuteTime": {
     "end_time": "2024-02-20T02:43:16.346364Z",
     "start_time": "2024-02-20T02:43:16.273646Z"
    },
    "scrolled": true
   },
   "outputs": [
    {
     "data": {
      "text/plain": [
       "<1563x186 sparse matrix of type '<class 'numpy.float64'>'\n",
       "\twith 3126 stored elements in Compressed Sparse Row format>"
      ]
     },
     "execution_count": 161,
     "metadata": {},
     "output_type": "execute_result"
    }
   ],
   "source": [
    "X_processed"
   ]
  },
  {
   "cell_type": "markdown",
   "id": "fe597127a7078d58",
   "metadata": {},
   "source": [
    " PCA does not support sparse input with the solver set to \"auto\" when dealing with sparse matrices. The PCA implementation in scikit-learn requires dense input or, if using sparse input, the solver must be explicitly set to \"arpack\". However, PCA is generally not recommended for sparse data due to the densification process, which can be very memory intensive. Instead, using TruncatedSVD is often recommended for dimensionality reduction on sparse datasets because it is designed to handle sparse matrices more efficiently."
   ]
  },
  {
   "cell_type": "markdown",
   "id": "6ccc182c",
   "metadata": {},
   "source": [
    "Cluster Profiling: For each cluster, calculate the mean or median of the numerical features and the mode of the categorical features. This will give you an insight into what each cluster represents or characterizes.\n",
    "\n",
    "Statistical Tests: If your dataset has labeled data or you want to understand the statistical significance of the clusters with respect to some numerical attributes, you can perform ANOVA or other relevant tests to see if the mean of the numerical features significantly differs between clusters.\n",
    "\n",
    "Visualize Clusters: Use dimensionality reduction techniques like PCA or t-SNE to visualize the clusters in two or three dimensions. This can give you a visual understanding of how well-separated the clusters are.\n",
    "\n",
    "Interpret Clusters: Based on the profiles and visualizations, interpret what each cluster might represent. If you have domain knowledge, use it to label each cluster meaningfully.\n",
    "\n",
    "Evaluate Cluster Quality: Beyond the elbow method, use metrics like silhouette score, Davies-Bouldin index, or the Calinski-Harabasz index to evaluate the quality of the clusters.\n"
   ]
  },
  {
   "cell_type": "code",
   "execution_count": 162,
   "id": "42bde3d7",
   "metadata": {},
   "outputs": [],
   "source": [
    "# Calculating the mean or median for numerical features\n",
    "numerical_profiles = model_df.groupby('Cluster')[numerical_features].median()  # or .median()\n",
    "\n",
    "# Calculating the mode for categorical features\n",
    "categorical_profiles = model_df.groupby('Cluster')[categorical_features].agg(lambda x: x.mode()[0])"
   ]
  },
  {
   "cell_type": "code",
   "execution_count": 163,
   "id": "838198d7b8efba5b",
   "metadata": {
    "ExecuteTime": {
     "end_time": "2024-02-24T22:18:37.435297Z",
     "start_time": "2024-02-24T22:18:37.154017Z"
    }
   },
   "outputs": [],
   "source": [
    "# Cluster Profiling\n",
    "cluster_profiles = model_df.groupby('Cluster').agg({**{num: 'mean' for num in numerical_features},\n",
    "                                                    **{cat: lambda x: x.mode()[0] for cat in categorical_features}})"
   ]
  },
  {
   "cell_type": "code",
   "execution_count": 164,
   "id": "c8fb10c1",
   "metadata": {},
   "outputs": [
    {
     "name": "stdout",
     "output_type": "stream",
     "text": [
      "          Gene Count              Genus\n",
      "Cluster                                \n",
      "0        2525.239130  Propionibacterium\n",
      "1        5268.652968        Escherichia\n",
      "2        3364.475524       Enterococcus\n",
      "3        1955.414847      Streptococcus\n",
      "4          34.033898      Lactobacillus\n",
      "5        2246.196850      Lactobacillus\n",
      "6        2146.689655     Staphylococcus\n"
     ]
    }
   ],
   "source": [
    "print(cluster_profiles)"
   ]
  },
  {
   "cell_type": "markdown",
   "id": "f050ac53",
   "metadata": {},
   "source": [
    "The cluster summary table reveals distinct microbial community profiles based on gene count and predominant isolation body site. For instance, Cluster 0, with the highest gene count, predominantly comprises Escherichia from the gastrointestinal tract, indicating a robust gene diversity in this environment. Conversely, Cluster 5, associated with the gastrointestinal tract, features Helicobacter with a lower gene count, suggesting variation in gene complexity within the same body site. Clusters also highlight specific microbial presences, like Lactobacillus in the urogenital tract and Propionibacterium on the skin, reflecting their ecological niches and potential roles in health and disease."
   ]
  },
  {
   "cell_type": "code",
   "execution_count": 165,
   "id": "c80074fc",
   "metadata": {
    "scrolled": true
   },
   "outputs": [
    {
     "data": {
      "text/plain": [
       "F_onewayResult(statistic=2134.7271638526618, pvalue=0.0)"
      ]
     },
     "execution_count": 165,
     "metadata": {},
     "output_type": "execute_result"
    }
   ],
   "source": [
    "from scipy.stats import f_oneway\n",
    "\n",
    "# Perform ANOVA across clusters for a numerical attribute\n",
    "f_oneway(*(model_df[model_df['Cluster'] == cluster]['Gene Count'] for cluster in model_df['Cluster'].unique()))"
   ]
  },
  {
   "cell_type": "markdown",
   "id": "92804bf5",
   "metadata": {},
   "source": [
    "The ANOVA test result with a statistic of 1084.1518968807904 and a p-value of 0.0 suggests that there is a statistically significant difference in the mean gene counts across different clusters. The high F-statistic value indicates a strong between-group variance compared to within-group variance, reinforcing the significance of the clusters in terms of gene count variation. The p-value being 0 (or very close to 0) means this result is highly significant, rejecting the null hypothesis that all group means are equal. This suggests that the clusters formed have distinct microbial characteristics based on their gene counts."
   ]
  },
  {
   "cell_type": "code",
   "execution_count": 166,
   "id": "49ca8870",
   "metadata": {},
   "outputs": [
    {
     "data": {
      "image/png": "[encoded data removed]",
      "text/plain": [
       "<Figure size 640x480 with 1 Axes>"
      ]
     },
     "metadata": {},
     "output_type": "display_data"
    }
   ],
   "source": [
    "from sklearn.decomposition import PCA\n",
    "import matplotlib.pyplot as plt\n",
    "\n",
    "# PCA for 2D visualization\n",
    "pca = PCA(n_components=2)\n",
    "X_pca = pca.fit_transform(X_processed.toarray())  # Convert sparse matrix to dense\n",
    "\n",
    "plt.scatter(X_pca[:, 0], X_pca[:, 1], c=clusters)\n",
    "plt.xlabel('PCA 1')\n",
    "plt.ylabel('PCA 2')\n",
    "plt.title('PCA Cluster Visualization')\n",
    "plt.show()"
   ]
  },
  {
   "cell_type": "code",
   "execution_count": 167,
   "id": "1fd21d471385eeac",
   "metadata": {
    "ExecuteTime": {
     "end_time": "2024-02-21T19:38:05.744124Z",
     "start_time": "2024-02-21T19:38:05.569711Z"
    }
   },
   "outputs": [],
   "source": [
    "from sklearn.decomposition import TruncatedSVD\n",
    "import matplotlib.pyplot as plt\n",
    "\n",
    "# Perform TruncatedSVD\n",
    "svd = TruncatedSVD(n_components=2)\n",
    "X_reduced = svd.fit_transform(X_processed)"
   ]
  },
  {
   "cell_type": "code",
   "execution_count": 168,
   "id": "188f62956f8af6e3",
   "metadata": {
    "ExecuteTime": {
     "end_time": "2024-02-21T19:38:08.156945Z",
     "start_time": "2024-02-21T19:38:07.727893Z"
    }
   },
   "outputs": [
    {
     "data": {
      "image/png": "[encoded data removed]",
      "text/plain": [
       "<Figure size 800x600 with 2 Axes>"
      ]
     },
     "metadata": {},
     "output_type": "display_data"
    }
   ],
   "source": [
    "# Plot the transformed data\n",
    "plt.figure(figsize=(8, 6))\n",
    "plt.scatter(X_reduced[:, 0], X_reduced[:, 1], c=clusters, cmap='viridis', alpha=0.5)\n",
    "plt.xlabel('SVD1')\n",
    "plt.ylabel('SVD2')\n",
    "plt.title('Clustering visualization using TruncatedSVD')\n",
    "plt.colorbar(label='Cluster ID')\n",
    "plt.show()"
   ]
  },
  {
   "cell_type": "code",
   "execution_count": 169,
   "id": "ce703989",
   "metadata": {},
   "outputs": [
    {
     "name": "stdout",
     "output_type": "stream",
     "text": [
      "Silhouette Score: 0.24429453257794126\n"
     ]
    }
   ],
   "source": [
    "from sklearn.metrics import silhouette_score\n",
    "\n",
    "# Evaluate silhouette score\n",
    "silhouette_avg = silhouette_score(X_processed, clusters)\n",
    "print(f'Silhouette Score: {silhouette_avg}')"
   ]
  },
  {
   "cell_type": "markdown",
   "id": "5e6e5fb4",
   "metadata": {},
   "source": [
    "A silhouette score of 0.25275623208645914 suggests that the cluster separation is fair but not strong. Silhouette scores range from -1 (poor clustering) to +1 (perfect clustering), with scores around 0 indicating overlapping clusters. Your score indicates that while there is some structure to the clusters, there might be room for improvement either by adjusting the number of clusters, reconsidering the features used, or applying a different clustering technique."
   ]
  },
  {
   "cell_type": "markdown",
   "id": "f01ffd2e",
   "metadata": {},
   "source": [
    "This project applies machine learning techniques to analyze the human microbiome, focusing on clustering microbial species based on their genetic characteristics and isolation sites. The model leverages k-means clustering to group organisms, revealing patterns and associations between microbial genuses, gene counts, and their prevalence in different body sites. The statistical analysis, including ANOVA, confirms significant differences among clusters, enhancing our understanding of the microbiome's composition and its potential health implications. The silhouette score indicates moderate cluster separation, suggesting room for model refinement but affirming its utility in microbiome research. This approach offers insights into microbial diversity and its role in human health, paving the way for targeted therapeutic interventions."
   ]
  },
  {
   "cell_type": "markdown",
   "id": "080fd187",
   "metadata": {},
   "source": [
    "This project employs a microbiome-focused approach to examine the human microbiota's composition, aiming to uncover patterns and correlations with health conditions. Through advanced machine learning techniques, including k-means clustering and PCA, the project analyzes microbial diversity and gene count data to identify distinct microbial clusters associated with different body sites. The findings reveal significant microbial community variations, highlighting potential implications for diagnosing and treating health issues. The analysis underscores the microbiome's complexity and its potential as a biomarker for health, paving the way for personalized medicine strategies that consider microbial composition."
   ]
  }
 ],
 "metadata": {
  "kernelspec": {
   "display_name": "Python 3 (ipykernel)",
   "language": "python",
   "name": "python3"
  },
  "language_info": {
   "codemirror_mode": {
    "name": "ipython",
    "version": 3
   },
   "file_extension": ".py",
   "mimetype": "text/x-python",
   "name": "python",
   "nbconvert_exporter": "python",
   "pygments_lexer": "ipython3",
   "version": "3.11.7"
  }
 },
 "nbformat": 4,
 "nbformat_minor": 5
}
