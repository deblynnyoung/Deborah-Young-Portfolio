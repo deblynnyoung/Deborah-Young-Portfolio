{
 "cells": [
  {
   "cell_type": "markdown",
   "id": "cbfbbb0b",
   "metadata": {},
   "source": [
    "### Introduction"
   ]
  },
  {
   "cell_type": "markdown",
   "id": "9b4b5c1c",
   "metadata": {},
   "source": [
    "Research around the human microbiome (the collection of bacteria and microbes that live in and on our bodies) has been growing as a science and field of interest more and more over the last decade (Ursell et al., 2012). Many people experience disruptions to their health that could be attributed to an imbalance of these little organisms that share life with each of us (Ursell et al., 2012). Gastrointestinal (GI/gut) health is of particular interest, and investigations around how to improve this ecosystem within us are expanding. One approach to achieve this is Fecal Microbiota Transplant (FMT). <br>\n",
    "\n",
    "FMT is a method of transferring a healthy population (high species quantity and diversity) of microbes from one person to another in hopes of restoring the bacterial colonies in the recipient and thus contributing to greater overall health (Orr, et al. 2018). FMT has been used as a therapy for a limited selection of illnesses (and is not approved for many uses in the USA), but it is gaining relevance as a therapeutic application for a wide variety of infections, gastrointestinal issues, and auto-immune disorders (Gupta et al., 2016). FMT could be an effective intervention for a variety of health issues caused by diet, environment, overuse of antibiotics, and other factors. <br>\n",
    "\n",
    "In order to successfully implement an intervention such as this, we need to understand the structure of human microbiota. Using data sourced from [NIH Human Microbiome Project](https://www.hmpdacc.org/hmp/catalog/grid.php?dataset=genomic), I will run an EDA to explore the species types and prevalence. For the EDA portion, I will be roughly following [this](https://www.kaggle.com/code/bbhatt001/eda-of-the-human-microbiome/input) Kaggle notebook. The dataset utilized for that project is older (as the project is in constant motion), so although it is a great framework, my approach will have to be adjusted. Moving beyond this step, I would like to build models to predict the presence of these microbes to potentially  I will likely reference [this](https://www.kaggle.com/code/jaytee691/microbes-99-5-accuracy-knn-rf-gb-mlp/input) or [this](https://www.kaggle.com/code/rohannemade/90-accuracy-microbes-classification) dataset. \n",
    "\n",
    "According to [AWS](https://registry.opendata.aws/human-microbiome-project/): \"The NIH-funded Human Microbiome Project (HMP) is a collaborative effort of over 300 scientists from more than 80 organizations to comprehensively characterize the microbial communities inhabiting the human body and elucidate their role in human health and disease. To accomplish this task, microbial community samples were isolated from a cohort of 300 healthy adult human subjects at 18 specific sites within five regions of the body (oral cavity, airways, urogenital track, skin, and gut). Targeted sequencing of the 16S bacterial marker gene and/or whole metagenome shotgun sequencing was performed for thousands of these samples. In addition, whole genome sequences were generated for isolate strains collected from human body sites to act as reference organisms for analysis. Finally, 16S marker and whole metagenome sequencing was also done on additional samples from people suffering from several disease conditions.\""
   ]
  },
  {
   "cell_type": "markdown",
   "id": "c384c1e0",
   "metadata": {},
   "source": [
    " - Gupta, S., Allen-Vercoe, E., & Petrof, E. O. (2016). Fecal microbiota transplantation: in perspective. Therapeutic Advances in Gastroenterology, 9(2), 229-239. https://doi.org/10.1177/1756283X15607414\n",
    "\n",
    " - Orr, M. R., Kocurek, K. M., & Young, D. L. **(that's me!)** (2018). Gut Microbiota and Human Health: Insights From Ecological Restoration. The Quarterly Review of Biology, 93(2), 73–90. https://doi.org/10.1086/698021  \n",
    " \n",
    " - Ursell, L. K., Metcalf, J. L., Parfrey, L. W., & Knight, R. (2012). Defining the Human Microbiome. Nutrition reviews, 70(Suppl 1), S38. https://doi.org/10.1111/j.1753-4887.2012.00493.\n"
   ]
  },
  {
   "cell_type": "markdown",
   "id": "c8e23a3a",
   "metadata": {},
   "source": [
    "#### Milestone 1"
   ]
  },
  {
   "cell_type": "markdown",
   "id": "97d5553b",
   "metadata": {},
   "source": [
    "### Import and Cleaning"
   ]
  },
  {
   "cell_type": "code",
   "execution_count": 9,
   "id": "e979744c",
   "metadata": {},
   "outputs": [],
   "source": [
    "#import libraries and dataset\n",
    "import pandas as pd\n",
    "import matplotlib.pyplot as plt\n",
    "import numpy as np\n",
    "import seaborn as sns\n",
    "import warnings\n",
    "warnings.filterwarnings('ignore')\n",
    "\n",
    "#part 2\n",
    "from sklearn import metrics\n",
    "from sklearn.metrics import accuracy_score\n",
    "from sklearn.model_selection import train_test_split, GridSearchCV\n",
    "from sklearn.preprocessing import StandardScaler, MinMaxScaler\n",
    "from sklearn.neighbors import KNeighborsClassifier\n",
    "from sklearn.linear_model import LogisticRegression\n",
    "\n",
    "from sklearn.pipeline import Pipeline, FeatureUnion\n",
    "\n",
    "microbes=pd.read_csv('/Users/debane/Documents/MS Data Science/550 Data Mining/project_catalog.csv')\n",
    "#####pd.set_option('display.max_rows', None, 'display.max_columns', None)\n"
   ]
  },
  {
   "cell_type": "code",
   "execution_count": 10,
   "id": "dc09fe66",
   "metadata": {
    "scrolled": true
   },
   "outputs": [
    {
     "data": {
      "text/html": [
       "<div>\n",
       "<style scoped>\n",
       "    .dataframe tbody tr th:only-of-type {\n",
       "        vertical-align: middle;\n",
       "    }\n",
       "\n",
       "    .dataframe tbody tr th {\n",
       "        vertical-align: top;\n",
       "    }\n",
       "\n",
       "    .dataframe thead th {\n",
       "        text-align: right;\n",
       "    }\n",
       "</style>\n",
       "<table border=\"1\" class=\"dataframe\">\n",
       "  <thead>\n",
       "    <tr style=\"text-align: right;\">\n",
       "      <th></th>\n",
       "      <th>HMP ID</th>\n",
       "      <th>GOLD ID</th>\n",
       "      <th>Organism Name</th>\n",
       "      <th>Domain</th>\n",
       "      <th>NCBI Superkingdom</th>\n",
       "      <th>HMP Isolation Body Site</th>\n",
       "      <th>Project Status</th>\n",
       "      <th>Current Finishing Level</th>\n",
       "      <th>NCBI Submission Status</th>\n",
       "      <th>NCBI Project ID</th>\n",
       "      <th>Genbank ID</th>\n",
       "      <th>Gene Count</th>\n",
       "      <th>IMG/HMP ID</th>\n",
       "      <th>HOMD ID</th>\n",
       "      <th>Sequencing Center</th>\n",
       "      <th>Funding Source</th>\n",
       "      <th>Strain Repository ID</th>\n",
       "      <th>Unnamed: 17</th>\n",
       "      <th>Unnamed: 18</th>\n",
       "    </tr>\n",
       "  </thead>\n",
       "  <tbody>\n",
       "    <tr>\n",
       "      <th>0</th>\n",
       "      <td>1</td>\n",
       "      <td>Gi03551</td>\n",
       "      <td>Abiotrophia defectiva ATCC 49176</td>\n",
       "      <td>BACTERIAL</td>\n",
       "      <td>Bacteria</td>\n",
       "      <td>oral</td>\n",
       "      <td>Complete</td>\n",
       "      <td>Level 3: Improved-High-Quality Draft</td>\n",
       "      <td>6. annotation (and sequence) public on NCBI site</td>\n",
       "      <td>33011</td>\n",
       "      <td>ACIN00000000</td>\n",
       "      <td>1950</td>\n",
       "      <td>643886181</td>\n",
       "      <td>HOMD: tax_389</td>\n",
       "      <td>Washington University Genome Sequencing Center</td>\n",
       "      <td>NIH-HMP Jumpstart Supplement</td>\n",
       "      <td>ATCC 49176, CIP 103242</td>\n",
       "      <td>NaN</td>\n",
       "      <td>NaN</td>\n",
       "    </tr>\n",
       "    <tr>\n",
       "      <th>1</th>\n",
       "      <td>4</td>\n",
       "      <td>Gi03555</td>\n",
       "      <td>Achromobacter piechaudii ATCC 43553</td>\n",
       "      <td>BACTERIAL</td>\n",
       "      <td>Bacteria</td>\n",
       "      <td>airways</td>\n",
       "      <td>Complete</td>\n",
       "      <td>Level 2: High-Quality Draft</td>\n",
       "      <td>6. annotation (and sequence) public on NCBI site</td>\n",
       "      <td>46343</td>\n",
       "      <td>ADMS00000000</td>\n",
       "      <td>5755</td>\n",
       "      <td>647000200</td>\n",
       "      <td>NaN</td>\n",
       "      <td>Baylor College of Medicine</td>\n",
       "      <td>NIH-HMP Jumpstart Supplement</td>\n",
       "      <td>ATCC 43553, CIP 55774, LMG 6100</td>\n",
       "      <td>NaN</td>\n",
       "      <td>NaN</td>\n",
       "    </tr>\n",
       "    <tr>\n",
       "      <th>2</th>\n",
       "      <td>5</td>\n",
       "      <td>Gi03554</td>\n",
       "      <td>Achromobacter xylosoxidans C54</td>\n",
       "      <td>BACTERIAL</td>\n",
       "      <td>Bacteria</td>\n",
       "      <td>airways</td>\n",
       "      <td>Complete</td>\n",
       "      <td>Level 5: Non-contiguous Finished</td>\n",
       "      <td>6. annotation (and sequence) public on NCBI site</td>\n",
       "      <td>38739</td>\n",
       "      <td>ACRC00000000</td>\n",
       "      <td>6010</td>\n",
       "      <td>0</td>\n",
       "      <td>HOMD: tax_343</td>\n",
       "      <td>Broad Institute</td>\n",
       "      <td>NIH-HMP Jumpstart Supplement</td>\n",
       "      <td>BEI HM-235</td>\n",
       "      <td>NaN</td>\n",
       "      <td>NaN</td>\n",
       "    </tr>\n",
       "    <tr>\n",
       "      <th>3</th>\n",
       "      <td>10</td>\n",
       "      <td>Gi03422</td>\n",
       "      <td>Acinetobacter baumannii ATCC 19606</td>\n",
       "      <td>BACTERIAL</td>\n",
       "      <td>Bacteria</td>\n",
       "      <td>urogenital_tract</td>\n",
       "      <td>Complete</td>\n",
       "      <td>Level 2: High-Quality Draft</td>\n",
       "      <td>6. annotation (and sequence) public on NCBI site</td>\n",
       "      <td>38509</td>\n",
       "      <td>ACQB00000000</td>\n",
       "      <td>3832</td>\n",
       "      <td>647533101</td>\n",
       "      <td>HOMD: tax_554</td>\n",
       "      <td>Broad Institute</td>\n",
       "      <td>NIH-HMP Jumpstart Supplement</td>\n",
       "      <td>ATCC 19606, DSM 6974</td>\n",
       "      <td>NaN</td>\n",
       "      <td>NaN</td>\n",
       "    </tr>\n",
       "    <tr>\n",
       "      <th>4</th>\n",
       "      <td>12</td>\n",
       "      <td>Gi03421</td>\n",
       "      <td>Acinetobacter calcoaceticus RUH2202</td>\n",
       "      <td>BACTERIAL</td>\n",
       "      <td>Bacteria</td>\n",
       "      <td>skin</td>\n",
       "      <td>Complete</td>\n",
       "      <td>Level 2: High-Quality Draft</td>\n",
       "      <td>6. annotation (and sequence) public on NCBI site</td>\n",
       "      <td>38337</td>\n",
       "      <td>ACPK00000000</td>\n",
       "      <td>3632</td>\n",
       "      <td>646206267</td>\n",
       "      <td>NaN</td>\n",
       "      <td>Broad Institute</td>\n",
       "      <td>NIH-HMP Jumpstart Supplement</td>\n",
       "      <td>LMG 10517</td>\n",
       "      <td>NaN</td>\n",
       "      <td>NaN</td>\n",
       "    </tr>\n",
       "  </tbody>\n",
       "</table>\n",
       "</div>"
      ],
      "text/plain": [
       "   HMP ID  GOLD ID                        Organism Name     Domain   \n",
       "0       1  Gi03551     Abiotrophia defectiva ATCC 49176  BACTERIAL  \\\n",
       "1       4  Gi03555  Achromobacter piechaudii ATCC 43553  BACTERIAL   \n",
       "2       5  Gi03554       Achromobacter xylosoxidans C54  BACTERIAL   \n",
       "3      10  Gi03422   Acinetobacter baumannii ATCC 19606  BACTERIAL   \n",
       "4      12  Gi03421  Acinetobacter calcoaceticus RUH2202  BACTERIAL   \n",
       "\n",
       "  NCBI Superkingdom HMP Isolation Body Site Project Status   \n",
       "0          Bacteria                    oral       Complete  \\\n",
       "1          Bacteria                 airways       Complete   \n",
       "2          Bacteria                 airways       Complete   \n",
       "3          Bacteria        urogenital_tract       Complete   \n",
       "4          Bacteria                    skin       Complete   \n",
       "\n",
       "                Current Finishing Level   \n",
       "0  Level 3: Improved-High-Quality Draft  \\\n",
       "1           Level 2: High-Quality Draft   \n",
       "2      Level 5: Non-contiguous Finished   \n",
       "3           Level 2: High-Quality Draft   \n",
       "4           Level 2: High-Quality Draft   \n",
       "\n",
       "                             NCBI Submission Status  NCBI Project ID   \n",
       "0  6. annotation (and sequence) public on NCBI site            33011  \\\n",
       "1  6. annotation (and sequence) public on NCBI site            46343   \n",
       "2  6. annotation (and sequence) public on NCBI site            38739   \n",
       "3  6. annotation (and sequence) public on NCBI site            38509   \n",
       "4  6. annotation (and sequence) public on NCBI site            38337   \n",
       "\n",
       "     Genbank ID  Gene Count  IMG/HMP ID        HOMD ID   \n",
       "0  ACIN00000000        1950   643886181  HOMD: tax_389  \\\n",
       "1  ADMS00000000        5755   647000200            NaN   \n",
       "2  ACRC00000000        6010           0  HOMD: tax_343   \n",
       "3  ACQB00000000        3832   647533101  HOMD: tax_554   \n",
       "4  ACPK00000000        3632   646206267            NaN   \n",
       "\n",
       "                                Sequencing Center   \n",
       "0  Washington University Genome Sequencing Center  \\\n",
       "1                      Baylor College of Medicine   \n",
       "2                                 Broad Institute   \n",
       "3                                 Broad Institute   \n",
       "4                                 Broad Institute   \n",
       "\n",
       "                 Funding Source             Strain Repository ID  Unnamed: 17   \n",
       "0  NIH-HMP Jumpstart Supplement           ATCC 49176, CIP 103242          NaN  \\\n",
       "1  NIH-HMP Jumpstart Supplement  ATCC 43553, CIP 55774, LMG 6100          NaN   \n",
       "2  NIH-HMP Jumpstart Supplement                       BEI HM-235          NaN   \n",
       "3  NIH-HMP Jumpstart Supplement             ATCC 19606, DSM 6974          NaN   \n",
       "4  NIH-HMP Jumpstart Supplement                        LMG 10517          NaN   \n",
       "\n",
       "   Unnamed: 18  \n",
       "0          NaN  \n",
       "1          NaN  \n",
       "2          NaN  \n",
       "3          NaN  \n",
       "4          NaN  "
      ]
     },
     "execution_count": 10,
     "metadata": {},
     "output_type": "execute_result"
    }
   ],
   "source": [
    "#View sample of data\n",
    "microbes.head()"
   ]
  },
  {
   "cell_type": "code",
   "execution_count": 11,
   "id": "9c0473e2",
   "metadata": {},
   "outputs": [
    {
     "data": {
      "text/plain": [
       "(2915, 19)"
      ]
     },
     "execution_count": 11,
     "metadata": {},
     "output_type": "execute_result"
    }
   ],
   "source": [
    "#Check shape\n",
    "microbes.shape"
   ]
  },
  {
   "cell_type": "code",
   "execution_count": 12,
   "id": "7d7be366",
   "metadata": {},
   "outputs": [
    {
     "data": {
      "text/plain": [
       "Index(['HMP ID', 'GOLD ID', 'Organism Name', 'Domain', 'NCBI Superkingdom',\n",
       "       'HMP Isolation Body Site', 'Project Status', 'Current Finishing Level',\n",
       "       'NCBI Submission Status', 'NCBI Project ID', 'Genbank ID', 'Gene Count',\n",
       "       'IMG/HMP ID', 'HOMD ID', 'Sequencing Center', 'Funding Source',\n",
       "       'Strain Repository ID', 'Unnamed: 17', 'Unnamed: 18'],\n",
       "      dtype='object')"
      ]
     },
     "execution_count": 12,
     "metadata": {},
     "output_type": "execute_result"
    }
   ],
   "source": [
    "#See column names in dataset\n",
    "microbes.columns "
   ]
  },
  {
   "cell_type": "code",
   "execution_count": 13,
   "id": "86f2f64c",
   "metadata": {
    "scrolled": false
   },
   "outputs": [
    {
     "name": "stdout",
     "output_type": "stream",
     "text": [
      "<class 'pandas.core.frame.DataFrame'>\n",
      "RangeIndex: 2915 entries, 0 to 2914\n",
      "Data columns (total 19 columns):\n",
      " #   Column                   Non-Null Count  Dtype  \n",
      "---  ------                   --------------  -----  \n",
      " 0   HMP ID                   2915 non-null   int64  \n",
      " 1   GOLD ID                  1783 non-null   object \n",
      " 2   Organism Name            2915 non-null   object \n",
      " 3   Domain                   2712 non-null   object \n",
      " 4   NCBI Superkingdom        2751 non-null   object \n",
      " 5   HMP Isolation Body Site  2915 non-null   object \n",
      " 6   Project Status           2915 non-null   object \n",
      " 7   Current Finishing Level  1579 non-null   object \n",
      " 8   NCBI Submission Status   2915 non-null   object \n",
      " 9   NCBI Project ID          2915 non-null   int64  \n",
      " 10  Genbank ID               1579 non-null   object \n",
      " 11  Gene Count               2915 non-null   int64  \n",
      " 12  IMG/HMP ID               2915 non-null   int64  \n",
      " 13  HOMD ID                  397 non-null    object \n",
      " 14  Sequencing Center        2911 non-null   object \n",
      " 15  Funding Source           2915 non-null   object \n",
      " 16  Strain Repository ID     1377 non-null   object \n",
      " 17  Unnamed: 17              0 non-null      float64\n",
      " 18  Unnamed: 18              0 non-null      float64\n",
      "dtypes: float64(2), int64(4), object(13)\n",
      "memory usage: 432.8+ KB\n"
     ]
    }
   ],
   "source": [
    "#View descriptions of data \n",
    "microbes.info()"
   ]
  },
  {
   "cell_type": "markdown",
   "id": "c9a394dc",
   "metadata": {},
   "source": [
    "There is a broad range of information here, some of which may be beneficial to study regardless of project status, but for efficacy of this project, I'd like to check how many of the entires are complete."
   ]
  },
  {
   "cell_type": "code",
   "execution_count": 14,
   "id": "6f9297e8",
   "metadata": {},
   "outputs": [
    {
     "data": {
      "text/plain": [
       "Project Status\n",
       "Complete       1579\n",
       "In Progress    1336\n",
       "Name: count, dtype: int64"
      ]
     },
     "execution_count": 14,
     "metadata": {},
     "output_type": "execute_result"
    }
   ],
   "source": [
    "microbes['Project Status'].value_counts()"
   ]
  },
  {
   "cell_type": "markdown",
   "id": "e4427d6e",
   "metadata": {},
   "source": [
    "I'm going to remove any entries that are \"in progress\" from the main dataframe and place them in a new dataframe so I have it for running later if I want."
   ]
  },
  {
   "cell_type": "code",
   "execution_count": 15,
   "id": "20c12b90",
   "metadata": {},
   "outputs": [
    {
     "data": {
      "text/plain": [
       "(1336, 19)"
      ]
     },
     "execution_count": 15,
     "metadata": {},
     "output_type": "execute_result"
    }
   ],
   "source": [
    "# Split Dataframe using groupby() &\n",
    "# grouping by particular dataframe column\n",
    "grouped = microbes.groupby(['Project Status'])\n",
    "microbes_in_progress = grouped.get_group(\"In Progress\")\n",
    "microbes_in_progress.shape"
   ]
  },
  {
   "cell_type": "code",
   "execution_count": 16,
   "id": "b8ae75b8",
   "metadata": {},
   "outputs": [
    {
     "data": {
      "text/plain": [
       "(1579, 19)"
      ]
     },
     "execution_count": 16,
     "metadata": {},
     "output_type": "execute_result"
    }
   ],
   "source": [
    "# Split Dataframe using groupby() &\n",
    "# grouping by particular dataframe column\n",
    "grouped = microbes.groupby(['Project Status'])\n",
    "microbes_complete = grouped.get_group(\"Complete\")\n",
    "microbes_complete.shape"
   ]
  },
  {
   "cell_type": "code",
   "execution_count": 17,
   "id": "164a7eb3",
   "metadata": {},
   "outputs": [
    {
     "data": {
      "text/plain": [
       "(1579, 19)"
      ]
     },
     "execution_count": 17,
     "metadata": {},
     "output_type": "execute_result"
    }
   ],
   "source": [
    "#rename group of \"complete\" for ease \n",
    "micro = microbes_complete\n",
    "micro.shape"
   ]
  },
  {
   "cell_type": "code",
   "execution_count": 18,
   "id": "7e00bbe6",
   "metadata": {},
   "outputs": [
    {
     "name": "stdout",
     "output_type": "stream",
     "text": [
      "<class 'pandas.core.frame.DataFrame'>\n",
      "Index: 1579 entries, 0 to 2914\n",
      "Data columns (total 19 columns):\n",
      " #   Column                   Non-Null Count  Dtype  \n",
      "---  ------                   --------------  -----  \n",
      " 0   HMP ID                   1579 non-null   int64  \n",
      " 1   GOLD ID                  1493 non-null   object \n",
      " 2   Organism Name            1579 non-null   object \n",
      " 3   Domain                   1552 non-null   object \n",
      " 4   NCBI Superkingdom        1462 non-null   object \n",
      " 5   HMP Isolation Body Site  1579 non-null   object \n",
      " 6   Project Status           1579 non-null   object \n",
      " 7   Current Finishing Level  1579 non-null   object \n",
      " 8   NCBI Submission Status   1579 non-null   object \n",
      " 9   NCBI Project ID          1579 non-null   int64  \n",
      " 10  Genbank ID               1579 non-null   object \n",
      " 11  Gene Count               1579 non-null   int64  \n",
      " 12  IMG/HMP ID               1579 non-null   int64  \n",
      " 13  HOMD ID                  386 non-null    object \n",
      " 14  Sequencing Center        1579 non-null   object \n",
      " 15  Funding Source           1579 non-null   object \n",
      " 16  Strain Repository ID     1272 non-null   object \n",
      " 17  Unnamed: 17              0 non-null      float64\n",
      " 18  Unnamed: 18              0 non-null      float64\n",
      "dtypes: float64(2), int64(4), object(13)\n",
      "memory usage: 246.7+ KB\n"
     ]
    }
   ],
   "source": [
    "micro.info()"
   ]
  },
  {
   "cell_type": "markdown",
   "id": "f41029cc",
   "metadata": {},
   "source": [
    "I'm curious about some of the columns that have null values. The ones that are important to organism analysis are \"Domain\", and \"NCBI Superkingdom\"."
   ]
  },
  {
   "cell_type": "code",
   "execution_count": 19,
   "id": "0c8df6d1",
   "metadata": {
    "scrolled": true
   },
   "outputs": [
    {
     "data": {
      "text/plain": [
       "Domain                27\n",
       "NCBI Superkingdom    117\n",
       "dtype: int64"
      ]
     },
     "execution_count": 19,
     "metadata": {},
     "output_type": "execute_result"
    }
   ],
   "source": [
    "micro[['Domain','NCBI Superkingdom']].isnull().sum()"
   ]
  },
  {
   "cell_type": "code",
   "execution_count": 20,
   "id": "41f16305",
   "metadata": {},
   "outputs": [
    {
     "data": {
      "text/html": [
       "<div>\n",
       "<style scoped>\n",
       "    .dataframe tbody tr th:only-of-type {\n",
       "        vertical-align: middle;\n",
       "    }\n",
       "\n",
       "    .dataframe tbody tr th {\n",
       "        vertical-align: top;\n",
       "    }\n",
       "\n",
       "    .dataframe thead th {\n",
       "        text-align: right;\n",
       "    }\n",
       "</style>\n",
       "<table border=\"1\" class=\"dataframe\">\n",
       "  <thead>\n",
       "    <tr style=\"text-align: right;\">\n",
       "      <th></th>\n",
       "      <th>HMP ID</th>\n",
       "      <th>GOLD ID</th>\n",
       "      <th>Organism Name</th>\n",
       "      <th>NCBI Superkingdom</th>\n",
       "      <th>HMP Isolation Body Site</th>\n",
       "      <th>Project Status</th>\n",
       "      <th>Current Finishing Level</th>\n",
       "      <th>NCBI Submission Status</th>\n",
       "      <th>NCBI Project ID</th>\n",
       "      <th>Genbank ID</th>\n",
       "      <th>Gene Count</th>\n",
       "      <th>IMG/HMP ID</th>\n",
       "      <th>HOMD ID</th>\n",
       "      <th>Sequencing Center</th>\n",
       "      <th>Funding Source</th>\n",
       "      <th>Strain Repository ID</th>\n",
       "      <th>Unnamed: 17</th>\n",
       "      <th>Unnamed: 18</th>\n",
       "    </tr>\n",
       "    <tr>\n",
       "      <th>Domain</th>\n",
       "      <th></th>\n",
       "      <th></th>\n",
       "      <th></th>\n",
       "      <th></th>\n",
       "      <th></th>\n",
       "      <th></th>\n",
       "      <th></th>\n",
       "      <th></th>\n",
       "      <th></th>\n",
       "      <th></th>\n",
       "      <th></th>\n",
       "      <th></th>\n",
       "      <th></th>\n",
       "      <th></th>\n",
       "      <th></th>\n",
       "      <th></th>\n",
       "      <th></th>\n",
       "      <th></th>\n",
       "    </tr>\n",
       "  </thead>\n",
       "  <tbody>\n",
       "    <tr>\n",
       "      <th>ARCHAEAL</th>\n",
       "      <td>2</td>\n",
       "      <td>2</td>\n",
       "      <td>2</td>\n",
       "      <td>2</td>\n",
       "      <td>2</td>\n",
       "      <td>2</td>\n",
       "      <td>2</td>\n",
       "      <td>2</td>\n",
       "      <td>2</td>\n",
       "      <td>2</td>\n",
       "      <td>2</td>\n",
       "      <td>2</td>\n",
       "      <td>0</td>\n",
       "      <td>2</td>\n",
       "      <td>2</td>\n",
       "      <td>2</td>\n",
       "      <td>0</td>\n",
       "      <td>0</td>\n",
       "    </tr>\n",
       "    <tr>\n",
       "      <th>BACTERIAL</th>\n",
       "      <td>1541</td>\n",
       "      <td>1487</td>\n",
       "      <td>1541</td>\n",
       "      <td>1440</td>\n",
       "      <td>1541</td>\n",
       "      <td>1541</td>\n",
       "      <td>1541</td>\n",
       "      <td>1541</td>\n",
       "      <td>1541</td>\n",
       "      <td>1541</td>\n",
       "      <td>1541</td>\n",
       "      <td>1541</td>\n",
       "      <td>386</td>\n",
       "      <td>1541</td>\n",
       "      <td>1541</td>\n",
       "      <td>1247</td>\n",
       "      <td>0</td>\n",
       "      <td>0</td>\n",
       "    </tr>\n",
       "    <tr>\n",
       "      <th>EUKARYAL</th>\n",
       "      <td>4</td>\n",
       "      <td>4</td>\n",
       "      <td>4</td>\n",
       "      <td>4</td>\n",
       "      <td>4</td>\n",
       "      <td>4</td>\n",
       "      <td>4</td>\n",
       "      <td>4</td>\n",
       "      <td>4</td>\n",
       "      <td>4</td>\n",
       "      <td>4</td>\n",
       "      <td>4</td>\n",
       "      <td>0</td>\n",
       "      <td>4</td>\n",
       "      <td>4</td>\n",
       "      <td>2</td>\n",
       "      <td>0</td>\n",
       "      <td>0</td>\n",
       "    </tr>\n",
       "    <tr>\n",
       "      <th>VIRUS</th>\n",
       "      <td>5</td>\n",
       "      <td>0</td>\n",
       "      <td>5</td>\n",
       "      <td>5</td>\n",
       "      <td>5</td>\n",
       "      <td>5</td>\n",
       "      <td>5</td>\n",
       "      <td>5</td>\n",
       "      <td>5</td>\n",
       "      <td>5</td>\n",
       "      <td>5</td>\n",
       "      <td>5</td>\n",
       "      <td>0</td>\n",
       "      <td>5</td>\n",
       "      <td>5</td>\n",
       "      <td>5</td>\n",
       "      <td>0</td>\n",
       "      <td>0</td>\n",
       "    </tr>\n",
       "  </tbody>\n",
       "</table>\n",
       "</div>"
      ],
      "text/plain": [
       "           HMP ID  GOLD ID  Organism Name  NCBI Superkingdom   \n",
       "Domain                                                         \n",
       "ARCHAEAL        2        2              2                  2  \\\n",
       "BACTERIAL    1541     1487           1541               1440   \n",
       "EUKARYAL        4        4              4                  4   \n",
       "VIRUS           5        0              5                  5   \n",
       "\n",
       "           HMP Isolation Body Site  Project Status  Current Finishing Level   \n",
       "Domain                                                                        \n",
       "ARCHAEAL                         2               2                        2  \\\n",
       "BACTERIAL                     1541            1541                     1541   \n",
       "EUKARYAL                         4               4                        4   \n",
       "VIRUS                            5               5                        5   \n",
       "\n",
       "           NCBI Submission Status  NCBI Project ID  Genbank ID  Gene Count   \n",
       "Domain                                                                       \n",
       "ARCHAEAL                        2                2           2           2  \\\n",
       "BACTERIAL                    1541             1541        1541        1541   \n",
       "EUKARYAL                        4                4           4           4   \n",
       "VIRUS                           5                5           5           5   \n",
       "\n",
       "           IMG/HMP ID  HOMD ID  Sequencing Center  Funding Source   \n",
       "Domain                                                              \n",
       "ARCHAEAL            2        0                  2               2  \\\n",
       "BACTERIAL        1541      386               1541            1541   \n",
       "EUKARYAL            4        0                  4               4   \n",
       "VIRUS               5        0                  5               5   \n",
       "\n",
       "           Strain Repository ID  Unnamed: 17  Unnamed: 18  \n",
       "Domain                                                     \n",
       "ARCHAEAL                      2            0            0  \n",
       "BACTERIAL                  1247            0            0  \n",
       "EUKARYAL                      2            0            0  \n",
       "VIRUS                         5            0            0  "
      ]
     },
     "execution_count": 20,
     "metadata": {},
     "output_type": "execute_result"
    }
   ],
   "source": [
    "micro.groupby('Domain').count()"
   ]
  },
  {
   "cell_type": "code",
   "execution_count": 21,
   "id": "d965bce5",
   "metadata": {
    "scrolled": false
   },
   "outputs": [
    {
     "data": {
      "text/html": [
       "<div>\n",
       "<style scoped>\n",
       "    .dataframe tbody tr th:only-of-type {\n",
       "        vertical-align: middle;\n",
       "    }\n",
       "\n",
       "    .dataframe tbody tr th {\n",
       "        vertical-align: top;\n",
       "    }\n",
       "\n",
       "    .dataframe thead th {\n",
       "        text-align: right;\n",
       "    }\n",
       "</style>\n",
       "<table border=\"1\" class=\"dataframe\">\n",
       "  <thead>\n",
       "    <tr style=\"text-align: right;\">\n",
       "      <th></th>\n",
       "      <th>HMP ID</th>\n",
       "      <th>GOLD ID</th>\n",
       "      <th>Organism Name</th>\n",
       "      <th>Domain</th>\n",
       "      <th>HMP Isolation Body Site</th>\n",
       "      <th>Project Status</th>\n",
       "      <th>Current Finishing Level</th>\n",
       "      <th>NCBI Submission Status</th>\n",
       "      <th>NCBI Project ID</th>\n",
       "      <th>Genbank ID</th>\n",
       "      <th>Gene Count</th>\n",
       "      <th>IMG/HMP ID</th>\n",
       "      <th>HOMD ID</th>\n",
       "      <th>Sequencing Center</th>\n",
       "      <th>Funding Source</th>\n",
       "      <th>Strain Repository ID</th>\n",
       "      <th>Unnamed: 17</th>\n",
       "      <th>Unnamed: 18</th>\n",
       "    </tr>\n",
       "    <tr>\n",
       "      <th>NCBI Superkingdom</th>\n",
       "      <th></th>\n",
       "      <th></th>\n",
       "      <th></th>\n",
       "      <th></th>\n",
       "      <th></th>\n",
       "      <th></th>\n",
       "      <th></th>\n",
       "      <th></th>\n",
       "      <th></th>\n",
       "      <th></th>\n",
       "      <th></th>\n",
       "      <th></th>\n",
       "      <th></th>\n",
       "      <th></th>\n",
       "      <th></th>\n",
       "      <th></th>\n",
       "      <th></th>\n",
       "      <th></th>\n",
       "    </tr>\n",
       "  </thead>\n",
       "  <tbody>\n",
       "    <tr>\n",
       "      <th>Archaea</th>\n",
       "      <td>2</td>\n",
       "      <td>2</td>\n",
       "      <td>2</td>\n",
       "      <td>2</td>\n",
       "      <td>2</td>\n",
       "      <td>2</td>\n",
       "      <td>2</td>\n",
       "      <td>2</td>\n",
       "      <td>2</td>\n",
       "      <td>2</td>\n",
       "      <td>2</td>\n",
       "      <td>2</td>\n",
       "      <td>0</td>\n",
       "      <td>2</td>\n",
       "      <td>2</td>\n",
       "      <td>2</td>\n",
       "      <td>0</td>\n",
       "      <td>0</td>\n",
       "    </tr>\n",
       "    <tr>\n",
       "      <th>Bacteria</th>\n",
       "      <td>1448</td>\n",
       "      <td>1384</td>\n",
       "      <td>1448</td>\n",
       "      <td>1437</td>\n",
       "      <td>1448</td>\n",
       "      <td>1448</td>\n",
       "      <td>1448</td>\n",
       "      <td>1448</td>\n",
       "      <td>1448</td>\n",
       "      <td>1448</td>\n",
       "      <td>1448</td>\n",
       "      <td>1448</td>\n",
       "      <td>374</td>\n",
       "      <td>1448</td>\n",
       "      <td>1448</td>\n",
       "      <td>1192</td>\n",
       "      <td>0</td>\n",
       "      <td>0</td>\n",
       "    </tr>\n",
       "    <tr>\n",
       "      <th>Error!!!</th>\n",
       "      <td>3</td>\n",
       "      <td>3</td>\n",
       "      <td>3</td>\n",
       "      <td>3</td>\n",
       "      <td>3</td>\n",
       "      <td>3</td>\n",
       "      <td>3</td>\n",
       "      <td>3</td>\n",
       "      <td>3</td>\n",
       "      <td>3</td>\n",
       "      <td>3</td>\n",
       "      <td>3</td>\n",
       "      <td>3</td>\n",
       "      <td>3</td>\n",
       "      <td>3</td>\n",
       "      <td>3</td>\n",
       "      <td>0</td>\n",
       "      <td>0</td>\n",
       "    </tr>\n",
       "    <tr>\n",
       "      <th>Eukaryota</th>\n",
       "      <td>4</td>\n",
       "      <td>4</td>\n",
       "      <td>4</td>\n",
       "      <td>4</td>\n",
       "      <td>4</td>\n",
       "      <td>4</td>\n",
       "      <td>4</td>\n",
       "      <td>4</td>\n",
       "      <td>4</td>\n",
       "      <td>4</td>\n",
       "      <td>4</td>\n",
       "      <td>4</td>\n",
       "      <td>0</td>\n",
       "      <td>4</td>\n",
       "      <td>4</td>\n",
       "      <td>2</td>\n",
       "      <td>0</td>\n",
       "      <td>0</td>\n",
       "    </tr>\n",
       "    <tr>\n",
       "      <th>Viruses</th>\n",
       "      <td>5</td>\n",
       "      <td>0</td>\n",
       "      <td>5</td>\n",
       "      <td>5</td>\n",
       "      <td>5</td>\n",
       "      <td>5</td>\n",
       "      <td>5</td>\n",
       "      <td>5</td>\n",
       "      <td>5</td>\n",
       "      <td>5</td>\n",
       "      <td>5</td>\n",
       "      <td>5</td>\n",
       "      <td>0</td>\n",
       "      <td>5</td>\n",
       "      <td>5</td>\n",
       "      <td>5</td>\n",
       "      <td>0</td>\n",
       "      <td>0</td>\n",
       "    </tr>\n",
       "  </tbody>\n",
       "</table>\n",
       "</div>"
      ],
      "text/plain": [
       "                   HMP ID  GOLD ID  Organism Name  Domain   \n",
       "NCBI Superkingdom                                           \n",
       "Archaea                 2        2              2       2  \\\n",
       "Bacteria             1448     1384           1448    1437   \n",
       "Error!!!                3        3              3       3   \n",
       "Eukaryota               4        4              4       4   \n",
       "Viruses                 5        0              5       5   \n",
       "\n",
       "                   HMP Isolation Body Site  Project Status   \n",
       "NCBI Superkingdom                                            \n",
       "Archaea                                  2               2  \\\n",
       "Bacteria                              1448            1448   \n",
       "Error!!!                                 3               3   \n",
       "Eukaryota                                4               4   \n",
       "Viruses                                  5               5   \n",
       "\n",
       "                   Current Finishing Level  NCBI Submission Status   \n",
       "NCBI Superkingdom                                                    \n",
       "Archaea                                  2                       2  \\\n",
       "Bacteria                              1448                    1448   \n",
       "Error!!!                                 3                       3   \n",
       "Eukaryota                                4                       4   \n",
       "Viruses                                  5                       5   \n",
       "\n",
       "                   NCBI Project ID  Genbank ID  Gene Count  IMG/HMP ID   \n",
       "NCBI Superkingdom                                                        \n",
       "Archaea                          2           2           2           2  \\\n",
       "Bacteria                      1448        1448        1448        1448   \n",
       "Error!!!                         3           3           3           3   \n",
       "Eukaryota                        4           4           4           4   \n",
       "Viruses                          5           5           5           5   \n",
       "\n",
       "                   HOMD ID  Sequencing Center  Funding Source   \n",
       "NCBI Superkingdom                                               \n",
       "Archaea                  0                  2               2  \\\n",
       "Bacteria               374               1448            1448   \n",
       "Error!!!                 3                  3               3   \n",
       "Eukaryota                0                  4               4   \n",
       "Viruses                  0                  5               5   \n",
       "\n",
       "                   Strain Repository ID  Unnamed: 17  Unnamed: 18  \n",
       "NCBI Superkingdom                                                  \n",
       "Archaea                               2            0            0  \n",
       "Bacteria                           1192            0            0  \n",
       "Error!!!                              3            0            0  \n",
       "Eukaryota                             2            0            0  \n",
       "Viruses                               5            0            0  "
      ]
     },
     "execution_count": 21,
     "metadata": {},
     "output_type": "execute_result"
    }
   ],
   "source": [
    "micro.groupby('NCBI Superkingdom').count()"
   ]
  },
  {
   "cell_type": "markdown",
   "id": "52aa2f50",
   "metadata": {},
   "source": [
    "There is an \"Error!!!\" value for Superkingdom, so that's nice to be able to see exactly what I should replace. I'll start by checking those values specfically."
   ]
  },
  {
   "cell_type": "code",
   "execution_count": 22,
   "id": "5c4d1b74",
   "metadata": {
    "scrolled": false
   },
   "outputs": [
    {
     "data": {
      "text/html": [
       "<div>\n",
       "<style scoped>\n",
       "    .dataframe tbody tr th:only-of-type {\n",
       "        vertical-align: middle;\n",
       "    }\n",
       "\n",
       "    .dataframe tbody tr th {\n",
       "        vertical-align: top;\n",
       "    }\n",
       "\n",
       "    .dataframe thead th {\n",
       "        text-align: right;\n",
       "    }\n",
       "</style>\n",
       "<table border=\"1\" class=\"dataframe\">\n",
       "  <thead>\n",
       "    <tr style=\"text-align: right;\">\n",
       "      <th></th>\n",
       "      <th>HMP ID</th>\n",
       "      <th>GOLD ID</th>\n",
       "      <th>Organism Name</th>\n",
       "      <th>Domain</th>\n",
       "      <th>NCBI Superkingdom</th>\n",
       "      <th>HMP Isolation Body Site</th>\n",
       "      <th>Project Status</th>\n",
       "      <th>Current Finishing Level</th>\n",
       "      <th>NCBI Submission Status</th>\n",
       "      <th>NCBI Project ID</th>\n",
       "      <th>Genbank ID</th>\n",
       "      <th>Gene Count</th>\n",
       "      <th>IMG/HMP ID</th>\n",
       "      <th>HOMD ID</th>\n",
       "      <th>Sequencing Center</th>\n",
       "      <th>Funding Source</th>\n",
       "      <th>Strain Repository ID</th>\n",
       "      <th>Unnamed: 17</th>\n",
       "      <th>Unnamed: 18</th>\n",
       "    </tr>\n",
       "  </thead>\n",
       "  <tbody>\n",
       "    <tr>\n",
       "      <th>2478</th>\n",
       "      <td>9176</td>\n",
       "      <td>Gi05045</td>\n",
       "      <td>Streptococcus downei F0415</td>\n",
       "      <td>BACTERIAL</td>\n",
       "      <td>Error!!!</td>\n",
       "      <td>oral</td>\n",
       "      <td>Complete</td>\n",
       "      <td>Level 2: High-Quality Draft</td>\n",
       "      <td>6. annotation (and sequence) public on NCBI site</td>\n",
       "      <td>53567</td>\n",
       "      <td>AEKN00000000</td>\n",
       "      <td>2204</td>\n",
       "      <td>649990005</td>\n",
       "      <td>HOMD: tax_594</td>\n",
       "      <td>J. Craig Venter Institute</td>\n",
       "      <td>NIH-HMP Jumpstart Supplement</td>\n",
       "      <td>BEI HM-475</td>\n",
       "      <td>NaN</td>\n",
       "      <td>NaN</td>\n",
       "    </tr>\n",
       "    <tr>\n",
       "      <th>2481</th>\n",
       "      <td>9180</td>\n",
       "      <td>Gi05049</td>\n",
       "      <td>Streptococcus peroris ATCC 700780</td>\n",
       "      <td>BACTERIAL</td>\n",
       "      <td>Error!!!</td>\n",
       "      <td>oral</td>\n",
       "      <td>Complete</td>\n",
       "      <td>Level 2: High-Quality Draft</td>\n",
       "      <td>6. annotation (and sequence) public on NCBI site</td>\n",
       "      <td>53059</td>\n",
       "      <td>AEVF00000000</td>\n",
       "      <td>1638</td>\n",
       "      <td>649990011</td>\n",
       "      <td>HOMD: tax_728</td>\n",
       "      <td>Baylor College of Medicine</td>\n",
       "      <td>NIH-HMP</td>\n",
       "      <td>ATCC 700780</td>\n",
       "      <td>NaN</td>\n",
       "      <td>NaN</td>\n",
       "    </tr>\n",
       "    <tr>\n",
       "      <th>2487</th>\n",
       "      <td>9192</td>\n",
       "      <td>Gi05061</td>\n",
       "      <td>Streptococcus vestibularis F0396</td>\n",
       "      <td>BACTERIAL</td>\n",
       "      <td>Error!!!</td>\n",
       "      <td>oral</td>\n",
       "      <td>Complete</td>\n",
       "      <td>Level 2: High-Quality Draft</td>\n",
       "      <td>6. annotation (and sequence) public on NCBI site</td>\n",
       "      <td>53573</td>\n",
       "      <td>AEKO00000000</td>\n",
       "      <td>1979</td>\n",
       "      <td>649990017</td>\n",
       "      <td>HOMD: tax_21</td>\n",
       "      <td>J. Craig Venter Institute</td>\n",
       "      <td>NIH-NIAID</td>\n",
       "      <td>BEI HM-561</td>\n",
       "      <td>NaN</td>\n",
       "      <td>NaN</td>\n",
       "    </tr>\n",
       "  </tbody>\n",
       "</table>\n",
       "</div>"
      ],
      "text/plain": [
       "      HMP ID  GOLD ID                      Organism Name     Domain   \n",
       "2478    9176  Gi05045         Streptococcus downei F0415  BACTERIAL  \\\n",
       "2481    9180  Gi05049  Streptococcus peroris ATCC 700780  BACTERIAL   \n",
       "2487    9192  Gi05061   Streptococcus vestibularis F0396  BACTERIAL   \n",
       "\n",
       "     NCBI Superkingdom HMP Isolation Body Site Project Status   \n",
       "2478          Error!!!                    oral       Complete  \\\n",
       "2481          Error!!!                    oral       Complete   \n",
       "2487          Error!!!                    oral       Complete   \n",
       "\n",
       "          Current Finishing Level   \n",
       "2478  Level 2: High-Quality Draft  \\\n",
       "2481  Level 2: High-Quality Draft   \n",
       "2487  Level 2: High-Quality Draft   \n",
       "\n",
       "                                NCBI Submission Status  NCBI Project ID   \n",
       "2478  6. annotation (and sequence) public on NCBI site            53567  \\\n",
       "2481  6. annotation (and sequence) public on NCBI site            53059   \n",
       "2487  6. annotation (and sequence) public on NCBI site            53573   \n",
       "\n",
       "        Genbank ID  Gene Count  IMG/HMP ID        HOMD ID   \n",
       "2478  AEKN00000000        2204   649990005  HOMD: tax_594  \\\n",
       "2481  AEVF00000000        1638   649990011  HOMD: tax_728   \n",
       "2487  AEKO00000000        1979   649990017   HOMD: tax_21   \n",
       "\n",
       "               Sequencing Center                Funding Source   \n",
       "2478   J. Craig Venter Institute  NIH-HMP Jumpstart Supplement  \\\n",
       "2481  Baylor College of Medicine                       NIH-HMP   \n",
       "2487   J. Craig Venter Institute                     NIH-NIAID   \n",
       "\n",
       "     Strain Repository ID  Unnamed: 17  Unnamed: 18  \n",
       "2478           BEI HM-475          NaN          NaN  \n",
       "2481          ATCC 700780          NaN          NaN  \n",
       "2487           BEI HM-561          NaN          NaN  "
      ]
     },
     "execution_count": 22,
     "metadata": {},
     "output_type": "execute_result"
    }
   ],
   "source": [
    "micro[micro['NCBI Superkingdom']=='Error!!!']"
   ]
  },
  {
   "cell_type": "markdown",
   "id": "7b50ccdd",
   "metadata": {},
   "source": [
    "All three are in the Bacterial domain, so I can replace their values with \"Bacteria\""
   ]
  },
  {
   "cell_type": "code",
   "execution_count": 23,
   "id": "24151db2",
   "metadata": {},
   "outputs": [],
   "source": [
    "micro['NCBI Superkingdom'].replace('Error!!!', 'Bacteria', inplace=True)"
   ]
  },
  {
   "cell_type": "markdown",
   "id": "da55e6c3",
   "metadata": {},
   "source": [
    "I can infer the Domain based on the Superkingdom and vice versa, but I can't use any values where both are missing, so I'll check those."
   ]
  },
  {
   "cell_type": "code",
   "execution_count": 24,
   "id": "08cfeefc",
   "metadata": {},
   "outputs": [
    {
     "data": {
      "text/plain": [
       "16"
      ]
     },
     "execution_count": 24,
     "metadata": {},
     "output_type": "execute_result"
    }
   ],
   "source": [
    "len(micro.loc[micro['Domain'].isnull()& micro['NCBI Superkingdom'].isnull()])"
   ]
  },
  {
   "cell_type": "markdown",
   "id": "3573b849",
   "metadata": {},
   "source": [
    "There are 16 values that have both missing so I'm going to drop those."
   ]
  },
  {
   "cell_type": "code",
   "execution_count": 25,
   "id": "5ea9e955",
   "metadata": {
    "scrolled": false
   },
   "outputs": [
    {
     "data": {
      "text/plain": [
       "(1563, 19)"
      ]
     },
     "execution_count": 25,
     "metadata": {},
     "output_type": "execute_result"
    }
   ],
   "source": [
    "micro=micro.drop(micro[(micro['Domain'].isnull()) & (micro['NCBI Superkingdom'].isnull())].index)\n",
    "micro.shape"
   ]
  },
  {
   "cell_type": "markdown",
   "id": "6ecebe5b",
   "metadata": {},
   "source": [
    "In order to replace the other values, I'm going to transform them to NaN first."
   ]
  },
  {
   "cell_type": "code",
   "execution_count": 26,
   "id": "5442251e",
   "metadata": {},
   "outputs": [],
   "source": [
    "micro['NCBI Superkingdom'].fillna('NaN', inplace=True)"
   ]
  },
  {
   "cell_type": "code",
   "execution_count": 27,
   "id": "eda2628d",
   "metadata": {
    "scrolled": true
   },
   "outputs": [
    {
     "data": {
      "text/plain": [
       "NCBI Superkingdom\n",
       "False    1462\n",
       "True      101\n",
       "Name: count, dtype: int64"
      ]
     },
     "execution_count": 27,
     "metadata": {},
     "output_type": "execute_result"
    }
   ],
   "source": [
    "(micro['NCBI Superkingdom'] == \"NaN\").value_counts()"
   ]
  },
  {
   "cell_type": "code",
   "execution_count": 28,
   "id": "6d09656e",
   "metadata": {},
   "outputs": [],
   "source": [
    "micro['Domain'].fillna('NaN', inplace=True)"
   ]
  },
  {
   "cell_type": "code",
   "execution_count": 29,
   "id": "5824f423",
   "metadata": {
    "scrolled": false
   },
   "outputs": [
    {
     "data": {
      "text/plain": [
       "Domain\n",
       "False    1552\n",
       "True       11\n",
       "Name: count, dtype: int64"
      ]
     },
     "execution_count": 29,
     "metadata": {},
     "output_type": "execute_result"
    }
   ],
   "source": [
    "#check value counts\n",
    "(micro['Domain'] == \"NaN\").value_counts()"
   ]
  },
  {
   "cell_type": "markdown",
   "id": "26686d01",
   "metadata": {},
   "source": [
    "I'm going to replace all of the Domain values with their relative Superkingdom name where applicable using pandas transform function."
   ]
  },
  {
   "cell_type": "code",
   "execution_count": 30,
   "id": "b34a022b",
   "metadata": {},
   "outputs": [],
   "source": [
    "#make dataframe containing only rows with NaN in Domain or Superkingdom\n",
    "micro_null = micro[(micro['Domain'] == \"NaN\") | (micro['NCBI Superkingdom'] == \"NaN\")]"
   ]
  },
  {
   "cell_type": "code",
   "execution_count": 31,
   "id": "9293b63e",
   "metadata": {
    "scrolled": true
   },
   "outputs": [
    {
     "data": {
      "text/html": [
       "<div>\n",
       "<style scoped>\n",
       "    .dataframe tbody tr th:only-of-type {\n",
       "        vertical-align: middle;\n",
       "    }\n",
       "\n",
       "    .dataframe tbody tr th {\n",
       "        vertical-align: top;\n",
       "    }\n",
       "\n",
       "    .dataframe thead th {\n",
       "        text-align: right;\n",
       "    }\n",
       "</style>\n",
       "<table border=\"1\" class=\"dataframe\">\n",
       "  <thead>\n",
       "    <tr style=\"text-align: right;\">\n",
       "      <th></th>\n",
       "      <th>HMP ID</th>\n",
       "      <th>GOLD ID</th>\n",
       "      <th>Organism Name</th>\n",
       "      <th>Domain</th>\n",
       "      <th>NCBI Superkingdom</th>\n",
       "      <th>HMP Isolation Body Site</th>\n",
       "      <th>Project Status</th>\n",
       "      <th>Current Finishing Level</th>\n",
       "      <th>NCBI Submission Status</th>\n",
       "      <th>NCBI Project ID</th>\n",
       "      <th>Genbank ID</th>\n",
       "      <th>Gene Count</th>\n",
       "      <th>IMG/HMP ID</th>\n",
       "      <th>HOMD ID</th>\n",
       "      <th>Sequencing Center</th>\n",
       "      <th>Funding Source</th>\n",
       "      <th>Strain Repository ID</th>\n",
       "      <th>Unnamed: 17</th>\n",
       "      <th>Unnamed: 18</th>\n",
       "    </tr>\n",
       "  </thead>\n",
       "  <tbody>\n",
       "    <tr>\n",
       "      <th>1314</th>\n",
       "      <td>1978</td>\n",
       "      <td>NaN</td>\n",
       "      <td>Actinomyces graevenitzii F0530</td>\n",
       "      <td>NaN</td>\n",
       "      <td>Bacteria</td>\n",
       "      <td>oral</td>\n",
       "      <td>Complete</td>\n",
       "      <td>Level 2: High-Quality Draft</td>\n",
       "      <td>6. annotation (and sequence) public on NCBI site</td>\n",
       "      <td>198881</td>\n",
       "      <td>AWSC01000000</td>\n",
       "      <td>1897</td>\n",
       "      <td>0</td>\n",
       "      <td>NaN</td>\n",
       "      <td>Washington University Genome Sequencing Center</td>\n",
       "      <td>NIH-HMP Sequencing Center</td>\n",
       "      <td>BEI HM-1132</td>\n",
       "      <td>NaN</td>\n",
       "      <td>NaN</td>\n",
       "    </tr>\n",
       "    <tr>\n",
       "      <th>1463</th>\n",
       "      <td>2128</td>\n",
       "      <td>NaN</td>\n",
       "      <td>Arthrobacter albus DNF00011</td>\n",
       "      <td>NaN</td>\n",
       "      <td>Bacteria</td>\n",
       "      <td>urogenital_tract</td>\n",
       "      <td>Complete</td>\n",
       "      <td>Level 2: High-Quality Draft</td>\n",
       "      <td>6. annotation (and sequence) public on NCBI site</td>\n",
       "      <td>219659</td>\n",
       "      <td>JRNH00000000</td>\n",
       "      <td>1596</td>\n",
       "      <td>0</td>\n",
       "      <td>NaN</td>\n",
       "      <td>J. Craig Venter Institute</td>\n",
       "      <td>NIH-HMP</td>\n",
       "      <td>BEI HM-1152</td>\n",
       "      <td>NaN</td>\n",
       "      <td>NaN</td>\n",
       "    </tr>\n",
       "    <tr>\n",
       "      <th>1464</th>\n",
       "      <td>2129</td>\n",
       "      <td>NaN</td>\n",
       "      <td>Corynebacterium tuscaniense DNF00037</td>\n",
       "      <td>NaN</td>\n",
       "      <td>Bacteria</td>\n",
       "      <td>urogenital_tract</td>\n",
       "      <td>Complete</td>\n",
       "      <td>Level 2: High-Quality Draft</td>\n",
       "      <td>6. annotation (and sequence) public on NCBI site</td>\n",
       "      <td>219660</td>\n",
       "      <td>JRNG00000000</td>\n",
       "      <td>1792</td>\n",
       "      <td>0</td>\n",
       "      <td>NaN</td>\n",
       "      <td>J. Craig Venter Institute</td>\n",
       "      <td>NIH-HMP</td>\n",
       "      <td>BEI HM-1153</td>\n",
       "      <td>NaN</td>\n",
       "      <td>NaN</td>\n",
       "    </tr>\n",
       "    <tr>\n",
       "      <th>1465</th>\n",
       "      <td>2130</td>\n",
       "      <td>NaN</td>\n",
       "      <td>Oligella urethralis DNF00040</td>\n",
       "      <td>NaN</td>\n",
       "      <td>Bacteria</td>\n",
       "      <td>urogenital_tract</td>\n",
       "      <td>Complete</td>\n",
       "      <td>Level 2: High-Quality Draft</td>\n",
       "      <td>6. annotation (and sequence) public on NCBI site</td>\n",
       "      <td>219661</td>\n",
       "      <td>JRNI00000000</td>\n",
       "      <td>2118</td>\n",
       "      <td>0</td>\n",
       "      <td>NaN</td>\n",
       "      <td>J. Craig Venter Institute</td>\n",
       "      <td>NIH-HMP</td>\n",
       "      <td>BEI HM-1154</td>\n",
       "      <td>NaN</td>\n",
       "      <td>NaN</td>\n",
       "    </tr>\n",
       "    <tr>\n",
       "      <th>1467</th>\n",
       "      <td>2132</td>\n",
       "      <td>NaN</td>\n",
       "      <td>Prevotella histicola JCM 15637 = DNF00424</td>\n",
       "      <td>NaN</td>\n",
       "      <td>Bacteria</td>\n",
       "      <td>urogenital_tract</td>\n",
       "      <td>Complete</td>\n",
       "      <td>Level 2: High-Quality Draft</td>\n",
       "      <td>6. annotation (and sequence) public on NCBI site</td>\n",
       "      <td>219666</td>\n",
       "      <td>JRNJ00000000</td>\n",
       "      <td>2358</td>\n",
       "      <td>0</td>\n",
       "      <td>NaN</td>\n",
       "      <td>J. Craig Venter Institute</td>\n",
       "      <td>NIH-HMP</td>\n",
       "      <td>BEI Processing</td>\n",
       "      <td>NaN</td>\n",
       "      <td>NaN</td>\n",
       "    </tr>\n",
       "    <tr>\n",
       "      <th>1469</th>\n",
       "      <td>2134</td>\n",
       "      <td>NaN</td>\n",
       "      <td>Peptoniphilus lacrimalis DNF00528</td>\n",
       "      <td>NaN</td>\n",
       "      <td>Bacteria</td>\n",
       "      <td>urogenital_tract</td>\n",
       "      <td>Complete</td>\n",
       "      <td>Level 2: High-Quality Draft</td>\n",
       "      <td>6. annotation (and sequence) public on NCBI site</td>\n",
       "      <td>219668</td>\n",
       "      <td>JRNL00000000</td>\n",
       "      <td>3237</td>\n",
       "      <td>0</td>\n",
       "      <td>NaN</td>\n",
       "      <td>J. Craig Venter Institute</td>\n",
       "      <td>NIH-HMP</td>\n",
       "      <td>BEI HM-1161</td>\n",
       "      <td>NaN</td>\n",
       "      <td>NaN</td>\n",
       "    </tr>\n",
       "    <tr>\n",
       "      <th>1470</th>\n",
       "      <td>2135</td>\n",
       "      <td>NaN</td>\n",
       "      <td>Staphylococcus haemolyticus DNF00585</td>\n",
       "      <td>NaN</td>\n",
       "      <td>Bacteria</td>\n",
       "      <td>urogenital_tract</td>\n",
       "      <td>Complete</td>\n",
       "      <td>Level 2: High-Quality Draft</td>\n",
       "      <td>6. annotation (and sequence) public on NCBI site</td>\n",
       "      <td>219669</td>\n",
       "      <td>JRNK00000000</td>\n",
       "      <td>2173</td>\n",
       "      <td>0</td>\n",
       "      <td>NaN</td>\n",
       "      <td>J. Craig Venter Institute</td>\n",
       "      <td>NIH-HMP</td>\n",
       "      <td>BEI HM-1164</td>\n",
       "      <td>NaN</td>\n",
       "      <td>NaN</td>\n",
       "    </tr>\n",
       "    <tr>\n",
       "      <th>1471</th>\n",
       "      <td>2136</td>\n",
       "      <td>NaN</td>\n",
       "      <td>Prevotella bivia DNF00650</td>\n",
       "      <td>NaN</td>\n",
       "      <td>Bacteria</td>\n",
       "      <td>urogenital_tract</td>\n",
       "      <td>Complete</td>\n",
       "      <td>Level 2: High-Quality Draft</td>\n",
       "      <td>6. annotation (and sequence) public on NCBI site</td>\n",
       "      <td>219670</td>\n",
       "      <td>JRNM00000000</td>\n",
       "      <td>1973</td>\n",
       "      <td>0</td>\n",
       "      <td>NaN</td>\n",
       "      <td>J. Craig Venter Institute</td>\n",
       "      <td>NIH-HMP</td>\n",
       "      <td>BEI HM-1165</td>\n",
       "      <td>NaN</td>\n",
       "      <td>NaN</td>\n",
       "    </tr>\n",
       "    <tr>\n",
       "      <th>1472</th>\n",
       "      <td>2137</td>\n",
       "      <td>NaN</td>\n",
       "      <td>Prevotella buccalis DNF00853</td>\n",
       "      <td>NaN</td>\n",
       "      <td>Bacteria</td>\n",
       "      <td>urogenital_tract</td>\n",
       "      <td>Complete</td>\n",
       "      <td>Level 2: High-Quality Draft</td>\n",
       "      <td>6. annotation (and sequence) public on NCBI site</td>\n",
       "      <td>219672</td>\n",
       "      <td>JRNN00000000</td>\n",
       "      <td>2232</td>\n",
       "      <td>0</td>\n",
       "      <td>NaN</td>\n",
       "      <td>J. Craig Venter Institute</td>\n",
       "      <td>NIH-HMP</td>\n",
       "      <td>BEI HM-1169</td>\n",
       "      <td>NaN</td>\n",
       "      <td>NaN</td>\n",
       "    </tr>\n",
       "    <tr>\n",
       "      <th>1474</th>\n",
       "      <td>2139</td>\n",
       "      <td>NaN</td>\n",
       "      <td>Prevotella denticola DNF00960</td>\n",
       "      <td>NaN</td>\n",
       "      <td>Bacteria</td>\n",
       "      <td>urogenital_tract</td>\n",
       "      <td>Complete</td>\n",
       "      <td>Level 2: High-Quality Draft</td>\n",
       "      <td>6. annotation (and sequence) public on NCBI site</td>\n",
       "      <td>219676</td>\n",
       "      <td>JRNO00000000</td>\n",
       "      <td>2355</td>\n",
       "      <td>0</td>\n",
       "      <td>NaN</td>\n",
       "      <td>J. Craig Venter Institute</td>\n",
       "      <td>NIH-HMP</td>\n",
       "      <td>BEI HM-1173</td>\n",
       "      <td>NaN</td>\n",
       "      <td>NaN</td>\n",
       "    </tr>\n",
       "    <tr>\n",
       "      <th>1475</th>\n",
       "      <td>2140</td>\n",
       "      <td>NaN</td>\n",
       "      <td>Prevotella buccalis DNF00985</td>\n",
       "      <td>NaN</td>\n",
       "      <td>Bacteria</td>\n",
       "      <td>urogenital_tract</td>\n",
       "      <td>Complete</td>\n",
       "      <td>Level 2: High-Quality Draft</td>\n",
       "      <td>6. annotation (and sequence) public on NCBI site</td>\n",
       "      <td>219677</td>\n",
       "      <td>JRNP00000000</td>\n",
       "      <td>2062</td>\n",
       "      <td>0</td>\n",
       "      <td>NaN</td>\n",
       "      <td>J. Craig Venter Institute</td>\n",
       "      <td>NIH-HMP</td>\n",
       "      <td>BEI HM-1174</td>\n",
       "      <td>NaN</td>\n",
       "      <td>NaN</td>\n",
       "    </tr>\n",
       "  </tbody>\n",
       "</table>\n",
       "</div>"
      ],
      "text/plain": [
       "      HMP ID GOLD ID                              Organism Name Domain   \n",
       "1314    1978     NaN             Actinomyces graevenitzii F0530    NaN  \\\n",
       "1463    2128     NaN                Arthrobacter albus DNF00011    NaN   \n",
       "1464    2129     NaN       Corynebacterium tuscaniense DNF00037    NaN   \n",
       "1465    2130     NaN               Oligella urethralis DNF00040    NaN   \n",
       "1467    2132     NaN  Prevotella histicola JCM 15637 = DNF00424    NaN   \n",
       "1469    2134     NaN          Peptoniphilus lacrimalis DNF00528    NaN   \n",
       "1470    2135     NaN       Staphylococcus haemolyticus DNF00585    NaN   \n",
       "1471    2136     NaN                  Prevotella bivia DNF00650    NaN   \n",
       "1472    2137     NaN               Prevotella buccalis DNF00853    NaN   \n",
       "1474    2139     NaN              Prevotella denticola DNF00960    NaN   \n",
       "1475    2140     NaN               Prevotella buccalis DNF00985    NaN   \n",
       "\n",
       "     NCBI Superkingdom HMP Isolation Body Site Project Status   \n",
       "1314          Bacteria                    oral       Complete  \\\n",
       "1463          Bacteria        urogenital_tract       Complete   \n",
       "1464          Bacteria        urogenital_tract       Complete   \n",
       "1465          Bacteria        urogenital_tract       Complete   \n",
       "1467          Bacteria        urogenital_tract       Complete   \n",
       "1469          Bacteria        urogenital_tract       Complete   \n",
       "1470          Bacteria        urogenital_tract       Complete   \n",
       "1471          Bacteria        urogenital_tract       Complete   \n",
       "1472          Bacteria        urogenital_tract       Complete   \n",
       "1474          Bacteria        urogenital_tract       Complete   \n",
       "1475          Bacteria        urogenital_tract       Complete   \n",
       "\n",
       "          Current Finishing Level   \n",
       "1314  Level 2: High-Quality Draft  \\\n",
       "1463  Level 2: High-Quality Draft   \n",
       "1464  Level 2: High-Quality Draft   \n",
       "1465  Level 2: High-Quality Draft   \n",
       "1467  Level 2: High-Quality Draft   \n",
       "1469  Level 2: High-Quality Draft   \n",
       "1470  Level 2: High-Quality Draft   \n",
       "1471  Level 2: High-Quality Draft   \n",
       "1472  Level 2: High-Quality Draft   \n",
       "1474  Level 2: High-Quality Draft   \n",
       "1475  Level 2: High-Quality Draft   \n",
       "\n",
       "                                NCBI Submission Status  NCBI Project ID   \n",
       "1314  6. annotation (and sequence) public on NCBI site           198881  \\\n",
       "1463  6. annotation (and sequence) public on NCBI site           219659   \n",
       "1464  6. annotation (and sequence) public on NCBI site           219660   \n",
       "1465  6. annotation (and sequence) public on NCBI site           219661   \n",
       "1467  6. annotation (and sequence) public on NCBI site           219666   \n",
       "1469  6. annotation (and sequence) public on NCBI site           219668   \n",
       "1470  6. annotation (and sequence) public on NCBI site           219669   \n",
       "1471  6. annotation (and sequence) public on NCBI site           219670   \n",
       "1472  6. annotation (and sequence) public on NCBI site           219672   \n",
       "1474  6. annotation (and sequence) public on NCBI site           219676   \n",
       "1475  6. annotation (and sequence) public on NCBI site           219677   \n",
       "\n",
       "        Genbank ID  Gene Count  IMG/HMP ID HOMD ID   \n",
       "1314  AWSC01000000        1897           0     NaN  \\\n",
       "1463  JRNH00000000        1596           0     NaN   \n",
       "1464  JRNG00000000        1792           0     NaN   \n",
       "1465  JRNI00000000        2118           0     NaN   \n",
       "1467  JRNJ00000000        2358           0     NaN   \n",
       "1469  JRNL00000000        3237           0     NaN   \n",
       "1470  JRNK00000000        2173           0     NaN   \n",
       "1471  JRNM00000000        1973           0     NaN   \n",
       "1472  JRNN00000000        2232           0     NaN   \n",
       "1474  JRNO00000000        2355           0     NaN   \n",
       "1475  JRNP00000000        2062           0     NaN   \n",
       "\n",
       "                                   Sequencing Center   \n",
       "1314  Washington University Genome Sequencing Center  \\\n",
       "1463                       J. Craig Venter Institute   \n",
       "1464                       J. Craig Venter Institute   \n",
       "1465                       J. Craig Venter Institute   \n",
       "1467                       J. Craig Venter Institute   \n",
       "1469                       J. Craig Venter Institute   \n",
       "1470                       J. Craig Venter Institute   \n",
       "1471                       J. Craig Venter Institute   \n",
       "1472                       J. Craig Venter Institute   \n",
       "1474                       J. Craig Venter Institute   \n",
       "1475                       J. Craig Venter Institute   \n",
       "\n",
       "                 Funding Source Strain Repository ID  Unnamed: 17  Unnamed: 18  \n",
       "1314  NIH-HMP Sequencing Center          BEI HM-1132          NaN          NaN  \n",
       "1463                    NIH-HMP          BEI HM-1152          NaN          NaN  \n",
       "1464                    NIH-HMP          BEI HM-1153          NaN          NaN  \n",
       "1465                    NIH-HMP          BEI HM-1154          NaN          NaN  \n",
       "1467                    NIH-HMP       BEI Processing          NaN          NaN  \n",
       "1469                    NIH-HMP          BEI HM-1161          NaN          NaN  \n",
       "1470                    NIH-HMP          BEI HM-1164          NaN          NaN  \n",
       "1471                    NIH-HMP          BEI HM-1165          NaN          NaN  \n",
       "1472                    NIH-HMP          BEI HM-1169          NaN          NaN  \n",
       "1474                    NIH-HMP          BEI HM-1173          NaN          NaN  \n",
       "1475                    NIH-HMP          BEI HM-1174          NaN          NaN  "
      ]
     },
     "execution_count": 31,
     "metadata": {},
     "output_type": "execute_result"
    }
   ],
   "source": [
    "#See which rows have NaN to compare with their Superkingdom value\n",
    "micro_null.loc[micro_null['Domain'] == \"NaN\"]"
   ]
  },
  {
   "cell_type": "code",
   "execution_count": 32,
   "id": "b6bad749",
   "metadata": {
    "scrolled": false
   },
   "outputs": [
    {
     "data": {
      "text/plain": [
       "11"
      ]
     },
     "execution_count": 32,
     "metadata": {},
     "output_type": "execute_result"
    }
   ],
   "source": [
    "#count nulls to compare\n",
    "(micro['Domain'] == \"NaN\").sum()"
   ]
  },
  {
   "cell_type": "code",
   "execution_count": 33,
   "id": "41810439",
   "metadata": {
    "scrolled": true
   },
   "outputs": [
    {
     "data": {
      "text/html": [
       "<div>\n",
       "<style scoped>\n",
       "    .dataframe tbody tr th:only-of-type {\n",
       "        vertical-align: middle;\n",
       "    }\n",
       "\n",
       "    .dataframe tbody tr th {\n",
       "        vertical-align: top;\n",
       "    }\n",
       "\n",
       "    .dataframe thead th {\n",
       "        text-align: right;\n",
       "    }\n",
       "</style>\n",
       "<table border=\"1\" class=\"dataframe\">\n",
       "  <thead>\n",
       "    <tr style=\"text-align: right;\">\n",
       "      <th></th>\n",
       "      <th>HMP ID</th>\n",
       "      <th>GOLD ID</th>\n",
       "      <th>Organism Name</th>\n",
       "      <th>Domain</th>\n",
       "      <th>NCBI Superkingdom</th>\n",
       "      <th>HMP Isolation Body Site</th>\n",
       "      <th>Project Status</th>\n",
       "      <th>Current Finishing Level</th>\n",
       "      <th>NCBI Submission Status</th>\n",
       "      <th>NCBI Project ID</th>\n",
       "      <th>Genbank ID</th>\n",
       "      <th>Gene Count</th>\n",
       "      <th>IMG/HMP ID</th>\n",
       "      <th>HOMD ID</th>\n",
       "      <th>Sequencing Center</th>\n",
       "      <th>Funding Source</th>\n",
       "      <th>Strain Repository ID</th>\n",
       "      <th>Unnamed: 17</th>\n",
       "      <th>Unnamed: 18</th>\n",
       "    </tr>\n",
       "  </thead>\n",
       "  <tbody>\n",
       "    <tr>\n",
       "      <th>0</th>\n",
       "      <td>1</td>\n",
       "      <td>Gi03551</td>\n",
       "      <td>Abiotrophia defectiva ATCC 49176</td>\n",
       "      <td>BACTERIAL</td>\n",
       "      <td>Bacteria</td>\n",
       "      <td>oral</td>\n",
       "      <td>Complete</td>\n",
       "      <td>Level 3: Improved-High-Quality Draft</td>\n",
       "      <td>6. annotation (and sequence) public on NCBI site</td>\n",
       "      <td>33011</td>\n",
       "      <td>ACIN00000000</td>\n",
       "      <td>1950</td>\n",
       "      <td>643886181</td>\n",
       "      <td>HOMD: tax_389</td>\n",
       "      <td>Washington University Genome Sequencing Center</td>\n",
       "      <td>NIH-HMP Jumpstart Supplement</td>\n",
       "      <td>ATCC 49176, CIP 103242</td>\n",
       "      <td>NaN</td>\n",
       "      <td>NaN</td>\n",
       "    </tr>\n",
       "    <tr>\n",
       "      <th>1</th>\n",
       "      <td>4</td>\n",
       "      <td>Gi03555</td>\n",
       "      <td>Achromobacter piechaudii ATCC 43553</td>\n",
       "      <td>BACTERIAL</td>\n",
       "      <td>Bacteria</td>\n",
       "      <td>airways</td>\n",
       "      <td>Complete</td>\n",
       "      <td>Level 2: High-Quality Draft</td>\n",
       "      <td>6. annotation (and sequence) public on NCBI site</td>\n",
       "      <td>46343</td>\n",
       "      <td>ADMS00000000</td>\n",
       "      <td>5755</td>\n",
       "      <td>647000200</td>\n",
       "      <td>NaN</td>\n",
       "      <td>Baylor College of Medicine</td>\n",
       "      <td>NIH-HMP Jumpstart Supplement</td>\n",
       "      <td>ATCC 43553, CIP 55774, LMG 6100</td>\n",
       "      <td>NaN</td>\n",
       "      <td>NaN</td>\n",
       "    </tr>\n",
       "    <tr>\n",
       "      <th>2</th>\n",
       "      <td>5</td>\n",
       "      <td>Gi03554</td>\n",
       "      <td>Achromobacter xylosoxidans C54</td>\n",
       "      <td>BACTERIAL</td>\n",
       "      <td>Bacteria</td>\n",
       "      <td>airways</td>\n",
       "      <td>Complete</td>\n",
       "      <td>Level 5: Non-contiguous Finished</td>\n",
       "      <td>6. annotation (and sequence) public on NCBI site</td>\n",
       "      <td>38739</td>\n",
       "      <td>ACRC00000000</td>\n",
       "      <td>6010</td>\n",
       "      <td>0</td>\n",
       "      <td>HOMD: tax_343</td>\n",
       "      <td>Broad Institute</td>\n",
       "      <td>NIH-HMP Jumpstart Supplement</td>\n",
       "      <td>BEI HM-235</td>\n",
       "      <td>NaN</td>\n",
       "      <td>NaN</td>\n",
       "    </tr>\n",
       "    <tr>\n",
       "      <th>3</th>\n",
       "      <td>10</td>\n",
       "      <td>Gi03422</td>\n",
       "      <td>Acinetobacter baumannii ATCC 19606</td>\n",
       "      <td>BACTERIAL</td>\n",
       "      <td>Bacteria</td>\n",
       "      <td>urogenital_tract</td>\n",
       "      <td>Complete</td>\n",
       "      <td>Level 2: High-Quality Draft</td>\n",
       "      <td>6. annotation (and sequence) public on NCBI site</td>\n",
       "      <td>38509</td>\n",
       "      <td>ACQB00000000</td>\n",
       "      <td>3832</td>\n",
       "      <td>647533101</td>\n",
       "      <td>HOMD: tax_554</td>\n",
       "      <td>Broad Institute</td>\n",
       "      <td>NIH-HMP Jumpstart Supplement</td>\n",
       "      <td>ATCC 19606, DSM 6974</td>\n",
       "      <td>NaN</td>\n",
       "      <td>NaN</td>\n",
       "    </tr>\n",
       "    <tr>\n",
       "      <th>4</th>\n",
       "      <td>12</td>\n",
       "      <td>Gi03421</td>\n",
       "      <td>Acinetobacter calcoaceticus RUH2202</td>\n",
       "      <td>BACTERIAL</td>\n",
       "      <td>Bacteria</td>\n",
       "      <td>skin</td>\n",
       "      <td>Complete</td>\n",
       "      <td>Level 2: High-Quality Draft</td>\n",
       "      <td>6. annotation (and sequence) public on NCBI site</td>\n",
       "      <td>38337</td>\n",
       "      <td>ACPK00000000</td>\n",
       "      <td>3632</td>\n",
       "      <td>646206267</td>\n",
       "      <td>NaN</td>\n",
       "      <td>Broad Institute</td>\n",
       "      <td>NIH-HMP Jumpstart Supplement</td>\n",
       "      <td>LMG 10517</td>\n",
       "      <td>NaN</td>\n",
       "      <td>NaN</td>\n",
       "    </tr>\n",
       "    <tr>\n",
       "      <th>...</th>\n",
       "      <td>...</td>\n",
       "      <td>...</td>\n",
       "      <td>...</td>\n",
       "      <td>...</td>\n",
       "      <td>...</td>\n",
       "      <td>...</td>\n",
       "      <td>...</td>\n",
       "      <td>...</td>\n",
       "      <td>...</td>\n",
       "      <td>...</td>\n",
       "      <td>...</td>\n",
       "      <td>...</td>\n",
       "      <td>...</td>\n",
       "      <td>...</td>\n",
       "      <td>...</td>\n",
       "      <td>...</td>\n",
       "      <td>...</td>\n",
       "      <td>...</td>\n",
       "      <td>...</td>\n",
       "    </tr>\n",
       "    <tr>\n",
       "      <th>2910</th>\n",
       "      <td>9995</td>\n",
       "      <td>Gi08654</td>\n",
       "      <td>Staphylococcus epidermidis NIHLM095</td>\n",
       "      <td>BACTERIAL</td>\n",
       "      <td>Bacteria</td>\n",
       "      <td>unknown</td>\n",
       "      <td>Complete</td>\n",
       "      <td>Level 2: High-Quality Draft</td>\n",
       "      <td>6. annotation (and sequence) public on NCBI site</td>\n",
       "      <td>62345</td>\n",
       "      <td>AKGI00000000</td>\n",
       "      <td>2300</td>\n",
       "      <td>0</td>\n",
       "      <td>NaN</td>\n",
       "      <td>NIH Intramural Sequencing Center (NISC)</td>\n",
       "      <td>NIH-HMP Demo Projects</td>\n",
       "      <td>BEI HM-909</td>\n",
       "      <td>NaN</td>\n",
       "      <td>NaN</td>\n",
       "    </tr>\n",
       "    <tr>\n",
       "      <th>2911</th>\n",
       "      <td>9996</td>\n",
       "      <td>Gi09593</td>\n",
       "      <td>Aggregatibacter actinomycetemcomitans Y4</td>\n",
       "      <td>BACTERIAL</td>\n",
       "      <td>Bacteria</td>\n",
       "      <td>oral</td>\n",
       "      <td>Complete</td>\n",
       "      <td>Level 2: High-Quality Draft</td>\n",
       "      <td>6. annotation (and sequence) public on NCBI site</td>\n",
       "      <td>67199</td>\n",
       "      <td>AMEN00000000</td>\n",
       "      <td>2343</td>\n",
       "      <td>0</td>\n",
       "      <td>NaN</td>\n",
       "      <td>Washington University Genome Sequencing Center</td>\n",
       "      <td>NIH-HMP Sequencing Center</td>\n",
       "      <td>ATCC 43718</td>\n",
       "      <td>NaN</td>\n",
       "      <td>NaN</td>\n",
       "    </tr>\n",
       "    <tr>\n",
       "      <th>2912</th>\n",
       "      <td>9997</td>\n",
       "      <td>Gi09594</td>\n",
       "      <td>Corynebacterium durum F0235</td>\n",
       "      <td>BACTERIAL</td>\n",
       "      <td>Bacteria</td>\n",
       "      <td>oral</td>\n",
       "      <td>Complete</td>\n",
       "      <td>Level 2: High-Quality Draft</td>\n",
       "      <td>6. annotation (and sequence) public on NCBI site</td>\n",
       "      <td>67201</td>\n",
       "      <td>AMEM00000000</td>\n",
       "      <td>2823</td>\n",
       "      <td>0</td>\n",
       "      <td>NaN</td>\n",
       "      <td>Washington University Genome Sequencing Center</td>\n",
       "      <td>NIH-HMP Sequencing Center</td>\n",
       "      <td>BEI HM-755</td>\n",
       "      <td>NaN</td>\n",
       "      <td>NaN</td>\n",
       "    </tr>\n",
       "    <tr>\n",
       "      <th>2913</th>\n",
       "      <td>9998</td>\n",
       "      <td>Gi09595</td>\n",
       "      <td>Peptostreptococcus anaerobius VPI 4330</td>\n",
       "      <td>BACTERIAL</td>\n",
       "      <td>Bacteria</td>\n",
       "      <td>oral</td>\n",
       "      <td>Complete</td>\n",
       "      <td>Level 2: High-Quality Draft</td>\n",
       "      <td>6. annotation (and sequence) public on NCBI site</td>\n",
       "      <td>67203</td>\n",
       "      <td>AMEL00000000</td>\n",
       "      <td>1933</td>\n",
       "      <td>0</td>\n",
       "      <td>NaN</td>\n",
       "      <td>Washington University Genome Sequencing Center</td>\n",
       "      <td>NIH-HMP Sequencing Center</td>\n",
       "      <td>ATCC 27337</td>\n",
       "      <td>NaN</td>\n",
       "      <td>NaN</td>\n",
       "    </tr>\n",
       "    <tr>\n",
       "      <th>2914</th>\n",
       "      <td>9999</td>\n",
       "      <td>Gi09596</td>\n",
       "      <td>Prevotella sp. oral taxon 473 str. F0040</td>\n",
       "      <td>BACTERIAL</td>\n",
       "      <td>Bacteria</td>\n",
       "      <td>oral</td>\n",
       "      <td>Complete</td>\n",
       "      <td>Level 2: High-Quality Draft</td>\n",
       "      <td>6. annotation (and sequence) public on NCBI site</td>\n",
       "      <td>67205</td>\n",
       "      <td>AMEK00000000</td>\n",
       "      <td>2317</td>\n",
       "      <td>0</td>\n",
       "      <td>NaN</td>\n",
       "      <td>Washington University Genome Sequencing Center</td>\n",
       "      <td>NIH-HMP Sequencing Center</td>\n",
       "      <td>BEI HM-756</td>\n",
       "      <td>NaN</td>\n",
       "      <td>NaN</td>\n",
       "    </tr>\n",
       "  </tbody>\n",
       "</table>\n",
       "<p>1563 rows × 19 columns</p>\n",
       "</div>"
      ],
      "text/plain": [
       "      HMP ID  GOLD ID                             Organism Name     Domain   \n",
       "0          1  Gi03551          Abiotrophia defectiva ATCC 49176  BACTERIAL  \\\n",
       "1          4  Gi03555       Achromobacter piechaudii ATCC 43553  BACTERIAL   \n",
       "2          5  Gi03554            Achromobacter xylosoxidans C54  BACTERIAL   \n",
       "3         10  Gi03422        Acinetobacter baumannii ATCC 19606  BACTERIAL   \n",
       "4         12  Gi03421       Acinetobacter calcoaceticus RUH2202  BACTERIAL   \n",
       "...      ...      ...                                       ...        ...   \n",
       "2910    9995  Gi08654       Staphylococcus epidermidis NIHLM095  BACTERIAL   \n",
       "2911    9996  Gi09593  Aggregatibacter actinomycetemcomitans Y4  BACTERIAL   \n",
       "2912    9997  Gi09594               Corynebacterium durum F0235  BACTERIAL   \n",
       "2913    9998  Gi09595    Peptostreptococcus anaerobius VPI 4330  BACTERIAL   \n",
       "2914    9999  Gi09596  Prevotella sp. oral taxon 473 str. F0040  BACTERIAL   \n",
       "\n",
       "     NCBI Superkingdom HMP Isolation Body Site Project Status   \n",
       "0             Bacteria                    oral       Complete  \\\n",
       "1             Bacteria                 airways       Complete   \n",
       "2             Bacteria                 airways       Complete   \n",
       "3             Bacteria        urogenital_tract       Complete   \n",
       "4             Bacteria                    skin       Complete   \n",
       "...                ...                     ...            ...   \n",
       "2910          Bacteria                 unknown       Complete   \n",
       "2911          Bacteria                    oral       Complete   \n",
       "2912          Bacteria                    oral       Complete   \n",
       "2913          Bacteria                    oral       Complete   \n",
       "2914          Bacteria                    oral       Complete   \n",
       "\n",
       "                   Current Finishing Level   \n",
       "0     Level 3: Improved-High-Quality Draft  \\\n",
       "1              Level 2: High-Quality Draft   \n",
       "2         Level 5: Non-contiguous Finished   \n",
       "3              Level 2: High-Quality Draft   \n",
       "4              Level 2: High-Quality Draft   \n",
       "...                                    ...   \n",
       "2910           Level 2: High-Quality Draft   \n",
       "2911           Level 2: High-Quality Draft   \n",
       "2912           Level 2: High-Quality Draft   \n",
       "2913           Level 2: High-Quality Draft   \n",
       "2914           Level 2: High-Quality Draft   \n",
       "\n",
       "                                NCBI Submission Status  NCBI Project ID   \n",
       "0     6. annotation (and sequence) public on NCBI site            33011  \\\n",
       "1     6. annotation (and sequence) public on NCBI site            46343   \n",
       "2     6. annotation (and sequence) public on NCBI site            38739   \n",
       "3     6. annotation (and sequence) public on NCBI site            38509   \n",
       "4     6. annotation (and sequence) public on NCBI site            38337   \n",
       "...                                                ...              ...   \n",
       "2910  6. annotation (and sequence) public on NCBI site            62345   \n",
       "2911  6. annotation (and sequence) public on NCBI site            67199   \n",
       "2912  6. annotation (and sequence) public on NCBI site            67201   \n",
       "2913  6. annotation (and sequence) public on NCBI site            67203   \n",
       "2914  6. annotation (and sequence) public on NCBI site            67205   \n",
       "\n",
       "        Genbank ID  Gene Count  IMG/HMP ID        HOMD ID   \n",
       "0     ACIN00000000        1950   643886181  HOMD: tax_389  \\\n",
       "1     ADMS00000000        5755   647000200            NaN   \n",
       "2     ACRC00000000        6010           0  HOMD: tax_343   \n",
       "3     ACQB00000000        3832   647533101  HOMD: tax_554   \n",
       "4     ACPK00000000        3632   646206267            NaN   \n",
       "...            ...         ...         ...            ...   \n",
       "2910  AKGI00000000        2300           0            NaN   \n",
       "2911  AMEN00000000        2343           0            NaN   \n",
       "2912  AMEM00000000        2823           0            NaN   \n",
       "2913  AMEL00000000        1933           0            NaN   \n",
       "2914  AMEK00000000        2317           0            NaN   \n",
       "\n",
       "                                   Sequencing Center   \n",
       "0     Washington University Genome Sequencing Center  \\\n",
       "1                         Baylor College of Medicine   \n",
       "2                                    Broad Institute   \n",
       "3                                    Broad Institute   \n",
       "4                                    Broad Institute   \n",
       "...                                              ...   \n",
       "2910         NIH Intramural Sequencing Center (NISC)   \n",
       "2911  Washington University Genome Sequencing Center   \n",
       "2912  Washington University Genome Sequencing Center   \n",
       "2913  Washington University Genome Sequencing Center   \n",
       "2914  Washington University Genome Sequencing Center   \n",
       "\n",
       "                    Funding Source             Strain Repository ID   \n",
       "0     NIH-HMP Jumpstart Supplement           ATCC 49176, CIP 103242  \\\n",
       "1     NIH-HMP Jumpstart Supplement  ATCC 43553, CIP 55774, LMG 6100   \n",
       "2     NIH-HMP Jumpstart Supplement                       BEI HM-235   \n",
       "3     NIH-HMP Jumpstart Supplement             ATCC 19606, DSM 6974   \n",
       "4     NIH-HMP Jumpstart Supplement                        LMG 10517   \n",
       "...                            ...                              ...   \n",
       "2910         NIH-HMP Demo Projects                       BEI HM-909   \n",
       "2911     NIH-HMP Sequencing Center                       ATCC 43718   \n",
       "2912     NIH-HMP Sequencing Center                       BEI HM-755   \n",
       "2913     NIH-HMP Sequencing Center                       ATCC 27337   \n",
       "2914     NIH-HMP Sequencing Center                       BEI HM-756   \n",
       "\n",
       "      Unnamed: 17  Unnamed: 18  \n",
       "0             NaN          NaN  \n",
       "1             NaN          NaN  \n",
       "2             NaN          NaN  \n",
       "3             NaN          NaN  \n",
       "4             NaN          NaN  \n",
       "...           ...          ...  \n",
       "2910          NaN          NaN  \n",
       "2911          NaN          NaN  \n",
       "2912          NaN          NaN  \n",
       "2913          NaN          NaN  \n",
       "2914          NaN          NaN  \n",
       "\n",
       "[1563 rows x 19 columns]"
      ]
     },
     "execution_count": 33,
     "metadata": {},
     "output_type": "execute_result"
    }
   ],
   "source": [
    "#Replace NaN values with \"BACTERIAL\"\n",
    "micro[\"Domain\"] = micro['Domain'].replace([\"NaN\"], \"BACTERIAL\")\n",
    "micro"
   ]
  },
  {
   "cell_type": "code",
   "execution_count": 34,
   "id": "54c39332",
   "metadata": {},
   "outputs": [
    {
     "data": {
      "text/plain": [
       "0"
      ]
     },
     "execution_count": 34,
     "metadata": {},
     "output_type": "execute_result"
    }
   ],
   "source": [
    "#Check that values replaced\n",
    "(micro['Domain'] == \"NaN\").sum()"
   ]
  },
  {
   "cell_type": "markdown",
   "id": "64a88f61",
   "metadata": {},
   "source": [
    "Then I'll replace all of the Superkingdom values with their Domain name where applicable using pandas transform function."
   ]
  },
  {
   "cell_type": "code",
   "execution_count": 35,
   "id": "97e7e48f",
   "metadata": {},
   "outputs": [
    {
     "data": {
      "text/plain": [
       "Domain\n",
       "BACTERIAL    101\n",
       "Name: count, dtype: int64"
      ]
     },
     "execution_count": 35,
     "metadata": {},
     "output_type": "execute_result"
    }
   ],
   "source": [
    "#Check values for Domain in regard to Superkingdom NaNs\n",
    "kingdom = micro_null.loc[micro_null['NCBI Superkingdom'] == \"NaN\"]\n",
    "kingdom['Domain'].value_counts()"
   ]
  },
  {
   "cell_type": "markdown",
   "id": "99467df1",
   "metadata": {},
   "source": [
    "All of the missing Superkingdom values are in the Bacterial domain, so we can replace them with the relative value of \"Bacteria\"."
   ]
  },
  {
   "cell_type": "code",
   "execution_count": 36,
   "id": "eaad437d",
   "metadata": {
    "scrolled": true
   },
   "outputs": [
    {
     "data": {
      "text/plain": [
       "101"
      ]
     },
     "execution_count": 36,
     "metadata": {},
     "output_type": "execute_result"
    }
   ],
   "source": [
    "#count nulls to compare\n",
    "(micro_null['NCBI Superkingdom'] == \"NaN\").sum()"
   ]
  },
  {
   "cell_type": "code",
   "execution_count": 37,
   "id": "a7069c03",
   "metadata": {},
   "outputs": [
    {
     "data": {
      "text/html": [
       "<div>\n",
       "<style scoped>\n",
       "    .dataframe tbody tr th:only-of-type {\n",
       "        vertical-align: middle;\n",
       "    }\n",
       "\n",
       "    .dataframe tbody tr th {\n",
       "        vertical-align: top;\n",
       "    }\n",
       "\n",
       "    .dataframe thead th {\n",
       "        text-align: right;\n",
       "    }\n",
       "</style>\n",
       "<table border=\"1\" class=\"dataframe\">\n",
       "  <thead>\n",
       "    <tr style=\"text-align: right;\">\n",
       "      <th></th>\n",
       "      <th>HMP ID</th>\n",
       "      <th>GOLD ID</th>\n",
       "      <th>Organism Name</th>\n",
       "      <th>Domain</th>\n",
       "      <th>NCBI Superkingdom</th>\n",
       "      <th>HMP Isolation Body Site</th>\n",
       "      <th>Project Status</th>\n",
       "      <th>Current Finishing Level</th>\n",
       "      <th>NCBI Submission Status</th>\n",
       "      <th>NCBI Project ID</th>\n",
       "      <th>Genbank ID</th>\n",
       "      <th>Gene Count</th>\n",
       "      <th>IMG/HMP ID</th>\n",
       "      <th>HOMD ID</th>\n",
       "      <th>Sequencing Center</th>\n",
       "      <th>Funding Source</th>\n",
       "      <th>Strain Repository ID</th>\n",
       "      <th>Unnamed: 17</th>\n",
       "      <th>Unnamed: 18</th>\n",
       "    </tr>\n",
       "  </thead>\n",
       "  <tbody>\n",
       "    <tr>\n",
       "      <th>0</th>\n",
       "      <td>1</td>\n",
       "      <td>Gi03551</td>\n",
       "      <td>Abiotrophia defectiva ATCC 49176</td>\n",
       "      <td>BACTERIAL</td>\n",
       "      <td>Bacteria</td>\n",
       "      <td>oral</td>\n",
       "      <td>Complete</td>\n",
       "      <td>Level 3: Improved-High-Quality Draft</td>\n",
       "      <td>6. annotation (and sequence) public on NCBI site</td>\n",
       "      <td>33011</td>\n",
       "      <td>ACIN00000000</td>\n",
       "      <td>1950</td>\n",
       "      <td>643886181</td>\n",
       "      <td>HOMD: tax_389</td>\n",
       "      <td>Washington University Genome Sequencing Center</td>\n",
       "      <td>NIH-HMP Jumpstart Supplement</td>\n",
       "      <td>ATCC 49176, CIP 103242</td>\n",
       "      <td>NaN</td>\n",
       "      <td>NaN</td>\n",
       "    </tr>\n",
       "    <tr>\n",
       "      <th>1</th>\n",
       "      <td>4</td>\n",
       "      <td>Gi03555</td>\n",
       "      <td>Achromobacter piechaudii ATCC 43553</td>\n",
       "      <td>BACTERIAL</td>\n",
       "      <td>Bacteria</td>\n",
       "      <td>airways</td>\n",
       "      <td>Complete</td>\n",
       "      <td>Level 2: High-Quality Draft</td>\n",
       "      <td>6. annotation (and sequence) public on NCBI site</td>\n",
       "      <td>46343</td>\n",
       "      <td>ADMS00000000</td>\n",
       "      <td>5755</td>\n",
       "      <td>647000200</td>\n",
       "      <td>NaN</td>\n",
       "      <td>Baylor College of Medicine</td>\n",
       "      <td>NIH-HMP Jumpstart Supplement</td>\n",
       "      <td>ATCC 43553, CIP 55774, LMG 6100</td>\n",
       "      <td>NaN</td>\n",
       "      <td>NaN</td>\n",
       "    </tr>\n",
       "    <tr>\n",
       "      <th>2</th>\n",
       "      <td>5</td>\n",
       "      <td>Gi03554</td>\n",
       "      <td>Achromobacter xylosoxidans C54</td>\n",
       "      <td>BACTERIAL</td>\n",
       "      <td>Bacteria</td>\n",
       "      <td>airways</td>\n",
       "      <td>Complete</td>\n",
       "      <td>Level 5: Non-contiguous Finished</td>\n",
       "      <td>6. annotation (and sequence) public on NCBI site</td>\n",
       "      <td>38739</td>\n",
       "      <td>ACRC00000000</td>\n",
       "      <td>6010</td>\n",
       "      <td>0</td>\n",
       "      <td>HOMD: tax_343</td>\n",
       "      <td>Broad Institute</td>\n",
       "      <td>NIH-HMP Jumpstart Supplement</td>\n",
       "      <td>BEI HM-235</td>\n",
       "      <td>NaN</td>\n",
       "      <td>NaN</td>\n",
       "    </tr>\n",
       "    <tr>\n",
       "      <th>3</th>\n",
       "      <td>10</td>\n",
       "      <td>Gi03422</td>\n",
       "      <td>Acinetobacter baumannii ATCC 19606</td>\n",
       "      <td>BACTERIAL</td>\n",
       "      <td>Bacteria</td>\n",
       "      <td>urogenital_tract</td>\n",
       "      <td>Complete</td>\n",
       "      <td>Level 2: High-Quality Draft</td>\n",
       "      <td>6. annotation (and sequence) public on NCBI site</td>\n",
       "      <td>38509</td>\n",
       "      <td>ACQB00000000</td>\n",
       "      <td>3832</td>\n",
       "      <td>647533101</td>\n",
       "      <td>HOMD: tax_554</td>\n",
       "      <td>Broad Institute</td>\n",
       "      <td>NIH-HMP Jumpstart Supplement</td>\n",
       "      <td>ATCC 19606, DSM 6974</td>\n",
       "      <td>NaN</td>\n",
       "      <td>NaN</td>\n",
       "    </tr>\n",
       "    <tr>\n",
       "      <th>4</th>\n",
       "      <td>12</td>\n",
       "      <td>Gi03421</td>\n",
       "      <td>Acinetobacter calcoaceticus RUH2202</td>\n",
       "      <td>BACTERIAL</td>\n",
       "      <td>Bacteria</td>\n",
       "      <td>skin</td>\n",
       "      <td>Complete</td>\n",
       "      <td>Level 2: High-Quality Draft</td>\n",
       "      <td>6. annotation (and sequence) public on NCBI site</td>\n",
       "      <td>38337</td>\n",
       "      <td>ACPK00000000</td>\n",
       "      <td>3632</td>\n",
       "      <td>646206267</td>\n",
       "      <td>NaN</td>\n",
       "      <td>Broad Institute</td>\n",
       "      <td>NIH-HMP Jumpstart Supplement</td>\n",
       "      <td>LMG 10517</td>\n",
       "      <td>NaN</td>\n",
       "      <td>NaN</td>\n",
       "    </tr>\n",
       "    <tr>\n",
       "      <th>...</th>\n",
       "      <td>...</td>\n",
       "      <td>...</td>\n",
       "      <td>...</td>\n",
       "      <td>...</td>\n",
       "      <td>...</td>\n",
       "      <td>...</td>\n",
       "      <td>...</td>\n",
       "      <td>...</td>\n",
       "      <td>...</td>\n",
       "      <td>...</td>\n",
       "      <td>...</td>\n",
       "      <td>...</td>\n",
       "      <td>...</td>\n",
       "      <td>...</td>\n",
       "      <td>...</td>\n",
       "      <td>...</td>\n",
       "      <td>...</td>\n",
       "      <td>...</td>\n",
       "      <td>...</td>\n",
       "    </tr>\n",
       "    <tr>\n",
       "      <th>2910</th>\n",
       "      <td>9995</td>\n",
       "      <td>Gi08654</td>\n",
       "      <td>Staphylococcus epidermidis NIHLM095</td>\n",
       "      <td>BACTERIAL</td>\n",
       "      <td>Bacteria</td>\n",
       "      <td>unknown</td>\n",
       "      <td>Complete</td>\n",
       "      <td>Level 2: High-Quality Draft</td>\n",
       "      <td>6. annotation (and sequence) public on NCBI site</td>\n",
       "      <td>62345</td>\n",
       "      <td>AKGI00000000</td>\n",
       "      <td>2300</td>\n",
       "      <td>0</td>\n",
       "      <td>NaN</td>\n",
       "      <td>NIH Intramural Sequencing Center (NISC)</td>\n",
       "      <td>NIH-HMP Demo Projects</td>\n",
       "      <td>BEI HM-909</td>\n",
       "      <td>NaN</td>\n",
       "      <td>NaN</td>\n",
       "    </tr>\n",
       "    <tr>\n",
       "      <th>2911</th>\n",
       "      <td>9996</td>\n",
       "      <td>Gi09593</td>\n",
       "      <td>Aggregatibacter actinomycetemcomitans Y4</td>\n",
       "      <td>BACTERIAL</td>\n",
       "      <td>Bacteria</td>\n",
       "      <td>oral</td>\n",
       "      <td>Complete</td>\n",
       "      <td>Level 2: High-Quality Draft</td>\n",
       "      <td>6. annotation (and sequence) public on NCBI site</td>\n",
       "      <td>67199</td>\n",
       "      <td>AMEN00000000</td>\n",
       "      <td>2343</td>\n",
       "      <td>0</td>\n",
       "      <td>NaN</td>\n",
       "      <td>Washington University Genome Sequencing Center</td>\n",
       "      <td>NIH-HMP Sequencing Center</td>\n",
       "      <td>ATCC 43718</td>\n",
       "      <td>NaN</td>\n",
       "      <td>NaN</td>\n",
       "    </tr>\n",
       "    <tr>\n",
       "      <th>2912</th>\n",
       "      <td>9997</td>\n",
       "      <td>Gi09594</td>\n",
       "      <td>Corynebacterium durum F0235</td>\n",
       "      <td>BACTERIAL</td>\n",
       "      <td>Bacteria</td>\n",
       "      <td>oral</td>\n",
       "      <td>Complete</td>\n",
       "      <td>Level 2: High-Quality Draft</td>\n",
       "      <td>6. annotation (and sequence) public on NCBI site</td>\n",
       "      <td>67201</td>\n",
       "      <td>AMEM00000000</td>\n",
       "      <td>2823</td>\n",
       "      <td>0</td>\n",
       "      <td>NaN</td>\n",
       "      <td>Washington University Genome Sequencing Center</td>\n",
       "      <td>NIH-HMP Sequencing Center</td>\n",
       "      <td>BEI HM-755</td>\n",
       "      <td>NaN</td>\n",
       "      <td>NaN</td>\n",
       "    </tr>\n",
       "    <tr>\n",
       "      <th>2913</th>\n",
       "      <td>9998</td>\n",
       "      <td>Gi09595</td>\n",
       "      <td>Peptostreptococcus anaerobius VPI 4330</td>\n",
       "      <td>BACTERIAL</td>\n",
       "      <td>Bacteria</td>\n",
       "      <td>oral</td>\n",
       "      <td>Complete</td>\n",
       "      <td>Level 2: High-Quality Draft</td>\n",
       "      <td>6. annotation (and sequence) public on NCBI site</td>\n",
       "      <td>67203</td>\n",
       "      <td>AMEL00000000</td>\n",
       "      <td>1933</td>\n",
       "      <td>0</td>\n",
       "      <td>NaN</td>\n",
       "      <td>Washington University Genome Sequencing Center</td>\n",
       "      <td>NIH-HMP Sequencing Center</td>\n",
       "      <td>ATCC 27337</td>\n",
       "      <td>NaN</td>\n",
       "      <td>NaN</td>\n",
       "    </tr>\n",
       "    <tr>\n",
       "      <th>2914</th>\n",
       "      <td>9999</td>\n",
       "      <td>Gi09596</td>\n",
       "      <td>Prevotella sp. oral taxon 473 str. F0040</td>\n",
       "      <td>BACTERIAL</td>\n",
       "      <td>Bacteria</td>\n",
       "      <td>oral</td>\n",
       "      <td>Complete</td>\n",
       "      <td>Level 2: High-Quality Draft</td>\n",
       "      <td>6. annotation (and sequence) public on NCBI site</td>\n",
       "      <td>67205</td>\n",
       "      <td>AMEK00000000</td>\n",
       "      <td>2317</td>\n",
       "      <td>0</td>\n",
       "      <td>NaN</td>\n",
       "      <td>Washington University Genome Sequencing Center</td>\n",
       "      <td>NIH-HMP Sequencing Center</td>\n",
       "      <td>BEI HM-756</td>\n",
       "      <td>NaN</td>\n",
       "      <td>NaN</td>\n",
       "    </tr>\n",
       "  </tbody>\n",
       "</table>\n",
       "<p>1563 rows × 19 columns</p>\n",
       "</div>"
      ],
      "text/plain": [
       "      HMP ID  GOLD ID                             Organism Name     Domain   \n",
       "0          1  Gi03551          Abiotrophia defectiva ATCC 49176  BACTERIAL  \\\n",
       "1          4  Gi03555       Achromobacter piechaudii ATCC 43553  BACTERIAL   \n",
       "2          5  Gi03554            Achromobacter xylosoxidans C54  BACTERIAL   \n",
       "3         10  Gi03422        Acinetobacter baumannii ATCC 19606  BACTERIAL   \n",
       "4         12  Gi03421       Acinetobacter calcoaceticus RUH2202  BACTERIAL   \n",
       "...      ...      ...                                       ...        ...   \n",
       "2910    9995  Gi08654       Staphylococcus epidermidis NIHLM095  BACTERIAL   \n",
       "2911    9996  Gi09593  Aggregatibacter actinomycetemcomitans Y4  BACTERIAL   \n",
       "2912    9997  Gi09594               Corynebacterium durum F0235  BACTERIAL   \n",
       "2913    9998  Gi09595    Peptostreptococcus anaerobius VPI 4330  BACTERIAL   \n",
       "2914    9999  Gi09596  Prevotella sp. oral taxon 473 str. F0040  BACTERIAL   \n",
       "\n",
       "     NCBI Superkingdom HMP Isolation Body Site Project Status   \n",
       "0             Bacteria                    oral       Complete  \\\n",
       "1             Bacteria                 airways       Complete   \n",
       "2             Bacteria                 airways       Complete   \n",
       "3             Bacteria        urogenital_tract       Complete   \n",
       "4             Bacteria                    skin       Complete   \n",
       "...                ...                     ...            ...   \n",
       "2910          Bacteria                 unknown       Complete   \n",
       "2911          Bacteria                    oral       Complete   \n",
       "2912          Bacteria                    oral       Complete   \n",
       "2913          Bacteria                    oral       Complete   \n",
       "2914          Bacteria                    oral       Complete   \n",
       "\n",
       "                   Current Finishing Level   \n",
       "0     Level 3: Improved-High-Quality Draft  \\\n",
       "1              Level 2: High-Quality Draft   \n",
       "2         Level 5: Non-contiguous Finished   \n",
       "3              Level 2: High-Quality Draft   \n",
       "4              Level 2: High-Quality Draft   \n",
       "...                                    ...   \n",
       "2910           Level 2: High-Quality Draft   \n",
       "2911           Level 2: High-Quality Draft   \n",
       "2912           Level 2: High-Quality Draft   \n",
       "2913           Level 2: High-Quality Draft   \n",
       "2914           Level 2: High-Quality Draft   \n",
       "\n",
       "                                NCBI Submission Status  NCBI Project ID   \n",
       "0     6. annotation (and sequence) public on NCBI site            33011  \\\n",
       "1     6. annotation (and sequence) public on NCBI site            46343   \n",
       "2     6. annotation (and sequence) public on NCBI site            38739   \n",
       "3     6. annotation (and sequence) public on NCBI site            38509   \n",
       "4     6. annotation (and sequence) public on NCBI site            38337   \n",
       "...                                                ...              ...   \n",
       "2910  6. annotation (and sequence) public on NCBI site            62345   \n",
       "2911  6. annotation (and sequence) public on NCBI site            67199   \n",
       "2912  6. annotation (and sequence) public on NCBI site            67201   \n",
       "2913  6. annotation (and sequence) public on NCBI site            67203   \n",
       "2914  6. annotation (and sequence) public on NCBI site            67205   \n",
       "\n",
       "        Genbank ID  Gene Count  IMG/HMP ID        HOMD ID   \n",
       "0     ACIN00000000        1950   643886181  HOMD: tax_389  \\\n",
       "1     ADMS00000000        5755   647000200            NaN   \n",
       "2     ACRC00000000        6010           0  HOMD: tax_343   \n",
       "3     ACQB00000000        3832   647533101  HOMD: tax_554   \n",
       "4     ACPK00000000        3632   646206267            NaN   \n",
       "...            ...         ...         ...            ...   \n",
       "2910  AKGI00000000        2300           0            NaN   \n",
       "2911  AMEN00000000        2343           0            NaN   \n",
       "2912  AMEM00000000        2823           0            NaN   \n",
       "2913  AMEL00000000        1933           0            NaN   \n",
       "2914  AMEK00000000        2317           0            NaN   \n",
       "\n",
       "                                   Sequencing Center   \n",
       "0     Washington University Genome Sequencing Center  \\\n",
       "1                         Baylor College of Medicine   \n",
       "2                                    Broad Institute   \n",
       "3                                    Broad Institute   \n",
       "4                                    Broad Institute   \n",
       "...                                              ...   \n",
       "2910         NIH Intramural Sequencing Center (NISC)   \n",
       "2911  Washington University Genome Sequencing Center   \n",
       "2912  Washington University Genome Sequencing Center   \n",
       "2913  Washington University Genome Sequencing Center   \n",
       "2914  Washington University Genome Sequencing Center   \n",
       "\n",
       "                    Funding Source             Strain Repository ID   \n",
       "0     NIH-HMP Jumpstart Supplement           ATCC 49176, CIP 103242  \\\n",
       "1     NIH-HMP Jumpstart Supplement  ATCC 43553, CIP 55774, LMG 6100   \n",
       "2     NIH-HMP Jumpstart Supplement                       BEI HM-235   \n",
       "3     NIH-HMP Jumpstart Supplement             ATCC 19606, DSM 6974   \n",
       "4     NIH-HMP Jumpstart Supplement                        LMG 10517   \n",
       "...                            ...                              ...   \n",
       "2910         NIH-HMP Demo Projects                       BEI HM-909   \n",
       "2911     NIH-HMP Sequencing Center                       ATCC 43718   \n",
       "2912     NIH-HMP Sequencing Center                       BEI HM-755   \n",
       "2913     NIH-HMP Sequencing Center                       ATCC 27337   \n",
       "2914     NIH-HMP Sequencing Center                       BEI HM-756   \n",
       "\n",
       "      Unnamed: 17  Unnamed: 18  \n",
       "0             NaN          NaN  \n",
       "1             NaN          NaN  \n",
       "2             NaN          NaN  \n",
       "3             NaN          NaN  \n",
       "4             NaN          NaN  \n",
       "...           ...          ...  \n",
       "2910          NaN          NaN  \n",
       "2911          NaN          NaN  \n",
       "2912          NaN          NaN  \n",
       "2913          NaN          NaN  \n",
       "2914          NaN          NaN  \n",
       "\n",
       "[1563 rows x 19 columns]"
      ]
     },
     "execution_count": 37,
     "metadata": {},
     "output_type": "execute_result"
    }
   ],
   "source": [
    "#Replace NaN values with \"BACTERIAL\"\n",
    "micro[\"NCBI Superkingdom\"] = micro['NCBI Superkingdom'].replace(['NaN'], 'Bacteria')\n",
    "micro"
   ]
  },
  {
   "cell_type": "code",
   "execution_count": 38,
   "id": "23c1ecee",
   "metadata": {
    "scrolled": true
   },
   "outputs": [
    {
     "data": {
      "text/plain": [
       "0"
      ]
     },
     "execution_count": 38,
     "metadata": {},
     "output_type": "execute_result"
    }
   ],
   "source": [
    "#Check that values replaced\n",
    "(micro['NCBI Superkingdom'] == \"NaN\").sum()"
   ]
  },
  {
   "cell_type": "markdown",
   "id": "aec09612",
   "metadata": {},
   "source": [
    "### Exploration"
   ]
  },
  {
   "cell_type": "markdown",
   "id": "3d67614d",
   "metadata": {},
   "source": [
    "**Then, do a graphical analysis creating a minimum of four graphs. Label your graphs appropriately and explain/analyze the information provided by each graph. Your analysis should begin to answer the question(s) you are addressing. Write a short overview/conclusion of the insights gained from your graphical analysis.**"
   ]
  },
  {
   "cell_type": "markdown",
   "id": "ef084bf8",
   "metadata": {},
   "source": [
    "Now that those are cleaned up, I'm going to review the full dataset based on Gene Count to start."
   ]
  },
  {
   "cell_type": "code",
   "execution_count": 39,
   "id": "0c75d5b9",
   "metadata": {
    "scrolled": true
   },
   "outputs": [
    {
     "data": {
      "text/plain": [
       "count    1563.000000\n",
       "mean     2729.550864\n",
       "std      1288.903478\n",
       "min         0.000000\n",
       "25%      1956.000000\n",
       "50%      2411.000000\n",
       "75%      3176.000000\n",
       "max      8490.000000\n",
       "Name: Gene Count, dtype: float64"
      ]
     },
     "execution_count": 39,
     "metadata": {},
     "output_type": "execute_result"
    }
   ],
   "source": [
    "micro['Gene Count'].describe()"
   ]
  },
  {
   "cell_type": "markdown",
   "id": "47a5945e",
   "metadata": {},
   "source": [
    "There are no non-null values for \"Gene Count\", but msome are counted as 0."
   ]
  },
  {
   "cell_type": "code",
   "execution_count": 40,
   "id": "8449fa18",
   "metadata": {},
   "outputs": [
    {
     "data": {
      "text/plain": [
       "NCBI Superkingdom\n",
       "Bacteria     47\n",
       "Viruses       5\n",
       "Eukaryota     4\n",
       "Name: count, dtype: int64"
      ]
     },
     "execution_count": 40,
     "metadata": {},
     "output_type": "execute_result"
    }
   ],
   "source": [
    "micro_gene_count=micro[micro['Gene Count']==0]\n",
    "micro_gene_count['NCBI Superkingdom'].value_counts()"
   ]
  },
  {
   "cell_type": "markdown",
   "id": "60af07d5",
   "metadata": {},
   "source": [
    "There are 47 bacteria, 5 viruses, and 4 eukaryota absent from the count. Because these may be based on a reporting error, I may want to drop these later to improve the model, but I'll keep them for now."
   ]
  },
  {
   "cell_type": "markdown",
   "id": "753b69a1",
   "metadata": {},
   "source": [
    "There are many species listed in this project, so I want to look at their distribution of gene count frequency."
   ]
  },
  {
   "cell_type": "code",
   "execution_count": 41,
   "id": "8691bcc8",
   "metadata": {
    "scrolled": true
   },
   "outputs": [
    {
     "data": {
      "text/plain": [
       "<Axes: ylabel='Frequency'>"
      ]
     },
     "execution_count": 41,
     "metadata": {},
     "output_type": "execute_result"
    },
    {
     "data": {
      "image/png": "[encoded data removed]",
      "text/plain": [
       "<Figure size 640x480 with 1 Axes>"
      ]
     },
     "metadata": {},
     "output_type": "display_data"
    }
   ],
   "source": [
    "micro[\"Gene Count\"].plot(kind='hist')"
   ]
  },
  {
   "cell_type": "code",
   "execution_count": 42,
   "id": "89ff23ea",
   "metadata": {},
   "outputs": [
    {
     "data": {
      "text/plain": [
       "<Axes: xlabel='Gene Count', ylabel='Count'>"
      ]
     },
     "execution_count": 42,
     "metadata": {},
     "output_type": "execute_result"
    },
    {
     "data": {
      "image/png": "[encoded data removed]",
      "text/plain": [
       "<Figure size 640x480 with 1 Axes>"
      ]
     },
     "metadata": {},
     "output_type": "display_data"
    }
   ],
   "source": [
    "sns.histplot(data=micro, x=\"Gene Count\")"
   ]
  },
  {
   "cell_type": "markdown",
   "id": "71104af9",
   "metadata": {},
   "source": [
    "Interestingly, there is an almost normal distribution, skewed right, but we can see that the species with gene counts in the middle range have the highest freqency. "
   ]
  },
  {
   "cell_type": "markdown",
   "id": "3394bda5",
   "metadata": {},
   "source": [
    "I'm curious about the microbe with the highest gene count (max value from the descriptive statistics), with a value of 8490."
   ]
  },
  {
   "cell_type": "code",
   "execution_count": 43,
   "id": "6049aa49",
   "metadata": {
    "scrolled": true
   },
   "outputs": [
    {
     "data": {
      "text/html": [
       "<div>\n",
       "<style scoped>\n",
       "    .dataframe tbody tr th:only-of-type {\n",
       "        vertical-align: middle;\n",
       "    }\n",
       "\n",
       "    .dataframe tbody tr th {\n",
       "        vertical-align: top;\n",
       "    }\n",
       "\n",
       "    .dataframe thead th {\n",
       "        text-align: right;\n",
       "    }\n",
       "</style>\n",
       "<table border=\"1\" class=\"dataframe\">\n",
       "  <thead>\n",
       "    <tr style=\"text-align: right;\">\n",
       "      <th></th>\n",
       "      <th>HMP ID</th>\n",
       "      <th>GOLD ID</th>\n",
       "      <th>Organism Name</th>\n",
       "      <th>Domain</th>\n",
       "      <th>NCBI Superkingdom</th>\n",
       "      <th>HMP Isolation Body Site</th>\n",
       "      <th>Project Status</th>\n",
       "      <th>Current Finishing Level</th>\n",
       "      <th>NCBI Submission Status</th>\n",
       "      <th>NCBI Project ID</th>\n",
       "      <th>Genbank ID</th>\n",
       "      <th>Gene Count</th>\n",
       "      <th>IMG/HMP ID</th>\n",
       "      <th>HOMD ID</th>\n",
       "      <th>Sequencing Center</th>\n",
       "      <th>Funding Source</th>\n",
       "      <th>Strain Repository ID</th>\n",
       "      <th>Unnamed: 17</th>\n",
       "      <th>Unnamed: 18</th>\n",
       "    </tr>\n",
       "  </thead>\n",
       "  <tbody>\n",
       "    <tr>\n",
       "      <th>679</th>\n",
       "      <td>1211</td>\n",
       "      <td>Gi10716</td>\n",
       "      <td>Streptomyces sp. HGB0020</td>\n",
       "      <td>BACTERIAL</td>\n",
       "      <td>Bacteria</td>\n",
       "      <td>gastrointestinal_tract</td>\n",
       "      <td>Complete</td>\n",
       "      <td>Level 2: High-Quality Draft</td>\n",
       "      <td>6. annotation (and sequence) public on NCBI site</td>\n",
       "      <td>72491</td>\n",
       "      <td>AGER00000000</td>\n",
       "      <td>8490</td>\n",
       "      <td>0</td>\n",
       "      <td>NaN</td>\n",
       "      <td>Broad Institute</td>\n",
       "      <td>NIH-HMP Sequencing Center</td>\n",
       "      <td>BEI HM-789</td>\n",
       "      <td>NaN</td>\n",
       "      <td>NaN</td>\n",
       "    </tr>\n",
       "  </tbody>\n",
       "</table>\n",
       "</div>"
      ],
      "text/plain": [
       "     HMP ID  GOLD ID             Organism Name     Domain NCBI Superkingdom   \n",
       "679    1211  Gi10716  Streptomyces sp. HGB0020  BACTERIAL          Bacteria  \\\n",
       "\n",
       "    HMP Isolation Body Site Project Status      Current Finishing Level   \n",
       "679  gastrointestinal_tract       Complete  Level 2: High-Quality Draft  \\\n",
       "\n",
       "                               NCBI Submission Status  NCBI Project ID   \n",
       "679  6. annotation (and sequence) public on NCBI site            72491  \\\n",
       "\n",
       "       Genbank ID  Gene Count  IMG/HMP ID HOMD ID Sequencing Center   \n",
       "679  AGER00000000        8490           0     NaN   Broad Institute  \\\n",
       "\n",
       "                Funding Source Strain Repository ID  Unnamed: 17  Unnamed: 18  \n",
       "679  NIH-HMP Sequencing Center           BEI HM-789          NaN          NaN  "
      ]
     },
     "execution_count": 43,
     "metadata": {},
     "output_type": "execute_result"
    }
   ],
   "source": [
    "micro[micro['Gene Count']==8490]"
   ]
  },
  {
   "cell_type": "markdown",
   "id": "3f13b3ba",
   "metadata": {},
   "source": [
    "I want to check to see if there is another Streptomyces species with high prevalence."
   ]
  },
  {
   "cell_type": "code",
   "execution_count": 44,
   "id": "d96c1feb",
   "metadata": {
    "scrolled": true
   },
   "outputs": [
    {
     "data": {
      "text/html": [
       "<div>\n",
       "<style scoped>\n",
       "    .dataframe tbody tr th:only-of-type {\n",
       "        vertical-align: middle;\n",
       "    }\n",
       "\n",
       "    .dataframe tbody tr th {\n",
       "        vertical-align: top;\n",
       "    }\n",
       "\n",
       "    .dataframe thead th {\n",
       "        text-align: right;\n",
       "    }\n",
       "</style>\n",
       "<table border=\"1\" class=\"dataframe\">\n",
       "  <thead>\n",
       "    <tr style=\"text-align: right;\">\n",
       "      <th></th>\n",
       "      <th>HMP ID</th>\n",
       "      <th>GOLD ID</th>\n",
       "      <th>Organism Name</th>\n",
       "      <th>Domain</th>\n",
       "      <th>NCBI Superkingdom</th>\n",
       "      <th>HMP Isolation Body Site</th>\n",
       "      <th>Project Status</th>\n",
       "      <th>Current Finishing Level</th>\n",
       "      <th>NCBI Submission Status</th>\n",
       "      <th>NCBI Project ID</th>\n",
       "      <th>Genbank ID</th>\n",
       "      <th>Gene Count</th>\n",
       "      <th>IMG/HMP ID</th>\n",
       "      <th>HOMD ID</th>\n",
       "      <th>Sequencing Center</th>\n",
       "      <th>Funding Source</th>\n",
       "      <th>Strain Repository ID</th>\n",
       "      <th>Unnamed: 17</th>\n",
       "      <th>Unnamed: 18</th>\n",
       "    </tr>\n",
       "  </thead>\n",
       "  <tbody>\n",
       "    <tr>\n",
       "      <th>679</th>\n",
       "      <td>1211</td>\n",
       "      <td>Gi10716</td>\n",
       "      <td>Streptomyces sp. HGB0020</td>\n",
       "      <td>BACTERIAL</td>\n",
       "      <td>Bacteria</td>\n",
       "      <td>gastrointestinal_tract</td>\n",
       "      <td>Complete</td>\n",
       "      <td>Level 2: High-Quality Draft</td>\n",
       "      <td>6. annotation (and sequence) public on NCBI site</td>\n",
       "      <td>72491</td>\n",
       "      <td>AGER00000000</td>\n",
       "      <td>8490</td>\n",
       "      <td>0</td>\n",
       "      <td>NaN</td>\n",
       "      <td>Broad Institute</td>\n",
       "      <td>NIH-HMP Sequencing Center</td>\n",
       "      <td>BEI HM-789</td>\n",
       "      <td>NaN</td>\n",
       "      <td>NaN</td>\n",
       "    </tr>\n",
       "    <tr>\n",
       "      <th>934</th>\n",
       "      <td>1486</td>\n",
       "      <td>Gi16997</td>\n",
       "      <td>Streptomyces sp. HPH0547</td>\n",
       "      <td>BACTERIAL</td>\n",
       "      <td>Bacteria</td>\n",
       "      <td>gastrointestinal_tract</td>\n",
       "      <td>Complete</td>\n",
       "      <td>Level 2: High-Quality Draft</td>\n",
       "      <td>6. annotation (and sequence) public on NCBI site</td>\n",
       "      <td>169487</td>\n",
       "      <td>ATCE00000000</td>\n",
       "      <td>6635</td>\n",
       "      <td>0</td>\n",
       "      <td>NaN</td>\n",
       "      <td>Broad Institute</td>\n",
       "      <td>NIH-HMP Sequencing Center</td>\n",
       "      <td>BEI HM-859</td>\n",
       "      <td>NaN</td>\n",
       "      <td>NaN</td>\n",
       "    </tr>\n",
       "  </tbody>\n",
       "</table>\n",
       "</div>"
      ],
      "text/plain": [
       "     HMP ID  GOLD ID             Organism Name     Domain NCBI Superkingdom   \n",
       "679    1211  Gi10716  Streptomyces sp. HGB0020  BACTERIAL          Bacteria  \\\n",
       "934    1486  Gi16997  Streptomyces sp. HPH0547  BACTERIAL          Bacteria   \n",
       "\n",
       "    HMP Isolation Body Site Project Status      Current Finishing Level   \n",
       "679  gastrointestinal_tract       Complete  Level 2: High-Quality Draft  \\\n",
       "934  gastrointestinal_tract       Complete  Level 2: High-Quality Draft   \n",
       "\n",
       "                               NCBI Submission Status  NCBI Project ID   \n",
       "679  6. annotation (and sequence) public on NCBI site            72491  \\\n",
       "934  6. annotation (and sequence) public on NCBI site           169487   \n",
       "\n",
       "       Genbank ID  Gene Count  IMG/HMP ID HOMD ID Sequencing Center   \n",
       "679  AGER00000000        8490           0     NaN   Broad Institute  \\\n",
       "934  ATCE00000000        6635           0     NaN   Broad Institute   \n",
       "\n",
       "                Funding Source Strain Repository ID  Unnamed: 17  Unnamed: 18  \n",
       "679  NIH-HMP Sequencing Center           BEI HM-789          NaN          NaN  \n",
       "934  NIH-HMP Sequencing Center           BEI HM-859          NaN          NaN  "
      ]
     },
     "execution_count": 44,
     "metadata": {},
     "output_type": "execute_result"
    }
   ],
   "source": [
    "micro[micro['Organism Name'].str.contains(\"Streptomyces\")]"
   ]
  },
  {
   "cell_type": "markdown",
   "id": "ac663765",
   "metadata": {},
   "source": [
    "The presences of another Streoptomyces with a high gene count makes me think that it may be beneficial to sort organisms on their genus. I'm going make a new dataframe and attempt to add a column for genus by extracting the first word of the Organism Name."
   ]
  },
  {
   "cell_type": "code",
   "execution_count": 45,
   "id": "46644439",
   "metadata": {
    "scrolled": true
   },
   "outputs": [
    {
     "data": {
      "text/plain": [
       "185"
      ]
     },
     "execution_count": 45,
     "metadata": {},
     "output_type": "execute_result"
    }
   ],
   "source": [
    "df = micro\n",
    "df['Genus'] = df['Organism Name'].str.split(' ').str[0]\n",
    "df['Genus'].nunique()"
   ]
  },
  {
   "cell_type": "code",
   "execution_count": 46,
   "id": "f9c68901",
   "metadata": {},
   "outputs": [
    {
     "data": {
      "text/plain": [
       "<Axes: ylabel='Frequency'>"
      ]
     },
     "execution_count": 46,
     "metadata": {},
     "output_type": "execute_result"
    },
    {
     "data": {
      "image/png": "[encoded data removed]",
      "text/plain": [
       "<Figure size 640x480 with 1 Axes>"
      ]
     },
     "metadata": {},
     "output_type": "display_data"
    }
   ],
   "source": [
    "df[\"Genus\"].value_counts().plot(kind='hist')"
   ]
  },
  {
   "cell_type": "code",
   "execution_count": 47,
   "id": "305c4072",
   "metadata": {},
   "outputs": [],
   "source": [
    "#Seaborn plot - not as beneficial this time so I'm not using it\n",
    "#plot frequency of genus for all entires\n",
    "#x = df[\"Genus\"].value_counts()\n",
    "#sns.histplot(data=df, x=x)"
   ]
  },
  {
   "cell_type": "markdown",
   "id": "0527d441",
   "metadata": {},
   "source": [
    "Since there are so many distributed around 0-15, I'm going to exclude those and print the value counts of the higher ones."
   ]
  },
  {
   "cell_type": "code",
   "execution_count": 48,
   "id": "3528681d",
   "metadata": {},
   "outputs": [
    {
     "data": {
      "text/plain": [
       "Genus\n",
       "Streptococcus        161\n",
       "Enterococcus         110\n",
       "Propionibacterium     92\n",
       "Lactobacillus         73\n",
       "Helicobacter          70\n",
       "Prevotella            65\n",
       "Staphylococcus        64\n",
       "Bacteroides           63\n",
       "Escherichia           61\n",
       "Clostridium           58\n",
       "Corynebacterium       38\n",
       "Fusobacterium         36\n",
       "Actinomyces           34\n",
       "Bifidobacterium       31\n",
       "Treponema             25\n",
       "Gardnerella           22\n",
       "Klebsiella            21\n",
       "Eubacterium           21\n",
       "Neisseria             19\n",
       "Porphyromonas         17\n",
       "Capnocytophaga        17\n",
       "Veillonella           16\n",
       "Name: count, dtype: int64"
      ]
     },
     "execution_count": 48,
     "metadata": {},
     "output_type": "execute_result"
    }
   ],
   "source": [
    "count = df[df.Genus.isin(df[\"Genus\"].value_counts(dropna=False).loc[lambda x : x>=16].index)].copy()\n",
    "count[\"Genus\"].value_counts()"
   ]
  },
  {
   "cell_type": "markdown",
   "id": "7196d2ce",
   "metadata": {},
   "source": [
    "Since the list is limited, I could have guessed the index number until I got to the value I wanted. "
   ]
  },
  {
   "cell_type": "code",
   "execution_count": 49,
   "id": "2c6a2a78",
   "metadata": {
    "scrolled": false
   },
   "outputs": [
    {
     "data": {
      "text/plain": [
       "Genus\n",
       "Streptococcus        161\n",
       "Enterococcus         110\n",
       "Propionibacterium     92\n",
       "Lactobacillus         73\n",
       "Helicobacter          70\n",
       "Prevotella            65\n",
       "Staphylococcus        64\n",
       "Bacteroides           63\n",
       "Escherichia           61\n",
       "Clostridium           58\n",
       "Corynebacterium       38\n",
       "Fusobacterium         36\n",
       "Actinomyces           34\n",
       "Bifidobacterium       31\n",
       "Treponema             25\n",
       "Gardnerella           22\n",
       "Klebsiella            21\n",
       "Eubacterium           21\n",
       "Neisseria             19\n",
       "Capnocytophaga        17\n",
       "Porphyromonas         17\n",
       "Veillonella           16\n",
       "Name: count, dtype: int64"
      ]
     },
     "execution_count": 49,
     "metadata": {},
     "output_type": "execute_result"
    }
   ],
   "source": [
    "df['Genus'].value_counts(ascending=False)[:22]"
   ]
  },
  {
   "cell_type": "markdown",
   "id": "3e86053b",
   "metadata": {},
   "source": [
    "Let's see if this changes based on a subset of the most prevalent organisms."
   ]
  },
  {
   "cell_type": "code",
   "execution_count": 50,
   "id": "9fa65be1",
   "metadata": {
    "scrolled": false
   },
   "outputs": [],
   "source": [
    "top_organisms=micro.sort_values(by='Gene Count', ascending = False)[:1000]"
   ]
  },
  {
   "cell_type": "code",
   "execution_count": 51,
   "id": "802deb09",
   "metadata": {},
   "outputs": [
    {
     "data": {
      "text/plain": [
       "<Axes: xlabel='Gene Count', ylabel='Count'>"
      ]
     },
     "execution_count": 51,
     "metadata": {},
     "output_type": "execute_result"
    },
    {
     "data": {
      "image/png": "[encoded data removed]",
      "text/plain": [
       "<Figure size 640x480 with 1 Axes>"
      ]
     },
     "metadata": {},
     "output_type": "display_data"
    }
   ],
   "source": [
    "sns.histplot(data=top_organisms, x=\"Gene Count\")"
   ]
  },
  {
   "cell_type": "code",
   "execution_count": 52,
   "id": "fc267134",
   "metadata": {},
   "outputs": [],
   "source": [
    "# add genus column to the top_organisms\n",
    "top = top_organisms\n",
    "top['Genus'] = top['Organism Name'].str.split(' ').str[0]"
   ]
  },
  {
   "cell_type": "code",
   "execution_count": 53,
   "id": "99a6557c",
   "metadata": {
    "scrolled": true
   },
   "outputs": [
    {
     "data": {
      "text/plain": [
       "Genus\n",
       "Enterococcus         109\n",
       "Propionibacterium     91\n",
       "Staphylococcus        62\n",
       "Bacteroides           62\n",
       "Escherichia           60\n",
       "Clostridium           57\n",
       "Streptococcus         53\n",
       "Prevotella            51\n",
       "Corynebacterium       32\n",
       "Treponema             24\n",
       "Lactobacillus         22\n",
       "Klebsiella            21\n",
       "Fusobacterium         20\n",
       "Actinomyces           17\n",
       "Neisseria             17\n",
       "Capnocytophaga        16\n",
       "Parabacteroides       15\n",
       "Acinetobacter         14\n",
       "Bifidobacterium       12\n",
       "Providencia           11\n",
       "Eubacterium            9\n",
       "Selenomonas            8\n",
       "Name: count, dtype: int64"
      ]
     },
     "execution_count": 53,
     "metadata": {},
     "output_type": "execute_result"
    }
   ],
   "source": [
    "top['Genus'].value_counts()[:22]"
   ]
  },
  {
   "cell_type": "markdown",
   "id": "c4c25996",
   "metadata": {},
   "source": [
    "In the original histogram, we saw that the highest frequency of species was between 1800-2400 gene count, so I am going to make a dataframe around that."
   ]
  },
  {
   "cell_type": "code",
   "execution_count": 54,
   "id": "478665a6",
   "metadata": {},
   "outputs": [],
   "source": [
    "mid_microbe = micro[(micro['Gene Count'].values >= 1800) & (micro['Gene Count'].values <= 2400)]"
   ]
  },
  {
   "cell_type": "code",
   "execution_count": 55,
   "id": "63490f6c",
   "metadata": {},
   "outputs": [],
   "source": [
    "mid_microbe['Genus'] = mid_microbe['Organism Name'].str.split(' ').str[0]"
   ]
  },
  {
   "cell_type": "code",
   "execution_count": 56,
   "id": "8acb858e",
   "metadata": {
    "scrolled": true
   },
   "outputs": [
    {
     "data": {
      "text/plain": [
       "Genus\n",
       "Streptococcus            142\n",
       "Lactobacillus             30\n",
       "Staphylococcus            27\n",
       "Prevotella                25\n",
       "Corynebacterium           23\n",
       "Bifidobacterium           21\n",
       "Propionibacterium         20\n",
       "Fusobacterium             19\n",
       "Actinomyces               14\n",
       "Veillonella               13\n",
       "Porphyromonas             10\n",
       "Selenomonas               10\n",
       "Haemophilus               10\n",
       "Mobiluncus                 8\n",
       "Capnocytophaga             5\n",
       "Anaerococcus               5\n",
       "Neisseria                  4\n",
       "Peptostreptococcaceae      4\n",
       "Helicobacter               4\n",
       "Oribacterium               4\n",
       "Leptotrichia               4\n",
       "Peptoniphilus              4\n",
       "Name: count, dtype: int64"
      ]
     },
     "execution_count": 56,
     "metadata": {},
     "output_type": "execute_result"
    }
   ],
   "source": [
    "mid_microbe[\"Genus\"].value_counts().sort_values(ascending=False)[:22]"
   ]
  },
  {
   "cell_type": "markdown",
   "id": "2c070917",
   "metadata": {},
   "source": [
    "Now that I'm comfortable with having added \"Genus\" to my dataframes, I'm going to replace the main dataframe with the amended one."
   ]
  },
  {
   "cell_type": "code",
   "execution_count": 57,
   "id": "d7964b0a",
   "metadata": {},
   "outputs": [],
   "source": [
    "df = micro"
   ]
  },
  {
   "cell_type": "markdown",
   "id": "f43bb710",
   "metadata": {},
   "source": [
    "I want to know how many unique sites on the human body were researched."
   ]
  },
  {
   "cell_type": "code",
   "execution_count": 58,
   "id": "2cc172cb",
   "metadata": {},
   "outputs": [
    {
     "data": {
      "text/plain": [
       "12"
      ]
     },
     "execution_count": 58,
     "metadata": {},
     "output_type": "execute_result"
    }
   ],
   "source": [
    "micro['HMP Isolation Body Site'].nunique()"
   ]
  },
  {
   "cell_type": "code",
   "execution_count": 59,
   "id": "85a0c6d8",
   "metadata": {
    "scrolled": true
   },
   "outputs": [
    {
     "data": {
      "text/plain": [
       "HMP Isolation Body Site\n",
       "gastrointestinal_tract    437\n",
       "unknown                   324\n",
       "oral                      317\n",
       "urogenital_tract          249\n",
       "skin                      127\n",
       "airways                    53\n",
       "blood                      49\n",
       "nose                        2\n",
       "heart                       2\n",
       "liver                       1\n",
       "wound                       1\n",
       "lymph_nodes                 1\n",
       "Name: count, dtype: int64"
      ]
     },
     "execution_count": 59,
     "metadata": {},
     "output_type": "execute_result"
    }
   ],
   "source": [
    "micro['HMP Isolation Body Site'].value_counts()"
   ]
  },
  {
   "cell_type": "markdown",
   "id": "cf50711e",
   "metadata": {},
   "source": [
    "Here is a chart of the species diversity at the different sites."
   ]
  },
  {
   "cell_type": "code",
   "execution_count": 60,
   "id": "5ce12575",
   "metadata": {},
   "outputs": [
    {
     "data": {
      "text/plain": [
       "Text(0.5, 0, 'Name of body site')"
      ]
     },
     "execution_count": 60,
     "metadata": {},
     "output_type": "execute_result"
    },
    {
     "data": {
      "image/png": "[encoded data removed]",
      "text/plain": [
       "<Figure size 640x480 with 1 Axes>"
      ]
     },
     "metadata": {},
     "output_type": "display_data"
    }
   ],
   "source": [
    "micro['HMP Isolation Body Site'].value_counts().plot(kind='bar')\n",
    "plt.title('Presence of Microbes at Specified Body Sites')\n",
    "plt.ylabel('Number of microbial species found')\n",
    "plt.xlabel('Name of body site')"
   ]
  },
  {
   "cell_type": "markdown",
   "id": "6f2240f5",
   "metadata": {},
   "source": [
    "To find out more about the kingdom variance throughout the body, I'll look into those values."
   ]
  },
  {
   "cell_type": "code",
   "execution_count": 61,
   "id": "0b4a7034",
   "metadata": {
    "scrolled": true
   },
   "outputs": [
    {
     "data": {
      "text/plain": [
       "NCBI Superkingdom\n",
       "Bacteria     11\n",
       "Eukaryota     3\n",
       "Archaea       1\n",
       "Viruses       1\n",
       "Name: HMP Isolation Body Site, dtype: int64"
      ]
     },
     "execution_count": 61,
     "metadata": {},
     "output_type": "execute_result"
    }
   ],
   "source": [
    "micro.groupby('NCBI Superkingdom')['HMP Isolation Body Site'].nunique().sort_values(ascending=False)"
   ]
  },
  {
   "cell_type": "markdown",
   "id": "323ac4fd",
   "metadata": {},
   "source": [
    "The Bacteria Kingdom is most prevelent throughout the body, so I'm going to look more closely that their locations by making a dataframe with the values from the \"bacterial\" domain."
   ]
  },
  {
   "cell_type": "code",
   "execution_count": 62,
   "id": "29a3df03",
   "metadata": {
    "scrolled": true
   },
   "outputs": [
    {
     "data": {
      "text/plain": [
       "array(['oral', 'airways', 'urogenital_tract', 'skin',\n",
       "       'gastrointestinal_tract', 'blood', 'unknown', 'liver', 'nose',\n",
       "       'heart', 'lymph_nodes'], dtype=object)"
      ]
     },
     "execution_count": 62,
     "metadata": {},
     "output_type": "execute_result"
    }
   ],
   "source": [
    "#Select Bacterial domain and check body sites\n",
    "bac=micro.loc[micro['Domain']=='BACTERIAL']\n",
    "bac['HMP Isolation Body Site'].unique()"
   ]
  },
  {
   "cell_type": "code",
   "execution_count": 63,
   "id": "3a6ef83f",
   "metadata": {
    "scrolled": true
   },
   "outputs": [
    {
     "data": {
      "text/plain": [
       "Text(0.5, 1.0, 'Presence of bacteria at different body sites')"
      ]
     },
     "execution_count": 63,
     "metadata": {},
     "output_type": "execute_result"
    },
    {
     "data": {
      "image/png": "[encoded data removed]",
      "text/plain": [
       "<Figure size 640x480 with 1 Axes>"
      ]
     },
     "metadata": {},
     "output_type": "display_data"
    }
   ],
   "source": [
    "#Plot\n",
    "bac['HMP Isolation Body Site'].value_counts(ascending=False).plot(kind='bar')\n",
    "plt.ylabel('Number of bacteria found')\n",
    "plt.xlabel('Name of body sites')\n",
    "plt.title('Presence of bacteria at different body sites')"
   ]
  },
  {
   "cell_type": "markdown",
   "id": "f6bd9a51",
   "metadata": {},
   "source": [
    "The greatest amount of bacteria are found in the gastrointestinal tract. Let's look at the other kingdoms."
   ]
  },
  {
   "cell_type": "code",
   "execution_count": 64,
   "id": "5e0f0549",
   "metadata": {},
   "outputs": [
    {
     "data": {
      "text/plain": [
       "array(['unknown', 'skin', 'wound'], dtype=object)"
      ]
     },
     "execution_count": 64,
     "metadata": {},
     "output_type": "execute_result"
    }
   ],
   "source": [
    "#Select Eukaryal domain and check body sites\n",
    "euk=micro.loc[micro['Domain']=='EUKARYAL']\n",
    "euk['HMP Isolation Body Site'].unique()"
   ]
  },
  {
   "cell_type": "code",
   "execution_count": 65,
   "id": "274761e8",
   "metadata": {},
   "outputs": [
    {
     "data": {
      "text/plain": [
       "Text(0.5, 1.0, 'Diversity of eukaryotes at different body sites')"
      ]
     },
     "execution_count": 65,
     "metadata": {},
     "output_type": "execute_result"
    },
    {
     "data": {
      "image/png": "[encoded data removed]",
      "text/plain": [
       "<Figure size 640x480 with 1 Axes>"
      ]
     },
     "metadata": {},
     "output_type": "display_data"
    }
   ],
   "source": [
    "#plot\n",
    "euk['HMP Isolation Body Site'].value_counts(ascending=False).plot(kind='bar')\n",
    "plt.ylabel('Number of different eukaryotes')\n",
    "plt.xlabel('Human body sites')\n",
    "plt.title('Diversity of eukaryotes at different body sites')"
   ]
  },
  {
   "cell_type": "markdown",
   "id": "78fd1b59",
   "metadata": {},
   "source": [
    "The greatest amount of eukaryotes are found on the skin. "
   ]
  },
  {
   "cell_type": "code",
   "execution_count": 66,
   "id": "ddb01076",
   "metadata": {},
   "outputs": [
    {
     "data": {
      "text/plain": [
       "array(['unknown'], dtype=object)"
      ]
     },
     "execution_count": 66,
     "metadata": {},
     "output_type": "execute_result"
    }
   ],
   "source": [
    "vir=micro.loc[micro['Domain']=='VIRUS']\n",
    "vir['HMP Isolation Body Site'].unique()"
   ]
  },
  {
   "cell_type": "markdown",
   "id": "eec14682",
   "metadata": {},
   "source": [
    "From the data that we have, we are unable to determine where the greatest number of viruses are located. I'm guessing this is because viruses infect and replicate in cells, sometimes mainly infecting neighboring cells, but often spreading throughout the body. "
   ]
  },
  {
   "cell_type": "code",
   "execution_count": 67,
   "id": "bbea86e1",
   "metadata": {},
   "outputs": [
    {
     "data": {
      "text/plain": [
       "array(['gastrointestinal_tract'], dtype=object)"
      ]
     },
     "execution_count": 67,
     "metadata": {},
     "output_type": "execute_result"
    }
   ],
   "source": [
    "arc=micro.loc[micro['Domain']=='ARCHAEAL']\n",
    "arc['HMP Isolation Body Site'].unique()"
   ]
  },
  {
   "cell_type": "markdown",
   "id": "ef0b12df",
   "metadata": {},
   "source": [
    "Based on this project, archaea are found solely in the Gastrointestinal Tract."
   ]
  },
  {
   "cell_type": "markdown",
   "id": "37e7e3d7",
   "metadata": {},
   "source": [
    "Streptococcus are the most prevalent throughout the body. Let's look further into this."
   ]
  },
  {
   "cell_type": "code",
   "execution_count": 68,
   "id": "b7441215",
   "metadata": {},
   "outputs": [
    {
     "data": {
      "text/plain": [
       "Text(0.5, 1.0, 'Location and Prevalence of Streptococcal Bacteria')"
      ]
     },
     "execution_count": 68,
     "metadata": {},
     "output_type": "execute_result"
    },
    {
     "data": {
      "image/png": "[encoded data removed]",
      "text/plain": [
       "<Figure size 640x480 with 1 Axes>"
      ]
     },
     "metadata": {},
     "output_type": "display_data"
    }
   ],
   "source": [
    "strep=micro.loc[micro['Genus']=='Streptococcus']\n",
    "strep['HMP Isolation Body Site'].value_counts().plot(kind='bar')\n",
    "plt.title(\"Location and Prevalence of Streptococcal Bacteria\")"
   ]
  },
  {
   "cell_type": "markdown",
   "id": "d34e2f8e",
   "metadata": {},
   "source": [
    "Let's see how other top genuses compare."
   ]
  },
  {
   "cell_type": "code",
   "execution_count": 69,
   "id": "aba2beeb",
   "metadata": {
    "scrolled": true
   },
   "outputs": [
    {
     "name": "stdout",
     "output_type": "stream",
     "text": [
      "                   HMP Isolation Body Site\n",
      "Genus                                     \n",
      "Streptococcus                            8\n",
      "Staphylococcus                           7\n",
      "Enterococcus                             6\n",
      "Prevotella                               6\n",
      "Corynebacterium                          6\n",
      "Haemophilus                              5\n",
      "Klebsiella                               5\n",
      "Propionibacterium                        5\n",
      "Bifidobacterium                          5\n",
      "Neisseria                                5\n",
      "Fusobacterium                            5\n",
      "Actinomyces                              5\n"
     ]
    },
    {
     "data": {
      "text/plain": [
       "Text(0.5, 1.0, 'Number of organism genuses for different microorganisms')"
      ]
     },
     "execution_count": 69,
     "metadata": {},
     "output_type": "execute_result"
    },
    {
     "data": {
      "image/png": "[encoded data removed]",
      "text/plain": [
       "<Figure size 640x480 with 1 Axes>"
      ]
     },
     "metadata": {},
     "output_type": "display_data"
    }
   ],
   "source": [
    "genus_site=micro.groupby('Genus')['HMP Isolation Body Site'].nunique().sort_values(ascending=False)\n",
    "genus_df=pd.DataFrame(genus_site)\n",
    "top_genus=genus_df[genus_df['HMP Isolation Body Site']>4]\n",
    "print(top_genus)\n",
    "top_genus.plot(kind='bar')\n",
    "plt.ylabel('Number of different body sites')\n",
    "plt.title('Number of organism genuses for different microorganisms')"
   ]
  },
  {
   "cell_type": "markdown",
   "id": "2dc9ca4d",
   "metadata": {},
   "source": [
    "Because viruses are limited, we can print all of their names. "
   ]
  },
  {
   "cell_type": "code",
   "execution_count": 70,
   "id": "ebcb57cc",
   "metadata": {
    "scrolled": true
   },
   "outputs": [
    {
     "data": {
      "text/plain": [
       "2852    Pseudomonas phage F_HA0480sp/Pa1651\n",
       "2853                Pseudomonas phage JBD18\n",
       "2854                Pseudomonas phage JBD25\n",
       "2855                Pseudomonas phage JBD26\n",
       "2856                Pseudomonas phage JBD67\n",
       "Name: Organism Name, dtype: object"
      ]
     },
     "execution_count": 70,
     "metadata": {},
     "output_type": "execute_result"
    }
   ],
   "source": [
    "viruses= micro[micro['NCBI Superkingdom'] =='Viruses']\n",
    "viruses['Organism Name']"
   ]
  },
  {
   "cell_type": "markdown",
   "id": "a59c7342",
   "metadata": {},
   "source": [
    "Because eukaryotes are limited, we can print all of their names. "
   ]
  },
  {
   "cell_type": "code",
   "execution_count": 71,
   "id": "db31a8f1",
   "metadata": {
    "scrolled": true
   },
   "outputs": [
    {
     "data": {
      "text/plain": [
       "601                  Exophiala dermatitidis NIH/UT8656\n",
       "983                    Phialophora europaea CBS 101466\n",
       "985     Mucor circinelloides f. circinelloides 1006PhL\n",
       "1065                   Sporothrix schenckii ATCC 58251\n",
       "Name: Organism Name, dtype: object"
      ]
     },
     "execution_count": 71,
     "metadata": {},
     "output_type": "execute_result"
    }
   ],
   "source": [
    "eukaryotes= micro[micro['NCBI Superkingdom']=='Eukaryota']\n",
    "eukaryotes['Organism Name']"
   ]
  },
  {
   "cell_type": "markdown",
   "id": "08c11676",
   "metadata": {},
   "source": [
    "Because archaea are limited, we can print all of their names. "
   ]
  },
  {
   "cell_type": "code",
   "execution_count": 72,
   "id": "0b457354",
   "metadata": {},
   "outputs": [
    {
     "data": {
      "text/plain": [
       "302    Methanobrevibacter smithii DSM 2374\n",
       "303    Methanobrevibacter smithii DSM 2375\n",
       "Name: Organism Name, dtype: object"
      ]
     },
     "execution_count": 72,
     "metadata": {},
     "output_type": "execute_result"
    }
   ],
   "source": [
    "archaea= micro[micro['NCBI Superkingdom']=='Archaea']\n",
    "archaea['Organism Name']"
   ]
  },
  {
   "cell_type": "code",
   "execution_count": 73,
   "id": "983c4885",
   "metadata": {},
   "outputs": [
    {
     "data": {
      "text/plain": [
       "NCBI Superkingdom\n",
       "Bacteria     1552\n",
       "Viruses         5\n",
       "Eukaryota       4\n",
       "Archaea         2\n",
       "Name: count, dtype: int64"
      ]
     },
     "execution_count": 73,
     "metadata": {},
     "output_type": "execute_result"
    }
   ],
   "source": [
    "micro['NCBI Superkingdom'].value_counts()"
   ]
  },
  {
   "cell_type": "markdown",
   "id": "ce9f4f8c",
   "metadata": {},
   "source": [
    "Observations from this EDA:\n",
    " - Gastrointestinal system shows most diversity of microbes\n",
    " - Streptomyces sp. HGB0020 shows the maximum gene count in human\n",
    " - Streptococcus is most common genus"
   ]
  },
  {
   "cell_type": "markdown",
   "id": "9cb26ee8",
   "metadata": {},
   "source": [
    "#### Milestone 2"
   ]
  },
  {
   "cell_type": "markdown",
   "id": "6583601c",
   "metadata": {},
   "source": [
    "*I made a lot of transformations previously because I felt like they were important for visualizations, but there are still more I can do for preparing a model. My goal is to use a predictive model to figure out which organisms are likely to be present in various locations of the body (outlined in the data as \"HMP Isolation Body Sites\") and, in theory, that would be used to make predictions on how to restore the microbiome of a specific patient, based on the sequencing of their sample.*"
   ]
  },
  {
   "cell_type": "code",
   "execution_count": 74,
   "id": "774c2e28",
   "metadata": {},
   "outputs": [],
   "source": [
    "# change df name for transformations\n",
    "df = micro "
   ]
  },
  {
   "cell_type": "code",
   "execution_count": 75,
   "id": "d6406a2b",
   "metadata": {},
   "outputs": [
    {
     "data": {
      "text/html": [
       "<div>\n",
       "<style scoped>\n",
       "    .dataframe tbody tr th:only-of-type {\n",
       "        vertical-align: middle;\n",
       "    }\n",
       "\n",
       "    .dataframe tbody tr th {\n",
       "        vertical-align: top;\n",
       "    }\n",
       "\n",
       "    .dataframe thead th {\n",
       "        text-align: right;\n",
       "    }\n",
       "</style>\n",
       "<table border=\"1\" class=\"dataframe\">\n",
       "  <thead>\n",
       "    <tr style=\"text-align: right;\">\n",
       "      <th></th>\n",
       "      <th>HMP ID</th>\n",
       "      <th>GOLD ID</th>\n",
       "      <th>Organism Name</th>\n",
       "      <th>Domain</th>\n",
       "      <th>NCBI Superkingdom</th>\n",
       "      <th>HMP Isolation Body Site</th>\n",
       "      <th>Project Status</th>\n",
       "      <th>Current Finishing Level</th>\n",
       "      <th>NCBI Submission Status</th>\n",
       "      <th>NCBI Project ID</th>\n",
       "      <th>Genbank ID</th>\n",
       "      <th>Gene Count</th>\n",
       "      <th>IMG/HMP ID</th>\n",
       "      <th>HOMD ID</th>\n",
       "      <th>Sequencing Center</th>\n",
       "      <th>Funding Source</th>\n",
       "      <th>Strain Repository ID</th>\n",
       "      <th>Unnamed: 17</th>\n",
       "      <th>Unnamed: 18</th>\n",
       "      <th>Genus</th>\n",
       "    </tr>\n",
       "  </thead>\n",
       "  <tbody>\n",
       "    <tr>\n",
       "      <th>0</th>\n",
       "      <td>1</td>\n",
       "      <td>Gi03551</td>\n",
       "      <td>Abiotrophia defectiva ATCC 49176</td>\n",
       "      <td>BACTERIAL</td>\n",
       "      <td>Bacteria</td>\n",
       "      <td>oral</td>\n",
       "      <td>Complete</td>\n",
       "      <td>Level 3: Improved-High-Quality Draft</td>\n",
       "      <td>6. annotation (and sequence) public on NCBI site</td>\n",
       "      <td>33011</td>\n",
       "      <td>ACIN00000000</td>\n",
       "      <td>1950</td>\n",
       "      <td>643886181</td>\n",
       "      <td>HOMD: tax_389</td>\n",
       "      <td>Washington University Genome Sequencing Center</td>\n",
       "      <td>NIH-HMP Jumpstart Supplement</td>\n",
       "      <td>ATCC 49176, CIP 103242</td>\n",
       "      <td>NaN</td>\n",
       "      <td>NaN</td>\n",
       "      <td>Abiotrophia</td>\n",
       "    </tr>\n",
       "    <tr>\n",
       "      <th>1</th>\n",
       "      <td>4</td>\n",
       "      <td>Gi03555</td>\n",
       "      <td>Achromobacter piechaudii ATCC 43553</td>\n",
       "      <td>BACTERIAL</td>\n",
       "      <td>Bacteria</td>\n",
       "      <td>airways</td>\n",
       "      <td>Complete</td>\n",
       "      <td>Level 2: High-Quality Draft</td>\n",
       "      <td>6. annotation (and sequence) public on NCBI site</td>\n",
       "      <td>46343</td>\n",
       "      <td>ADMS00000000</td>\n",
       "      <td>5755</td>\n",
       "      <td>647000200</td>\n",
       "      <td>NaN</td>\n",
       "      <td>Baylor College of Medicine</td>\n",
       "      <td>NIH-HMP Jumpstart Supplement</td>\n",
       "      <td>ATCC 43553, CIP 55774, LMG 6100</td>\n",
       "      <td>NaN</td>\n",
       "      <td>NaN</td>\n",
       "      <td>Achromobacter</td>\n",
       "    </tr>\n",
       "    <tr>\n",
       "      <th>2</th>\n",
       "      <td>5</td>\n",
       "      <td>Gi03554</td>\n",
       "      <td>Achromobacter xylosoxidans C54</td>\n",
       "      <td>BACTERIAL</td>\n",
       "      <td>Bacteria</td>\n",
       "      <td>airways</td>\n",
       "      <td>Complete</td>\n",
       "      <td>Level 5: Non-contiguous Finished</td>\n",
       "      <td>6. annotation (and sequence) public on NCBI site</td>\n",
       "      <td>38739</td>\n",
       "      <td>ACRC00000000</td>\n",
       "      <td>6010</td>\n",
       "      <td>0</td>\n",
       "      <td>HOMD: tax_343</td>\n",
       "      <td>Broad Institute</td>\n",
       "      <td>NIH-HMP Jumpstart Supplement</td>\n",
       "      <td>BEI HM-235</td>\n",
       "      <td>NaN</td>\n",
       "      <td>NaN</td>\n",
       "      <td>Achromobacter</td>\n",
       "    </tr>\n",
       "    <tr>\n",
       "      <th>3</th>\n",
       "      <td>10</td>\n",
       "      <td>Gi03422</td>\n",
       "      <td>Acinetobacter baumannii ATCC 19606</td>\n",
       "      <td>BACTERIAL</td>\n",
       "      <td>Bacteria</td>\n",
       "      <td>urogenital_tract</td>\n",
       "      <td>Complete</td>\n",
       "      <td>Level 2: High-Quality Draft</td>\n",
       "      <td>6. annotation (and sequence) public on NCBI site</td>\n",
       "      <td>38509</td>\n",
       "      <td>ACQB00000000</td>\n",
       "      <td>3832</td>\n",
       "      <td>647533101</td>\n",
       "      <td>HOMD: tax_554</td>\n",
       "      <td>Broad Institute</td>\n",
       "      <td>NIH-HMP Jumpstart Supplement</td>\n",
       "      <td>ATCC 19606, DSM 6974</td>\n",
       "      <td>NaN</td>\n",
       "      <td>NaN</td>\n",
       "      <td>Acinetobacter</td>\n",
       "    </tr>\n",
       "    <tr>\n",
       "      <th>4</th>\n",
       "      <td>12</td>\n",
       "      <td>Gi03421</td>\n",
       "      <td>Acinetobacter calcoaceticus RUH2202</td>\n",
       "      <td>BACTERIAL</td>\n",
       "      <td>Bacteria</td>\n",
       "      <td>skin</td>\n",
       "      <td>Complete</td>\n",
       "      <td>Level 2: High-Quality Draft</td>\n",
       "      <td>6. annotation (and sequence) public on NCBI site</td>\n",
       "      <td>38337</td>\n",
       "      <td>ACPK00000000</td>\n",
       "      <td>3632</td>\n",
       "      <td>646206267</td>\n",
       "      <td>NaN</td>\n",
       "      <td>Broad Institute</td>\n",
       "      <td>NIH-HMP Jumpstart Supplement</td>\n",
       "      <td>LMG 10517</td>\n",
       "      <td>NaN</td>\n",
       "      <td>NaN</td>\n",
       "      <td>Acinetobacter</td>\n",
       "    </tr>\n",
       "  </tbody>\n",
       "</table>\n",
       "</div>"
      ],
      "text/plain": [
       "   HMP ID  GOLD ID                        Organism Name     Domain   \n",
       "0       1  Gi03551     Abiotrophia defectiva ATCC 49176  BACTERIAL  \\\n",
       "1       4  Gi03555  Achromobacter piechaudii ATCC 43553  BACTERIAL   \n",
       "2       5  Gi03554       Achromobacter xylosoxidans C54  BACTERIAL   \n",
       "3      10  Gi03422   Acinetobacter baumannii ATCC 19606  BACTERIAL   \n",
       "4      12  Gi03421  Acinetobacter calcoaceticus RUH2202  BACTERIAL   \n",
       "\n",
       "  NCBI Superkingdom HMP Isolation Body Site Project Status   \n",
       "0          Bacteria                    oral       Complete  \\\n",
       "1          Bacteria                 airways       Complete   \n",
       "2          Bacteria                 airways       Complete   \n",
       "3          Bacteria        urogenital_tract       Complete   \n",
       "4          Bacteria                    skin       Complete   \n",
       "\n",
       "                Current Finishing Level   \n",
       "0  Level 3: Improved-High-Quality Draft  \\\n",
       "1           Level 2: High-Quality Draft   \n",
       "2      Level 5: Non-contiguous Finished   \n",
       "3           Level 2: High-Quality Draft   \n",
       "4           Level 2: High-Quality Draft   \n",
       "\n",
       "                             NCBI Submission Status  NCBI Project ID   \n",
       "0  6. annotation (and sequence) public on NCBI site            33011  \\\n",
       "1  6. annotation (and sequence) public on NCBI site            46343   \n",
       "2  6. annotation (and sequence) public on NCBI site            38739   \n",
       "3  6. annotation (and sequence) public on NCBI site            38509   \n",
       "4  6. annotation (and sequence) public on NCBI site            38337   \n",
       "\n",
       "     Genbank ID  Gene Count  IMG/HMP ID        HOMD ID   \n",
       "0  ACIN00000000        1950   643886181  HOMD: tax_389  \\\n",
       "1  ADMS00000000        5755   647000200            NaN   \n",
       "2  ACRC00000000        6010           0  HOMD: tax_343   \n",
       "3  ACQB00000000        3832   647533101  HOMD: tax_554   \n",
       "4  ACPK00000000        3632   646206267            NaN   \n",
       "\n",
       "                                Sequencing Center   \n",
       "0  Washington University Genome Sequencing Center  \\\n",
       "1                      Baylor College of Medicine   \n",
       "2                                 Broad Institute   \n",
       "3                                 Broad Institute   \n",
       "4                                 Broad Institute   \n",
       "\n",
       "                 Funding Source             Strain Repository ID  Unnamed: 17   \n",
       "0  NIH-HMP Jumpstart Supplement           ATCC 49176, CIP 103242          NaN  \\\n",
       "1  NIH-HMP Jumpstart Supplement  ATCC 43553, CIP 55774, LMG 6100          NaN   \n",
       "2  NIH-HMP Jumpstart Supplement                       BEI HM-235          NaN   \n",
       "3  NIH-HMP Jumpstart Supplement             ATCC 19606, DSM 6974          NaN   \n",
       "4  NIH-HMP Jumpstart Supplement                        LMG 10517          NaN   \n",
       "\n",
       "   Unnamed: 18          Genus  \n",
       "0          NaN    Abiotrophia  \n",
       "1          NaN  Achromobacter  \n",
       "2          NaN  Achromobacter  \n",
       "3          NaN  Acinetobacter  \n",
       "4          NaN  Acinetobacter  "
      ]
     },
     "execution_count": 75,
     "metadata": {},
     "output_type": "execute_result"
    }
   ],
   "source": [
    "df.head()"
   ]
  },
  {
   "cell_type": "code",
   "execution_count": 76,
   "id": "f9c22cb0",
   "metadata": {},
   "outputs": [
    {
     "data": {
      "text/plain": [
       "HMP ID                        0\n",
       "GOLD ID                      70\n",
       "Organism Name                 0\n",
       "Domain                        0\n",
       "NCBI Superkingdom             0\n",
       "HMP Isolation Body Site       0\n",
       "Project Status                0\n",
       "Current Finishing Level       0\n",
       "NCBI Submission Status        0\n",
       "NCBI Project ID               0\n",
       "Genbank ID                    0\n",
       "Gene Count                    0\n",
       "IMG/HMP ID                    0\n",
       "HOMD ID                    1177\n",
       "Sequencing Center             0\n",
       "Funding Source                0\n",
       "Strain Repository ID        296\n",
       "Unnamed: 17                1563\n",
       "Unnamed: 18                1563\n",
       "Genus                         0\n",
       "dtype: int64"
      ]
     },
     "execution_count": 76,
     "metadata": {},
     "output_type": "execute_result"
    }
   ],
   "source": [
    "#find na values\n",
    "df.isna().sum()"
   ]
  },
  {
   "cell_type": "code",
   "execution_count": 77,
   "id": "5b2456f6",
   "metadata": {
    "scrolled": true
   },
   "outputs": [
    {
     "data": {
      "text/plain": [
       "Unnamed: 18                100.00\n",
       "Unnamed: 17                100.00\n",
       "HOMD ID                     75.30\n",
       "Strain Repository ID        18.94\n",
       "GOLD ID                      4.48\n",
       "HMP ID                       0.00\n",
       "Funding Source               0.00\n",
       "Sequencing Center            0.00\n",
       "IMG/HMP ID                   0.00\n",
       "Gene Count                   0.00\n",
       "Genbank ID                   0.00\n",
       "NCBI Project ID              0.00\n",
       "NCBI Submission Status       0.00\n",
       "Current Finishing Level      0.00\n",
       "Project Status               0.00\n",
       "HMP Isolation Body Site      0.00\n",
       "NCBI Superkingdom            0.00\n",
       "Domain                       0.00\n",
       "Organism Name                0.00\n",
       "Genus                        0.00\n",
       "dtype: float64"
      ]
     },
     "execution_count": 77,
     "metadata": {},
     "output_type": "execute_result"
    }
   ],
   "source": [
    "#check percentage missing values\n",
    "round((df.isnull().sum() * 100/ len(df)),2).sort_values(ascending=False)"
   ]
  },
  {
   "cell_type": "code",
   "execution_count": 78,
   "id": "b689264e",
   "metadata": {},
   "outputs": [
    {
     "data": {
      "text/plain": [
       "0       HOMD: tax_389\n",
       "1                 NaN\n",
       "2       HOMD: tax_343\n",
       "3       HOMD: tax_554\n",
       "4                 NaN\n",
       "            ...      \n",
       "2910              NaN\n",
       "2911              NaN\n",
       "2912              NaN\n",
       "2913              NaN\n",
       "2914              NaN\n",
       "Name: HOMD ID, Length: 1563, dtype: object"
      ]
     },
     "execution_count": 78,
     "metadata": {},
     "output_type": "execute_result"
    }
   ],
   "source": [
    "# HOMD ID has 75% missing values so I'm checking it\n",
    "df['HOMD ID']"
   ]
  },
  {
   "cell_type": "markdown",
   "id": "8db10bbf",
   "metadata": {},
   "source": [
    "The unnamed columns provide no information so they can be removed. HOMD ID isn't necessary for analysis so it can be removed as well."
   ]
  },
  {
   "cell_type": "code",
   "execution_count": 79,
   "id": "8a025712",
   "metadata": {},
   "outputs": [],
   "source": [
    "df2 = df.drop(['Unnamed: 18', 'Unnamed: 17', 'HOMD ID'], axis=1)"
   ]
  },
  {
   "cell_type": "code",
   "execution_count": 80,
   "id": "2f8de3af",
   "metadata": {},
   "outputs": [
    {
     "data": {
      "text/plain": [
       "Strain Repository ID       18.94\n",
       "GOLD ID                     4.48\n",
       "HMP ID                      0.00\n",
       "NCBI Project ID             0.00\n",
       "Funding Source              0.00\n",
       "Sequencing Center           0.00\n",
       "IMG/HMP ID                  0.00\n",
       "Gene Count                  0.00\n",
       "Genbank ID                  0.00\n",
       "NCBI Submission Status      0.00\n",
       "Current Finishing Level     0.00\n",
       "Project Status              0.00\n",
       "HMP Isolation Body Site     0.00\n",
       "NCBI Superkingdom           0.00\n",
       "Domain                      0.00\n",
       "Organism Name               0.00\n",
       "Genus                       0.00\n",
       "dtype: float64"
      ]
     },
     "execution_count": 80,
     "metadata": {},
     "output_type": "execute_result"
    }
   ],
   "source": [
    "#check percentage missing values\n",
    "round((df2.isnull().sum() * 100/ len(df2)),2).sort_values(ascending=False)"
   ]
  },
  {
   "cell_type": "code",
   "execution_count": 81,
   "id": "8f5ee0d2",
   "metadata": {},
   "outputs": [
    {
     "data": {
      "text/plain": [
       "0                ATCC 49176, CIP 103242\n",
       "1       ATCC 43553, CIP 55774, LMG 6100\n",
       "2                            BEI HM-235\n",
       "3                  ATCC 19606, DSM 6974\n",
       "4                             LMG 10517\n",
       "                     ...               \n",
       "2910                         BEI HM-909\n",
       "2911                         ATCC 43718\n",
       "2912                         BEI HM-755\n",
       "2913                         ATCC 27337\n",
       "2914                         BEI HM-756\n",
       "Name: Strain Repository ID, Length: 1563, dtype: object"
      ]
     },
     "execution_count": 81,
     "metadata": {},
     "output_type": "execute_result"
    }
   ],
   "source": [
    "df['Strain Repository ID']"
   ]
  },
  {
   "cell_type": "code",
   "execution_count": 82,
   "id": "26837863",
   "metadata": {},
   "outputs": [
    {
     "data": {
      "text/plain": [
       "0       Gi03551\n",
       "1       Gi03555\n",
       "2       Gi03554\n",
       "3       Gi03422\n",
       "4       Gi03421\n",
       "         ...   \n",
       "2910    Gi08654\n",
       "2911    Gi09593\n",
       "2912    Gi09594\n",
       "2913    Gi09595\n",
       "2914    Gi09596\n",
       "Name: GOLD ID, Length: 1563, dtype: object"
      ]
     },
     "execution_count": 82,
     "metadata": {},
     "output_type": "execute_result"
    }
   ],
   "source": [
    "df[\"GOLD ID\"]"
   ]
  },
  {
   "cell_type": "code",
   "execution_count": 83,
   "id": "8f8b935a",
   "metadata": {},
   "outputs": [],
   "source": [
    "#HOMD ID and Strain Repository ID are not necessary for analysis so they can be dropped\n",
    "df2 = df2.drop(['Strain Repository ID', 'GOLD ID'], axis=1)"
   ]
  },
  {
   "cell_type": "code",
   "execution_count": 84,
   "id": "265e5d2e",
   "metadata": {
    "scrolled": true
   },
   "outputs": [
    {
     "data": {
      "text/plain": [
       "['HMP ID',\n",
       " 'Organism Name',\n",
       " 'Domain',\n",
       " 'NCBI Superkingdom',\n",
       " 'HMP Isolation Body Site',\n",
       " 'Project Status',\n",
       " 'Current Finishing Level',\n",
       " 'NCBI Submission Status',\n",
       " 'NCBI Project ID',\n",
       " 'Genbank ID',\n",
       " 'Gene Count',\n",
       " 'IMG/HMP ID',\n",
       " 'Sequencing Center',\n",
       " 'Funding Source',\n",
       " 'Genus']"
      ]
     },
     "execution_count": 84,
     "metadata": {},
     "output_type": "execute_result"
    }
   ],
   "source": [
    "df2.columns.tolist()"
   ]
  },
  {
   "cell_type": "code",
   "execution_count": 85,
   "id": "2098920f",
   "metadata": {},
   "outputs": [],
   "source": [
    "#removing the rest of the ID columns\n",
    "df2 = df2.drop(['NCBI Project ID',\n",
    " 'Genbank ID', 'IMG/HMP ID'], axis=1)"
   ]
  },
  {
   "cell_type": "code",
   "execution_count": 86,
   "id": "9a545913",
   "metadata": {
    "scrolled": true
   },
   "outputs": [],
   "source": [
    "#new df name to preserve previous\n",
    "df = df2"
   ]
  },
  {
   "cell_type": "code",
   "execution_count": 87,
   "id": "09caac0e",
   "metadata": {},
   "outputs": [
    {
     "data": {
      "text/plain": [
       "['HMP ID',\n",
       " 'Organism Name',\n",
       " 'Domain',\n",
       " 'NCBI Superkingdom',\n",
       " 'HMP Isolation Body Site',\n",
       " 'Project Status',\n",
       " 'Current Finishing Level',\n",
       " 'NCBI Submission Status',\n",
       " 'Gene Count',\n",
       " 'Sequencing Center',\n",
       " 'Funding Source',\n",
       " 'Genus']"
      ]
     },
     "execution_count": 87,
     "metadata": {},
     "output_type": "execute_result"
    }
   ],
   "source": [
    "df.columns.tolist()"
   ]
  },
  {
   "cell_type": "code",
   "execution_count": 88,
   "id": "dc40c5d6",
   "metadata": {},
   "outputs": [],
   "source": [
    "# subset of df\n",
    "test_df = df[['HMP ID',\n",
    " 'Organism Name',\n",
    " 'Domain',\n",
    " 'NCBI Superkingdom',\n",
    " 'HMP Isolation Body Site',\n",
    " 'Gene Count',\n",
    " 'Genus']]"
   ]
  },
  {
   "cell_type": "code",
   "execution_count": 89,
   "id": "c068bdbf",
   "metadata": {
    "scrolled": true
   },
   "outputs": [
    {
     "data": {
      "text/plain": [
       "(1563, 7)"
      ]
     },
     "execution_count": 89,
     "metadata": {},
     "output_type": "execute_result"
    }
   ],
   "source": [
    "test_df.shape"
   ]
  },
  {
   "cell_type": "code",
   "execution_count": 90,
   "id": "c20be965",
   "metadata": {},
   "outputs": [
    {
     "data": {
      "text/plain": [
       "Genus\n",
       "Streptococcus        161\n",
       "Enterococcus         110\n",
       "Propionibacterium     92\n",
       "Lactobacillus         73\n",
       "Helicobacter          70\n",
       "                    ... \n",
       "Pediococcus            1\n",
       "Mycobacterium          1\n",
       "Micrococcus            1\n",
       "Leuconostoc            1\n",
       "Acetobacteraceae       1\n",
       "Name: count, Length: 185, dtype: int64"
      ]
     },
     "execution_count": 90,
     "metadata": {},
     "output_type": "execute_result"
    }
   ],
   "source": [
    "#checking size and unique values of columns\n",
    "df['Genus'].value_counts()"
   ]
  },
  {
   "cell_type": "code",
   "execution_count": 91,
   "id": "82a2adb9",
   "metadata": {},
   "outputs": [],
   "source": [
    "# rename for to preserve previous\n",
    "new_df = test_df"
   ]
  },
  {
   "cell_type": "code",
   "execution_count": 92,
   "id": "edeb00d2",
   "metadata": {},
   "outputs": [
    {
     "data": {
      "text/html": [
       "<div>\n",
       "<style scoped>\n",
       "    .dataframe tbody tr th:only-of-type {\n",
       "        vertical-align: middle;\n",
       "    }\n",
       "\n",
       "    .dataframe tbody tr th {\n",
       "        vertical-align: top;\n",
       "    }\n",
       "\n",
       "    .dataframe thead th {\n",
       "        text-align: right;\n",
       "    }\n",
       "</style>\n",
       "<table border=\"1\" class=\"dataframe\">\n",
       "  <thead>\n",
       "    <tr style=\"text-align: right;\">\n",
       "      <th></th>\n",
       "      <th>HMP ID</th>\n",
       "      <th>Organism Name</th>\n",
       "      <th>Domain</th>\n",
       "      <th>NCBI Superkingdom</th>\n",
       "      <th>HMP Isolation Body Site</th>\n",
       "      <th>Gene Count</th>\n",
       "      <th>Genus</th>\n",
       "    </tr>\n",
       "  </thead>\n",
       "  <tbody>\n",
       "    <tr>\n",
       "      <th>0</th>\n",
       "      <td>1</td>\n",
       "      <td>Abiotrophia defectiva ATCC 49176</td>\n",
       "      <td>BACTERIAL</td>\n",
       "      <td>Bacteria</td>\n",
       "      <td>oral</td>\n",
       "      <td>1950</td>\n",
       "      <td>Abiotrophia</td>\n",
       "    </tr>\n",
       "    <tr>\n",
       "      <th>1</th>\n",
       "      <td>4</td>\n",
       "      <td>Achromobacter piechaudii ATCC 43553</td>\n",
       "      <td>BACTERIAL</td>\n",
       "      <td>Bacteria</td>\n",
       "      <td>airways</td>\n",
       "      <td>5755</td>\n",
       "      <td>Achromobacter</td>\n",
       "    </tr>\n",
       "    <tr>\n",
       "      <th>2</th>\n",
       "      <td>5</td>\n",
       "      <td>Achromobacter xylosoxidans C54</td>\n",
       "      <td>BACTERIAL</td>\n",
       "      <td>Bacteria</td>\n",
       "      <td>airways</td>\n",
       "      <td>6010</td>\n",
       "      <td>Achromobacter</td>\n",
       "    </tr>\n",
       "    <tr>\n",
       "      <th>3</th>\n",
       "      <td>10</td>\n",
       "      <td>Acinetobacter baumannii ATCC 19606</td>\n",
       "      <td>BACTERIAL</td>\n",
       "      <td>Bacteria</td>\n",
       "      <td>urogenital_tract</td>\n",
       "      <td>3832</td>\n",
       "      <td>Acinetobacter</td>\n",
       "    </tr>\n",
       "    <tr>\n",
       "      <th>4</th>\n",
       "      <td>12</td>\n",
       "      <td>Acinetobacter calcoaceticus RUH2202</td>\n",
       "      <td>BACTERIAL</td>\n",
       "      <td>Bacteria</td>\n",
       "      <td>skin</td>\n",
       "      <td>3632</td>\n",
       "      <td>Acinetobacter</td>\n",
       "    </tr>\n",
       "    <tr>\n",
       "      <th>...</th>\n",
       "      <td>...</td>\n",
       "      <td>...</td>\n",
       "      <td>...</td>\n",
       "      <td>...</td>\n",
       "      <td>...</td>\n",
       "      <td>...</td>\n",
       "      <td>...</td>\n",
       "    </tr>\n",
       "    <tr>\n",
       "      <th>2910</th>\n",
       "      <td>9995</td>\n",
       "      <td>Staphylococcus epidermidis NIHLM095</td>\n",
       "      <td>BACTERIAL</td>\n",
       "      <td>Bacteria</td>\n",
       "      <td>unknown</td>\n",
       "      <td>2300</td>\n",
       "      <td>Staphylococcus</td>\n",
       "    </tr>\n",
       "    <tr>\n",
       "      <th>2911</th>\n",
       "      <td>9996</td>\n",
       "      <td>Aggregatibacter actinomycetemcomitans Y4</td>\n",
       "      <td>BACTERIAL</td>\n",
       "      <td>Bacteria</td>\n",
       "      <td>oral</td>\n",
       "      <td>2343</td>\n",
       "      <td>Aggregatibacter</td>\n",
       "    </tr>\n",
       "    <tr>\n",
       "      <th>2912</th>\n",
       "      <td>9997</td>\n",
       "      <td>Corynebacterium durum F0235</td>\n",
       "      <td>BACTERIAL</td>\n",
       "      <td>Bacteria</td>\n",
       "      <td>oral</td>\n",
       "      <td>2823</td>\n",
       "      <td>Corynebacterium</td>\n",
       "    </tr>\n",
       "    <tr>\n",
       "      <th>2913</th>\n",
       "      <td>9998</td>\n",
       "      <td>Peptostreptococcus anaerobius VPI 4330</td>\n",
       "      <td>BACTERIAL</td>\n",
       "      <td>Bacteria</td>\n",
       "      <td>oral</td>\n",
       "      <td>1933</td>\n",
       "      <td>Peptostreptococcus</td>\n",
       "    </tr>\n",
       "    <tr>\n",
       "      <th>2914</th>\n",
       "      <td>9999</td>\n",
       "      <td>Prevotella sp. oral taxon 473 str. F0040</td>\n",
       "      <td>BACTERIAL</td>\n",
       "      <td>Bacteria</td>\n",
       "      <td>oral</td>\n",
       "      <td>2317</td>\n",
       "      <td>Prevotella</td>\n",
       "    </tr>\n",
       "  </tbody>\n",
       "</table>\n",
       "<p>1563 rows × 7 columns</p>\n",
       "</div>"
      ],
      "text/plain": [
       "      HMP ID                             Organism Name     Domain   \n",
       "0          1          Abiotrophia defectiva ATCC 49176  BACTERIAL  \\\n",
       "1          4       Achromobacter piechaudii ATCC 43553  BACTERIAL   \n",
       "2          5            Achromobacter xylosoxidans C54  BACTERIAL   \n",
       "3         10        Acinetobacter baumannii ATCC 19606  BACTERIAL   \n",
       "4         12       Acinetobacter calcoaceticus RUH2202  BACTERIAL   \n",
       "...      ...                                       ...        ...   \n",
       "2910    9995       Staphylococcus epidermidis NIHLM095  BACTERIAL   \n",
       "2911    9996  Aggregatibacter actinomycetemcomitans Y4  BACTERIAL   \n",
       "2912    9997               Corynebacterium durum F0235  BACTERIAL   \n",
       "2913    9998    Peptostreptococcus anaerobius VPI 4330  BACTERIAL   \n",
       "2914    9999  Prevotella sp. oral taxon 473 str. F0040  BACTERIAL   \n",
       "\n",
       "     NCBI Superkingdom HMP Isolation Body Site  Gene Count               Genus  \n",
       "0             Bacteria                    oral        1950         Abiotrophia  \n",
       "1             Bacteria                 airways        5755       Achromobacter  \n",
       "2             Bacteria                 airways        6010       Achromobacter  \n",
       "3             Bacteria        urogenital_tract        3832       Acinetobacter  \n",
       "4             Bacteria                    skin        3632       Acinetobacter  \n",
       "...                ...                     ...         ...                 ...  \n",
       "2910          Bacteria                 unknown        2300      Staphylococcus  \n",
       "2911          Bacteria                    oral        2343     Aggregatibacter  \n",
       "2912          Bacteria                    oral        2823     Corynebacterium  \n",
       "2913          Bacteria                    oral        1933  Peptostreptococcus  \n",
       "2914          Bacteria                    oral        2317          Prevotella  \n",
       "\n",
       "[1563 rows x 7 columns]"
      ]
     },
     "execution_count": 92,
     "metadata": {},
     "output_type": "execute_result"
    }
   ],
   "source": [
    "new_df"
   ]
  },
  {
   "cell_type": "markdown",
   "id": "9d7e286a",
   "metadata": {},
   "source": [
    "I want to remove Domain or Superkingdom because they seem to have the same information, but first I need to check that. I'm going to convert the strings to lowercase so I may make a clean comparison. Then I'll search for the root words in the other column and see if any are not the same (check if they are all duplicated)."
   ]
  },
  {
   "cell_type": "code",
   "execution_count": 93,
   "id": "173e1c73",
   "metadata": {
    "scrolled": true
   },
   "outputs": [
    {
     "data": {
      "text/plain": [
       "0       bacterial\n",
       "1       bacterial\n",
       "2       bacterial\n",
       "3       bacterial\n",
       "4       bacterial\n",
       "          ...    \n",
       "2910    bacterial\n",
       "2911    bacterial\n",
       "2912    bacterial\n",
       "2913    bacterial\n",
       "2914    bacterial\n",
       "Name: Domain, Length: 1563, dtype: object"
      ]
     },
     "execution_count": 93,
     "metadata": {},
     "output_type": "execute_result"
    }
   ],
   "source": [
    "new_df['Domain'] = new_df['Domain'].str.lower()\n",
    "new_df['Domain']"
   ]
  },
  {
   "cell_type": "code",
   "execution_count": 94,
   "id": "013ae7fa",
   "metadata": {
    "scrolled": true
   },
   "outputs": [
    {
     "data": {
      "text/plain": [
       "0       bacteria\n",
       "1       bacteria\n",
       "2       bacteria\n",
       "3       bacteria\n",
       "4       bacteria\n",
       "          ...   \n",
       "2910    bacteria\n",
       "2911    bacteria\n",
       "2912    bacteria\n",
       "2913    bacteria\n",
       "2914    bacteria\n",
       "Name: NCBI Superkingdom, Length: 1563, dtype: object"
      ]
     },
     "execution_count": 94,
     "metadata": {},
     "output_type": "execute_result"
    }
   ],
   "source": [
    "new_df['NCBI Superkingdom'] = new_df['NCBI Superkingdom'].str.lower()\n",
    "new_df['NCBI Superkingdom'] "
   ]
  },
  {
   "cell_type": "code",
   "execution_count": 95,
   "id": "b4428ef1",
   "metadata": {},
   "outputs": [],
   "source": [
    "# use apply to find if the \"superkingdom\" string is in \"domain\", if it is not, return NaN. \n",
    "new_df['New'] = new_df.apply(lambda x: x['NCBI Superkingdom'] if x['NCBI Superkingdom'] in\n",
    "                     x['Domain'] else np.nan, axis=1)"
   ]
  },
  {
   "cell_type": "code",
   "execution_count": 96,
   "id": "d32c99f1",
   "metadata": {},
   "outputs": [
    {
     "data": {
      "text/plain": [
       "9"
      ]
     },
     "execution_count": 96,
     "metadata": {},
     "output_type": "execute_result"
    }
   ],
   "source": [
    "#check NA value total\n",
    "new_df['New'].isna().sum()"
   ]
  },
  {
   "cell_type": "code",
   "execution_count": 97,
   "id": "1bb06392",
   "metadata": {
    "scrolled": true
   },
   "outputs": [
    {
     "data": {
      "text/html": [
       "<div>\n",
       "<style scoped>\n",
       "    .dataframe tbody tr th:only-of-type {\n",
       "        vertical-align: middle;\n",
       "    }\n",
       "\n",
       "    .dataframe tbody tr th {\n",
       "        vertical-align: top;\n",
       "    }\n",
       "\n",
       "    .dataframe thead th {\n",
       "        text-align: right;\n",
       "    }\n",
       "</style>\n",
       "<table border=\"1\" class=\"dataframe\">\n",
       "  <thead>\n",
       "    <tr style=\"text-align: right;\">\n",
       "      <th></th>\n",
       "      <th>HMP ID</th>\n",
       "      <th>Organism Name</th>\n",
       "      <th>Domain</th>\n",
       "      <th>NCBI Superkingdom</th>\n",
       "      <th>HMP Isolation Body Site</th>\n",
       "      <th>Gene Count</th>\n",
       "      <th>Genus</th>\n",
       "      <th>New</th>\n",
       "    </tr>\n",
       "  </thead>\n",
       "  <tbody>\n",
       "    <tr>\n",
       "      <th>601</th>\n",
       "      <td>1120</td>\n",
       "      <td>Exophiala dermatitidis NIH/UT8656</td>\n",
       "      <td>eukaryal</td>\n",
       "      <td>eukaryota</td>\n",
       "      <td>unknown</td>\n",
       "      <td>0</td>\n",
       "      <td>Exophiala</td>\n",
       "      <td>NaN</td>\n",
       "    </tr>\n",
       "    <tr>\n",
       "      <th>983</th>\n",
       "      <td>1541</td>\n",
       "      <td>Phialophora europaea CBS 101466</td>\n",
       "      <td>eukaryal</td>\n",
       "      <td>eukaryota</td>\n",
       "      <td>skin</td>\n",
       "      <td>0</td>\n",
       "      <td>Phialophora</td>\n",
       "      <td>NaN</td>\n",
       "    </tr>\n",
       "    <tr>\n",
       "      <th>985</th>\n",
       "      <td>1544</td>\n",
       "      <td>Mucor circinelloides f. circinelloides 1006PhL</td>\n",
       "      <td>eukaryal</td>\n",
       "      <td>eukaryota</td>\n",
       "      <td>skin</td>\n",
       "      <td>0</td>\n",
       "      <td>Mucor</td>\n",
       "      <td>NaN</td>\n",
       "    </tr>\n",
       "    <tr>\n",
       "      <th>1065</th>\n",
       "      <td>1624</td>\n",
       "      <td>Sporothrix schenckii ATCC 58251</td>\n",
       "      <td>eukaryal</td>\n",
       "      <td>eukaryota</td>\n",
       "      <td>wound</td>\n",
       "      <td>0</td>\n",
       "      <td>Sporothrix</td>\n",
       "      <td>NaN</td>\n",
       "    </tr>\n",
       "    <tr>\n",
       "      <th>2852</th>\n",
       "      <td>9774</td>\n",
       "      <td>Pseudomonas phage F_HA0480sp/Pa1651</td>\n",
       "      <td>virus</td>\n",
       "      <td>viruses</td>\n",
       "      <td>unknown</td>\n",
       "      <td>0</td>\n",
       "      <td>Pseudomonas</td>\n",
       "      <td>NaN</td>\n",
       "    </tr>\n",
       "    <tr>\n",
       "      <th>2853</th>\n",
       "      <td>9843</td>\n",
       "      <td>Pseudomonas phage JBD18</td>\n",
       "      <td>virus</td>\n",
       "      <td>viruses</td>\n",
       "      <td>unknown</td>\n",
       "      <td>0</td>\n",
       "      <td>Pseudomonas</td>\n",
       "      <td>NaN</td>\n",
       "    </tr>\n",
       "    <tr>\n",
       "      <th>2854</th>\n",
       "      <td>9847</td>\n",
       "      <td>Pseudomonas phage JBD25</td>\n",
       "      <td>virus</td>\n",
       "      <td>viruses</td>\n",
       "      <td>unknown</td>\n",
       "      <td>0</td>\n",
       "      <td>Pseudomonas</td>\n",
       "      <td>NaN</td>\n",
       "    </tr>\n",
       "    <tr>\n",
       "      <th>2855</th>\n",
       "      <td>9848</td>\n",
       "      <td>Pseudomonas phage JBD26</td>\n",
       "      <td>virus</td>\n",
       "      <td>viruses</td>\n",
       "      <td>unknown</td>\n",
       "      <td>0</td>\n",
       "      <td>Pseudomonas</td>\n",
       "      <td>NaN</td>\n",
       "    </tr>\n",
       "    <tr>\n",
       "      <th>2856</th>\n",
       "      <td>9886</td>\n",
       "      <td>Pseudomonas phage JBD67</td>\n",
       "      <td>virus</td>\n",
       "      <td>viruses</td>\n",
       "      <td>unknown</td>\n",
       "      <td>0</td>\n",
       "      <td>Pseudomonas</td>\n",
       "      <td>NaN</td>\n",
       "    </tr>\n",
       "  </tbody>\n",
       "</table>\n",
       "</div>"
      ],
      "text/plain": [
       "      HMP ID                                   Organism Name    Domain   \n",
       "601     1120               Exophiala dermatitidis NIH/UT8656  eukaryal  \\\n",
       "983     1541                 Phialophora europaea CBS 101466  eukaryal   \n",
       "985     1544  Mucor circinelloides f. circinelloides 1006PhL  eukaryal   \n",
       "1065    1624                 Sporothrix schenckii ATCC 58251  eukaryal   \n",
       "2852    9774             Pseudomonas phage F_HA0480sp/Pa1651     virus   \n",
       "2853    9843                         Pseudomonas phage JBD18     virus   \n",
       "2854    9847                         Pseudomonas phage JBD25     virus   \n",
       "2855    9848                         Pseudomonas phage JBD26     virus   \n",
       "2856    9886                         Pseudomonas phage JBD67     virus   \n",
       "\n",
       "     NCBI Superkingdom HMP Isolation Body Site  Gene Count        Genus  New  \n",
       "601          eukaryota                 unknown           0    Exophiala  NaN  \n",
       "983          eukaryota                    skin           0  Phialophora  NaN  \n",
       "985          eukaryota                    skin           0        Mucor  NaN  \n",
       "1065         eukaryota                   wound           0   Sporothrix  NaN  \n",
       "2852           viruses                 unknown           0  Pseudomonas  NaN  \n",
       "2853           viruses                 unknown           0  Pseudomonas  NaN  \n",
       "2854           viruses                 unknown           0  Pseudomonas  NaN  \n",
       "2855           viruses                 unknown           0  Pseudomonas  NaN  \n",
       "2856           viruses                 unknown           0  Pseudomonas  NaN  "
      ]
     },
     "execution_count": 97,
     "metadata": {},
     "output_type": "execute_result"
    }
   ],
   "source": [
    "#There are 9 null values so we can see review the entries manually\n",
    "new_df[new_df['New'].isna()]"
   ]
  },
  {
   "cell_type": "markdown",
   "id": "e10631b9",
   "metadata": {},
   "source": [
    "I see that these are duplicates as well, so all of the values between \"NCBI Superkingdom\" and \"Domain\" are the same. I can remove one of them. I am choosing to drop \"NCBI Superkingdom\" as well as the \"new\" column I used for comparison purposes."
   ]
  },
  {
   "cell_type": "code",
   "execution_count": 98,
   "id": "97d99329",
   "metadata": {},
   "outputs": [],
   "source": [
    "new_df = new_df.drop(['NCBI Superkingdom', 'New'], axis=1)"
   ]
  },
  {
   "cell_type": "code",
   "execution_count": 99,
   "id": "92464738",
   "metadata": {
    "scrolled": false
   },
   "outputs": [
    {
     "data": {
      "text/plain": [
       "['HMP ID',\n",
       " 'Organism Name',\n",
       " 'Domain',\n",
       " 'HMP Isolation Body Site',\n",
       " 'Gene Count',\n",
       " 'Genus']"
      ]
     },
     "execution_count": 99,
     "metadata": {},
     "output_type": "execute_result"
    }
   ],
   "source": [
    "new_df.columns.to_list()"
   ]
  },
  {
   "cell_type": "code",
   "execution_count": 100,
   "id": "828d6b72",
   "metadata": {},
   "outputs": [
    {
     "data": {
      "text/plain": [
       "(1563, 6)"
      ]
     },
     "execution_count": 100,
     "metadata": {},
     "output_type": "execute_result"
    }
   ],
   "source": [
    "new_df.shape"
   ]
  },
  {
   "cell_type": "code",
   "execution_count": 101,
   "id": "2ae7b353",
   "metadata": {},
   "outputs": [
    {
     "data": {
      "text/plain": [
       "1557"
      ]
     },
     "execution_count": 101,
     "metadata": {},
     "output_type": "execute_result"
    }
   ],
   "source": [
    "new_df[\"Organism Name\"].nunique()"
   ]
  },
  {
   "cell_type": "markdown",
   "id": "6aa47259",
   "metadata": {},
   "source": [
    "There are too many unique organisms to make them into dummies, so I'm going to try a couple of different approaches. I'll see how it looks to se Genus as predictor and HMP Body Site "
   ]
  },
  {
   "cell_type": "code",
   "execution_count": 102,
   "id": "7b463057",
   "metadata": {},
   "outputs": [
    {
     "data": {
      "text/plain": [
       "185"
      ]
     },
     "execution_count": 102,
     "metadata": {},
     "output_type": "execute_result"
    }
   ],
   "source": [
    "new_df[\"Genus\"].nunique()"
   ]
  },
  {
   "cell_type": "markdown",
   "id": "a4ca7c14",
   "metadata": {},
   "source": [
    "#Make new df of dummy variables for all but the \"HMP ID\" (not helpful for modeling) and \"Gene Count\" (already numerical)\n",
    "set_df = pd.get_dummies(data=new_df, columns=['Domain', 'HMP Isolation Body Site', 'Genus', 'Organism Name'])"
   ]
  },
  {
   "cell_type": "markdown",
   "id": "bdf47620",
   "metadata": {},
   "source": [
    "From milestone 2: These are the necessary columns for correlating and making predictions for regions of the body. I'm going to attempt to build a model by first labeling the predictor and outcome variables, then splitting the data and running a model. I was imagining a knearest neighbor model, but a logistic regression might be more appropriate... or I may be way off and in need of direction!"
   ]
  },
  {
   "cell_type": "markdown",
   "id": "36812b43",
   "metadata": {},
   "source": [
    "#### Milestone 3"
   ]
  },
  {
   "cell_type": "markdown",
   "id": "040cde8e",
   "metadata": {},
   "source": [
    "## KNN Classifier"
   ]
  },
  {
   "cell_type": "code",
   "execution_count": 103,
   "id": "d965b52e",
   "metadata": {
    "scrolled": true
   },
   "outputs": [
    {
     "data": {
      "text/plain": [
       "Index(['HMP ID', 'Organism Name', 'Domain', 'HMP Isolation Body Site',\n",
       "       'Gene Count', 'Genus'],\n",
       "      dtype='object')"
      ]
     },
     "execution_count": 103,
     "metadata": {},
     "output_type": "execute_result"
    }
   ],
   "source": [
    "new_df.columns"
   ]
  },
  {
   "cell_type": "markdown",
   "id": "a53233ec",
   "metadata": {},
   "source": [
    "### Target is Genus"
   ]
  },
  {
   "cell_type": "code",
   "execution_count": 104,
   "id": "306c90cd",
   "metadata": {},
   "outputs": [],
   "source": [
    "#I selected this order of variables through trial & error based on the accuracy below\n",
    "genus_df = new_df[[\"Domain\", \"Gene Count\", \"HMP Isolation Body Site\"]]"
   ]
  },
  {
   "cell_type": "code",
   "execution_count": 105,
   "id": "a72cdf62",
   "metadata": {},
   "outputs": [],
   "source": [
    "#get dummy variables for model scaling/fitting\n",
    "genus_df = pd.get_dummies(genus_df)"
   ]
  },
  {
   "cell_type": "code",
   "execution_count": 107,
   "id": "050ab018",
   "metadata": {},
   "outputs": [],
   "source": [
    "X = genus_df #features\n",
    "y = new_df[\"Genus\"] #target"
   ]
  },
  {
   "cell_type": "code",
   "execution_count": 108,
   "id": "ba1b9db4",
   "metadata": {},
   "outputs": [],
   "source": [
    "#split data for training and testing\n",
    "X_train, X_test, y_train, y_test = train_test_split(X, y, test_size=0.2, random_state=100)"
   ]
  },
  {
   "cell_type": "code",
   "execution_count": 109,
   "id": "95f78042",
   "metadata": {},
   "outputs": [],
   "source": [
    "#Scale/fit/transform\n",
    "scaler = StandardScaler()\n",
    "scaler.fit(X_train)\n",
    "\n",
    "X_train_scaled = scaler.transform(X_train) ### fit training data above\n",
    "X_test_scaled = scaler.transform(X_test) ### ((fitting leaks information from test into train))"
   ]
  },
  {
   "cell_type": "markdown",
   "id": "bf362c44",
   "metadata": {},
   "source": [
    "The code below was an attempt to scale target values to see if that would be beneficial, but it is not."
   ]
  },
  {
   "cell_type": "code",
   "execution_count": 110,
   "id": "4a749513",
   "metadata": {},
   "outputs": [],
   "source": [
    "# y_train_scale = scaler.fit_transform(X_train) ### fit training data above <br>\n",
    "# y_test_scale = scaler.transform(X_test) ### ((fitting leaks information from test into train))"
   ]
  },
  {
   "cell_type": "code",
   "execution_count": 111,
   "id": "d05acbbe",
   "metadata": {
    "scrolled": true
   },
   "outputs": [
    {
     "data": {
      "text/html": [
       "<style>#sk-container-id-1 {color: black;background-color: white;}#sk-container-id-1 pre{padding: 0;}#sk-container-id-1 div.sk-toggleable {background-color: white;}#sk-container-id-1 label.sk-toggleable__label {cursor: pointer;display: block;width: 100%;margin-bottom: 0;padding: 0.3em;box-sizing: border-box;text-align: center;}#sk-container-id-1 label.sk-toggleable__label-arrow:before {content: \"▸\";float: left;margin-right: 0.25em;color: #696969;}#sk-container-id-1 label.sk-toggleable__label-arrow:hover:before {color: black;}#sk-container-id-1 div.sk-estimator:hover label.sk-toggleable__label-arrow:before {color: black;}#sk-container-id-1 div.sk-toggleable__content {max-height: 0;max-width: 0;overflow: hidden;text-align: left;background-color: #f0f8ff;}#sk-container-id-1 div.sk-toggleable__content pre {margin: 0.2em;color: black;border-radius: 0.25em;background-color: #f0f8ff;}#sk-container-id-1 input.sk-toggleable__control:checked~div.sk-toggleable__content {max-height: 200px;max-width: 100%;overflow: auto;}#sk-container-id-1 input.sk-toggleable__control:checked~label.sk-toggleable__label-arrow:before {content: \"▾\";}#sk-container-id-1 div.sk-estimator input.sk-toggleable__control:checked~label.sk-toggleable__label {background-color: #d4ebff;}#sk-container-id-1 div.sk-label input.sk-toggleable__control:checked~label.sk-toggleable__label {background-color: #d4ebff;}#sk-container-id-1 input.sk-hidden--visually {border: 0;clip: rect(1px 1px 1px 1px);clip: rect(1px, 1px, 1px, 1px);height: 1px;margin: -1px;overflow: hidden;padding: 0;position: absolute;width: 1px;}#sk-container-id-1 div.sk-estimator {font-family: monospace;background-color: #f0f8ff;border: 1px dotted black;border-radius: 0.25em;box-sizing: border-box;margin-bottom: 0.5em;}#sk-container-id-1 div.sk-estimator:hover {background-color: #d4ebff;}#sk-container-id-1 div.sk-parallel-item::after {content: \"\";width: 100%;border-bottom: 1px solid gray;flex-grow: 1;}#sk-container-id-1 div.sk-label:hover label.sk-toggleable__label {background-color: #d4ebff;}#sk-container-id-1 div.sk-serial::before {content: \"\";position: absolute;border-left: 1px solid gray;box-sizing: border-box;top: 0;bottom: 0;left: 50%;z-index: 0;}#sk-container-id-1 div.sk-serial {display: flex;flex-direction: column;align-items: center;background-color: white;padding-right: 0.2em;padding-left: 0.2em;position: relative;}#sk-container-id-1 div.sk-item {position: relative;z-index: 1;}#sk-container-id-1 div.sk-parallel {display: flex;align-items: stretch;justify-content: center;background-color: white;position: relative;}#sk-container-id-1 div.sk-item::before, #sk-container-id-1 div.sk-parallel-item::before {content: \"\";position: absolute;border-left: 1px solid gray;box-sizing: border-box;top: 0;bottom: 0;left: 50%;z-index: -1;}#sk-container-id-1 div.sk-parallel-item {display: flex;flex-direction: column;z-index: 1;position: relative;background-color: white;}#sk-container-id-1 div.sk-parallel-item:first-child::after {align-self: flex-end;width: 50%;}#sk-container-id-1 div.sk-parallel-item:last-child::after {align-self: flex-start;width: 50%;}#sk-container-id-1 div.sk-parallel-item:only-child::after {width: 0;}#sk-container-id-1 div.sk-dashed-wrapped {border: 1px dashed gray;margin: 0 0.4em 0.5em 0.4em;box-sizing: border-box;padding-bottom: 0.4em;background-color: white;}#sk-container-id-1 div.sk-label label {font-family: monospace;font-weight: bold;display: inline-block;line-height: 1.2em;}#sk-container-id-1 div.sk-label-container {text-align: center;}#sk-container-id-1 div.sk-container {/* jupyter's `normalize.less` sets `[hidden] { display: none; }` but bootstrap.min.css set `[hidden] { display: none !important; }` so we also need the `!important` here to be able to override the default hidden behavior on the sphinx rendered scikit-learn.org. See: https://github.com/scikit-learn/scikit-learn/issues/21755 */display: inline-block !important;position: relative;}#sk-container-id-1 div.sk-text-repr-fallback {display: none;}</style><div id=\"sk-container-id-1\" class=\"sk-top-container\"><div class=\"sk-text-repr-fallback\"><pre>KNeighborsClassifier()</pre><b>In a Jupyter environment, please rerun this cell to show the HTML representation or trust the notebook. <br />On GitHub, the HTML representation is unable to render, please try loading this page with nbviewer.org.</b></div><div class=\"sk-container\" hidden><div class=\"sk-item\"><div class=\"sk-estimator sk-toggleable\"><input class=\"sk-toggleable__control sk-hidden--visually\" id=\"sk-estimator-id-1\" type=\"checkbox\" checked><label for=\"sk-estimator-id-1\" class=\"sk-toggleable__label sk-toggleable__label-arrow\">KNeighborsClassifier</label><div class=\"sk-toggleable__content\"><pre>KNeighborsClassifier()</pre></div></div></div></div></div>"
      ],
      "text/plain": [
       "KNeighborsClassifier()"
      ]
     },
     "execution_count": 111,
     "metadata": {},
     "output_type": "execute_result"
    }
   ],
   "source": [
    "#define classifier and fit\n",
    "classifier = KNeighborsClassifier(n_neighbors=5)\n",
    "classifier.fit(X_train_scaled, y_train)"
   ]
  },
  {
   "cell_type": "code",
   "execution_count": 112,
   "id": "59e89788",
   "metadata": {
    "scrolled": true
   },
   "outputs": [
    {
     "data": {
      "text/plain": [
       "0.34185303514376997"
      ]
     },
     "execution_count": 112,
     "metadata": {},
     "output_type": "execute_result"
    }
   ],
   "source": [
    "#calculate accuracy\n",
    "y_pred = classifier.predict(X_test_scaled)\n",
    "accuracy = accuracy_score(y_test, y_pred)\n",
    "accuracy"
   ]
  },
  {
   "cell_type": "markdown",
   "id": "da03aef7",
   "metadata": {},
   "source": [
    "I attempted to use hyperparamter tuning (below) based on Exercise 9.2 and it gave me some insight, even though it called an error because the least populated class in y only has 1 member. "
   ]
  },
  {
   "cell_type": "code",
   "execution_count": 113,
   "id": "0753888e",
   "metadata": {},
   "outputs": [],
   "source": [
    "#adjust to match other assignment\n",
    "standardizer = StandardScaler()\n",
    "X_train = standardizer.fit_transform(X_train_scaled)\n",
    "X_test = standardizer.transform(X_test_scaled)\n",
    "\n",
    "#define classifier and build pipeline\n",
    "knn = KNeighborsClassifier()\n",
    "pipe = Pipeline([('standardizer', standardizer), ('classifier', knn)])"
   ]
  },
  {
   "cell_type": "code",
   "execution_count": 114,
   "id": "b8905cad",
   "metadata": {
    "scrolled": true
   },
   "outputs": [
    {
     "data": {
      "text/html": [
       "<style>#sk-container-id-2 {color: black;background-color: white;}#sk-container-id-2 pre{padding: 0;}#sk-container-id-2 div.sk-toggleable {background-color: white;}#sk-container-id-2 label.sk-toggleable__label {cursor: pointer;display: block;width: 100%;margin-bottom: 0;padding: 0.3em;box-sizing: border-box;text-align: center;}#sk-container-id-2 label.sk-toggleable__label-arrow:before {content: \"▸\";float: left;margin-right: 0.25em;color: #696969;}#sk-container-id-2 label.sk-toggleable__label-arrow:hover:before {color: black;}#sk-container-id-2 div.sk-estimator:hover label.sk-toggleable__label-arrow:before {color: black;}#sk-container-id-2 div.sk-toggleable__content {max-height: 0;max-width: 0;overflow: hidden;text-align: left;background-color: #f0f8ff;}#sk-container-id-2 div.sk-toggleable__content pre {margin: 0.2em;color: black;border-radius: 0.25em;background-color: #f0f8ff;}#sk-container-id-2 input.sk-toggleable__control:checked~div.sk-toggleable__content {max-height: 200px;max-width: 100%;overflow: auto;}#sk-container-id-2 input.sk-toggleable__control:checked~label.sk-toggleable__label-arrow:before {content: \"▾\";}#sk-container-id-2 div.sk-estimator input.sk-toggleable__control:checked~label.sk-toggleable__label {background-color: #d4ebff;}#sk-container-id-2 div.sk-label input.sk-toggleable__control:checked~label.sk-toggleable__label {background-color: #d4ebff;}#sk-container-id-2 input.sk-hidden--visually {border: 0;clip: rect(1px 1px 1px 1px);clip: rect(1px, 1px, 1px, 1px);height: 1px;margin: -1px;overflow: hidden;padding: 0;position: absolute;width: 1px;}#sk-container-id-2 div.sk-estimator {font-family: monospace;background-color: #f0f8ff;border: 1px dotted black;border-radius: 0.25em;box-sizing: border-box;margin-bottom: 0.5em;}#sk-container-id-2 div.sk-estimator:hover {background-color: #d4ebff;}#sk-container-id-2 div.sk-parallel-item::after {content: \"\";width: 100%;border-bottom: 1px solid gray;flex-grow: 1;}#sk-container-id-2 div.sk-label:hover label.sk-toggleable__label {background-color: #d4ebff;}#sk-container-id-2 div.sk-serial::before {content: \"\";position: absolute;border-left: 1px solid gray;box-sizing: border-box;top: 0;bottom: 0;left: 50%;z-index: 0;}#sk-container-id-2 div.sk-serial {display: flex;flex-direction: column;align-items: center;background-color: white;padding-right: 0.2em;padding-left: 0.2em;position: relative;}#sk-container-id-2 div.sk-item {position: relative;z-index: 1;}#sk-container-id-2 div.sk-parallel {display: flex;align-items: stretch;justify-content: center;background-color: white;position: relative;}#sk-container-id-2 div.sk-item::before, #sk-container-id-2 div.sk-parallel-item::before {content: \"\";position: absolute;border-left: 1px solid gray;box-sizing: border-box;top: 0;bottom: 0;left: 50%;z-index: -1;}#sk-container-id-2 div.sk-parallel-item {display: flex;flex-direction: column;z-index: 1;position: relative;background-color: white;}#sk-container-id-2 div.sk-parallel-item:first-child::after {align-self: flex-end;width: 50%;}#sk-container-id-2 div.sk-parallel-item:last-child::after {align-self: flex-start;width: 50%;}#sk-container-id-2 div.sk-parallel-item:only-child::after {width: 0;}#sk-container-id-2 div.sk-dashed-wrapped {border: 1px dashed gray;margin: 0 0.4em 0.5em 0.4em;box-sizing: border-box;padding-bottom: 0.4em;background-color: white;}#sk-container-id-2 div.sk-label label {font-family: monospace;font-weight: bold;display: inline-block;line-height: 1.2em;}#sk-container-id-2 div.sk-label-container {text-align: center;}#sk-container-id-2 div.sk-container {/* jupyter's `normalize.less` sets `[hidden] { display: none; }` but bootstrap.min.css set `[hidden] { display: none !important; }` so we also need the `!important` here to be able to override the default hidden behavior on the sphinx rendered scikit-learn.org. See: https://github.com/scikit-learn/scikit-learn/issues/21755 */display: inline-block !important;position: relative;}#sk-container-id-2 div.sk-text-repr-fallback {display: none;}</style><div id=\"sk-container-id-2\" class=\"sk-top-container\"><div class=\"sk-text-repr-fallback\"><pre>Pipeline(steps=[(&#x27;standardizer&#x27;, StandardScaler()),\n",
       "                (&#x27;classifier&#x27;, KNeighborsClassifier())])</pre><b>In a Jupyter environment, please rerun this cell to show the HTML representation or trust the notebook. <br />On GitHub, the HTML representation is unable to render, please try loading this page with nbviewer.org.</b></div><div class=\"sk-container\" hidden><div class=\"sk-item sk-dashed-wrapped\"><div class=\"sk-label-container\"><div class=\"sk-label sk-toggleable\"><input class=\"sk-toggleable__control sk-hidden--visually\" id=\"sk-estimator-id-2\" type=\"checkbox\" ><label for=\"sk-estimator-id-2\" class=\"sk-toggleable__label sk-toggleable__label-arrow\">Pipeline</label><div class=\"sk-toggleable__content\"><pre>Pipeline(steps=[(&#x27;standardizer&#x27;, StandardScaler()),\n",
       "                (&#x27;classifier&#x27;, KNeighborsClassifier())])</pre></div></div></div><div class=\"sk-serial\"><div class=\"sk-item\"><div class=\"sk-estimator sk-toggleable\"><input class=\"sk-toggleable__control sk-hidden--visually\" id=\"sk-estimator-id-3\" type=\"checkbox\" ><label for=\"sk-estimator-id-3\" class=\"sk-toggleable__label sk-toggleable__label-arrow\">StandardScaler</label><div class=\"sk-toggleable__content\"><pre>StandardScaler()</pre></div></div></div><div class=\"sk-item\"><div class=\"sk-estimator sk-toggleable\"><input class=\"sk-toggleable__control sk-hidden--visually\" id=\"sk-estimator-id-4\" type=\"checkbox\" ><label for=\"sk-estimator-id-4\" class=\"sk-toggleable__label sk-toggleable__label-arrow\">KNeighborsClassifier</label><div class=\"sk-toggleable__content\"><pre>KNeighborsClassifier()</pre></div></div></div></div></div></div></div>"
      ],
      "text/plain": [
       "Pipeline(steps=[('standardizer', StandardScaler()),\n",
       "                ('classifier', KNeighborsClassifier())])"
      ]
     },
     "execution_count": 114,
     "metadata": {},
     "output_type": "execute_result"
    }
   ],
   "source": [
    "# fit pipeline\n",
    "pipe.fit(X_train_scaled, y_train)"
   ]
  },
  {
   "cell_type": "code",
   "execution_count": 115,
   "id": "5ee60525",
   "metadata": {
    "scrolled": false
   },
   "outputs": [
    {
     "data": {
      "text/plain": [
       "0.3450479233226837"
      ]
     },
     "execution_count": 115,
     "metadata": {},
     "output_type": "execute_result"
    }
   ],
   "source": [
    "#score the knn model on the testing data\n",
    "pipe.score(X_test_scaled, y_test)"
   ]
  },
  {
   "cell_type": "code",
   "execution_count": 116,
   "id": "13b337cd",
   "metadata": {},
   "outputs": [],
   "source": [
    "# define search space\n",
    "search_space = [{\"classifier__n_neighbors\": range(1,20,1)}]"
   ]
  },
  {
   "cell_type": "code",
   "execution_count": 117,
   "id": "62e9a3e4",
   "metadata": {},
   "outputs": [
    {
     "data": {
      "text/html": [
       "<style>#sk-container-id-3 {color: black;background-color: white;}#sk-container-id-3 pre{padding: 0;}#sk-container-id-3 div.sk-toggleable {background-color: white;}#sk-container-id-3 label.sk-toggleable__label {cursor: pointer;display: block;width: 100%;margin-bottom: 0;padding: 0.3em;box-sizing: border-box;text-align: center;}#sk-container-id-3 label.sk-toggleable__label-arrow:before {content: \"▸\";float: left;margin-right: 0.25em;color: #696969;}#sk-container-id-3 label.sk-toggleable__label-arrow:hover:before {color: black;}#sk-container-id-3 div.sk-estimator:hover label.sk-toggleable__label-arrow:before {color: black;}#sk-container-id-3 div.sk-toggleable__content {max-height: 0;max-width: 0;overflow: hidden;text-align: left;background-color: #f0f8ff;}#sk-container-id-3 div.sk-toggleable__content pre {margin: 0.2em;color: black;border-radius: 0.25em;background-color: #f0f8ff;}#sk-container-id-3 input.sk-toggleable__control:checked~div.sk-toggleable__content {max-height: 200px;max-width: 100%;overflow: auto;}#sk-container-id-3 input.sk-toggleable__control:checked~label.sk-toggleable__label-arrow:before {content: \"▾\";}#sk-container-id-3 div.sk-estimator input.sk-toggleable__control:checked~label.sk-toggleable__label {background-color: #d4ebff;}#sk-container-id-3 div.sk-label input.sk-toggleable__control:checked~label.sk-toggleable__label {background-color: #d4ebff;}#sk-container-id-3 input.sk-hidden--visually {border: 0;clip: rect(1px 1px 1px 1px);clip: rect(1px, 1px, 1px, 1px);height: 1px;margin: -1px;overflow: hidden;padding: 0;position: absolute;width: 1px;}#sk-container-id-3 div.sk-estimator {font-family: monospace;background-color: #f0f8ff;border: 1px dotted black;border-radius: 0.25em;box-sizing: border-box;margin-bottom: 0.5em;}#sk-container-id-3 div.sk-estimator:hover {background-color: #d4ebff;}#sk-container-id-3 div.sk-parallel-item::after {content: \"\";width: 100%;border-bottom: 1px solid gray;flex-grow: 1;}#sk-container-id-3 div.sk-label:hover label.sk-toggleable__label {background-color: #d4ebff;}#sk-container-id-3 div.sk-serial::before {content: \"\";position: absolute;border-left: 1px solid gray;box-sizing: border-box;top: 0;bottom: 0;left: 50%;z-index: 0;}#sk-container-id-3 div.sk-serial {display: flex;flex-direction: column;align-items: center;background-color: white;padding-right: 0.2em;padding-left: 0.2em;position: relative;}#sk-container-id-3 div.sk-item {position: relative;z-index: 1;}#sk-container-id-3 div.sk-parallel {display: flex;align-items: stretch;justify-content: center;background-color: white;position: relative;}#sk-container-id-3 div.sk-item::before, #sk-container-id-3 div.sk-parallel-item::before {content: \"\";position: absolute;border-left: 1px solid gray;box-sizing: border-box;top: 0;bottom: 0;left: 50%;z-index: -1;}#sk-container-id-3 div.sk-parallel-item {display: flex;flex-direction: column;z-index: 1;position: relative;background-color: white;}#sk-container-id-3 div.sk-parallel-item:first-child::after {align-self: flex-end;width: 50%;}#sk-container-id-3 div.sk-parallel-item:last-child::after {align-self: flex-start;width: 50%;}#sk-container-id-3 div.sk-parallel-item:only-child::after {width: 0;}#sk-container-id-3 div.sk-dashed-wrapped {border: 1px dashed gray;margin: 0 0.4em 0.5em 0.4em;box-sizing: border-box;padding-bottom: 0.4em;background-color: white;}#sk-container-id-3 div.sk-label label {font-family: monospace;font-weight: bold;display: inline-block;line-height: 1.2em;}#sk-container-id-3 div.sk-label-container {text-align: center;}#sk-container-id-3 div.sk-container {/* jupyter's `normalize.less` sets `[hidden] { display: none; }` but bootstrap.min.css set `[hidden] { display: none !important; }` so we also need the `!important` here to be able to override the default hidden behavior on the sphinx rendered scikit-learn.org. See: https://github.com/scikit-learn/scikit-learn/issues/21755 */display: inline-block !important;position: relative;}#sk-container-id-3 div.sk-text-repr-fallback {display: none;}</style><div id=\"sk-container-id-3\" class=\"sk-top-container\"><div class=\"sk-text-repr-fallback\"><pre>GridSearchCV(cv=5,\n",
       "             estimator=Pipeline(steps=[(&#x27;standardizer&#x27;, StandardScaler()),\n",
       "                                       (&#x27;classifier&#x27;, KNeighborsClassifier())]),\n",
       "             param_grid=[{&#x27;classifier__n_neighbors&#x27;: range(1, 20)}])</pre><b>In a Jupyter environment, please rerun this cell to show the HTML representation or trust the notebook. <br />On GitHub, the HTML representation is unable to render, please try loading this page with nbviewer.org.</b></div><div class=\"sk-container\" hidden><div class=\"sk-item sk-dashed-wrapped\"><div class=\"sk-label-container\"><div class=\"sk-label sk-toggleable\"><input class=\"sk-toggleable__control sk-hidden--visually\" id=\"sk-estimator-id-5\" type=\"checkbox\" ><label for=\"sk-estimator-id-5\" class=\"sk-toggleable__label sk-toggleable__label-arrow\">GridSearchCV</label><div class=\"sk-toggleable__content\"><pre>GridSearchCV(cv=5,\n",
       "             estimator=Pipeline(steps=[(&#x27;standardizer&#x27;, StandardScaler()),\n",
       "                                       (&#x27;classifier&#x27;, KNeighborsClassifier())]),\n",
       "             param_grid=[{&#x27;classifier__n_neighbors&#x27;: range(1, 20)}])</pre></div></div></div><div class=\"sk-parallel\"><div class=\"sk-parallel-item\"><div class=\"sk-item\"><div class=\"sk-label-container\"><div class=\"sk-label sk-toggleable\"><input class=\"sk-toggleable__control sk-hidden--visually\" id=\"sk-estimator-id-6\" type=\"checkbox\" ><label for=\"sk-estimator-id-6\" class=\"sk-toggleable__label sk-toggleable__label-arrow\">estimator: Pipeline</label><div class=\"sk-toggleable__content\"><pre>Pipeline(steps=[(&#x27;standardizer&#x27;, StandardScaler()),\n",
       "                (&#x27;classifier&#x27;, KNeighborsClassifier())])</pre></div></div></div><div class=\"sk-serial\"><div class=\"sk-item\"><div class=\"sk-serial\"><div class=\"sk-item\"><div class=\"sk-estimator sk-toggleable\"><input class=\"sk-toggleable__control sk-hidden--visually\" id=\"sk-estimator-id-7\" type=\"checkbox\" ><label for=\"sk-estimator-id-7\" class=\"sk-toggleable__label sk-toggleable__label-arrow\">StandardScaler</label><div class=\"sk-toggleable__content\"><pre>StandardScaler()</pre></div></div></div><div class=\"sk-item\"><div class=\"sk-estimator sk-toggleable\"><input class=\"sk-toggleable__control sk-hidden--visually\" id=\"sk-estimator-id-8\" type=\"checkbox\" ><label for=\"sk-estimator-id-8\" class=\"sk-toggleable__label sk-toggleable__label-arrow\">KNeighborsClassifier</label><div class=\"sk-toggleable__content\"><pre>KNeighborsClassifier()</pre></div></div></div></div></div></div></div></div></div></div></div></div>"
      ],
      "text/plain": [
       "GridSearchCV(cv=5,\n",
       "             estimator=Pipeline(steps=[('standardizer', StandardScaler()),\n",
       "                                       ('classifier', KNeighborsClassifier())]),\n",
       "             param_grid=[{'classifier__n_neighbors': range(1, 20)}])"
      ]
     },
     "execution_count": 117,
     "metadata": {},
     "output_type": "execute_result"
    }
   ],
   "source": [
    "#gridsearch has an error, but the process still works.\n",
    "gridsearch = GridSearchCV(pipe, search_space, cv=5).fit(X_train_scaled, y_train)\n",
    "gridsearch"
   ]
  },
  {
   "cell_type": "code",
   "execution_count": 118,
   "id": "8601426e",
   "metadata": {
    "scrolled": false
   },
   "outputs": [
    {
     "data": {
      "text/html": [
       "<style>#sk-container-id-4 {color: black;background-color: white;}#sk-container-id-4 pre{padding: 0;}#sk-container-id-4 div.sk-toggleable {background-color: white;}#sk-container-id-4 label.sk-toggleable__label {cursor: pointer;display: block;width: 100%;margin-bottom: 0;padding: 0.3em;box-sizing: border-box;text-align: center;}#sk-container-id-4 label.sk-toggleable__label-arrow:before {content: \"▸\";float: left;margin-right: 0.25em;color: #696969;}#sk-container-id-4 label.sk-toggleable__label-arrow:hover:before {color: black;}#sk-container-id-4 div.sk-estimator:hover label.sk-toggleable__label-arrow:before {color: black;}#sk-container-id-4 div.sk-toggleable__content {max-height: 0;max-width: 0;overflow: hidden;text-align: left;background-color: #f0f8ff;}#sk-container-id-4 div.sk-toggleable__content pre {margin: 0.2em;color: black;border-radius: 0.25em;background-color: #f0f8ff;}#sk-container-id-4 input.sk-toggleable__control:checked~div.sk-toggleable__content {max-height: 200px;max-width: 100%;overflow: auto;}#sk-container-id-4 input.sk-toggleable__control:checked~label.sk-toggleable__label-arrow:before {content: \"▾\";}#sk-container-id-4 div.sk-estimator input.sk-toggleable__control:checked~label.sk-toggleable__label {background-color: #d4ebff;}#sk-container-id-4 div.sk-label input.sk-toggleable__control:checked~label.sk-toggleable__label {background-color: #d4ebff;}#sk-container-id-4 input.sk-hidden--visually {border: 0;clip: rect(1px 1px 1px 1px);clip: rect(1px, 1px, 1px, 1px);height: 1px;margin: -1px;overflow: hidden;padding: 0;position: absolute;width: 1px;}#sk-container-id-4 div.sk-estimator {font-family: monospace;background-color: #f0f8ff;border: 1px dotted black;border-radius: 0.25em;box-sizing: border-box;margin-bottom: 0.5em;}#sk-container-id-4 div.sk-estimator:hover {background-color: #d4ebff;}#sk-container-id-4 div.sk-parallel-item::after {content: \"\";width: 100%;border-bottom: 1px solid gray;flex-grow: 1;}#sk-container-id-4 div.sk-label:hover label.sk-toggleable__label {background-color: #d4ebff;}#sk-container-id-4 div.sk-serial::before {content: \"\";position: absolute;border-left: 1px solid gray;box-sizing: border-box;top: 0;bottom: 0;left: 50%;z-index: 0;}#sk-container-id-4 div.sk-serial {display: flex;flex-direction: column;align-items: center;background-color: white;padding-right: 0.2em;padding-left: 0.2em;position: relative;}#sk-container-id-4 div.sk-item {position: relative;z-index: 1;}#sk-container-id-4 div.sk-parallel {display: flex;align-items: stretch;justify-content: center;background-color: white;position: relative;}#sk-container-id-4 div.sk-item::before, #sk-container-id-4 div.sk-parallel-item::before {content: \"\";position: absolute;border-left: 1px solid gray;box-sizing: border-box;top: 0;bottom: 0;left: 50%;z-index: -1;}#sk-container-id-4 div.sk-parallel-item {display: flex;flex-direction: column;z-index: 1;position: relative;background-color: white;}#sk-container-id-4 div.sk-parallel-item:first-child::after {align-self: flex-end;width: 50%;}#sk-container-id-4 div.sk-parallel-item:last-child::after {align-self: flex-start;width: 50%;}#sk-container-id-4 div.sk-parallel-item:only-child::after {width: 0;}#sk-container-id-4 div.sk-dashed-wrapped {border: 1px dashed gray;margin: 0 0.4em 0.5em 0.4em;box-sizing: border-box;padding-bottom: 0.4em;background-color: white;}#sk-container-id-4 div.sk-label label {font-family: monospace;font-weight: bold;display: inline-block;line-height: 1.2em;}#sk-container-id-4 div.sk-label-container {text-align: center;}#sk-container-id-4 div.sk-container {/* jupyter's `normalize.less` sets `[hidden] { display: none; }` but bootstrap.min.css set `[hidden] { display: none !important; }` so we also need the `!important` here to be able to override the default hidden behavior on the sphinx rendered scikit-learn.org. See: https://github.com/scikit-learn/scikit-learn/issues/21755 */display: inline-block !important;position: relative;}#sk-container-id-4 div.sk-text-repr-fallback {display: none;}</style><div id=\"sk-container-id-4\" class=\"sk-top-container\"><div class=\"sk-text-repr-fallback\"><pre>KNeighborsClassifier(n_neighbors=9)</pre><b>In a Jupyter environment, please rerun this cell to show the HTML representation or trust the notebook. <br />On GitHub, the HTML representation is unable to render, please try loading this page with nbviewer.org.</b></div><div class=\"sk-container\" hidden><div class=\"sk-item\"><div class=\"sk-estimator sk-toggleable\"><input class=\"sk-toggleable__control sk-hidden--visually\" id=\"sk-estimator-id-9\" type=\"checkbox\" checked><label for=\"sk-estimator-id-9\" class=\"sk-toggleable__label sk-toggleable__label-arrow\">KNeighborsClassifier</label><div class=\"sk-toggleable__content\"><pre>KNeighborsClassifier(n_neighbors=9)</pre></div></div></div></div></div>"
      ],
      "text/plain": [
       "KNeighborsClassifier(n_neighbors=9)"
      ]
     },
     "execution_count": 118,
     "metadata": {},
     "output_type": "execute_result"
    }
   ],
   "source": [
    "# get best parameters based \n",
    "gridsearch.best_estimator_.get_params()[\"classifier\"]"
   ]
  },
  {
   "cell_type": "code",
   "execution_count": 119,
   "id": "d1e8c0de",
   "metadata": {
    "scrolled": true
   },
   "outputs": [
    {
     "data": {
      "text/plain": [
       "0.3610223642172524"
      ]
     },
     "execution_count": 119,
     "metadata": {},
     "output_type": "execute_result"
    }
   ],
   "source": [
    "# run pipeline with indicated number of neighbors\n",
    "knn = KNeighborsClassifier(n_neighbors=9)\n",
    "pipe = Pipeline([('standardizer', standardizer), ('classifier', knn)])\n",
    "pipe.fit(X_train_scaled, y_train)\n",
    "#score the knn model on the testing data\n",
    "pipe.score(X_test_scaled,y_test)"
   ]
  },
  {
   "cell_type": "markdown",
   "id": "0091d62b",
   "metadata": {},
   "source": [
    "The accuracy is higher. Still not great in any way, but good enough to move on."
   ]
  },
  {
   "cell_type": "markdown",
   "id": "688334ca",
   "metadata": {},
   "source": [
    "### Target is HMP Isolation Body Site"
   ]
  },
  {
   "cell_type": "markdown",
   "id": "776df960",
   "metadata": {},
   "source": [
    "Repeat steps above with HMP Isolation Body Site as the target."
   ]
  },
  {
   "cell_type": "code",
   "execution_count": 120,
   "id": "07a8a017",
   "metadata": {},
   "outputs": [],
   "source": [
    "body_df = new_df[[\"Genus\",\"Domain\", \"Gene Count\" ]]"
   ]
  },
  {
   "cell_type": "code",
   "execution_count": 121,
   "id": "b880ab10",
   "metadata": {},
   "outputs": [],
   "source": [
    "body_df = pd.get_dummies(body_df)"
   ]
  },
  {
   "cell_type": "code",
   "execution_count": 122,
   "id": "a263c381",
   "metadata": {},
   "outputs": [],
   "source": [
    "X = body_df\n",
    "y = new_df['HMP Isolation Body Site']"
   ]
  },
  {
   "cell_type": "code",
   "execution_count": 123,
   "id": "2ff4fd1d",
   "metadata": {},
   "outputs": [],
   "source": [
    "X_train, X_test, y_train, y_test = train_test_split(X, y, test_size=0.20, random_state=100)"
   ]
  },
  {
   "cell_type": "code",
   "execution_count": 124,
   "id": "24dee994",
   "metadata": {},
   "outputs": [],
   "source": [
    "scaler = StandardScaler()\n",
    "scaler.fit(X_train)\n",
    "\n",
    "X_train_scaled = scaler.transform(X_train) ### fit training data above\n",
    "X_test_scaled = scaler.transform(X_test) ### ((fitting leaks information from test into train))"
   ]
  },
  {
   "cell_type": "code",
   "execution_count": 125,
   "id": "140f1145",
   "metadata": {
    "scrolled": false
   },
   "outputs": [
    {
     "data": {
      "text/html": [
       "<style>#sk-container-id-5 {color: black;background-color: white;}#sk-container-id-5 pre{padding: 0;}#sk-container-id-5 div.sk-toggleable {background-color: white;}#sk-container-id-5 label.sk-toggleable__label {cursor: pointer;display: block;width: 100%;margin-bottom: 0;padding: 0.3em;box-sizing: border-box;text-align: center;}#sk-container-id-5 label.sk-toggleable__label-arrow:before {content: \"▸\";float: left;margin-right: 0.25em;color: #696969;}#sk-container-id-5 label.sk-toggleable__label-arrow:hover:before {color: black;}#sk-container-id-5 div.sk-estimator:hover label.sk-toggleable__label-arrow:before {color: black;}#sk-container-id-5 div.sk-toggleable__content {max-height: 0;max-width: 0;overflow: hidden;text-align: left;background-color: #f0f8ff;}#sk-container-id-5 div.sk-toggleable__content pre {margin: 0.2em;color: black;border-radius: 0.25em;background-color: #f0f8ff;}#sk-container-id-5 input.sk-toggleable__control:checked~div.sk-toggleable__content {max-height: 200px;max-width: 100%;overflow: auto;}#sk-container-id-5 input.sk-toggleable__control:checked~label.sk-toggleable__label-arrow:before {content: \"▾\";}#sk-container-id-5 div.sk-estimator input.sk-toggleable__control:checked~label.sk-toggleable__label {background-color: #d4ebff;}#sk-container-id-5 div.sk-label input.sk-toggleable__control:checked~label.sk-toggleable__label {background-color: #d4ebff;}#sk-container-id-5 input.sk-hidden--visually {border: 0;clip: rect(1px 1px 1px 1px);clip: rect(1px, 1px, 1px, 1px);height: 1px;margin: -1px;overflow: hidden;padding: 0;position: absolute;width: 1px;}#sk-container-id-5 div.sk-estimator {font-family: monospace;background-color: #f0f8ff;border: 1px dotted black;border-radius: 0.25em;box-sizing: border-box;margin-bottom: 0.5em;}#sk-container-id-5 div.sk-estimator:hover {background-color: #d4ebff;}#sk-container-id-5 div.sk-parallel-item::after {content: \"\";width: 100%;border-bottom: 1px solid gray;flex-grow: 1;}#sk-container-id-5 div.sk-label:hover label.sk-toggleable__label {background-color: #d4ebff;}#sk-container-id-5 div.sk-serial::before {content: \"\";position: absolute;border-left: 1px solid gray;box-sizing: border-box;top: 0;bottom: 0;left: 50%;z-index: 0;}#sk-container-id-5 div.sk-serial {display: flex;flex-direction: column;align-items: center;background-color: white;padding-right: 0.2em;padding-left: 0.2em;position: relative;}#sk-container-id-5 div.sk-item {position: relative;z-index: 1;}#sk-container-id-5 div.sk-parallel {display: flex;align-items: stretch;justify-content: center;background-color: white;position: relative;}#sk-container-id-5 div.sk-item::before, #sk-container-id-5 div.sk-parallel-item::before {content: \"\";position: absolute;border-left: 1px solid gray;box-sizing: border-box;top: 0;bottom: 0;left: 50%;z-index: -1;}#sk-container-id-5 div.sk-parallel-item {display: flex;flex-direction: column;z-index: 1;position: relative;background-color: white;}#sk-container-id-5 div.sk-parallel-item:first-child::after {align-self: flex-end;width: 50%;}#sk-container-id-5 div.sk-parallel-item:last-child::after {align-self: flex-start;width: 50%;}#sk-container-id-5 div.sk-parallel-item:only-child::after {width: 0;}#sk-container-id-5 div.sk-dashed-wrapped {border: 1px dashed gray;margin: 0 0.4em 0.5em 0.4em;box-sizing: border-box;padding-bottom: 0.4em;background-color: white;}#sk-container-id-5 div.sk-label label {font-family: monospace;font-weight: bold;display: inline-block;line-height: 1.2em;}#sk-container-id-5 div.sk-label-container {text-align: center;}#sk-container-id-5 div.sk-container {/* jupyter's `normalize.less` sets `[hidden] { display: none; }` but bootstrap.min.css set `[hidden] { display: none !important; }` so we also need the `!important` here to be able to override the default hidden behavior on the sphinx rendered scikit-learn.org. See: https://github.com/scikit-learn/scikit-learn/issues/21755 */display: inline-block !important;position: relative;}#sk-container-id-5 div.sk-text-repr-fallback {display: none;}</style><div id=\"sk-container-id-5\" class=\"sk-top-container\"><div class=\"sk-text-repr-fallback\"><pre>KNeighborsClassifier()</pre><b>In a Jupyter environment, please rerun this cell to show the HTML representation or trust the notebook. <br />On GitHub, the HTML representation is unable to render, please try loading this page with nbviewer.org.</b></div><div class=\"sk-container\" hidden><div class=\"sk-item\"><div class=\"sk-estimator sk-toggleable\"><input class=\"sk-toggleable__control sk-hidden--visually\" id=\"sk-estimator-id-10\" type=\"checkbox\" checked><label for=\"sk-estimator-id-10\" class=\"sk-toggleable__label sk-toggleable__label-arrow\">KNeighborsClassifier</label><div class=\"sk-toggleable__content\"><pre>KNeighborsClassifier()</pre></div></div></div></div></div>"
      ],
      "text/plain": [
       "KNeighborsClassifier()"
      ]
     },
     "execution_count": 125,
     "metadata": {},
     "output_type": "execute_result"
    }
   ],
   "source": [
    "classifier = KNeighborsClassifier(n_neighbors=5)\n",
    "classifier.fit(X_train_scaled, y_train)"
   ]
  },
  {
   "cell_type": "code",
   "execution_count": 126,
   "id": "fdefcda0",
   "metadata": {},
   "outputs": [],
   "source": [
    "y_pred = classifier.predict(X_test_scaled)"
   ]
  },
  {
   "cell_type": "code",
   "execution_count": 127,
   "id": "d0eb405a",
   "metadata": {
    "scrolled": false
   },
   "outputs": [
    {
     "data": {
      "text/plain": [
       "0.5846645367412141"
      ]
     },
     "execution_count": 127,
     "metadata": {},
     "output_type": "execute_result"
    }
   ],
   "source": [
    "accuracy = accuracy_score(y_test, y_pred)\n",
    "accuracy"
   ]
  },
  {
   "cell_type": "markdown",
   "id": "2a4085a5",
   "metadata": {},
   "source": [
    "I attempted to use hyperparamter tuning (below) based on Exercise 9.2 and it gave me some insight, even though it called an error because the least populated class in y only has 1 member. "
   ]
  },
  {
   "cell_type": "code",
   "execution_count": 128,
   "id": "40f191e6",
   "metadata": {},
   "outputs": [],
   "source": [
    "standardizer = scaler\n",
    "X_train_scaled = standardizer.fit_transform(X_train)\n",
    "X_test_scale = standardizer.transform(X_test)\n",
    "\n",
    "knn = KNeighborsClassifier()\n",
    "pipe = Pipeline([('standardizer', standardizer), ('classifier', knn)])"
   ]
  },
  {
   "cell_type": "code",
   "execution_count": 129,
   "id": "c911b7b2",
   "metadata": {
    "scrolled": true
   },
   "outputs": [
    {
     "data": {
      "text/html": [
       "<style>#sk-container-id-6 {color: black;background-color: white;}#sk-container-id-6 pre{padding: 0;}#sk-container-id-6 div.sk-toggleable {background-color: white;}#sk-container-id-6 label.sk-toggleable__label {cursor: pointer;display: block;width: 100%;margin-bottom: 0;padding: 0.3em;box-sizing: border-box;text-align: center;}#sk-container-id-6 label.sk-toggleable__label-arrow:before {content: \"▸\";float: left;margin-right: 0.25em;color: #696969;}#sk-container-id-6 label.sk-toggleable__label-arrow:hover:before {color: black;}#sk-container-id-6 div.sk-estimator:hover label.sk-toggleable__label-arrow:before {color: black;}#sk-container-id-6 div.sk-toggleable__content {max-height: 0;max-width: 0;overflow: hidden;text-align: left;background-color: #f0f8ff;}#sk-container-id-6 div.sk-toggleable__content pre {margin: 0.2em;color: black;border-radius: 0.25em;background-color: #f0f8ff;}#sk-container-id-6 input.sk-toggleable__control:checked~div.sk-toggleable__content {max-height: 200px;max-width: 100%;overflow: auto;}#sk-container-id-6 input.sk-toggleable__control:checked~label.sk-toggleable__label-arrow:before {content: \"▾\";}#sk-container-id-6 div.sk-estimator input.sk-toggleable__control:checked~label.sk-toggleable__label {background-color: #d4ebff;}#sk-container-id-6 div.sk-label input.sk-toggleable__control:checked~label.sk-toggleable__label {background-color: #d4ebff;}#sk-container-id-6 input.sk-hidden--visually {border: 0;clip: rect(1px 1px 1px 1px);clip: rect(1px, 1px, 1px, 1px);height: 1px;margin: -1px;overflow: hidden;padding: 0;position: absolute;width: 1px;}#sk-container-id-6 div.sk-estimator {font-family: monospace;background-color: #f0f8ff;border: 1px dotted black;border-radius: 0.25em;box-sizing: border-box;margin-bottom: 0.5em;}#sk-container-id-6 div.sk-estimator:hover {background-color: #d4ebff;}#sk-container-id-6 div.sk-parallel-item::after {content: \"\";width: 100%;border-bottom: 1px solid gray;flex-grow: 1;}#sk-container-id-6 div.sk-label:hover label.sk-toggleable__label {background-color: #d4ebff;}#sk-container-id-6 div.sk-serial::before {content: \"\";position: absolute;border-left: 1px solid gray;box-sizing: border-box;top: 0;bottom: 0;left: 50%;z-index: 0;}#sk-container-id-6 div.sk-serial {display: flex;flex-direction: column;align-items: center;background-color: white;padding-right: 0.2em;padding-left: 0.2em;position: relative;}#sk-container-id-6 div.sk-item {position: relative;z-index: 1;}#sk-container-id-6 div.sk-parallel {display: flex;align-items: stretch;justify-content: center;background-color: white;position: relative;}#sk-container-id-6 div.sk-item::before, #sk-container-id-6 div.sk-parallel-item::before {content: \"\";position: absolute;border-left: 1px solid gray;box-sizing: border-box;top: 0;bottom: 0;left: 50%;z-index: -1;}#sk-container-id-6 div.sk-parallel-item {display: flex;flex-direction: column;z-index: 1;position: relative;background-color: white;}#sk-container-id-6 div.sk-parallel-item:first-child::after {align-self: flex-end;width: 50%;}#sk-container-id-6 div.sk-parallel-item:last-child::after {align-self: flex-start;width: 50%;}#sk-container-id-6 div.sk-parallel-item:only-child::after {width: 0;}#sk-container-id-6 div.sk-dashed-wrapped {border: 1px dashed gray;margin: 0 0.4em 0.5em 0.4em;box-sizing: border-box;padding-bottom: 0.4em;background-color: white;}#sk-container-id-6 div.sk-label label {font-family: monospace;font-weight: bold;display: inline-block;line-height: 1.2em;}#sk-container-id-6 div.sk-label-container {text-align: center;}#sk-container-id-6 div.sk-container {/* jupyter's `normalize.less` sets `[hidden] { display: none; }` but bootstrap.min.css set `[hidden] { display: none !important; }` so we also need the `!important` here to be able to override the default hidden behavior on the sphinx rendered scikit-learn.org. See: https://github.com/scikit-learn/scikit-learn/issues/21755 */display: inline-block !important;position: relative;}#sk-container-id-6 div.sk-text-repr-fallback {display: none;}</style><div id=\"sk-container-id-6\" class=\"sk-top-container\"><div class=\"sk-text-repr-fallback\"><pre>Pipeline(steps=[(&#x27;standardizer&#x27;, StandardScaler()),\n",
       "                (&#x27;classifier&#x27;, KNeighborsClassifier())])</pre><b>In a Jupyter environment, please rerun this cell to show the HTML representation or trust the notebook. <br />On GitHub, the HTML representation is unable to render, please try loading this page with nbviewer.org.</b></div><div class=\"sk-container\" hidden><div class=\"sk-item sk-dashed-wrapped\"><div class=\"sk-label-container\"><div class=\"sk-label sk-toggleable\"><input class=\"sk-toggleable__control sk-hidden--visually\" id=\"sk-estimator-id-11\" type=\"checkbox\" ><label for=\"sk-estimator-id-11\" class=\"sk-toggleable__label sk-toggleable__label-arrow\">Pipeline</label><div class=\"sk-toggleable__content\"><pre>Pipeline(steps=[(&#x27;standardizer&#x27;, StandardScaler()),\n",
       "                (&#x27;classifier&#x27;, KNeighborsClassifier())])</pre></div></div></div><div class=\"sk-serial\"><div class=\"sk-item\"><div class=\"sk-estimator sk-toggleable\"><input class=\"sk-toggleable__control sk-hidden--visually\" id=\"sk-estimator-id-12\" type=\"checkbox\" ><label for=\"sk-estimator-id-12\" class=\"sk-toggleable__label sk-toggleable__label-arrow\">StandardScaler</label><div class=\"sk-toggleable__content\"><pre>StandardScaler()</pre></div></div></div><div class=\"sk-item\"><div class=\"sk-estimator sk-toggleable\"><input class=\"sk-toggleable__control sk-hidden--visually\" id=\"sk-estimator-id-13\" type=\"checkbox\" ><label for=\"sk-estimator-id-13\" class=\"sk-toggleable__label sk-toggleable__label-arrow\">KNeighborsClassifier</label><div class=\"sk-toggleable__content\"><pre>KNeighborsClassifier()</pre></div></div></div></div></div></div></div>"
      ],
      "text/plain": [
       "Pipeline(steps=[('standardizer', StandardScaler()),\n",
       "                ('classifier', KNeighborsClassifier())])"
      ]
     },
     "execution_count": 129,
     "metadata": {},
     "output_type": "execute_result"
    }
   ],
   "source": [
    "pipe.fit(X_train_scaled, y_train)"
   ]
  },
  {
   "cell_type": "code",
   "execution_count": 130,
   "id": "2d2f5adc",
   "metadata": {
    "scrolled": false
   },
   "outputs": [
    {
     "data": {
      "text/plain": [
       "0.5846645367412141"
      ]
     },
     "execution_count": 130,
     "metadata": {},
     "output_type": "execute_result"
    }
   ],
   "source": [
    "#score the knn model on the testing data\n",
    "pipe.score(X_test_scaled,y_test)"
   ]
  },
  {
   "cell_type": "code",
   "execution_count": 131,
   "id": "976aa673",
   "metadata": {},
   "outputs": [],
   "source": [
    "search_space = [{\"classifier__n_neighbors\": range(1,20,1)}]"
   ]
  },
  {
   "cell_type": "code",
   "execution_count": 132,
   "id": "61d4be06",
   "metadata": {},
   "outputs": [
    {
     "data": {
      "text/html": [
       "<style>#sk-container-id-7 {color: black;background-color: white;}#sk-container-id-7 pre{padding: 0;}#sk-container-id-7 div.sk-toggleable {background-color: white;}#sk-container-id-7 label.sk-toggleable__label {cursor: pointer;display: block;width: 100%;margin-bottom: 0;padding: 0.3em;box-sizing: border-box;text-align: center;}#sk-container-id-7 label.sk-toggleable__label-arrow:before {content: \"▸\";float: left;margin-right: 0.25em;color: #696969;}#sk-container-id-7 label.sk-toggleable__label-arrow:hover:before {color: black;}#sk-container-id-7 div.sk-estimator:hover label.sk-toggleable__label-arrow:before {color: black;}#sk-container-id-7 div.sk-toggleable__content {max-height: 0;max-width: 0;overflow: hidden;text-align: left;background-color: #f0f8ff;}#sk-container-id-7 div.sk-toggleable__content pre {margin: 0.2em;color: black;border-radius: 0.25em;background-color: #f0f8ff;}#sk-container-id-7 input.sk-toggleable__control:checked~div.sk-toggleable__content {max-height: 200px;max-width: 100%;overflow: auto;}#sk-container-id-7 input.sk-toggleable__control:checked~label.sk-toggleable__label-arrow:before {content: \"▾\";}#sk-container-id-7 div.sk-estimator input.sk-toggleable__control:checked~label.sk-toggleable__label {background-color: #d4ebff;}#sk-container-id-7 div.sk-label input.sk-toggleable__control:checked~label.sk-toggleable__label {background-color: #d4ebff;}#sk-container-id-7 input.sk-hidden--visually {border: 0;clip: rect(1px 1px 1px 1px);clip: rect(1px, 1px, 1px, 1px);height: 1px;margin: -1px;overflow: hidden;padding: 0;position: absolute;width: 1px;}#sk-container-id-7 div.sk-estimator {font-family: monospace;background-color: #f0f8ff;border: 1px dotted black;border-radius: 0.25em;box-sizing: border-box;margin-bottom: 0.5em;}#sk-container-id-7 div.sk-estimator:hover {background-color: #d4ebff;}#sk-container-id-7 div.sk-parallel-item::after {content: \"\";width: 100%;border-bottom: 1px solid gray;flex-grow: 1;}#sk-container-id-7 div.sk-label:hover label.sk-toggleable__label {background-color: #d4ebff;}#sk-container-id-7 div.sk-serial::before {content: \"\";position: absolute;border-left: 1px solid gray;box-sizing: border-box;top: 0;bottom: 0;left: 50%;z-index: 0;}#sk-container-id-7 div.sk-serial {display: flex;flex-direction: column;align-items: center;background-color: white;padding-right: 0.2em;padding-left: 0.2em;position: relative;}#sk-container-id-7 div.sk-item {position: relative;z-index: 1;}#sk-container-id-7 div.sk-parallel {display: flex;align-items: stretch;justify-content: center;background-color: white;position: relative;}#sk-container-id-7 div.sk-item::before, #sk-container-id-7 div.sk-parallel-item::before {content: \"\";position: absolute;border-left: 1px solid gray;box-sizing: border-box;top: 0;bottom: 0;left: 50%;z-index: -1;}#sk-container-id-7 div.sk-parallel-item {display: flex;flex-direction: column;z-index: 1;position: relative;background-color: white;}#sk-container-id-7 div.sk-parallel-item:first-child::after {align-self: flex-end;width: 50%;}#sk-container-id-7 div.sk-parallel-item:last-child::after {align-self: flex-start;width: 50%;}#sk-container-id-7 div.sk-parallel-item:only-child::after {width: 0;}#sk-container-id-7 div.sk-dashed-wrapped {border: 1px dashed gray;margin: 0 0.4em 0.5em 0.4em;box-sizing: border-box;padding-bottom: 0.4em;background-color: white;}#sk-container-id-7 div.sk-label label {font-family: monospace;font-weight: bold;display: inline-block;line-height: 1.2em;}#sk-container-id-7 div.sk-label-container {text-align: center;}#sk-container-id-7 div.sk-container {/* jupyter's `normalize.less` sets `[hidden] { display: none; }` but bootstrap.min.css set `[hidden] { display: none !important; }` so we also need the `!important` here to be able to override the default hidden behavior on the sphinx rendered scikit-learn.org. See: https://github.com/scikit-learn/scikit-learn/issues/21755 */display: inline-block !important;position: relative;}#sk-container-id-7 div.sk-text-repr-fallback {display: none;}</style><div id=\"sk-container-id-7\" class=\"sk-top-container\"><div class=\"sk-text-repr-fallback\"><pre>GridSearchCV(cv=5,\n",
       "             estimator=Pipeline(steps=[(&#x27;standardizer&#x27;, StandardScaler()),\n",
       "                                       (&#x27;classifier&#x27;, KNeighborsClassifier())]),\n",
       "             param_grid=[{&#x27;classifier__n_neighbors&#x27;: range(1, 20)}])</pre><b>In a Jupyter environment, please rerun this cell to show the HTML representation or trust the notebook. <br />On GitHub, the HTML representation is unable to render, please try loading this page with nbviewer.org.</b></div><div class=\"sk-container\" hidden><div class=\"sk-item sk-dashed-wrapped\"><div class=\"sk-label-container\"><div class=\"sk-label sk-toggleable\"><input class=\"sk-toggleable__control sk-hidden--visually\" id=\"sk-estimator-id-14\" type=\"checkbox\" ><label for=\"sk-estimator-id-14\" class=\"sk-toggleable__label sk-toggleable__label-arrow\">GridSearchCV</label><div class=\"sk-toggleable__content\"><pre>GridSearchCV(cv=5,\n",
       "             estimator=Pipeline(steps=[(&#x27;standardizer&#x27;, StandardScaler()),\n",
       "                                       (&#x27;classifier&#x27;, KNeighborsClassifier())]),\n",
       "             param_grid=[{&#x27;classifier__n_neighbors&#x27;: range(1, 20)}])</pre></div></div></div><div class=\"sk-parallel\"><div class=\"sk-parallel-item\"><div class=\"sk-item\"><div class=\"sk-label-container\"><div class=\"sk-label sk-toggleable\"><input class=\"sk-toggleable__control sk-hidden--visually\" id=\"sk-estimator-id-15\" type=\"checkbox\" ><label for=\"sk-estimator-id-15\" class=\"sk-toggleable__label sk-toggleable__label-arrow\">estimator: Pipeline</label><div class=\"sk-toggleable__content\"><pre>Pipeline(steps=[(&#x27;standardizer&#x27;, StandardScaler()),\n",
       "                (&#x27;classifier&#x27;, KNeighborsClassifier())])</pre></div></div></div><div class=\"sk-serial\"><div class=\"sk-item\"><div class=\"sk-serial\"><div class=\"sk-item\"><div class=\"sk-estimator sk-toggleable\"><input class=\"sk-toggleable__control sk-hidden--visually\" id=\"sk-estimator-id-16\" type=\"checkbox\" ><label for=\"sk-estimator-id-16\" class=\"sk-toggleable__label sk-toggleable__label-arrow\">StandardScaler</label><div class=\"sk-toggleable__content\"><pre>StandardScaler()</pre></div></div></div><div class=\"sk-item\"><div class=\"sk-estimator sk-toggleable\"><input class=\"sk-toggleable__control sk-hidden--visually\" id=\"sk-estimator-id-17\" type=\"checkbox\" ><label for=\"sk-estimator-id-17\" class=\"sk-toggleable__label sk-toggleable__label-arrow\">KNeighborsClassifier</label><div class=\"sk-toggleable__content\"><pre>KNeighborsClassifier()</pre></div></div></div></div></div></div></div></div></div></div></div></div>"
      ],
      "text/plain": [
       "GridSearchCV(cv=5,\n",
       "             estimator=Pipeline(steps=[('standardizer', StandardScaler()),\n",
       "                                       ('classifier', KNeighborsClassifier())]),\n",
       "             param_grid=[{'classifier__n_neighbors': range(1, 20)}])"
      ]
     },
     "execution_count": 132,
     "metadata": {},
     "output_type": "execute_result"
    }
   ],
   "source": [
    "#gridsearch has an error, but the process still works.\n",
    "gridsearch = GridSearchCV(pipe, search_space, cv=5).fit(X_train_scaled, y_train)\n",
    "gridsearch"
   ]
  },
  {
   "cell_type": "code",
   "execution_count": 133,
   "id": "2b42a083",
   "metadata": {
    "scrolled": false
   },
   "outputs": [
    {
     "data": {
      "text/html": [
       "<style>#sk-container-id-8 {color: black;background-color: white;}#sk-container-id-8 pre{padding: 0;}#sk-container-id-8 div.sk-toggleable {background-color: white;}#sk-container-id-8 label.sk-toggleable__label {cursor: pointer;display: block;width: 100%;margin-bottom: 0;padding: 0.3em;box-sizing: border-box;text-align: center;}#sk-container-id-8 label.sk-toggleable__label-arrow:before {content: \"▸\";float: left;margin-right: 0.25em;color: #696969;}#sk-container-id-8 label.sk-toggleable__label-arrow:hover:before {color: black;}#sk-container-id-8 div.sk-estimator:hover label.sk-toggleable__label-arrow:before {color: black;}#sk-container-id-8 div.sk-toggleable__content {max-height: 0;max-width: 0;overflow: hidden;text-align: left;background-color: #f0f8ff;}#sk-container-id-8 div.sk-toggleable__content pre {margin: 0.2em;color: black;border-radius: 0.25em;background-color: #f0f8ff;}#sk-container-id-8 input.sk-toggleable__control:checked~div.sk-toggleable__content {max-height: 200px;max-width: 100%;overflow: auto;}#sk-container-id-8 input.sk-toggleable__control:checked~label.sk-toggleable__label-arrow:before {content: \"▾\";}#sk-container-id-8 div.sk-estimator input.sk-toggleable__control:checked~label.sk-toggleable__label {background-color: #d4ebff;}#sk-container-id-8 div.sk-label input.sk-toggleable__control:checked~label.sk-toggleable__label {background-color: #d4ebff;}#sk-container-id-8 input.sk-hidden--visually {border: 0;clip: rect(1px 1px 1px 1px);clip: rect(1px, 1px, 1px, 1px);height: 1px;margin: -1px;overflow: hidden;padding: 0;position: absolute;width: 1px;}#sk-container-id-8 div.sk-estimator {font-family: monospace;background-color: #f0f8ff;border: 1px dotted black;border-radius: 0.25em;box-sizing: border-box;margin-bottom: 0.5em;}#sk-container-id-8 div.sk-estimator:hover {background-color: #d4ebff;}#sk-container-id-8 div.sk-parallel-item::after {content: \"\";width: 100%;border-bottom: 1px solid gray;flex-grow: 1;}#sk-container-id-8 div.sk-label:hover label.sk-toggleable__label {background-color: #d4ebff;}#sk-container-id-8 div.sk-serial::before {content: \"\";position: absolute;border-left: 1px solid gray;box-sizing: border-box;top: 0;bottom: 0;left: 50%;z-index: 0;}#sk-container-id-8 div.sk-serial {display: flex;flex-direction: column;align-items: center;background-color: white;padding-right: 0.2em;padding-left: 0.2em;position: relative;}#sk-container-id-8 div.sk-item {position: relative;z-index: 1;}#sk-container-id-8 div.sk-parallel {display: flex;align-items: stretch;justify-content: center;background-color: white;position: relative;}#sk-container-id-8 div.sk-item::before, #sk-container-id-8 div.sk-parallel-item::before {content: \"\";position: absolute;border-left: 1px solid gray;box-sizing: border-box;top: 0;bottom: 0;left: 50%;z-index: -1;}#sk-container-id-8 div.sk-parallel-item {display: flex;flex-direction: column;z-index: 1;position: relative;background-color: white;}#sk-container-id-8 div.sk-parallel-item:first-child::after {align-self: flex-end;width: 50%;}#sk-container-id-8 div.sk-parallel-item:last-child::after {align-self: flex-start;width: 50%;}#sk-container-id-8 div.sk-parallel-item:only-child::after {width: 0;}#sk-container-id-8 div.sk-dashed-wrapped {border: 1px dashed gray;margin: 0 0.4em 0.5em 0.4em;box-sizing: border-box;padding-bottom: 0.4em;background-color: white;}#sk-container-id-8 div.sk-label label {font-family: monospace;font-weight: bold;display: inline-block;line-height: 1.2em;}#sk-container-id-8 div.sk-label-container {text-align: center;}#sk-container-id-8 div.sk-container {/* jupyter's `normalize.less` sets `[hidden] { display: none; }` but bootstrap.min.css set `[hidden] { display: none !important; }` so we also need the `!important` here to be able to override the default hidden behavior on the sphinx rendered scikit-learn.org. See: https://github.com/scikit-learn/scikit-learn/issues/21755 */display: inline-block !important;position: relative;}#sk-container-id-8 div.sk-text-repr-fallback {display: none;}</style><div id=\"sk-container-id-8\" class=\"sk-top-container\"><div class=\"sk-text-repr-fallback\"><pre>KNeighborsClassifier()</pre><b>In a Jupyter environment, please rerun this cell to show the HTML representation or trust the notebook. <br />On GitHub, the HTML representation is unable to render, please try loading this page with nbviewer.org.</b></div><div class=\"sk-container\" hidden><div class=\"sk-item\"><div class=\"sk-estimator sk-toggleable\"><input class=\"sk-toggleable__control sk-hidden--visually\" id=\"sk-estimator-id-18\" type=\"checkbox\" checked><label for=\"sk-estimator-id-18\" class=\"sk-toggleable__label sk-toggleable__label-arrow\">KNeighborsClassifier</label><div class=\"sk-toggleable__content\"><pre>KNeighborsClassifier()</pre></div></div></div></div></div>"
      ],
      "text/plain": [
       "KNeighborsClassifier()"
      ]
     },
     "execution_count": 133,
     "metadata": {},
     "output_type": "execute_result"
    }
   ],
   "source": [
    "gridsearch.best_estimator_.get_params()[\"classifier\"]"
   ]
  },
  {
   "cell_type": "code",
   "execution_count": 134,
   "id": "a95f7a70",
   "metadata": {
    "scrolled": true
   },
   "outputs": [
    {
     "data": {
      "text/plain": [
       "0.6038338658146964"
      ]
     },
     "execution_count": 134,
     "metadata": {},
     "output_type": "execute_result"
    }
   ],
   "source": [
    "knn = KNeighborsClassifier(n_neighbors=10)\n",
    "pipe = Pipeline([('standardizer', standardizer), ('classifier', knn)])\n",
    "pipe.fit(X_train_scaled, y_train)\n",
    "#score the knn model on the testing data\n",
    "pipe.score(X_test_scaled,y_test)"
   ]
  },
  {
   "cell_type": "markdown",
   "id": "f3030174",
   "metadata": {},
   "source": [
    "This method of target variable is looking better!"
   ]
  },
  {
   "cell_type": "markdown",
   "id": "4bcabe8a",
   "metadata": {},
   "source": [
    "## Logistic Regression"
   ]
  },
  {
   "cell_type": "markdown",
   "id": "f402f624",
   "metadata": {},
   "source": [
    "Repeat the steps from KNN but use logistic regression with both types of features/targets."
   ]
  },
  {
   "cell_type": "markdown",
   "id": "ecc7e3e7",
   "metadata": {},
   "source": [
    "### Target is Genus"
   ]
  },
  {
   "cell_type": "code",
   "execution_count": 135,
   "id": "91da7737",
   "metadata": {},
   "outputs": [],
   "source": [
    "genus_df = new_df[[\"Domain\", \"HMP Isolation Body Site\", \"Gene Count\"]]"
   ]
  },
  {
   "cell_type": "code",
   "execution_count": 136,
   "id": "21e0badb",
   "metadata": {},
   "outputs": [],
   "source": [
    "genus_df = pd.get_dummies(genus_df)"
   ]
  },
  {
   "cell_type": "code",
   "execution_count": 137,
   "id": "c88e915f",
   "metadata": {},
   "outputs": [],
   "source": [
    "X = genus_df\n",
    "y = new_df[\"Genus\"]"
   ]
  },
  {
   "cell_type": "code",
   "execution_count": 138,
   "id": "d68e7193",
   "metadata": {},
   "outputs": [],
   "source": [
    "X_train, X_test, y_train, y_test = train_test_split(X, y, test_size=0.2, random_state=100)"
   ]
  },
  {
   "cell_type": "code",
   "execution_count": 139,
   "id": "1dee883b",
   "metadata": {},
   "outputs": [],
   "source": [
    "scaler = StandardScaler()\n",
    "scaler.fit(X_train)\n",
    "\n",
    "X_train_scaled = scaler.transform(X_train) ### fit training data above\n",
    "X_test_scaled = scaler.transform(X_test) ### ((fitting leaks information from test into train))"
   ]
  },
  {
   "cell_type": "markdown",
   "id": "a887b7b9",
   "metadata": {},
   "source": [
    "The code below was an attempt to scale target values to see if that would be beneficial, but it is not."
   ]
  },
  {
   "cell_type": "code",
   "execution_count": 140,
   "id": "29a0a545",
   "metadata": {},
   "outputs": [],
   "source": [
    "#y_train_scale = scaler.fit_transform(X_train) ### fit training data above <br>\n",
    "#y_test_scale = scaler.transform(X_test) ### ((fitting leaks information from test into train))"
   ]
  },
  {
   "cell_type": "code",
   "execution_count": 141,
   "id": "1d6da212",
   "metadata": {
    "scrolled": false
   },
   "outputs": [
    {
     "data": {
      "text/html": [
       "<style>#sk-container-id-9 {color: black;background-color: white;}#sk-container-id-9 pre{padding: 0;}#sk-container-id-9 div.sk-toggleable {background-color: white;}#sk-container-id-9 label.sk-toggleable__label {cursor: pointer;display: block;width: 100%;margin-bottom: 0;padding: 0.3em;box-sizing: border-box;text-align: center;}#sk-container-id-9 label.sk-toggleable__label-arrow:before {content: \"▸\";float: left;margin-right: 0.25em;color: #696969;}#sk-container-id-9 label.sk-toggleable__label-arrow:hover:before {color: black;}#sk-container-id-9 div.sk-estimator:hover label.sk-toggleable__label-arrow:before {color: black;}#sk-container-id-9 div.sk-toggleable__content {max-height: 0;max-width: 0;overflow: hidden;text-align: left;background-color: #f0f8ff;}#sk-container-id-9 div.sk-toggleable__content pre {margin: 0.2em;color: black;border-radius: 0.25em;background-color: #f0f8ff;}#sk-container-id-9 input.sk-toggleable__control:checked~div.sk-toggleable__content {max-height: 200px;max-width: 100%;overflow: auto;}#sk-container-id-9 input.sk-toggleable__control:checked~label.sk-toggleable__label-arrow:before {content: \"▾\";}#sk-container-id-9 div.sk-estimator input.sk-toggleable__control:checked~label.sk-toggleable__label {background-color: #d4ebff;}#sk-container-id-9 div.sk-label input.sk-toggleable__control:checked~label.sk-toggleable__label {background-color: #d4ebff;}#sk-container-id-9 input.sk-hidden--visually {border: 0;clip: rect(1px 1px 1px 1px);clip: rect(1px, 1px, 1px, 1px);height: 1px;margin: -1px;overflow: hidden;padding: 0;position: absolute;width: 1px;}#sk-container-id-9 div.sk-estimator {font-family: monospace;background-color: #f0f8ff;border: 1px dotted black;border-radius: 0.25em;box-sizing: border-box;margin-bottom: 0.5em;}#sk-container-id-9 div.sk-estimator:hover {background-color: #d4ebff;}#sk-container-id-9 div.sk-parallel-item::after {content: \"\";width: 100%;border-bottom: 1px solid gray;flex-grow: 1;}#sk-container-id-9 div.sk-label:hover label.sk-toggleable__label {background-color: #d4ebff;}#sk-container-id-9 div.sk-serial::before {content: \"\";position: absolute;border-left: 1px solid gray;box-sizing: border-box;top: 0;bottom: 0;left: 50%;z-index: 0;}#sk-container-id-9 div.sk-serial {display: flex;flex-direction: column;align-items: center;background-color: white;padding-right: 0.2em;padding-left: 0.2em;position: relative;}#sk-container-id-9 div.sk-item {position: relative;z-index: 1;}#sk-container-id-9 div.sk-parallel {display: flex;align-items: stretch;justify-content: center;background-color: white;position: relative;}#sk-container-id-9 div.sk-item::before, #sk-container-id-9 div.sk-parallel-item::before {content: \"\";position: absolute;border-left: 1px solid gray;box-sizing: border-box;top: 0;bottom: 0;left: 50%;z-index: -1;}#sk-container-id-9 div.sk-parallel-item {display: flex;flex-direction: column;z-index: 1;position: relative;background-color: white;}#sk-container-id-9 div.sk-parallel-item:first-child::after {align-self: flex-end;width: 50%;}#sk-container-id-9 div.sk-parallel-item:last-child::after {align-self: flex-start;width: 50%;}#sk-container-id-9 div.sk-parallel-item:only-child::after {width: 0;}#sk-container-id-9 div.sk-dashed-wrapped {border: 1px dashed gray;margin: 0 0.4em 0.5em 0.4em;box-sizing: border-box;padding-bottom: 0.4em;background-color: white;}#sk-container-id-9 div.sk-label label {font-family: monospace;font-weight: bold;display: inline-block;line-height: 1.2em;}#sk-container-id-9 div.sk-label-container {text-align: center;}#sk-container-id-9 div.sk-container {/* jupyter's `normalize.less` sets `[hidden] { display: none; }` but bootstrap.min.css set `[hidden] { display: none !important; }` so we also need the `!important` here to be able to override the default hidden behavior on the sphinx rendered scikit-learn.org. See: https://github.com/scikit-learn/scikit-learn/issues/21755 */display: inline-block !important;position: relative;}#sk-container-id-9 div.sk-text-repr-fallback {display: none;}</style><div id=\"sk-container-id-9\" class=\"sk-top-container\"><div class=\"sk-text-repr-fallback\"><pre>LogisticRegression()</pre><b>In a Jupyter environment, please rerun this cell to show the HTML representation or trust the notebook. <br />On GitHub, the HTML representation is unable to render, please try loading this page with nbviewer.org.</b></div><div class=\"sk-container\" hidden><div class=\"sk-item\"><div class=\"sk-estimator sk-toggleable\"><input class=\"sk-toggleable__control sk-hidden--visually\" id=\"sk-estimator-id-19\" type=\"checkbox\" checked><label for=\"sk-estimator-id-19\" class=\"sk-toggleable__label sk-toggleable__label-arrow\">LogisticRegression</label><div class=\"sk-toggleable__content\"><pre>LogisticRegression()</pre></div></div></div></div></div>"
      ],
      "text/plain": [
       "LogisticRegression()"
      ]
     },
     "execution_count": 141,
     "metadata": {},
     "output_type": "execute_result"
    }
   ],
   "source": [
    "log_reg = LogisticRegression()\n",
    "log_reg.fit(X_train_scaled, y_train)"
   ]
  },
  {
   "cell_type": "code",
   "execution_count": 142,
   "id": "1432c46e",
   "metadata": {},
   "outputs": [],
   "source": [
    "y_pred = log_reg.predict(X_test_scaled)"
   ]
  },
  {
   "cell_type": "code",
   "execution_count": 143,
   "id": "95ce90ba",
   "metadata": {
    "scrolled": false
   },
   "outputs": [
    {
     "data": {
      "text/plain": [
       "0.3354632587859425"
      ]
     },
     "execution_count": 143,
     "metadata": {},
     "output_type": "execute_result"
    }
   ],
   "source": [
    "accuracy = accuracy_score(y_test, y_pred)\n",
    "accuracy"
   ]
  },
  {
   "cell_type": "markdown",
   "id": "db0d78b8",
   "metadata": {},
   "source": [
    "### Target is body site"
   ]
  },
  {
   "cell_type": "code",
   "execution_count": 144,
   "id": "9d258628",
   "metadata": {},
   "outputs": [],
   "source": [
    "body_df = new_df[[\"Genus\",\"Domain\", \"Gene Count\" ]]"
   ]
  },
  {
   "cell_type": "code",
   "execution_count": 145,
   "id": "35c07bd1",
   "metadata": {},
   "outputs": [],
   "source": [
    "body_df = pd.get_dummies(body_df)"
   ]
  },
  {
   "cell_type": "code",
   "execution_count": 146,
   "id": "d442a350",
   "metadata": {},
   "outputs": [],
   "source": [
    "X = body_df\n",
    "y = new_df['HMP Isolation Body Site']"
   ]
  },
  {
   "cell_type": "code",
   "execution_count": 147,
   "id": "6cbff4a2",
   "metadata": {},
   "outputs": [],
   "source": [
    "X_train, X_test, y_train, y_test = train_test_split(X, y, test_size=0.20, random_state=100)"
   ]
  },
  {
   "cell_type": "code",
   "execution_count": 148,
   "id": "a27caa2d",
   "metadata": {},
   "outputs": [],
   "source": [
    "scaler = StandardScaler()\n",
    "scaler.fit(X_train)\n",
    "\n",
    "X_train_scaled = scaler.transform(X_train) ### fit training data above\n",
    "X_test_scaled = scaler.transform(X_test) ### ((fitting leaks information from test into train))"
   ]
  },
  {
   "cell_type": "code",
   "execution_count": 149,
   "id": "4675c9d2",
   "metadata": {
    "scrolled": false
   },
   "outputs": [
    {
     "data": {
      "text/html": [
       "<style>#sk-container-id-10 {color: black;background-color: white;}#sk-container-id-10 pre{padding: 0;}#sk-container-id-10 div.sk-toggleable {background-color: white;}#sk-container-id-10 label.sk-toggleable__label {cursor: pointer;display: block;width: 100%;margin-bottom: 0;padding: 0.3em;box-sizing: border-box;text-align: center;}#sk-container-id-10 label.sk-toggleable__label-arrow:before {content: \"▸\";float: left;margin-right: 0.25em;color: #696969;}#sk-container-id-10 label.sk-toggleable__label-arrow:hover:before {color: black;}#sk-container-id-10 div.sk-estimator:hover label.sk-toggleable__label-arrow:before {color: black;}#sk-container-id-10 div.sk-toggleable__content {max-height: 0;max-width: 0;overflow: hidden;text-align: left;background-color: #f0f8ff;}#sk-container-id-10 div.sk-toggleable__content pre {margin: 0.2em;color: black;border-radius: 0.25em;background-color: #f0f8ff;}#sk-container-id-10 input.sk-toggleable__control:checked~div.sk-toggleable__content {max-height: 200px;max-width: 100%;overflow: auto;}#sk-container-id-10 input.sk-toggleable__control:checked~label.sk-toggleable__label-arrow:before {content: \"▾\";}#sk-container-id-10 div.sk-estimator input.sk-toggleable__control:checked~label.sk-toggleable__label {background-color: #d4ebff;}#sk-container-id-10 div.sk-label input.sk-toggleable__control:checked~label.sk-toggleable__label {background-color: #d4ebff;}#sk-container-id-10 input.sk-hidden--visually {border: 0;clip: rect(1px 1px 1px 1px);clip: rect(1px, 1px, 1px, 1px);height: 1px;margin: -1px;overflow: hidden;padding: 0;position: absolute;width: 1px;}#sk-container-id-10 div.sk-estimator {font-family: monospace;background-color: #f0f8ff;border: 1px dotted black;border-radius: 0.25em;box-sizing: border-box;margin-bottom: 0.5em;}#sk-container-id-10 div.sk-estimator:hover {background-color: #d4ebff;}#sk-container-id-10 div.sk-parallel-item::after {content: \"\";width: 100%;border-bottom: 1px solid gray;flex-grow: 1;}#sk-container-id-10 div.sk-label:hover label.sk-toggleable__label {background-color: #d4ebff;}#sk-container-id-10 div.sk-serial::before {content: \"\";position: absolute;border-left: 1px solid gray;box-sizing: border-box;top: 0;bottom: 0;left: 50%;z-index: 0;}#sk-container-id-10 div.sk-serial {display: flex;flex-direction: column;align-items: center;background-color: white;padding-right: 0.2em;padding-left: 0.2em;position: relative;}#sk-container-id-10 div.sk-item {position: relative;z-index: 1;}#sk-container-id-10 div.sk-parallel {display: flex;align-items: stretch;justify-content: center;background-color: white;position: relative;}#sk-container-id-10 div.sk-item::before, #sk-container-id-10 div.sk-parallel-item::before {content: \"\";position: absolute;border-left: 1px solid gray;box-sizing: border-box;top: 0;bottom: 0;left: 50%;z-index: -1;}#sk-container-id-10 div.sk-parallel-item {display: flex;flex-direction: column;z-index: 1;position: relative;background-color: white;}#sk-container-id-10 div.sk-parallel-item:first-child::after {align-self: flex-end;width: 50%;}#sk-container-id-10 div.sk-parallel-item:last-child::after {align-self: flex-start;width: 50%;}#sk-container-id-10 div.sk-parallel-item:only-child::after {width: 0;}#sk-container-id-10 div.sk-dashed-wrapped {border: 1px dashed gray;margin: 0 0.4em 0.5em 0.4em;box-sizing: border-box;padding-bottom: 0.4em;background-color: white;}#sk-container-id-10 div.sk-label label {font-family: monospace;font-weight: bold;display: inline-block;line-height: 1.2em;}#sk-container-id-10 div.sk-label-container {text-align: center;}#sk-container-id-10 div.sk-container {/* jupyter's `normalize.less` sets `[hidden] { display: none; }` but bootstrap.min.css set `[hidden] { display: none !important; }` so we also need the `!important` here to be able to override the default hidden behavior on the sphinx rendered scikit-learn.org. See: https://github.com/scikit-learn/scikit-learn/issues/21755 */display: inline-block !important;position: relative;}#sk-container-id-10 div.sk-text-repr-fallback {display: none;}</style><div id=\"sk-container-id-10\" class=\"sk-top-container\"><div class=\"sk-text-repr-fallback\"><pre>LogisticRegression()</pre><b>In a Jupyter environment, please rerun this cell to show the HTML representation or trust the notebook. <br />On GitHub, the HTML representation is unable to render, please try loading this page with nbviewer.org.</b></div><div class=\"sk-container\" hidden><div class=\"sk-item\"><div class=\"sk-estimator sk-toggleable\"><input class=\"sk-toggleable__control sk-hidden--visually\" id=\"sk-estimator-id-20\" type=\"checkbox\" checked><label for=\"sk-estimator-id-20\" class=\"sk-toggleable__label sk-toggleable__label-arrow\">LogisticRegression</label><div class=\"sk-toggleable__content\"><pre>LogisticRegression()</pre></div></div></div></div></div>"
      ],
      "text/plain": [
       "LogisticRegression()"
      ]
     },
     "execution_count": 149,
     "metadata": {},
     "output_type": "execute_result"
    }
   ],
   "source": [
    "log_reg = LogisticRegression()\n",
    "log_reg.fit(X_train_scaled, y_train)"
   ]
  },
  {
   "cell_type": "code",
   "execution_count": 150,
   "id": "0e850592",
   "metadata": {},
   "outputs": [],
   "source": [
    "y_pred = log_reg.predict(X_test_scaled)"
   ]
  },
  {
   "cell_type": "code",
   "execution_count": 151,
   "id": "ac64f135",
   "metadata": {
    "scrolled": false
   },
   "outputs": [
    {
     "data": {
      "text/plain": [
       "0.645367412140575"
      ]
     },
     "execution_count": 151,
     "metadata": {},
     "output_type": "execute_result"
    }
   ],
   "source": [
    "accuracy = accuracy_score(y_test, y_pred)\n",
    "accuracy"
   ]
  },
  {
   "cell_type": "markdown",
   "id": "d1879d64",
   "metadata": {},
   "source": [
    "This is lower than I had hoped, but not terrible. I'm curious if I had used a larger dataset, if there would have had higher accuracy. Maybe I can try that again later. I'm not sure what to do, I pored over these models and tried rearranging, refitting, scaling, not scaling, etc. so I'm happy with these basics that are left. Building a model to predict the location based on the sample of bacteria seems like it has the most liklihood of being a good model. Looking forward to honing these skills!"
   ]
  },
  {
   "cell_type": "markdown",
   "id": "0668603b",
   "metadata": {},
   "source": [
    "## Summary of Project"
   ]
  },
  {
   "cell_type": "markdown",
   "id": "5e2e1f15",
   "metadata": {},
   "source": [
    "This was a fascinating exploration in data mining. I am really grateful to have been able to merge my previous research focus (microbiome health) with these new skills. I am quick to recognize how novice I am in this field and that my approaches are elementary, but hypothesizing about what discoveries could be made using machine learning in this field has been very stimulating for me. I completed a  meta-analysis years ago in effort to apply the framework from ecosystem restoration principles of ecology to restoration of the human gut. There was little, if not no, discussion about this approach to healing and health within the medical field. A sentiment analysis may have been a good method for that work, but as I've become more interested in the biological aspect, I chose to look at the organisms themselves. Since the publication of that project years ago, the Human Microbiome Project has expanded their database exponentially. The data is collected from two primary sites and is obviously not comprehensive of the population as whole. That alone is a huge ethical implication for using this data to make predictions on the population as a whole. There were a few things to consider with the steps I took in my data process, one of them being the exclusion of all data that was not marked as a completed \"Project Status.\" In my cleaning process, I felt like having these values removed would make this practice experience less prone to error. Given that the accuracy of my models was not as high as I would have liked, I don't know if this is true. Ideally, I would go back and include this data to run the models again, to see if the expanded training data would allow for better prediction of the test data. With this in consideration, I would say the model is not ready to be deployed, but the revisions for the dataset seems to have been appropriately applied, so there may be more efficacy if I expanded the number of points to include the incomplete set, or modeled it a bit differently with better understanding of the models' capabilities/other models that could be applied. I also would like to explore other methods of measuring accuracy as, pointed out by Professor Werner, there are many ways to evaluate a model. Overall this was a super fun experience. I really enjoyed the cleaning and transformation stages, and am happy that the exploration and modeling are becoming more enjoyable. I'm certainly gaining more proficiency and am looking forward to honing my skills further. <br>\n",
    "\n",
    "Thank you for this excellent course, Professor Werner! "
   ]
  }
 ],
 "metadata": {
  "kernelspec": {
   "display_name": "Python 3 (ipykernel)",
   "language": "python",
   "name": "python3"
  },
  "language_info": {
   "codemirror_mode": {
    "name": "ipython",
    "version": 3
   },
   "file_extension": ".py",
   "mimetype": "text/x-python",
   "name": "python",
   "nbconvert_exporter": "python",
   "pygments_lexer": "ipython3",
   "version": "3.10.10"
  }
 },
 "nbformat": 4,
 "nbformat_minor": 5
}
